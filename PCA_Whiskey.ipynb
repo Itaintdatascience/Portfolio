{
 "cells": [
  {
   "cell_type": "markdown",
   "metadata": {},
   "source": [
    "# Whiskey Recommendations\n",
    "\n",
    "Dimensionality Reduction via PCA & K-Means Clustering to discover which whiskey brands cluster well together. \n",
    "\n",
    "Credit: https://github.com/darrenklee79/RH_MachineLearning"
   ]
  },
  {
   "cell_type": "code",
   "execution_count": 1,
   "metadata": {},
   "outputs": [
    {
     "name": "stderr",
     "output_type": "stream",
     "text": [
      "/Users/darrenklee/anaconda2/lib/python2.7/site-packages/sklearn/cross_validation.py:41: DeprecationWarning: This module was deprecated in version 0.18 in favor of the model_selection module into which all the refactored classes and functions are moved. Also note that the interface of the new CV iterators are different from that of this module. This module will be removed in 0.20.\n",
      "  \"This module will be removed in 0.20.\", DeprecationWarning)\n"
     ]
    }
   ],
   "source": [
    "#Imports\n",
    "import matplotlib.pyplot as plt\n",
    "%matplotlib inline\n",
    "import numpy as np\n",
    "import pandas as pd\n",
    "import seaborn as sb\n",
    "from sklearn.decomposition import PCA\n",
    "from sklearn.linear_model import LogisticRegression\n",
    "from sklearn.metrics import accuracy_score, confusion_matrix, recall_score, precision_score\n",
    "from sklearn.cluster import KMeans\n",
    "from sklearn.metrics import silhouette_score\n",
    "from sklearn.preprocessing import StandardScaler\n",
    "from sklearn.cross_validation import train_test_split, cross_val_score\n",
    "from sklearn.datasets import load_digits\n",
    "\n",
    "plt.style.use('fivethirtyeight')"
   ]
  },
  {
   "cell_type": "code",
   "execution_count": 2,
   "metadata": {},
   "outputs": [
    {
     "data": {
      "text/html": [
       "<div>\n",
       "<style>\n",
       "    .dataframe thead tr:only-child th {\n",
       "        text-align: right;\n",
       "    }\n",
       "\n",
       "    .dataframe thead th {\n",
       "        text-align: left;\n",
       "    }\n",
       "\n",
       "    .dataframe tbody tr th {\n",
       "        vertical-align: top;\n",
       "    }\n",
       "</style>\n",
       "<table border=\"1\" class=\"dataframe\">\n",
       "  <thead>\n",
       "    <tr style=\"text-align: right;\">\n",
       "      <th></th>\n",
       "      <th>Distillery</th>\n",
       "      <th>Body</th>\n",
       "      <th>Sweetness</th>\n",
       "      <th>Smoky</th>\n",
       "      <th>Medicinal</th>\n",
       "      <th>Tobacco</th>\n",
       "      <th>Honey</th>\n",
       "      <th>Spicy</th>\n",
       "      <th>Winey</th>\n",
       "      <th>Nutty</th>\n",
       "      <th>Malty</th>\n",
       "      <th>Fruity</th>\n",
       "      <th>Floral</th>\n",
       "    </tr>\n",
       "  </thead>\n",
       "  <tbody>\n",
       "    <tr>\n",
       "      <th>0</th>\n",
       "      <td>Aberfeldy</td>\n",
       "      <td>2</td>\n",
       "      <td>2</td>\n",
       "      <td>2</td>\n",
       "      <td>0</td>\n",
       "      <td>0</td>\n",
       "      <td>2</td>\n",
       "      <td>1</td>\n",
       "      <td>2</td>\n",
       "      <td>2</td>\n",
       "      <td>2</td>\n",
       "      <td>2</td>\n",
       "      <td>2</td>\n",
       "    </tr>\n",
       "    <tr>\n",
       "      <th>1</th>\n",
       "      <td>Aberlour</td>\n",
       "      <td>3</td>\n",
       "      <td>3</td>\n",
       "      <td>1</td>\n",
       "      <td>0</td>\n",
       "      <td>0</td>\n",
       "      <td>4</td>\n",
       "      <td>3</td>\n",
       "      <td>2</td>\n",
       "      <td>2</td>\n",
       "      <td>3</td>\n",
       "      <td>3</td>\n",
       "      <td>2</td>\n",
       "    </tr>\n",
       "    <tr>\n",
       "      <th>2</th>\n",
       "      <td>AnCnoc</td>\n",
       "      <td>1</td>\n",
       "      <td>3</td>\n",
       "      <td>2</td>\n",
       "      <td>0</td>\n",
       "      <td>0</td>\n",
       "      <td>2</td>\n",
       "      <td>0</td>\n",
       "      <td>0</td>\n",
       "      <td>2</td>\n",
       "      <td>2</td>\n",
       "      <td>3</td>\n",
       "      <td>2</td>\n",
       "    </tr>\n",
       "    <tr>\n",
       "      <th>3</th>\n",
       "      <td>Ardbeg</td>\n",
       "      <td>4</td>\n",
       "      <td>1</td>\n",
       "      <td>4</td>\n",
       "      <td>4</td>\n",
       "      <td>0</td>\n",
       "      <td>0</td>\n",
       "      <td>2</td>\n",
       "      <td>0</td>\n",
       "      <td>1</td>\n",
       "      <td>2</td>\n",
       "      <td>1</td>\n",
       "      <td>0</td>\n",
       "    </tr>\n",
       "    <tr>\n",
       "      <th>4</th>\n",
       "      <td>Ardmore</td>\n",
       "      <td>2</td>\n",
       "      <td>2</td>\n",
       "      <td>2</td>\n",
       "      <td>0</td>\n",
       "      <td>0</td>\n",
       "      <td>1</td>\n",
       "      <td>1</td>\n",
       "      <td>1</td>\n",
       "      <td>2</td>\n",
       "      <td>3</td>\n",
       "      <td>1</td>\n",
       "      <td>1</td>\n",
       "    </tr>\n",
       "  </tbody>\n",
       "</table>\n",
       "</div>"
      ],
      "text/plain": [
       "  Distillery  Body  Sweetness  Smoky  Medicinal  Tobacco  Honey  Spicy  Winey  \\\n",
       "0  Aberfeldy     2          2      2          0        0      2      1      2   \n",
       "1   Aberlour     3          3      1          0        0      4      3      2   \n",
       "2     AnCnoc     1          3      2          0        0      2      0      0   \n",
       "3     Ardbeg     4          1      4          4        0      0      2      0   \n",
       "4    Ardmore     2          2      2          0        0      1      1      1   \n",
       "\n",
       "   Nutty  Malty  Fruity  Floral  \n",
       "0      2      2       2       2  \n",
       "1      2      3       3       2  \n",
       "2      2      2       3       2  \n",
       "3      1      2       1       0  \n",
       "4      2      3       1       1  "
      ]
     },
     "execution_count": 2,
     "metadata": {},
     "output_type": "execute_result"
    }
   ],
   "source": [
    "#Load in the wine data\n",
    "whiskey = pd.read_csv(\"/Users/darrenklee/Downloads/RH_MachineLearning-master/whiskey_data.csv\")\n",
    "whiskey.head()"
   ]
  },
  {
   "cell_type": "code",
   "execution_count": 3,
   "metadata": {},
   "outputs": [
    {
     "data": {
      "text/plain": [
       "(86, 13)"
      ]
     },
     "execution_count": 3,
     "metadata": {},
     "output_type": "execute_result"
    }
   ],
   "source": [
    "whiskey.shape"
   ]
  },
  {
   "cell_type": "code",
   "execution_count": 4,
   "metadata": {},
   "outputs": [],
   "source": [
    "y = whiskey.Distillery"
   ]
  },
  {
   "cell_type": "code",
   "execution_count": 5,
   "metadata": {
    "collapsed": true
   },
   "outputs": [],
   "source": [
    "whiskey.drop(\"Distillery\", axis = 1, inplace= True)"
   ]
  },
  {
   "cell_type": "code",
   "execution_count": null,
   "metadata": {},
   "outputs": [],
   "source": [
    "# results are similar with or without scaling data since metrics are already in the same rating scale.\n",
    "\n",
    "#Intialize scaler\n",
    "#scale = StandardScaler()\n",
    "\n",
    "#Fit and transform whiskey data using standard scaler\n",
    "#whiskey_s = scale.fit_transform(whiskey)\n",
    "#whiskey_s[0]"
   ]
  },
  {
   "cell_type": "code",
   "execution_count": 6,
   "metadata": {},
   "outputs": [
    {
     "data": {
      "text/plain": [
       "12"
      ]
     },
     "execution_count": 6,
     "metadata": {},
     "output_type": "execute_result"
    }
   ],
   "source": [
    "#Intialize PCA object\n",
    "#We're deliberating leaving the n_components parameters alone\n",
    "pca = PCA()\n",
    "\n",
    "#Fit and transform wine_s use pca\n",
    "whiskey_pca = pca.fit_transform(whiskey)\n",
    "\n",
    "#Number of components\n",
    "pca.n_components_"
   ]
  },
  {
   "cell_type": "code",
   "execution_count": 54,
   "metadata": {},
   "outputs": [
    {
     "data": {
      "text/plain": [
       "array([0.30110979, 0.19217886, 0.09560193, 0.08250322, 0.07230864,\n",
       "       0.0599231 , 0.05108089, 0.04587064, 0.03498097, 0.03197728,\n",
       "       0.02297382, 0.00949085])"
      ]
     },
     "execution_count": 54,
     "metadata": {},
     "output_type": "execute_result"
    }
   ],
   "source": [
    "pca.explained_variance_ratio_"
   ]
  },
  {
   "cell_type": "markdown",
   "metadata": {},
   "source": [
    "Best practice says that 85% variance is appropriate when selecting the number of components. We want to preserve a significant amount of essense from the original dataset. 85% variance is explained around 7 PC's for Whiskey data."
   ]
  },
  {
   "cell_type": "code",
   "execution_count": 8,
   "metadata": {},
   "outputs": [
    {
     "data": {
      "image/png": "[encoded data removed]",
      "text/plain": [
       "<matplotlib.figure.Figure at 0x10b71d110>"
      ]
     },
     "metadata": {},
     "output_type": "display_data"
    }
   ],
   "source": [
    "plt.figure(figsize=(10, 8))\n",
    "\n",
    "components = range(1, pca.n_components_ +1)\n",
    "\n",
    "plt.bar(components, pca.explained_variance_ratio_, label = \"Explained Variance Ratio\", color = \"c\")\n",
    "plt.plot(components, np.cumsum(pca.explained_variance_ratio_), \n",
    "         c = \"m\", label = \"Cumulative Sum of Explained Variance ratios\")\n",
    "\n",
    "plt.xlabel(\"Components\")\n",
    "plt.ylabel(\"Explained Varianced\")\n",
    "plt.legend();"
   ]
  },
  {
   "cell_type": "code",
   "execution_count": 9,
   "metadata": {},
   "outputs": [
    {
     "name": "stdout",
     "output_type": "stream",
     "text": [
      "Body 0.3611900464908535\n",
      "Sweetness -0.20298237514149176\n",
      "Smoky 0.47794418500826474\n",
      "Medicinal 0.5752767838475031\n",
      "Tobacco 0.09173305556953329\n",
      "Honey -0.22090803615572563\n",
      "Spicy 0.05811100779190869\n",
      "Winey -0.037456084609092576\n",
      "Nutty -0.0476641006464097\n",
      "Malty -0.12781608284716162\n",
      "Fruity -0.20235755227918972\n",
      "Floral -0.3839444305733929\n"
     ]
    }
   ],
   "source": [
    "#Component 1\n",
    "for col, comp in zip(whiskey.columns, pca.components_[0]):\n",
    "    print col, comp\n",
    "\n",
    "    # Medicinal, Smoky, Floral are the highest weights"
   ]
  },
  {
   "cell_type": "code",
   "execution_count": 11,
   "metadata": {},
   "outputs": [
    {
     "name": "stdout",
     "output_type": "stream",
     "text": [
      "Body 0.4913064279869419\n",
      "Sweetness 0.046596335277670986\n",
      "Smoky 0.06874215908872161\n",
      "Medicinal -0.16079483872662914\n",
      "Tobacco -0.02004775731231937\n",
      "Honey 0.4179949062196067\n",
      "Spicy 0.17548310068040956\n",
      "Winey 0.6396497903569632\n",
      "Nutty 0.26036121612559754\n",
      "Malty 0.10296201740745951\n",
      "Fruity 0.12374977170084027\n",
      "Floral -0.13074914051788616\n"
     ]
    }
   ],
   "source": [
    "#Component 2\n",
    "for col, comp in zip(whiskey.columns, pca.components_[1]):\n",
    "    print col, comp\n",
    "\n",
    "    # Winey, Body, Honey, Nutty"
   ]
  },
  {
   "cell_type": "code",
   "execution_count": 12,
   "metadata": {},
   "outputs": [
    {
     "name": "stdout",
     "output_type": "stream",
     "text": [
      "Body -0.030117809612909215\n",
      "Sweetness 0.26387922303177835\n",
      "Smoky -0.21881006471587386\n",
      "Medicinal -0.04315984323590928\n",
      "Tobacco 0.0006685358765630978\n",
      "Honey -0.11024711341814514\n",
      "Spicy -0.6992443905781839\n",
      "Winey 0.23312958712638182\n",
      "Nutty 0.17855290385802094\n",
      "Malty -0.10841698991368517\n",
      "Fruity -0.40346277907350037\n",
      "Floral -0.34330083647631787\n"
     ]
    }
   ],
   "source": [
    "#Component 3\n",
    "for col, comp in zip(whiskey.columns, pca.components_[2]):\n",
    "    print col, comp\n",
    "\n",
    "    # Spicy, Fruity, Floral, Winey"
   ]
  },
  {
   "cell_type": "code",
   "execution_count": 13,
   "metadata": {},
   "outputs": [
    {
     "data": {
      "text/plain": [
       "86"
      ]
     },
     "execution_count": 13,
     "metadata": {},
     "output_type": "execute_result"
    }
   ],
   "source": [
    "y.nunique()"
   ]
  },
  {
   "cell_type": "code",
   "execution_count": 72,
   "metadata": {},
   "outputs": [
    {
     "data": {
      "text/plain": [
       "(86, 1)"
      ]
     },
     "execution_count": 72,
     "metadata": {},
     "output_type": "execute_result"
    }
   ],
   "source": [
    "y = pd.DataFrame(y)\n",
    "y.shape"
   ]
  },
  {
   "cell_type": "code",
   "execution_count": 73,
   "metadata": {},
   "outputs": [
    {
     "data": {
      "text/plain": [
       "(86, 7)"
      ]
     },
     "execution_count": 73,
     "metadata": {},
     "output_type": "execute_result"
    }
   ],
   "source": [
    "# Taking the first 7 PC's where at least 85% of explained variance is:\n",
    "X = whiskey_pca[:, :7]\n",
    "X = pd.DataFrame(X)\n",
    "X.shape"
   ]
  },
  {
   "cell_type": "code",
   "execution_count": 79,
   "metadata": {},
   "outputs": [
    {
     "data": {
      "text/plain": [
       "0.854706436846231"
      ]
     },
     "execution_count": 79,
     "metadata": {},
     "output_type": "execute_result"
    }
   ],
   "source": [
    "pca.explained_variance_ratio_[:7].sum()"
   ]
  },
  {
   "cell_type": "code",
   "execution_count": 16,
   "metadata": {},
   "outputs": [
    {
     "data": {
      "text/html": [
       "<div>\n",
       "<style>\n",
       "    .dataframe thead tr:only-child th {\n",
       "        text-align: right;\n",
       "    }\n",
       "\n",
       "    .dataframe thead th {\n",
       "        text-align: left;\n",
       "    }\n",
       "\n",
       "    .dataframe tbody tr th {\n",
       "        vertical-align: top;\n",
       "    }\n",
       "</style>\n",
       "<table border=\"1\" class=\"dataframe\">\n",
       "  <thead>\n",
       "    <tr style=\"text-align: right;\">\n",
       "      <th></th>\n",
       "      <th>0</th>\n",
       "      <th>1</th>\n",
       "      <th>2</th>\n",
       "      <th>3</th>\n",
       "      <th>4</th>\n",
       "      <th>5</th>\n",
       "      <th>6</th>\n",
       "      <th>Distillery</th>\n",
       "    </tr>\n",
       "  </thead>\n",
       "  <tbody>\n",
       "    <tr>\n",
       "      <th>0</th>\n",
       "      <td>-0.503384</td>\n",
       "      <td>1.122022</td>\n",
       "      <td>0.161200</td>\n",
       "      <td>-0.505825</td>\n",
       "      <td>0.284150</td>\n",
       "      <td>-0.332995</td>\n",
       "      <td>-0.643743</td>\n",
       "      <td>Aberfeldy</td>\n",
       "    </tr>\n",
       "    <tr>\n",
       "      <th>1</th>\n",
       "      <td>-1.478888</td>\n",
       "      <td>3.004851</td>\n",
       "      <td>-1.517091</td>\n",
       "      <td>0.138537</td>\n",
       "      <td>0.710289</td>\n",
       "      <td>-0.380669</td>\n",
       "      <td>1.166455</td>\n",
       "      <td>Aberlour</td>\n",
       "    </tr>\n",
       "    <tr>\n",
       "      <th>2</th>\n",
       "      <td>-1.253113</td>\n",
       "      <td>-0.653721</td>\n",
       "      <td>0.284720</td>\n",
       "      <td>-0.927474</td>\n",
       "      <td>-0.112759</td>\n",
       "      <td>-0.546753</td>\n",
       "      <td>0.623491</td>\n",
       "      <td>AnCnoc</td>\n",
       "    </tr>\n",
       "    <tr>\n",
       "      <th>3</th>\n",
       "      <td>5.271724</td>\n",
       "      <td>-0.510075</td>\n",
       "      <td>-0.806672</td>\n",
       "      <td>-0.204075</td>\n",
       "      <td>0.024691</td>\n",
       "      <td>-0.513550</td>\n",
       "      <td>0.413148</td>\n",
       "      <td>Ardbeg</td>\n",
       "    </tr>\n",
       "    <tr>\n",
       "      <th>4</th>\n",
       "      <td>0.213466</td>\n",
       "      <td>0.174339</td>\n",
       "      <td>0.676664</td>\n",
       "      <td>-0.526576</td>\n",
       "      <td>0.486221</td>\n",
       "      <td>-0.576853</td>\n",
       "      <td>0.374729</td>\n",
       "      <td>Ardmore</td>\n",
       "    </tr>\n",
       "  </tbody>\n",
       "</table>\n",
       "</div>"
      ],
      "text/plain": [
       "          0         1         2         3         4         5         6  \\\n",
       "0 -0.503384  1.122022  0.161200 -0.505825  0.284150 -0.332995 -0.643743   \n",
       "1 -1.478888  3.004851 -1.517091  0.138537  0.710289 -0.380669  1.166455   \n",
       "2 -1.253113 -0.653721  0.284720 -0.927474 -0.112759 -0.546753  0.623491   \n",
       "3  5.271724 -0.510075 -0.806672 -0.204075  0.024691 -0.513550  0.413148   \n",
       "4  0.213466  0.174339  0.676664 -0.526576  0.486221 -0.576853  0.374729   \n",
       "\n",
       "  Distillery  \n",
       "0  Aberfeldy  \n",
       "1   Aberlour  \n",
       "2     AnCnoc  \n",
       "3     Ardbeg  \n",
       "4    Ardmore  "
      ]
     },
     "execution_count": 16,
     "metadata": {},
     "output_type": "execute_result"
    }
   ],
   "source": [
    "df = pd.concat([X, y], axis= 1)\n",
    "df.head()"
   ]
  },
  {
   "cell_type": "code",
   "execution_count": 17,
   "metadata": {},
   "outputs": [
    {
     "data": {
      "text/plain": [
       "(86, 8)"
      ]
     },
     "execution_count": 17,
     "metadata": {},
     "output_type": "execute_result"
    }
   ],
   "source": [
    "df.shape"
   ]
  },
  {
   "cell_type": "code",
   "execution_count": 18,
   "metadata": {
    "collapsed": true
   },
   "outputs": [],
   "source": [
    "df.to_csv(\"whiskey_pca_ready.csv\")"
   ]
  },
  {
   "cell_type": "code",
   "execution_count": 19,
   "metadata": {
    "collapsed": true
   },
   "outputs": [],
   "source": [
    "df2 = df"
   ]
  },
  {
   "cell_type": "code",
   "execution_count": 20,
   "metadata": {},
   "outputs": [],
   "source": [
    "# create indice for Distilelery names across 7 PC's:\n",
    "df2.set_index(\"Distillery\", inplace= True)"
   ]
  },
  {
   "cell_type": "code",
   "execution_count": 21,
   "metadata": {},
   "outputs": [
    {
     "data": {
      "text/html": [
       "<div>\n",
       "<style>\n",
       "    .dataframe thead tr:only-child th {\n",
       "        text-align: right;\n",
       "    }\n",
       "\n",
       "    .dataframe thead th {\n",
       "        text-align: left;\n",
       "    }\n",
       "\n",
       "    .dataframe tbody tr th {\n",
       "        vertical-align: top;\n",
       "    }\n",
       "</style>\n",
       "<table border=\"1\" class=\"dataframe\">\n",
       "  <thead>\n",
       "    <tr style=\"text-align: right;\">\n",
       "      <th></th>\n",
       "      <th>0</th>\n",
       "      <th>1</th>\n",
       "      <th>2</th>\n",
       "      <th>3</th>\n",
       "      <th>4</th>\n",
       "      <th>5</th>\n",
       "      <th>6</th>\n",
       "    </tr>\n",
       "    <tr>\n",
       "      <th>Distillery</th>\n",
       "      <th></th>\n",
       "      <th></th>\n",
       "      <th></th>\n",
       "      <th></th>\n",
       "      <th></th>\n",
       "      <th></th>\n",
       "      <th></th>\n",
       "    </tr>\n",
       "  </thead>\n",
       "  <tbody>\n",
       "    <tr>\n",
       "      <th>Tobermory</th>\n",
       "      <td>-0.854163</td>\n",
       "      <td>-1.617761</td>\n",
       "      <td>0.310928</td>\n",
       "      <td>-0.601909</td>\n",
       "      <td>-0.164761</td>\n",
       "      <td>-1.409804</td>\n",
       "      <td>-0.593777</td>\n",
       "    </tr>\n",
       "    <tr>\n",
       "      <th>Tomatin</th>\n",
       "      <td>0.225524</td>\n",
       "      <td>0.327340</td>\n",
       "      <td>0.464379</td>\n",
       "      <td>0.999474</td>\n",
       "      <td>1.830340</td>\n",
       "      <td>0.430963</td>\n",
       "      <td>0.641974</td>\n",
       "    </tr>\n",
       "    <tr>\n",
       "      <th>Tomintoul</th>\n",
       "      <td>-1.561102</td>\n",
       "      <td>-0.731014</td>\n",
       "      <td>-0.003339</td>\n",
       "      <td>0.695171</td>\n",
       "      <td>1.500134</td>\n",
       "      <td>0.222122</td>\n",
       "      <td>0.269767</td>\n",
       "    </tr>\n",
       "    <tr>\n",
       "      <th>Tormore</th>\n",
       "      <td>0.519345</td>\n",
       "      <td>-0.268811</td>\n",
       "      <td>2.558316</td>\n",
       "      <td>-0.222523</td>\n",
       "      <td>0.522640</td>\n",
       "      <td>-0.014122</td>\n",
       "      <td>0.229859</td>\n",
       "    </tr>\n",
       "    <tr>\n",
       "      <th>Tullibardine</th>\n",
       "      <td>-0.601530</td>\n",
       "      <td>-0.418682</td>\n",
       "      <td>0.316236</td>\n",
       "      <td>1.087070</td>\n",
       "      <td>-1.163241</td>\n",
       "      <td>0.418737</td>\n",
       "      <td>0.790442</td>\n",
       "    </tr>\n",
       "  </tbody>\n",
       "</table>\n",
       "</div>"
      ],
      "text/plain": [
       "                     0         1         2         3         4         5  \\\n",
       "Distillery                                                                 \n",
       "Tobermory    -0.854163 -1.617761  0.310928 -0.601909 -0.164761 -1.409804   \n",
       "Tomatin       0.225524  0.327340  0.464379  0.999474  1.830340  0.430963   \n",
       "Tomintoul    -1.561102 -0.731014 -0.003339  0.695171  1.500134  0.222122   \n",
       "Tormore       0.519345 -0.268811  2.558316 -0.222523  0.522640 -0.014122   \n",
       "Tullibardine -0.601530 -0.418682  0.316236  1.087070 -1.163241  0.418737   \n",
       "\n",
       "                     6  \n",
       "Distillery              \n",
       "Tobermory    -0.593777  \n",
       "Tomatin       0.641974  \n",
       "Tomintoul     0.269767  \n",
       "Tormore       0.229859  \n",
       "Tullibardine  0.790442  "
      ]
     },
     "execution_count": 21,
     "metadata": {},
     "output_type": "execute_result"
    }
   ],
   "source": [
    "df2.tail()"
   ]
  },
  {
   "cell_type": "code",
   "execution_count": 22,
   "metadata": {
    "collapsed": true
   },
   "outputs": [],
   "source": [
    "# df2.to_csv(\"whiskey_pca_tf.csv\", sep= '\\t', header= True, index= True)"
   ]
  },
  {
   "cell_type": "markdown",
   "metadata": {},
   "source": [
    "Take export from above and import into TensorFlow Projector to see how well they cluster:\n",
    "http://projector.tensorflow.org/"
   ]
  },
  {
   "cell_type": "markdown",
   "metadata": {},
   "source": [
    "# K-Means\n",
    "Following the example from the RH Machine Learning github, 11 clusters was what they used from the Scree Plot. We will also select 11 clusters which is an arbitrary number until further discovery using the Inertia method here."
   ]
  },
  {
   "cell_type": "code",
   "execution_count": 24,
   "metadata": {
    "collapsed": true
   },
   "outputs": [],
   "source": [
    "df_km = X.copy()"
   ]
  },
  {
   "cell_type": "code",
   "execution_count": 25,
   "metadata": {},
   "outputs": [
    {
     "data": {
      "text/html": [
       "<div>\n",
       "<style>\n",
       "    .dataframe thead tr:only-child th {\n",
       "        text-align: right;\n",
       "    }\n",
       "\n",
       "    .dataframe thead th {\n",
       "        text-align: left;\n",
       "    }\n",
       "\n",
       "    .dataframe tbody tr th {\n",
       "        vertical-align: top;\n",
       "    }\n",
       "</style>\n",
       "<table border=\"1\" class=\"dataframe\">\n",
       "  <thead>\n",
       "    <tr style=\"text-align: right;\">\n",
       "      <th></th>\n",
       "      <th>0</th>\n",
       "      <th>1</th>\n",
       "      <th>2</th>\n",
       "      <th>3</th>\n",
       "      <th>4</th>\n",
       "      <th>5</th>\n",
       "      <th>6</th>\n",
       "    </tr>\n",
       "  </thead>\n",
       "  <tbody>\n",
       "    <tr>\n",
       "      <th>0</th>\n",
       "      <td>-0.503384</td>\n",
       "      <td>1.122022</td>\n",
       "      <td>0.161200</td>\n",
       "      <td>-0.505825</td>\n",
       "      <td>0.284150</td>\n",
       "      <td>-0.332995</td>\n",
       "      <td>-0.643743</td>\n",
       "    </tr>\n",
       "    <tr>\n",
       "      <th>1</th>\n",
       "      <td>-1.478888</td>\n",
       "      <td>3.004851</td>\n",
       "      <td>-1.517091</td>\n",
       "      <td>0.138537</td>\n",
       "      <td>0.710289</td>\n",
       "      <td>-0.380669</td>\n",
       "      <td>1.166455</td>\n",
       "    </tr>\n",
       "    <tr>\n",
       "      <th>2</th>\n",
       "      <td>-1.253113</td>\n",
       "      <td>-0.653721</td>\n",
       "      <td>0.284720</td>\n",
       "      <td>-0.927474</td>\n",
       "      <td>-0.112759</td>\n",
       "      <td>-0.546753</td>\n",
       "      <td>0.623491</td>\n",
       "    </tr>\n",
       "    <tr>\n",
       "      <th>3</th>\n",
       "      <td>5.271724</td>\n",
       "      <td>-0.510075</td>\n",
       "      <td>-0.806672</td>\n",
       "      <td>-0.204075</td>\n",
       "      <td>0.024691</td>\n",
       "      <td>-0.513550</td>\n",
       "      <td>0.413148</td>\n",
       "    </tr>\n",
       "    <tr>\n",
       "      <th>4</th>\n",
       "      <td>0.213466</td>\n",
       "      <td>0.174339</td>\n",
       "      <td>0.676664</td>\n",
       "      <td>-0.526576</td>\n",
       "      <td>0.486221</td>\n",
       "      <td>-0.576853</td>\n",
       "      <td>0.374729</td>\n",
       "    </tr>\n",
       "  </tbody>\n",
       "</table>\n",
       "</div>"
      ],
      "text/plain": [
       "          0         1         2         3         4         5         6\n",
       "0 -0.503384  1.122022  0.161200 -0.505825  0.284150 -0.332995 -0.643743\n",
       "1 -1.478888  3.004851 -1.517091  0.138537  0.710289 -0.380669  1.166455\n",
       "2 -1.253113 -0.653721  0.284720 -0.927474 -0.112759 -0.546753  0.623491\n",
       "3  5.271724 -0.510075 -0.806672 -0.204075  0.024691 -0.513550  0.413148\n",
       "4  0.213466  0.174339  0.676664 -0.526576  0.486221 -0.576853  0.374729"
      ]
     },
     "execution_count": 25,
     "metadata": {},
     "output_type": "execute_result"
    }
   ],
   "source": [
    "df_km.head()"
   ]
  },
  {
   "cell_type": "code",
   "execution_count": 26,
   "metadata": {},
   "outputs": [
    {
     "data": {
      "text/plain": [
       "1     15\n",
       "5     12\n",
       "3     12\n",
       "7     11\n",
       "10     9\n",
       "2      9\n",
       "6      5\n",
       "9      4\n",
       "0      4\n",
       "4      3\n",
       "8      2\n",
       "Name: labels11, dtype: int64"
      ]
     },
     "execution_count": 26,
     "metadata": {},
     "output_type": "execute_result"
    }
   ],
   "source": [
    "#Intialize kmeans with 3 clusters and random_state = 10\n",
    "km11 = KMeans(n_clusters= 11)\n",
    "\n",
    "#Fit model\n",
    "km11.fit(X)\n",
    "\n",
    "#Generate labels\n",
    "\n",
    "##Method 1\n",
    "labels11 = km11.labels_\n",
    "##Method 2\n",
    "labels11 = km11.predict(X)\n",
    "\n",
    "\n",
    "#Add labs3 to df2\n",
    "df_km[\"labels11\"] = labels11\n",
    "\n",
    "#Value_counts\n",
    "df_km.labels11.value_counts()"
   ]
  },
  {
   "cell_type": "code",
   "execution_count": 27,
   "metadata": {},
   "outputs": [
    {
     "name": "stdout",
     "output_type": "stream",
     "text": [
      "0.1530050885378737\n",
      "201.37637259878778\n"
     ]
    }
   ],
   "source": [
    "#Silhoeute score\n",
    "print silhouette_score(X, df_km.labels11)\n",
    "\n",
    "# Inertia score\n",
    "print km11.inertia_"
   ]
  },
  {
   "cell_type": "code",
   "execution_count": 29,
   "metadata": {},
   "outputs": [
    {
     "data": {
      "image/png": "[encoded data removed]",
      "text/plain": [
       "<matplotlib.figure.Figure at 0x10b6fe150>"
      ]
     },
     "metadata": {},
     "output_type": "display_data"
    }
   ],
   "source": [
    "#Intialize range of cluster values from 2 to 16\n",
    "cluster_range = range(2, 15)\n",
    "\n",
    "#Intialize list to store silhouette scores\n",
    "s_scores = []\n",
    "\n",
    "#Iterate over cluster range, fit models and add score to s_scores\n",
    "\n",
    "for cluster in cluster_range:\n",
    "    model = KMeans(n_clusters = cluster)\n",
    "    model.fit(X)\n",
    "    score = silhouette_score(X, model.labels_)\n",
    "    s_scores.append(score)\n",
    "    \n",
    "#Plot clusters versus scores\n",
    "\n",
    "plt.plot(cluster_range, s_scores, linewidth = 4)\n",
    "plt.xlabel(\"K Values\")\n",
    "plt.ylabel(\"Silhouette Scores\");"
   ]
  },
  {
   "cell_type": "code",
   "execution_count": 30,
   "metadata": {},
   "outputs": [
    {
     "data": {
      "image/png": "[encoded data removed]",
      "text/plain": [
       "<matplotlib.figure.Figure at 0x1a198d4ed0>"
      ]
     },
     "metadata": {},
     "output_type": "display_data"
    }
   ],
   "source": [
    "#Intialize range of cluster values from 2 to 16\n",
    "cluster_range = range(2, 17)\n",
    "\n",
    "#Intialize list to store inertia scores\n",
    "\n",
    "i_scores = []\n",
    "\n",
    "#Iterate over cluster range, fit models and add score to s_scores\n",
    "\n",
    "for cluster in cluster_range:\n",
    "    model = KMeans(n_clusters=cluster)\n",
    "    model.fit(X)\n",
    "    \n",
    "    score = model.inertia_\n",
    "    i_scores.append(score)\n",
    "    \n",
    "#Plot clusters versus scores\n",
    "\n",
    "plt.figure(figsize=(8, 7))\n",
    "plt.plot(cluster_range, i_scores, linewidth = 6, alpha = .8, c = \"c\")\n",
    "plt.xlabel(\"Cluster Values\")\n",
    "plt.ylabel(\"Inertia Scores\");"
   ]
  },
  {
   "cell_type": "code",
   "execution_count": 35,
   "metadata": {},
   "outputs": [
    {
     "data": {
      "text/html": [
       "<div>\n",
       "<style>\n",
       "    .dataframe thead tr:only-child th {\n",
       "        text-align: right;\n",
       "    }\n",
       "\n",
       "    .dataframe thead th {\n",
       "        text-align: left;\n",
       "    }\n",
       "\n",
       "    .dataframe tbody tr th {\n",
       "        vertical-align: top;\n",
       "    }\n",
       "</style>\n",
       "<table border=\"1\" class=\"dataframe\">\n",
       "  <thead>\n",
       "    <tr style=\"text-align: right;\">\n",
       "      <th></th>\n",
       "      <th>Distillery</th>\n",
       "    </tr>\n",
       "  </thead>\n",
       "  <tbody>\n",
       "    <tr>\n",
       "      <th>0</th>\n",
       "      <td>Aberfeldy</td>\n",
       "    </tr>\n",
       "    <tr>\n",
       "      <th>1</th>\n",
       "      <td>Aberlour</td>\n",
       "    </tr>\n",
       "    <tr>\n",
       "      <th>2</th>\n",
       "      <td>AnCnoc</td>\n",
       "    </tr>\n",
       "    <tr>\n",
       "      <th>3</th>\n",
       "      <td>Ardbeg</td>\n",
       "    </tr>\n",
       "    <tr>\n",
       "      <th>4</th>\n",
       "      <td>Ardmore</td>\n",
       "    </tr>\n",
       "  </tbody>\n",
       "</table>\n",
       "</div>"
      ],
      "text/plain": [
       "  Distillery\n",
       "0  Aberfeldy\n",
       "1   Aberlour\n",
       "2     AnCnoc\n",
       "3     Ardbeg\n",
       "4    Ardmore"
      ]
     },
     "execution_count": 35,
     "metadata": {},
     "output_type": "execute_result"
    }
   ],
   "source": [
    "y.head()"
   ]
  },
  {
   "cell_type": "code",
   "execution_count": 44,
   "metadata": {
    "scrolled": true
   },
   "outputs": [],
   "source": [
    "#Create dataframe with whiskey Distillery as indices and use labels11 as the values\n",
    "\n",
    "dist_labels = pd.DataFrame(data = labels11, columns = [\"cluster\"])\n",
    "dist_labels = pd.concat([y, dist_labels], axis = 1)\n",
    "dist_labels.set_index(\"Distillery\", inplace=True)"
   ]
  },
  {
   "cell_type": "code",
   "execution_count": 45,
   "metadata": {},
   "outputs": [
    {
     "data": {
      "text/plain": [
       "1     15\n",
       "5     12\n",
       "3     12\n",
       "7     11\n",
       "10     9\n",
       "2      9\n",
       "6      5\n",
       "9      4\n",
       "0      4\n",
       "4      3\n",
       "8      2\n",
       "Name: cluster, dtype: int64"
      ]
     },
     "execution_count": 45,
     "metadata": {},
     "output_type": "execute_result"
    }
   ],
   "source": [
    "# Let's see the count within each cluster. Cluster 1 has the most similar types of whiskey.\n",
    "dist_labels.cluster.value_counts()"
   ]
  },
  {
   "cell_type": "code",
   "execution_count": 46,
   "metadata": {},
   "outputs": [
    {
     "data": {
      "text/plain": [
       "Index([u'Belvenie', u'Deanston', u'Benrinnes', u'Dalwhinnie', u'Scapa',\n",
       "       u'OldFettercairn', u'Benromach', u'BenNevis', u'Ardmore',\n",
       "       u'Highland Park', u'Aberfeldy', u'Bruichladdich', u'Springbank',\n",
       "       u'Tomatin', u'Bowmore'],\n",
       "      dtype='object', name=u'Distillery')"
      ]
     },
     "execution_count": 46,
     "metadata": {},
     "output_type": "execute_result"
    }
   ],
   "source": [
    "#Cluster 1\n",
    "dist_labels[dist_labels.cluster == 1].sample(15).index"
   ]
  },
  {
   "cell_type": "code",
   "execution_count": 48,
   "metadata": {},
   "outputs": [
    {
     "data": {
      "text/plain": [
       "Index([u'GlenGrant', u'Aultmore', u'Cardhu', u'Auchentoshan', u'Longmorn',\n",
       "       u'Glengoyne', u'Tobermory', u'AnCnoc', u'Tamdhu', u'Mannochmore',\n",
       "       u'Speyside', u'Edradour'],\n",
       "      dtype='object', name=u'Distillery')"
      ]
     },
     "execution_count": 48,
     "metadata": {},
     "output_type": "execute_result"
    }
   ],
   "source": [
    "#Cluster 3\n",
    "dist_labels[dist_labels.cluster == 3].sample(12).index"
   ]
  },
  {
   "cell_type": "code",
   "execution_count": 50,
   "metadata": {},
   "outputs": [
    {
     "data": {
      "text/plain": [
       "Index([u'Tomintoul', u'Loch Lomond', u'Bladnoch', u'Inchgower',\n",
       "       u'Bunnahabhain', u'Speyburn', u'Glenlossie', u'Glenkinchie',\n",
       "       u'Benriach', u'Glenallachie', u'Glenfiddich'],\n",
       "      dtype='object', name=u'Distillery')"
      ]
     },
     "execution_count": 50,
     "metadata": {},
     "output_type": "execute_result"
    }
   ],
   "source": [
    "#Cluster 7\n",
    "dist_labels[dist_labels.cluster == 7].sample(11).index"
   ]
  },
  {
   "cell_type": "code",
   "execution_count": 51,
   "metadata": {},
   "outputs": [
    {
     "data": {
      "text/plain": [
       "Index([u'Laphroig', u'Lagavulin'], dtype='object', name=u'Distillery')"
      ]
     },
     "execution_count": 51,
     "metadata": {},
     "output_type": "execute_result"
    }
   ],
   "source": [
    "#Cluster 8\n",
    "dist_labels[dist_labels.cluster == 8].sample(2).index"
   ]
  },
  {
   "cell_type": "code",
   "execution_count": 53,
   "metadata": {},
   "outputs": [
    {
     "data": {
      "text/plain": [
       "Index([u'Ardbeg', u'Clynelish', u'Caol Ila', u'Talisker'], dtype='object', name=u'Distillery')"
      ]
     },
     "execution_count": 53,
     "metadata": {},
     "output_type": "execute_result"
    }
   ],
   "source": [
    "#Cluster 0\n",
    "dist_labels[dist_labels.cluster == 0].sample(4).index"
   ]
  },
  {
   "cell_type": "markdown",
   "metadata": {},
   "source": [
    "We can use the function below to find out which cluster a specific brand belongs to within this dataset. \"Talisker\" is within Cluster 0. Since I'm not a whiskey expert, I will rely on the experts and use my 3rd Party Research insights to cross reference some of these cluster outputs. \n",
    "\n",
    "Laphroaig and Lagavulin going head to head in this post:\n",
    "https://www.whiskyandwisdom.com/?p=64\n",
    "\n",
    "Now that we've gained a bit more conviction, let's move along!"
   ]
  },
  {
   "cell_type": "code",
   "execution_count": 52,
   "metadata": {},
   "outputs": [
    {
     "name": "stdout",
     "output_type": "stream",
     "text": [
      "[True, False, False, False, False, False, False, False, False, False]\n"
     ]
    }
   ],
   "source": [
    "c_range = range(0, 10)\n",
    "\n",
    "yes = []\n",
    "\n",
    "for i in c_range:\n",
    "    w = \"Talisker\" in dist_labels[dist_labels.cluster == i].index\n",
    "    yes.append(w)\n",
    "print yes"
   ]
  },
  {
   "cell_type": "markdown",
   "metadata": {},
   "source": [
    "Take a look below to see the index number with the Distillery name, and compare with the clusters in TensorFlow."
   ]
  },
  {
   "cell_type": "code",
   "execution_count": null,
   "metadata": {},
   "outputs": [],
   "source": [
    "[(0, 'Aberfeldy'),\n",
    " (1, 'Aberlour'),\n",
    " (2, 'AnCnoc'),\n",
    " (3, 'Ardbeg'),\n",
    " (4, 'Ardmore'),\n",
    " (5, 'ArranIsleOf'),\n",
    " (6, 'Auchentoshan'),\n",
    " (7, 'Auchroisk'),\n",
    " (8, 'Aultmore'),\n",
    " (9, 'Balblair'),\n",
    " (10, 'Balmenach'),\n",
    " (11, 'Belvenie'),\n",
    " (12, 'BenNevis'),\n",
    " (13, 'Benriach'),\n",
    " (14, 'Benrinnes'),\n",
    " (15, 'Benromach'),\n",
    " (16, 'Bladnoch'),\n",
    " (17, 'BlairAthol'),\n",
    " (18, 'Bowmore'),\n",
    " (19, 'Bruichladdich'),\n",
    " (20, 'Bunnahabhain'),\n",
    " (21, 'Caol Ila'),\n",
    " (22, 'Cardhu'),\n",
    " (23, 'Clynelish'),\n",
    " (24, 'Craigallechie'),\n",
    " (25, 'Craigganmore'),\n",
    " (26, 'Dailuaine'),\n",
    " (27, 'Dalmore'),\n",
    " (28, 'Dalwhinnie'),\n",
    " (29, 'Deanston'),\n",
    " (30, 'Dufftown'),\n",
    " (31, 'Edradour'),\n",
    " (32, 'GlenDeveronMacduff'),\n",
    " (33, 'GlenElgin'),\n",
    " (34, 'GlenGarioch'),\n",
    " (35, 'GlenGrant'),\n",
    " (36, 'GlenKeith'),\n",
    " (37, 'GlenMoray'),\n",
    " (38, 'GlenOrd'),\n",
    " (39, 'GlenScotia'),\n",
    " (40, 'GlenSpey'),\n",
    " (41, 'Glenallachie'),\n",
    " (42, 'Glendronach'),\n",
    " (43, 'Glendullan'),\n",
    " (44, 'Glenfarclas'),\n",
    " (45, 'Glenfiddich'),\n",
    " (46, 'Glengoyne'),\n",
    " (47, 'Glenkinchie'),\n",
    " (48, 'Glenlivet'),\n",
    " (49, 'Glenlossie'),\n",
    " (50, 'Glenmorangie'),\n",
    " (51, 'Glenrothes'),\n",
    " (52, 'Glenturret'),\n",
    " (53, 'Highland Park'),\n",
    " (54, 'Inchgower'),\n",
    " (55, 'Isle of Jura'),\n",
    " (56, 'Knochando'),\n",
    " (57, 'Lagavulin'),\n",
    " (58, 'Laphroig'),\n",
    " (59, 'Linkwood'),\n",
    " (60, 'Loch Lomond'),\n",
    " (61, 'Longmorn'),\n",
    " (62, 'Macallan'),\n",
    " (63, 'Mannochmore'),\n",
    " (64, 'Miltonduff'),\n",
    " (65, 'Mortlach'),\n",
    " (66, 'Oban'),\n",
    " (67, 'OldFettercairn'),\n",
    " (68, 'OldPulteney'),\n",
    " (69, 'RoyalBrackla'),\n",
    " (70, 'RoyalLochnagar'),\n",
    " (71, 'Scapa'),\n",
    " (72, 'Speyburn'),\n",
    " (73, 'Speyside'),\n",
    " (74, 'Springbank'),\n",
    " (75, 'Strathisla'),\n",
    " (76, 'Strathmill'),\n",
    " (77, 'Talisker'),\n",
    " (78, 'Tamdhu'),\n",
    " (79, 'Tamnavulin'),\n",
    " (80, 'Teaninich'),\n",
    " (81, 'Tobermory'),\n",
    " (82, 'Tomatin'),\n",
    " (83, 'Tomintoul'),\n",
    " (84, 'Tormore'),\n",
    " (85, 'Tullibardine')]"
   ]
  },
  {
   "cell_type": "markdown",
   "metadata": {},
   "source": [
    "# K-Means Clustering in h2o.ai\n",
    "\n",
    "7 principal components, and 86 unique Distillery classifiers. We are essentially running the same K-Means methodology, but this time with h2o.ai. K-Means clustering performed on H2o.ai with labeled outputs in \"whiskey_pred\". 11 clusters created.\n",
    "\n",
    "Instructions:\n",
    "\n",
    "https://github.com/LenaTash/RH_MachineLearning/blob/master/WhiskeyExample_GUI"
   ]
  },
  {
   "cell_type": "code",
   "execution_count": 56,
   "metadata": {},
   "outputs": [],
   "source": [
    "whiskey_pred = pd.read_csv(\"/Users/darrenklee/Downloads/RH_MachineLearning-master/prediction_K_Means.csv\")"
   ]
  },
  {
   "cell_type": "code",
   "execution_count": 57,
   "metadata": {
    "collapsed": true
   },
   "outputs": [],
   "source": [
    "whiskey_pred.drop(\"C1\", axis = 1, inplace= True)"
   ]
  },
  {
   "cell_type": "code",
   "execution_count": 58,
   "metadata": {},
   "outputs": [],
   "source": [
    "whiskey_pred.set_index(\"Distillery\", inplace= True)"
   ]
  },
  {
   "cell_type": "code",
   "execution_count": 59,
   "metadata": {},
   "outputs": [
    {
     "data": {
      "text/plain": [
       "(86, 8)"
      ]
     },
     "execution_count": 59,
     "metadata": {},
     "output_type": "execute_result"
    }
   ],
   "source": [
    "whiskey_pred.shape"
   ]
  },
  {
   "cell_type": "code",
   "execution_count": 60,
   "metadata": {},
   "outputs": [
    {
     "data": {
      "text/plain": [
       "4     27\n",
       "9     14\n",
       "6     11\n",
       "2      9\n",
       "1      9\n",
       "10     3\n",
       "7      3\n",
       "5      3\n",
       "0      3\n",
       "8      2\n",
       "3      2\n",
       "Name: predict, dtype: int64"
      ]
     },
     "execution_count": 60,
     "metadata": {},
     "output_type": "execute_result"
    }
   ],
   "source": [
    "whiskey_pred.predict.value_counts()"
   ]
  },
  {
   "cell_type": "code",
   "execution_count": 63,
   "metadata": {},
   "outputs": [
    {
     "data": {
      "text/plain": [
       "Index([u'GlenGrant', u'Bunnahabhain', u'Cardhu', u'Glengoyne', u'Glenallachie',\n",
       "       u'Aultmore', u'Oban', u'Mannochmore', u'Auchentoshan', u'AnCnoc',\n",
       "       u'Glenfiddich', u'Glenlossie', u'Tobermory', u'Speyside', u'Deanston',\n",
       "       u'Craigganmore', u'GlenScotia', u'Isle of Jura', u'Scapa', u'Tamdhu',\n",
       "       u'Bladnoch', u'Dalwhinnie', u'Dufftown', u'Loch Lomond', u'Longmorn',\n",
       "       u'Ardmore', u'Glenkinchie'],\n",
       "      dtype='object', name=u'Distillery')"
      ]
     },
     "execution_count": 63,
     "metadata": {},
     "output_type": "execute_result"
    }
   ],
   "source": [
    "#Cluster 4, \n",
    "whiskey_pred[whiskey_pred.predict == 4].sample(n = 27).index"
   ]
  },
  {
   "cell_type": "code",
   "execution_count": 64,
   "metadata": {},
   "outputs": [
    {
     "data": {
      "text/plain": [
       "Index([u'Benromach', u'Mortlach', u'BlairAthol', u'Belvenie', u'Strathisla',\n",
       "       u'GlenOrd', u'Bruichladdich', u'Benriach', u'Aberlour', u'Aberfeldy',\n",
       "       u'BenNevis', u'Benrinnes', u'GlenMoray', u'Glenlivet'],\n",
       "      dtype='object', name=u'Distillery')"
      ]
     },
     "execution_count": 64,
     "metadata": {},
     "output_type": "execute_result"
    }
   ],
   "source": [
    "#Cluster 9, \n",
    "whiskey_pred[whiskey_pred.predict == 9].sample(n = 14).index"
   ]
  },
  {
   "cell_type": "code",
   "execution_count": 71,
   "metadata": {},
   "outputs": [
    {
     "data": {
      "text/plain": [
       "Index([u'Inchgower', u'Tomintoul', u'Speyburn', u'GlenSpey', u'Highland Park',\n",
       "       u'Bowmore', u'Tormore', u'Glenturret', u'Springbank', u'ArranIsleOf',\n",
       "       u'Tomatin'],\n",
       "      dtype='object', name=u'Distillery')"
      ]
     },
     "execution_count": 71,
     "metadata": {},
     "output_type": "execute_result"
    }
   ],
   "source": [
    "#Cluster 6, \n",
    "whiskey_pred[whiskey_pred.predict == 6].sample(n = 11).index"
   ]
  },
  {
   "cell_type": "markdown",
   "metadata": {},
   "source": [
    "Above are the top 3 clusters with similarities in attributes. You can type in your favorite whiskey brand out of this dataset below, and see what other items they cluster well with! The example given is \"Laphroig\" (mispelled: Laphroaig), which clusters well with one other drink, Lagavulin. "
   ]
  },
  {
   "cell_type": "code",
   "execution_count": 66,
   "metadata": {},
   "outputs": [
    {
     "name": "stdout",
     "output_type": "stream",
     "text": [
      "[False, False, False, False, False, False, False, True, False, False]\n"
     ]
    }
   ],
   "source": [
    "c_range = range(0, 10)\n",
    "\n",
    "yes = []\n",
    "\n",
    "for i in c_range:\n",
    "    w = \"Talisker\" in whiskey_pred[whiskey_pred.predict == i].index\n",
    "    yes.append(w)\n",
    "print yes"
   ]
  },
  {
   "cell_type": "code",
   "execution_count": 67,
   "metadata": {},
   "outputs": [
    {
     "data": {
      "text/plain": [
       "Index([u'Laphroig', u'Lagavulin'], dtype='object', name=u'Distillery')"
      ]
     },
     "execution_count": 67,
     "metadata": {},
     "output_type": "execute_result"
    }
   ],
   "source": [
    "#Cluster 3, \n",
    "whiskey_pred[whiskey_pred.predict == 3].sample(n = 2).index"
   ]
  },
  {
   "cell_type": "code",
   "execution_count": 68,
   "metadata": {},
   "outputs": [
    {
     "data": {
      "text/plain": [
       "Index([u'GlenGarioch', u'Ardbeg', u'Talisker'], dtype='object', name=u'Distillery')"
      ]
     },
     "execution_count": 68,
     "metadata": {},
     "output_type": "execute_result"
    }
   ],
   "source": [
    "#Cluster 7, \n",
    "whiskey_pred[whiskey_pred.predict == 7].sample(n = 3).index"
   ]
  },
  {
   "cell_type": "code",
   "execution_count": 69,
   "metadata": {},
   "outputs": [
    {
     "data": {
      "text/plain": [
       "Index([u'Teaninich', u'Balblair', u'GlenElgin', u'GlenKeith', u'Linkwood',\n",
       "       u'Knochando', u'Strathmill', u'Tamnavulin', u'Glenmorangie'],\n",
       "      dtype='object', name=u'Distillery')"
      ]
     },
     "execution_count": 69,
     "metadata": {},
     "output_type": "execute_result"
    }
   ],
   "source": [
    "#Cluster 1, \n",
    "whiskey_pred[whiskey_pred.predict == 1].sample(n = 9).index"
   ]
  },
  {
   "cell_type": "code",
   "execution_count": null,
   "metadata": {},
   "outputs": [],
   "source": []
  },
  {
   "cell_type": "code",
   "execution_count": null,
   "metadata": {},
   "outputs": [],
   "source": []
  },
  {
   "cell_type": "code",
   "execution_count": null,
   "metadata": {},
   "outputs": [],
   "source": []
  },
  {
   "cell_type": "code",
   "execution_count": null,
   "metadata": {},
   "outputs": [],
   "source": []
  },
  {
   "cell_type": "code",
   "execution_count": null,
   "metadata": {
    "collapsed": true
   },
   "outputs": [],
   "source": []
  }
 ],
 "metadata": {
  "kernelspec": {
   "display_name": "Python 2",
   "language": "python",
   "name": "python2"
  },
  "language_info": {
   "codemirror_mode": {
    "name": "ipython",
    "version": 2
   },
   "file_extension": ".py",
   "mimetype": "text/x-python",
   "name": "python",
   "nbconvert_exporter": "python",
   "pygments_lexer": "ipython2",
   "version": "2.7.13"
  }
 },
 "nbformat": 4,
 "nbformat_minor": 2
}
