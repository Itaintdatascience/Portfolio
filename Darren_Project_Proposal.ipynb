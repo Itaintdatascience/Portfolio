{
 "cells": [
  {
   "cell_type": "markdown",
   "metadata": {},
   "source": [
    "# P2P Default Binary Classification | Supervised Learning"
   ]
  },
  {
   "cell_type": "markdown",
   "metadata": {},
   "source": [
    "Hypothesis:\n",
    "\n",
    "    H0 - Null hypothesis, when the model cannot beat the null accuracy score for \"Fully Paid\" & \"Charged Off\" loans\n",
    "    H1 - Reject the Null hypothesis, when accuracy, precision and recall scores can beat the null accuracy score.\n",
    "\n",
    "True Positives (TP): Number of correct positive predictions | correctly predicted loan will Charged Off (1)\n",
    "True Negatives (TN): Number of correct negative predictions | correctly predicted loan will be Fully Paid (0)\n",
    "False Positives (FP): Number incorrect positive predictions | incorrectly predicted loan will be Charged Off\n",
    "False Negatives (FN): Number of incorrect negative predictions | incorrectly predicted loan will be Fully Paid\n",
    "\n",
    "Goals:\n",
    "\n",
    "I'm planning to select a supervised learning model to see what features attribute to a loan default(binary classification). (TP+TN)/Total Population is the Accuracy (ACC) score bench mark in comparison of each model. \n",
    "I have Lending Club's 2015 dataset with 145 loan characteristics, and 400k+ records to begin with.\n",
    "The dataset is relatively large, and data is very sparse - possibly very redundant features. \n",
    "\n",
    "Feature engineering will be a challenge, and we want to know whether or not the user will default or not based on their application information, and not based on Lending Club's collected data once the loan is issued. This is also the reason for an older dataset where we already know if they have successfully paid off their loan or have defaulted under the \"loan_status\" field. \n",
    "I used to work for Lending Club's Investor Group, and would be interested in demystifying the underwriting model, and which types have highest tendencies to default. \n",
    "\n",
    "Notes: \n",
    "\n",
    "Use Control +F to find the most important sections:\n",
    "    - \"XG/GBM Model\"\n",
    "    - \"GBM Domain Knowledge Test\"\n",
    "    - \"PCA | AdaBoost\"\n",
    "    - \"Decision Tree model selection w/ random subset of features\"\n",
    "    - \"\n",
    "    "
   ]
  },
  {
   "cell_type": "code",
   "execution_count": 1,
   "metadata": {},
   "outputs": [
    {
     "name": "stderr",
     "output_type": "stream",
     "text": [
      "/Users/darrenklee/anaconda2/lib/python2.7/site-packages/sklearn/cross_validation.py:41: DeprecationWarning: This module was deprecated in version 0.18 in favor of the model_selection module into which all the refactored classes and functions are moved. Also note that the interface of the new CV iterators are different from that of this module. This module will be removed in 0.20.\n",
      "  \"This module will be removed in 0.20.\", DeprecationWarning)\n",
      "/Users/darrenklee/anaconda2/lib/python2.7/site-packages/sklearn/grid_search.py:42: DeprecationWarning: This module was deprecated in version 0.18 in favor of the model_selection module into which all the refactored classes and functions are moved. This module will be removed in 0.20.\n",
      "  DeprecationWarning)\n"
     ]
    }
   ],
   "source": [
    "import pandas as pd\n",
    "import numpy as np\n",
    "import matplotlib.pyplot as plt\n",
    "import seaborn as sns\n",
    "%matplotlib inline\n",
    "\n",
    "from sklearn.tree import DecisionTreeClassifier\n",
    "from sklearn.datasets import make_classification\n",
    "from sklearn.cross_validation import train_test_split, cross_val_score\n",
    "from sklearn.metrics import accuracy_score, precision_score, recall_score, confusion_matrix, classification_report, roc_auc_score, roc_curve\n",
    "from sklearn.linear_model import LogisticRegression\n",
    "from sklearn.preprocessing import StandardScaler\n",
    "from sklearn.grid_search import GridSearchCV\n",
    "from sklearn.grid_search import RandomizedSearchCV\n",
    "from sklearn.ensemble import GradientBoostingClassifier\n",
    "from time import time\n",
    "import pandas as pd;"
   ]
  },
  {
   "cell_type": "code",
   "execution_count": 3,
   "metadata": {
    "collapsed": true
   },
   "outputs": [],
   "source": [
    "# Read in data:\n",
    "\n",
    "df = pd.read_csv(\"/Users/Darrenklee/Desktop/DS-Project/LoanStats3d.csv\", low_memory= False)"
   ]
  },
  {
   "cell_type": "markdown",
   "metadata": {},
   "source": [
    "# Exploratory Data Analysis"
   ]
  },
  {
   "cell_type": "code",
   "execution_count": 3,
   "metadata": {},
   "outputs": [
    {
     "data": {
      "text/plain": [
       "Individual    420584\n",
       "Joint App        511\n",
       "Name: application_type, dtype: int64"
      ]
     },
     "execution_count": 3,
     "metadata": {},
     "output_type": "execute_result"
    }
   ],
   "source": [
    "df.application_type.value_counts()\n",
    "# do not include Joint Apps"
   ]
  },
  {
   "cell_type": "code",
   "execution_count": 8,
   "metadata": {},
   "outputs": [
    {
     "data": {
      "text/html": [
       "<div>\n",
       "<style>\n",
       "    .dataframe thead tr:only-child th {\n",
       "        text-align: right;\n",
       "    }\n",
       "\n",
       "    .dataframe thead th {\n",
       "        text-align: left;\n",
       "    }\n",
       "\n",
       "    .dataframe tbody tr th {\n",
       "        vertical-align: top;\n",
       "    }\n",
       "</style>\n",
       "<table border=\"1\" class=\"dataframe\">\n",
       "  <thead>\n",
       "    <tr style=\"text-align: right;\">\n",
       "      <th></th>\n",
       "      <th>loan_amnt</th>\n",
       "      <th>funded_amnt</th>\n",
       "      <th>funded_amnt_inv</th>\n",
       "      <th>installment</th>\n",
       "      <th>annual_inc</th>\n",
       "      <th>url</th>\n",
       "      <th>dti</th>\n",
       "      <th>delinq_2yrs</th>\n",
       "      <th>inq_last_6mths</th>\n",
       "      <th>mths_since_last_delinq</th>\n",
       "      <th>...</th>\n",
       "      <th>deferral_term</th>\n",
       "      <th>hardship_amount</th>\n",
       "      <th>hardship_length</th>\n",
       "      <th>hardship_dpd</th>\n",
       "      <th>orig_projected_additional_accrued_interest</th>\n",
       "      <th>hardship_payoff_balance_amount</th>\n",
       "      <th>hardship_last_payment_amount</th>\n",
       "      <th>settlement_amount</th>\n",
       "      <th>settlement_percentage</th>\n",
       "      <th>settlement_term</th>\n",
       "    </tr>\n",
       "  </thead>\n",
       "  <tbody>\n",
       "    <tr>\n",
       "      <th>count</th>\n",
       "      <td>210994.000000</td>\n",
       "      <td>210994.000000</td>\n",
       "      <td>210994.000000</td>\n",
       "      <td>210994.000000</td>\n",
       "      <td>2.109940e+05</td>\n",
       "      <td>0.0</td>\n",
       "      <td>210992.000000</td>\n",
       "      <td>210994.000000</td>\n",
       "      <td>210994.000000</td>\n",
       "      <td>109046.000000</td>\n",
       "      <td>...</td>\n",
       "      <td>153.0</td>\n",
       "      <td>153.000000</td>\n",
       "      <td>153.0</td>\n",
       "      <td>153.000000</td>\n",
       "      <td>16.000000</td>\n",
       "      <td>153.000000</td>\n",
       "      <td>153.000000</td>\n",
       "      <td>4583.000000</td>\n",
       "      <td>4583.000000</td>\n",
       "      <td>4583.000000</td>\n",
       "    </tr>\n",
       "    <tr>\n",
       "      <th>mean</th>\n",
       "      <td>14949.374508</td>\n",
       "      <td>14949.374508</td>\n",
       "      <td>14943.359854</td>\n",
       "      <td>443.917652</td>\n",
       "      <td>7.662230e+04</td>\n",
       "      <td>NaN</td>\n",
       "      <td>18.876317</td>\n",
       "      <td>0.335246</td>\n",
       "      <td>0.637919</td>\n",
       "      <td>34.801790</td>\n",
       "      <td>...</td>\n",
       "      <td>3.0</td>\n",
       "      <td>126.561961</td>\n",
       "      <td>3.0</td>\n",
       "      <td>18.294118</td>\n",
       "      <td>316.113750</td>\n",
       "      <td>9849.725556</td>\n",
       "      <td>179.584314</td>\n",
       "      <td>5731.476498</td>\n",
       "      <td>49.000343</td>\n",
       "      <td>12.094043</td>\n",
       "    </tr>\n",
       "    <tr>\n",
       "      <th>std</th>\n",
       "      <td>8562.173794</td>\n",
       "      <td>8562.173794</td>\n",
       "      <td>8558.678600</td>\n",
       "      <td>250.949787</td>\n",
       "      <td>7.178636e+04</td>\n",
       "      <td>NaN</td>\n",
       "      <td>8.704507</td>\n",
       "      <td>0.921001</td>\n",
       "      <td>0.918971</td>\n",
       "      <td>22.126952</td>\n",
       "      <td>...</td>\n",
       "      <td>0.0</td>\n",
       "      <td>105.504755</td>\n",
       "      <td>0.0</td>\n",
       "      <td>8.282736</td>\n",
       "      <td>209.439967</td>\n",
       "      <td>6641.912773</td>\n",
       "      <td>164.910743</td>\n",
       "      <td>3864.310434</td>\n",
       "      <td>7.458421</td>\n",
       "      <td>8.380446</td>\n",
       "    </tr>\n",
       "    <tr>\n",
       "      <th>min</th>\n",
       "      <td>1000.000000</td>\n",
       "      <td>1000.000000</td>\n",
       "      <td>900.000000</td>\n",
       "      <td>14.010000</td>\n",
       "      <td>0.000000e+00</td>\n",
       "      <td>NaN</td>\n",
       "      <td>0.000000</td>\n",
       "      <td>0.000000</td>\n",
       "      <td>0.000000</td>\n",
       "      <td>0.000000</td>\n",
       "      <td>...</td>\n",
       "      <td>3.0</td>\n",
       "      <td>2.690000</td>\n",
       "      <td>3.0</td>\n",
       "      <td>0.000000</td>\n",
       "      <td>57.420000</td>\n",
       "      <td>239.790000</td>\n",
       "      <td>0.440000</td>\n",
       "      <td>198.000000</td>\n",
       "      <td>20.000000</td>\n",
       "      <td>0.000000</td>\n",
       "    </tr>\n",
       "    <tr>\n",
       "      <th>25%</th>\n",
       "      <td>8000.000000</td>\n",
       "      <td>8000.000000</td>\n",
       "      <td>8000.000000</td>\n",
       "      <td>261.880000</td>\n",
       "      <td>4.667350e+04</td>\n",
       "      <td>NaN</td>\n",
       "      <td>12.350000</td>\n",
       "      <td>0.000000</td>\n",
       "      <td>0.000000</td>\n",
       "      <td>16.000000</td>\n",
       "      <td>...</td>\n",
       "      <td>3.0</td>\n",
       "      <td>40.490000</td>\n",
       "      <td>3.0</td>\n",
       "      <td>13.000000</td>\n",
       "      <td>154.522500</td>\n",
       "      <td>4639.090000</td>\n",
       "      <td>44.080000</td>\n",
       "      <td>2740.850000</td>\n",
       "      <td>45.000000</td>\n",
       "      <td>4.000000</td>\n",
       "    </tr>\n",
       "    <tr>\n",
       "      <th>50%</th>\n",
       "      <td>13200.000000</td>\n",
       "      <td>13200.000000</td>\n",
       "      <td>13200.000000</td>\n",
       "      <td>385.360000</td>\n",
       "      <td>6.500000e+04</td>\n",
       "      <td>NaN</td>\n",
       "      <td>18.320000</td>\n",
       "      <td>0.000000</td>\n",
       "      <td>0.000000</td>\n",
       "      <td>32.000000</td>\n",
       "      <td>...</td>\n",
       "      <td>3.0</td>\n",
       "      <td>94.200000</td>\n",
       "      <td>3.0</td>\n",
       "      <td>21.000000</td>\n",
       "      <td>250.770000</td>\n",
       "      <td>8343.420000</td>\n",
       "      <td>128.990000</td>\n",
       "      <td>4897.000000</td>\n",
       "      <td>47.040000</td>\n",
       "      <td>12.000000</td>\n",
       "    </tr>\n",
       "    <tr>\n",
       "      <th>75%</th>\n",
       "      <td>20000.000000</td>\n",
       "      <td>20000.000000</td>\n",
       "      <td>20000.000000</td>\n",
       "      <td>586.035000</td>\n",
       "      <td>9.100000e+04</td>\n",
       "      <td>NaN</td>\n",
       "      <td>25.012500</td>\n",
       "      <td>0.000000</td>\n",
       "      <td>1.000000</td>\n",
       "      <td>52.000000</td>\n",
       "      <td>...</td>\n",
       "      <td>3.0</td>\n",
       "      <td>184.810000</td>\n",
       "      <td>3.0</td>\n",
       "      <td>25.000000</td>\n",
       "      <td>453.667500</td>\n",
       "      <td>13905.000000</td>\n",
       "      <td>274.370000</td>\n",
       "      <td>7751.310000</td>\n",
       "      <td>50.010000</td>\n",
       "      <td>18.000000</td>\n",
       "    </tr>\n",
       "    <tr>\n",
       "      <th>max</th>\n",
       "      <td>35000.000000</td>\n",
       "      <td>35000.000000</td>\n",
       "      <td>35000.000000</td>\n",
       "      <td>1445.460000</td>\n",
       "      <td>8.900060e+06</td>\n",
       "      <td>NaN</td>\n",
       "      <td>380.530000</td>\n",
       "      <td>39.000000</td>\n",
       "      <td>6.000000</td>\n",
       "      <td>176.000000</td>\n",
       "      <td>...</td>\n",
       "      <td>3.0</td>\n",
       "      <td>569.750000</td>\n",
       "      <td>3.0</td>\n",
       "      <td>29.000000</td>\n",
       "      <td>699.480000</td>\n",
       "      <td>28078.200000</td>\n",
       "      <td>798.390000</td>\n",
       "      <td>30000.000000</td>\n",
       "      <td>166.670000</td>\n",
       "      <td>65.000000</td>\n",
       "    </tr>\n",
       "  </tbody>\n",
       "</table>\n",
       "<p>8 rows × 106 columns</p>\n",
       "</div>"
      ],
      "text/plain": [
       "           loan_amnt    funded_amnt  funded_amnt_inv    installment  \\\n",
       "count  210994.000000  210994.000000    210994.000000  210994.000000   \n",
       "mean    14949.374508   14949.374508     14943.359854     443.917652   \n",
       "std      8562.173794    8562.173794      8558.678600     250.949787   \n",
       "min      1000.000000    1000.000000       900.000000      14.010000   \n",
       "25%      8000.000000    8000.000000      8000.000000     261.880000   \n",
       "50%     13200.000000   13200.000000     13200.000000     385.360000   \n",
       "75%     20000.000000   20000.000000     20000.000000     586.035000   \n",
       "max     35000.000000   35000.000000     35000.000000    1445.460000   \n",
       "\n",
       "         annual_inc  url            dti    delinq_2yrs  inq_last_6mths  \\\n",
       "count  2.109940e+05  0.0  210992.000000  210994.000000   210994.000000   \n",
       "mean   7.662230e+04  NaN      18.876317       0.335246        0.637919   \n",
       "std    7.178636e+04  NaN       8.704507       0.921001        0.918971   \n",
       "min    0.000000e+00  NaN       0.000000       0.000000        0.000000   \n",
       "25%    4.667350e+04  NaN      12.350000       0.000000        0.000000   \n",
       "50%    6.500000e+04  NaN      18.320000       0.000000        0.000000   \n",
       "75%    9.100000e+04  NaN      25.012500       0.000000        1.000000   \n",
       "max    8.900060e+06  NaN     380.530000      39.000000        6.000000   \n",
       "\n",
       "       mths_since_last_delinq       ...         deferral_term  \\\n",
       "count           109046.000000       ...                 153.0   \n",
       "mean                34.801790       ...                   3.0   \n",
       "std                 22.126952       ...                   0.0   \n",
       "min                  0.000000       ...                   3.0   \n",
       "25%                 16.000000       ...                   3.0   \n",
       "50%                 32.000000       ...                   3.0   \n",
       "75%                 52.000000       ...                   3.0   \n",
       "max                176.000000       ...                   3.0   \n",
       "\n",
       "       hardship_amount  hardship_length  hardship_dpd  \\\n",
       "count       153.000000            153.0    153.000000   \n",
       "mean        126.561961              3.0     18.294118   \n",
       "std         105.504755              0.0      8.282736   \n",
       "min           2.690000              3.0      0.000000   \n",
       "25%          40.490000              3.0     13.000000   \n",
       "50%          94.200000              3.0     21.000000   \n",
       "75%         184.810000              3.0     25.000000   \n",
       "max         569.750000              3.0     29.000000   \n",
       "\n",
       "       orig_projected_additional_accrued_interest  \\\n",
       "count                                   16.000000   \n",
       "mean                                   316.113750   \n",
       "std                                    209.439967   \n",
       "min                                     57.420000   \n",
       "25%                                    154.522500   \n",
       "50%                                    250.770000   \n",
       "75%                                    453.667500   \n",
       "max                                    699.480000   \n",
       "\n",
       "       hardship_payoff_balance_amount  hardship_last_payment_amount  \\\n",
       "count                      153.000000                    153.000000   \n",
       "mean                      9849.725556                    179.584314   \n",
       "std                       6641.912773                    164.910743   \n",
       "min                        239.790000                      0.440000   \n",
       "25%                       4639.090000                     44.080000   \n",
       "50%                       8343.420000                    128.990000   \n",
       "75%                      13905.000000                    274.370000   \n",
       "max                      28078.200000                    798.390000   \n",
       "\n",
       "       settlement_amount  settlement_percentage  settlement_term  \n",
       "count        4583.000000            4583.000000      4583.000000  \n",
       "mean         5731.476498              49.000343        12.094043  \n",
       "std          3864.310434               7.458421         8.380446  \n",
       "min           198.000000              20.000000         0.000000  \n",
       "25%          2740.850000              45.000000         4.000000  \n",
       "50%          4897.000000              47.040000        12.000000  \n",
       "75%          7751.310000              50.010000        18.000000  \n",
       "max         30000.000000             166.670000        65.000000  \n",
       "\n",
       "[8 rows x 106 columns]"
      ]
     },
     "execution_count": 8,
     "metadata": {},
     "output_type": "execute_result"
    }
   ],
   "source": [
    "df.describe()"
   ]
  },
  {
   "cell_type": "code",
   "execution_count": 114,
   "metadata": {},
   "outputs": [
    {
     "data": {
      "text/plain": [
       "['loan_amnt',\n",
       " 'funded_amnt',\n",
       " 'funded_amnt_inv',\n",
       " 'installment',\n",
       " 'annual_inc',\n",
       " 'url',\n",
       " 'dti',\n",
       " 'delinq_2yrs',\n",
       " 'inq_last_6mths',\n",
       " 'mths_since_last_delinq',\n",
       " 'mths_since_last_record',\n",
       " 'open_acc',\n",
       " 'pub_rec',\n",
       " 'revol_bal',\n",
       " 'total_acc',\n",
       " 'out_prncp',\n",
       " 'out_prncp_inv',\n",
       " 'total_pymnt',\n",
       " 'total_pymnt_inv',\n",
       " 'total_rec_prncp',\n",
       " 'total_rec_int',\n",
       " 'total_rec_late_fee',\n",
       " 'recoveries',\n",
       " 'collection_recovery_fee',\n",
       " 'last_pymnt_amnt',\n",
       " 'collections_12_mths_ex_med',\n",
       " 'mths_since_last_major_derog',\n",
       " 'policy_code',\n",
       " 'annual_inc_joint',\n",
       " 'dti_joint',\n",
       " 'acc_now_delinq',\n",
       " 'tot_coll_amt',\n",
       " 'tot_cur_bal',\n",
       " 'open_acc_6m',\n",
       " 'open_act_il',\n",
       " 'open_il_12m',\n",
       " 'open_il_24m',\n",
       " 'mths_since_rcnt_il',\n",
       " 'total_bal_il',\n",
       " 'il_util',\n",
       " 'open_rv_12m',\n",
       " 'open_rv_24m',\n",
       " 'max_bal_bc',\n",
       " 'all_util',\n",
       " 'total_rev_hi_lim',\n",
       " 'inq_fi',\n",
       " 'total_cu_tl',\n",
       " 'inq_last_12m',\n",
       " 'acc_open_past_24mths',\n",
       " 'avg_cur_bal',\n",
       " 'bc_open_to_buy',\n",
       " 'bc_util',\n",
       " 'chargeoff_within_12_mths',\n",
       " 'delinq_amnt',\n",
       " 'mo_sin_old_il_acct',\n",
       " 'mo_sin_old_rev_tl_op',\n",
       " 'mo_sin_rcnt_rev_tl_op',\n",
       " 'mo_sin_rcnt_tl',\n",
       " 'mort_acc',\n",
       " 'mths_since_recent_bc',\n",
       " 'mths_since_recent_bc_dlq',\n",
       " 'mths_since_recent_inq',\n",
       " 'mths_since_recent_revol_delinq',\n",
       " 'num_accts_ever_120_pd',\n",
       " 'num_actv_bc_tl',\n",
       " 'num_actv_rev_tl',\n",
       " 'num_bc_sats',\n",
       " 'num_bc_tl',\n",
       " 'num_il_tl',\n",
       " 'num_op_rev_tl',\n",
       " 'num_rev_accts',\n",
       " 'num_rev_tl_bal_gt_0',\n",
       " 'num_sats',\n",
       " 'num_tl_120dpd_2m',\n",
       " 'num_tl_30dpd',\n",
       " 'num_tl_90g_dpd_24m',\n",
       " 'num_tl_op_past_12m',\n",
       " 'pct_tl_nvr_dlq',\n",
       " 'percent_bc_gt_75',\n",
       " 'pub_rec_bankruptcies',\n",
       " 'tax_liens',\n",
       " 'tot_hi_cred_lim',\n",
       " 'total_bal_ex_mort',\n",
       " 'total_bc_limit',\n",
       " 'total_il_high_credit_limit',\n",
       " 'revol_bal_joint',\n",
       " 'sec_app_earliest_cr_line',\n",
       " 'sec_app_inq_last_6mths',\n",
       " 'sec_app_mort_acc',\n",
       " 'sec_app_open_acc',\n",
       " 'sec_app_revol_util',\n",
       " 'sec_app_open_act_il',\n",
       " 'sec_app_num_rev_accts',\n",
       " 'sec_app_chargeoff_within_12_mths',\n",
       " 'sec_app_collections_12_mths_ex_med',\n",
       " 'sec_app_mths_since_last_major_derog',\n",
       " 'deferral_term',\n",
       " 'hardship_amount',\n",
       " 'hardship_length',\n",
       " 'hardship_dpd',\n",
       " 'orig_projected_additional_accrued_interest',\n",
       " 'hardship_payoff_balance_amount',\n",
       " 'hardship_last_payment_amount',\n",
       " 'settlement_amount',\n",
       " 'settlement_percentage',\n",
       " 'settlement_term']"
      ]
     },
     "execution_count": 114,
     "metadata": {},
     "output_type": "execute_result"
    }
   ],
   "source": [
    "numerics"
   ]
  },
  {
   "cell_type": "code",
   "execution_count": null,
   "metadata": {
    "collapsed": true
   },
   "outputs": [],
   "source": []
  },
  {
   "cell_type": "code",
   "execution_count": null,
   "metadata": {
    "collapsed": true
   },
   "outputs": [],
   "source": []
  },
  {
   "cell_type": "code",
   "execution_count": 4,
   "metadata": {},
   "outputs": [
    {
     "data": {
      "text/plain": [
       "Current               196354\n",
       "Fully Paid            155420\n",
       "Charged Off            55574\n",
       "Late (31-120 days)      7647\n",
       "In Grace Period         4692\n",
       "Late (16-30 days)       1387\n",
       "Default                   21\n",
       "Name: loan_status, dtype: int64"
      ]
     },
     "execution_count": 4,
     "metadata": {},
     "output_type": "execute_result"
    }
   ],
   "source": [
    "df.loan_status.value_counts()"
   ]
  },
  {
   "cell_type": "code",
   "execution_count": 4,
   "metadata": {
    "collapsed": true
   },
   "outputs": [],
   "source": [
    "# We will only work with loans that have been \"Fully Paid\", and those that \"Charged Off\". \n",
    "df = df[df.loan_status != \"Current\"]\n",
    "df = df[df.loan_status != \"Late (31-120 days)\"]\n",
    "df = df[df.loan_status != \"In Grace Period\"]\n",
    "df = df[df.loan_status != \"Late (16-30 days)\"]\n",
    "df = df[df.loan_status != \"Default\"]"
   ]
  },
  {
   "cell_type": "code",
   "execution_count": 6,
   "metadata": {},
   "outputs": [
    {
     "data": {
      "text/plain": [
       "(210994, 143)"
      ]
     },
     "execution_count": 6,
     "metadata": {},
     "output_type": "execute_result"
    }
   ],
   "source": [
    "df.shape\n",
    "# cuts the dataset responses in half."
   ]
  },
  {
   "cell_type": "code",
   "execution_count": 7,
   "metadata": {},
   "outputs": [
    {
     "data": {
      "text/plain": [
       "Fully Paid     73.660862\n",
       "Charged Off    26.339138\n",
       "Name: loan_status, dtype: float64"
      ]
     },
     "execution_count": 7,
     "metadata": {},
     "output_type": "execute_result"
    }
   ],
   "source": [
    "#\"loan_status\" will be the target variable. ~74% null accuracy is what we need to beat with our model\n",
    "df.loan_status.value_counts(normalize=True)*100"
   ]
  },
  {
   "cell_type": "code",
   "execution_count": 237,
   "metadata": {},
   "outputs": [
    {
     "data": {
      "text/plain": [
       "120811"
      ]
     },
     "execution_count": 237,
     "metadata": {},
     "output_type": "execute_result"
    }
   ],
   "source": [
    "df.emp_title.nunique()\n",
    "# we will attempt to use NLP for model improvements when possible. There's reason to believe that there's a \n",
    "# direct impact on the ability to pay back a loan based on a borrower's job title. "
   ]
  },
  {
   "cell_type": "code",
   "execution_count": 238,
   "metadata": {},
   "outputs": [
    {
     "data": {
      "text/plain": [
       "0                     Master mechanic\n",
       "1    Emergency Department technician \n",
       "2                          Supervisor\n",
       "3                             Teacher\n",
       "4                Program Coordinator \n",
       "Name: emp_title, dtype: object"
      ]
     },
     "execution_count": 238,
     "metadata": {},
     "output_type": "execute_result"
    }
   ],
   "source": [
    "df.emp_title.head()"
   ]
  },
  {
   "cell_type": "code",
   "execution_count": 5,
   "metadata": {
    "collapsed": true
   },
   "outputs": [],
   "source": [
    "import pandas as pd\n",
    "import numpy as np\n",
    "import matplotlib.pyplot as plt\n",
    "import seaborn as sns\n",
    "%matplotlib inline"
   ]
  },
  {
   "cell_type": "code",
   "execution_count": 135,
   "metadata": {
    "collapsed": true
   },
   "outputs": [],
   "source": [
    "df[\"int_rate\"] = df.int_rate.str.replace(\"%\", \"\")  \n",
    "df[\"int_rate\"] = df.int_rate.astype(float)"
   ]
  },
  {
   "cell_type": "code",
   "execution_count": 137,
   "metadata": {},
   "outputs": [
    {
     "name": "stdout",
     "output_type": "stream",
     "text": [
      "12.5997940133\n",
      "15240.2858619\n"
     ]
    }
   ],
   "source": [
    "print df.int_rate.mean()\n",
    "print df.loan_amnt.mean()"
   ]
  },
  {
   "cell_type": "code",
   "execution_count": null,
   "metadata": {
    "collapsed": true
   },
   "outputs": [],
   "source": []
  },
  {
   "cell_type": "code",
   "execution_count": null,
   "metadata": {
    "collapsed": true
   },
   "outputs": [],
   "source": []
  },
  {
   "cell_type": "code",
   "execution_count": 8,
   "metadata": {},
   "outputs": [
    {
     "data": {
      "image/png": "[encoded data removed]",
      "text/plain": [
       "<matplotlib.figure.Figure at 0x1a14a03c10>"
      ]
     },
     "metadata": {},
     "output_type": "display_data"
    }
   ],
   "source": [
    "df.groupby(\"purpose\")[\"chargeoff_within_12_mths\"].mean().sort_values(ascending= False).plot(kind=\"bar\", figsize=(8,4), \n",
    "                                           title = \"Charge Offs within 12 months by Loan Purpose\", color = \"c\")\n",
    "plt.show();\n",
    "#we can see which types of borrowers are most irresponsible. "
   ]
  },
  {
   "cell_type": "code",
   "execution_count": 219,
   "metadata": {},
   "outputs": [
    {
     "name": "stdout",
     "output_type": "stream",
     "text": [
      "['debt_consolidation' 'car' 'small_business' 'house' 'credit_card'\n",
      " 'home_improvement' 'major_purchase' 'vacation' 'other' 'moving' 'medical'\n",
      " 'renewable_energy' 'wedding' 'educational']\n"
     ]
    },
    {
     "data": {
      "image/png": "[encoded data removed]",
      "text/plain": [
       "<matplotlib.figure.Figure at 0x1a0e1f3310>"
      ]
     },
     "metadata": {},
     "output_type": "display_data"
    }
   ],
   "source": [
    "print df.purpose.unique()\n",
    "\n",
    "df.groupby(\"purpose\")[\"dti\"].mean().sort_values(ascending= False).plot(kind=\"bar\", figsize=(8,4), \n",
    "                                           title = \"Avg Debt-to-income ratio by Purpose\")\n",
    "plt.show();"
   ]
  },
  {
   "cell_type": "code",
   "execution_count": 220,
   "metadata": {},
   "outputs": [
    {
     "data": {
      "image/png": "[encoded data removed]",
      "text/plain": [
       "<matplotlib.figure.Figure at 0x1a102d9050>"
      ]
     },
     "metadata": {},
     "output_type": "display_data"
    }
   ],
   "source": [
    "#boxplot\n",
    "df.boxplot(column=\"int_rate\", by=\"purpose\", figsize=(20, 6))\n",
    "plt.show();"
   ]
  },
  {
   "cell_type": "code",
   "execution_count": 221,
   "metadata": {},
   "outputs": [
    {
     "data": {
      "image/png": "[encoded data removed]",
      "text/plain": [
       "<matplotlib.figure.Figure at 0x1a10668890>"
      ]
     },
     "metadata": {},
     "output_type": "display_data"
    }
   ],
   "source": [
    "#boxplot\n",
    "df.boxplot(column=\"int_rate\", by=\"grade\", figsize=(20, 8))\n",
    "plt.show();"
   ]
  },
  {
   "cell_type": "code",
   "execution_count": 7,
   "metadata": {},
   "outputs": [
    {
     "data": {
      "image/png": "[encoded data removed]",
      "text/plain": [
       "<matplotlib.figure.Figure at 0x1a14a706d0>"
      ]
     },
     "metadata": {},
     "output_type": "display_data"
    }
   ],
   "source": [
    "df.groupby(\"grade\")[\"chargeoff_within_12_mths\"].mean().sort_values(ascending= False).plot(kind=\"bar\", figsize=(8,4), \n",
    "                                           title = \"Charge Offs within 12 months by grade\", color = \"c\");"
   ]
  },
  {
   "cell_type": "code",
   "execution_count": 223,
   "metadata": {
    "scrolled": true
   },
   "outputs": [
    {
     "data": {
      "image/png": "[encoded data removed]",
      "text/plain": [
       "<matplotlib.figure.Figure at 0x1a10b1f1d0>"
      ]
     },
     "metadata": {},
     "output_type": "display_data"
    }
   ],
   "source": [
    "# scatter plot in Seaborn\n",
    "sns.pairplot(data = df, x_vars=['dti','loan_amnt','int_rate'], \n",
    "             y_vars='annual_inc', size=6, hue = 'chargeoff_within_12_mths', aspect=0.7);"
   ]
  },
  {
   "cell_type": "code",
   "execution_count": 195,
   "metadata": {},
   "outputs": [
    {
     "data": {
      "text/plain": [
       "0.0"
      ]
     },
     "execution_count": 195,
     "metadata": {},
     "output_type": "execute_result"
    }
   ],
   "source": [
    "lcdf.out_prncp.mean()\n",
    "#drop!"
   ]
  },
  {
   "cell_type": "code",
   "execution_count": 219,
   "metadata": {},
   "outputs": [
    {
     "data": {
      "text/plain": [
       "debt_consolidation    0.593738\n",
       "credit_card           0.242285\n",
       "home_improvement      0.060065\n",
       "other                 0.045605\n",
       "major_purchase        0.017690\n",
       "medical               0.009352\n",
       "car                   0.008231\n",
       "small_business        0.007989\n",
       "moving                0.005747\n",
       "vacation              0.005341\n",
       "house                 0.003415\n",
       "renewable_energy      0.000532\n",
       "wedding               0.000009\n",
       "educational           0.000002\n",
       "Name: purpose, dtype: float64"
      ]
     },
     "execution_count": 219,
     "metadata": {},
     "output_type": "execute_result"
    }
   ],
   "source": [
    "df.purpose.value_counts(normalize = True)"
   ]
  },
  {
   "cell_type": "code",
   "execution_count": null,
   "metadata": {
    "collapsed": true
   },
   "outputs": [],
   "source": []
  },
  {
   "cell_type": "code",
   "execution_count": null,
   "metadata": {
    "collapsed": true
   },
   "outputs": [],
   "source": []
  },
  {
   "cell_type": "markdown",
   "metadata": {
    "collapsed": true
   },
   "source": [
    "Null items is a big part of the entire dataset that Lending Club offers. I was hoping to use \"desc\" for further NLP machine learning techniques. A lot of this information is about Secondary applicants such as the spouse of the applicant. From my knowledge, there are many null values because it was introduced some time later than when the data collection began. \n",
    "\n",
    "\"Hardship_\", \"Settlement_\" is a huge predictor value, and is unknown at the time of the application process. The \"payment_plan_start_date\" column is a huge indicator based on my domain knowledge. \n",
    "\n",
    "\"emp_title\" will be used in an attempt via NLP!"
   ]
  },
  {
   "cell_type": "code",
   "execution_count": 203,
   "metadata": {},
   "outputs": [
    {
     "data": {
      "text/plain": [
       "sec_app_collections_12_mths_ex_med            421095\n",
       "sec_app_mort_acc                              421095\n",
       "sec_app_revol_util                            421095\n",
       "sec_app_open_act_il                           421095\n",
       "sec_app_num_rev_accts                         421095\n",
       "sec_app_chargeoff_within_12_mths              421095\n",
       "sec_app_inq_last_6mths                        421095\n",
       "sec_app_mths_since_last_major_derog           421095\n",
       "sec_app_open_acc                              421095\n",
       "revol_bal_joint                               421095\n",
       "sec_app_earliest_cr_line                      421095\n",
       "url                                           421095\n",
       "desc                                          421050\n",
       "dti_joint                                     420586\n",
       "verification_status_joint                     420584\n",
       "annual_inc_joint                              420584\n",
       "orig_projected_additional_accrued_interest    419547\n",
       "hardship_payoff_balance_amount                419305\n",
       "hardship_reason                               419305\n",
       "hardship_type                                 419305\n",
       "hardship_status                               419305\n",
       "deferral_term                                 419305\n",
       "hardship_amount                               419305\n",
       "hardship_start_date                           419305\n",
       "hardship_last_payment_amount                  419305\n",
       "payment_plan_start_date                       419305\n",
       "hardship_length                               419305\n",
       "hardship_dpd                                  419305\n",
       "hardship_loan_status                          419305\n",
       "hardship_end_date                             419305\n",
       "settlement_term                               416155\n",
       "settlement_percentage                         416155\n",
       "debt_settlement_flag_date                     416155\n",
       "settlement_status                             416155\n",
       "settlement_date                               416155\n",
       "settlement_amount                             416155\n",
       "il_util                                       402478\n",
       "mths_since_rcnt_il                            400285\n",
       "open_il_12m                                   399723\n",
       "open_il_24m                                   399723\n",
       "open_act_il                                   399723\n",
       "total_bal_il                                  399723\n",
       "open_acc_6m                                   399723\n",
       "open_rv_12m                                   399723\n",
       "open_rv_24m                                   399723\n",
       "max_bal_bc                                    399723\n",
       "all_util                                      399723\n",
       "inq_fi                                        399723\n",
       "total_cu_tl                                   399723\n",
       "inq_last_12m                                  399723\n",
       "mths_since_last_record                        346680\n",
       "mths_since_recent_bc_dlq                      312495\n",
       "mths_since_last_major_derog                   298366\n",
       "mths_since_recent_revol_delinq                269358\n",
       "next_pymnt_d                                  210994\n",
       "mths_since_last_delinq                        203962\n",
       "mths_since_recent_inq                          44599\n",
       "emp_title                                      23874\n",
       "num_tl_120dpd_2m                               19230\n",
       "mo_sin_old_il_acct                             12254\n",
       "dtype: int64"
      ]
     },
     "execution_count": 203,
     "metadata": {},
     "output_type": "execute_result"
    }
   ],
   "source": [
    "null_col = df.isnull().sum().sort_values(ascending = False)\n",
    "null_col.head(n = 60)\n",
    "# remove high null value features."
   ]
  },
  {
   "cell_type": "code",
   "execution_count": 12,
   "metadata": {},
   "outputs": [
    {
     "name": "stdout",
     "output_type": "stream",
     "text": [
      "NaN      399723\n",
      " 0.0      11411\n",
      " 1.0       5009\n",
      " 2.0       2530\n",
      " 3.0       1119\n",
      " 4.0        589\n",
      " 5.0        354\n",
      " 6.0        165\n",
      " 7.0         91\n",
      " 8.0         42\n",
      " 9.0         23\n",
      " 10.0        13\n",
      " 11.0        11\n",
      " 13.0         5\n",
      " 12.0         5\n",
      " 14.0         2\n",
      " 15.0         1\n",
      " 17.0         1\n",
      " 16.0         1\n",
      "Name: inq_fi, dtype: int64\n",
      "\n",
      "\n",
      "0.0\n",
      "0.943945349055\n"
     ]
    }
   ],
   "source": [
    "# number of personal finance inquiries\n",
    "# we do not have enough data on this, and would be a nice indicator to have\n",
    "# cannot impute mean or median since NaN is very high\n",
    "\n",
    "print df.inq_fi.value_counts(dropna = False)\n",
    "print \"\\n\"\n",
    "print df.inq_fi.median()\n",
    "print df.inq_fi.mean()"
   ]
  },
  {
   "cell_type": "code",
   "execution_count": 10,
   "metadata": {
    "collapsed": true
   },
   "outputs": [],
   "source": [
    "#created a csv to see full list of features with a lot of null values. \n",
    "#Dropped all features with high null values counts\n",
    "\n",
    "null_col.to_csv('null_col.csv')"
   ]
  },
  {
   "cell_type": "code",
   "execution_count": 45,
   "metadata": {},
   "outputs": [
    {
     "name": "stdout",
     "output_type": "stream",
     "text": [
      "['Nov-17' 'Jun-16' 'Jun-17' 'Dec-16' 'Jan-17' 'Feb-17' 'Sep-17' 'Mar-17'\n",
      " 'Oct-17' 'Aug-17' 'Jul-16' 'May-17' 'Mar-16' 'Apr-17' 'Oct-16' 'Jul-17'\n",
      " 'Aug-16' 'Apr-16' 'Nov-16' 'Feb-16' 'Sep-16' 'Jan-16' 'May-16' 'Dec-15'\n",
      " nan 'Nov-15' 'Oct-15' 'Sep-15' 'Aug-15' 'Jul-15' 'Jun-15' 'May-15'\n",
      " 'Apr-15' 'Mar-15' 'Feb-15' 'Jan-15' 'Dec-14']\n"
     ]
    }
   ],
   "source": [
    "print df.last_credit_pull_d.unique()\n",
    "# field requires timeseries analysis, and we will exclude for now."
   ]
  },
  {
   "cell_type": "code",
   "execution_count": null,
   "metadata": {
    "collapsed": true
   },
   "outputs": [],
   "source": []
  },
  {
   "cell_type": "code",
   "execution_count": null,
   "metadata": {
    "collapsed": true
   },
   "outputs": [],
   "source": []
  },
  {
   "cell_type": "code",
   "execution_count": 110,
   "metadata": {
    "collapsed": true
   },
   "outputs": [],
   "source": [
    "non_numerics = [x for x in df.columns \\\n",
    "                if not (df[x].dtype == np.float64 \\\n",
    "                        or df[x].dtype == np.int64)]\n",
    "numerics = [x for x in df.columns if x not in non_numerics]"
   ]
  },
  {
   "cell_type": "code",
   "execution_count": 13,
   "metadata": {},
   "outputs": [
    {
     "data": {
      "text/plain": [
       "['term',\n",
       " 'int_rate',\n",
       " 'grade',\n",
       " 'sub_grade',\n",
       " 'emp_title',\n",
       " 'emp_length',\n",
       " 'home_ownership',\n",
       " 'verification_status',\n",
       " 'issue_d',\n",
       " 'loan_status',\n",
       " 'pymnt_plan',\n",
       " 'desc',\n",
       " 'purpose',\n",
       " 'title',\n",
       " 'zip_code',\n",
       " 'addr_state',\n",
       " 'earliest_cr_line',\n",
       " 'revol_util',\n",
       " 'initial_list_status',\n",
       " 'last_pymnt_d',\n",
       " 'next_pymnt_d',\n",
       " 'last_credit_pull_d',\n",
       " 'application_type',\n",
       " 'verification_status_joint',\n",
       " 'hardship_flag',\n",
       " 'hardship_type',\n",
       " 'hardship_reason',\n",
       " 'hardship_status',\n",
       " 'hardship_start_date',\n",
       " 'hardship_end_date',\n",
       " 'payment_plan_start_date',\n",
       " 'hardship_loan_status',\n",
       " 'disbursement_method',\n",
       " 'debt_settlement_flag',\n",
       " 'debt_settlement_flag_date',\n",
       " 'settlement_status',\n",
       " 'settlement_date']"
      ]
     },
     "execution_count": 13,
     "metadata": {},
     "output_type": "execute_result"
    }
   ],
   "source": [
    "non_numerics\n",
    "# which one of these categorical fields do we need to turn into dummy variables?\n",
    "# we see that there are some fields where active loans have recorded activity. What if we want \n",
    "# our lens to be focused on new loan application data instead? We will drop any categories that\n",
    "# relate to monthly records or status for active loans."
   ]
  },
  {
   "cell_type": "markdown",
   "metadata": {},
   "source": [
    "# Good Feat"
   ]
  },
  {
   "cell_type": "code",
   "execution_count": 2,
   "metadata": {
    "collapsed": true
   },
   "outputs": [],
   "source": [
    "#pass in new subset of features\n",
    "\n",
    "good_feat = [\"num_tl_120dpd_2m\",\n",
    "\"mo_sin_old_il_acct\",\n",
    "\"percent_bc_gt_75\",\n",
    "\"bc_util\",\n",
    "\"bc_open_to_buy\",\n",
    "\"dti\",\n",
    "\"num_rev_accts\",\n",
    "\"delinq_2yrs\",\n",
    "\"inq_last_6mths\",\n",
    "\"revol_bal\",\n",
    "\"open_acc\",\n",
    "\"pub_rec\",\n",
    "\"total_acc\",\n",
    "\"num_bc_tl\",\n",
    "\"funded_amnt\",\n",
    "\"int_rate\",\n",
    "\"installment\",\n",
    "\"home_ownership\",\n",
    "\"annual_inc\",\n",
    "\"total_rec_int\",\n",
    "\"chargeoff_within_12_mths\",\n",
    "\"num_sats\",\n",
    "\"num_rev_tl_bal_gt_0\",\n",
    "\"total_rev_hi_lim\",\n",
    "\"num_op_rev_tl\",\n",
    "\"num_il_tl\",\n",
    "\"acc_open_past_24mths\",\n",
    "\"avg_cur_bal\",\n",
    "\"delinq_amnt\",\n",
    "\"num_tl_90g_dpd_24m\",\n",
    "\"mo_sin_old_rev_tl_op\",\n",
    "\"mo_sin_rcnt_rev_tl_op\",\n",
    "\"mo_sin_rcnt_tl\",\n",
    "\"mort_acc\",\n",
    "\"num_accts_ever_120_pd\",\n",
    "\"num_actv_bc_tl\",\n",
    "\"num_actv_rev_tl\",\n",
    "\"num_tl_30dpd\",\n",
    "\"num_tl_op_past_12m\",\n",
    "\"total_il_high_credit_limit\",\n",
    "\"num_bc_sats\",\n",
    "\"collections_12_mths_ex_med\",\n",
    "\"policy_code\",\n",
    "\"total_bc_limit\",\n",
    "\"pct_tl_nvr_dlq\",\n",
    "\"total_bal_ex_mort\",\n",
    "\"acc_now_delinq\",\n",
    "\"tot_coll_amt\",\n",
    "\"tot_cur_bal\",\n",
    "\"tot_hi_cred_lim\",\n",
    "\"tax_liens\",\n",
    "\"pub_rec_bankruptcies\",\n",
    "\"loan_amnt\",\n",
    "\"total_pymnt\",            \n",
    "\"revol_util\",\n",
    "\"term\",\n",
    "\"purpose\",\n",
    "\"emp_length\",\n",
    "'loan_status',\n",
    "'application_type',\n",
    "'grade',\n",
    "\"emp_title\"]\n",
    "\n",
    "\n",
    "\n",
    "#manually removed:\n",
    "#\"recoveries\", , \"hardship_flag\", \"title\", \"total_rec_late_fee\",\n",
    "#\"funded_amnt_inv\", \"issue_d\", \"verification_status\", \"grade\", \"sub_grade\", \"initial_list_status\",\n",
    "#\"pymnt_plan\", \"debt_settlement_flag\", \"addr_state\", \"earliest_cr_line\",\n",
    "#\"mths_since_recent_bc\", \"total_rec_prncp\", \"total_pymnt_inv\", \"out_prncp_inv\",\n",
    "#'last_pymnt_amnt','collection_recovery_fee','total_pymnt', \"out_prncp\", \"last_credit_pull_d\"\n",
    "\n",
    "#drop:\n",
    "#'sub_grade', 'verification_status', 'issue_d', 'pymnt_plan',  'title','zip_code','addr_state',\n",
    "# 'earliest_cr_line',  'initial_list_status',  'last_pymnt_d', 'next_pymnt_d', 'desc',\n",
    "#'verification_status_joint', 'hardship_flag','hardship_type','hardship_reason','hardship_status','\n",
    "#hardship_start_date','hardship_end_date','payment_plan_start_date','hardship_loan_status',\n",
    "#'disbursement_method','debt_settlement_flag','debt_settlement_flag_date','settlement_status','settlement_date'\n",
    "\n",
    "#categorical(included in [good_feat]): will transform to dummies in df_fe function.\n",
    "#\"last_pymnt_d\",\n",
    "#'term','emp_length','home_ownership',\n",
    "#'purpose', 'application_type'\n",
    "\n",
    "# save for NLP if possible: \n",
    "# \"emp_title\""
   ]
  },
  {
   "cell_type": "code",
   "execution_count": 11,
   "metadata": {},
   "outputs": [
    {
     "data": {
      "text/plain": [
       " 36 months    283173\n",
       " 60 months    137922\n",
       "Name: term, dtype: int64"
      ]
     },
     "execution_count": 11,
     "metadata": {},
     "output_type": "execute_result"
    }
   ],
   "source": [
    "df = pd.read_csv(\"/Users/Darrenklee/Desktop/DS-Project/LoanStats3d.csv\")\n",
    "df.term.value_counts()"
   ]
  },
  {
   "cell_type": "code",
   "execution_count": 3,
   "metadata": {},
   "outputs": [
    {
     "name": "stderr",
     "output_type": "stream",
     "text": [
      "/Users/darrenklee/anaconda2/lib/python2.7/site-packages/IPython/core/interactiveshell.py:2718: DtypeWarning: Columns (17,53) have mixed types. Specify dtype option on import or set low_memory=False.\n",
      "  interactivity=interactivity, compiler=compiler, result=result)\n"
     ]
    }
   ],
   "source": [
    "#Create a function that will take unclean data, and apply feature engineering techniques\n",
    "\n",
    "df = pd.read_csv(\"/Users/Darrenklee/Desktop/DS-Project/LoanStats3d.csv\")\n",
    "#good_feat eliminates all null columns\n",
    "df = df[good_feat]\n",
    "#we only want to focus on \"Fully Paid\" and \"Charged Off\" loans as target\n",
    "df = df[df.loan_status != \"Current\"]\n",
    "df = df[df.loan_status != \"Late (31-120 days)\"]\n",
    "df = df[df.loan_status != \"In Grace Period\"]\n",
    "df = df[df.loan_status != \"Late (16-30 days)\"]\n",
    "df = df[df.loan_status != \"Default\"]\n",
    "df = df[df.application_type != \"Joint App\"]\n",
    "#0 for Fully Paid loans, and 1 for Charged Off loans\n",
    "target_dict = {\"Fully Paid\":0, \"Charged Off\":1}\n",
    "df[\"loan_status\"] = df.loan_status.map(target_dict)\n",
    "\n",
    "def length_decider(x):\n",
    "    if x == \"36 months\":\n",
    "        return 36\n",
    "    else:\n",
    "        return 60\n",
    "    \n",
    "def df_fe(df):\n",
    "    df.dropna(inplace= True)\n",
    "    df.drop(\"application_type\", axis=1, inplace =True)\n",
    "    #df.term = df.term.apply(length_decider)\n",
    "    #df[\"term\"] = df.term.astype(int)\n",
    "    df[\"term\"] = df.term.str.replace(\" months\", \"\")  \n",
    "    df[\"term\"] = df.term.astype(float)\n",
    "    df[\"int_rate\"] = df.int_rate.str.replace(\"%\", \"\")  \n",
    "    df[\"int_rate\"] = df.int_rate.astype(float)\n",
    "    df[\"revol_util\"] = df.revol_util.str.replace(\"%\", \"\")  \n",
    "    df[\"revol_util\"] = df.revol_util.astype(float)\n",
    "    #create dummy variables for categorical data\n",
    "    df_purpose_dums = pd.get_dummies(df.purpose, prefix = \"purpose\", drop_first=True)\n",
    "    df = pd.concat([df, df_purpose_dums], axis = 1)\n",
    "    df.drop(\"purpose\", axis = 1, inplace=True)\n",
    "    #df_term_dums = pd.get_dummies(df.term, prefix = \"term\", drop_first = True)\n",
    "    #df = pd.concat([df, df_term_dums], axis = 1)\n",
    "    #df.drop(\"term\", axis = 1, inplace=True)\n",
    "    df_emp_length_dums = pd.get_dummies(df.emp_length, prefix = \"emp_length\", drop_first = True)\n",
    "    df = pd.concat([df, df_emp_length_dums], axis = 1)\n",
    "    df.drop(\"emp_length\", axis = 1, inplace=True)\n",
    "    df_ownership_dums = pd.get_dummies(df.home_ownership, prefix = \"ownership\", drop_first = True)\n",
    "    df = pd.concat([df, df_ownership_dums], axis = 1)\n",
    "    df.drop(\"home_ownership\", axis = 1, inplace=True)\n",
    "    df.columns = df.columns.str.lower()\n",
    "    #df.columns = df.columns.str.replace(\" \", \"_\")\n",
    "    #df.columns = df.columns.str.replace(\"-\", \"_\")\n",
    "    #df.columns = df.columns.str.replace(\"__\", \"_\")\n",
    "    #fico has high and low range columns, take average!\n",
    "    #df[\"fico_average\"] = df[[\"fico_high_range\", \"fico_low_range\"]].mean(axis=1)\n",
    "    return df"
   ]
  },
  {
   "cell_type": "code",
   "execution_count": 68,
   "metadata": {
    "collapsed": true
   },
   "outputs": [],
   "source": [
    "lcdf = df_fe(df)"
   ]
  },
  {
   "cell_type": "code",
   "execution_count": 69,
   "metadata": {
    "collapsed": true
   },
   "outputs": [],
   "source": [
    "grade_classes = lcdf.grade\n",
    "emp_title_col = lcdf.emp_title\n",
    "lcdf.drop([\"grade\", \"emp_title\"], axis = 1, inplace= True)"
   ]
  },
  {
   "cell_type": "code",
   "execution_count": 70,
   "metadata": {},
   "outputs": [
    {
     "data": {
      "text/plain": [
       "(183660, 82)"
      ]
     },
     "execution_count": 70,
     "metadata": {},
     "output_type": "execute_result"
    }
   ],
   "source": [
    "lcdf.shape"
   ]
  },
  {
   "cell_type": "code",
   "execution_count": 61,
   "metadata": {},
   "outputs": [
    {
     "data": {
      "text/plain": [
       "36.0    128261\n",
       "60.0     55399\n",
       "Name: term, dtype: int64"
      ]
     },
     "execution_count": 61,
     "metadata": {},
     "output_type": "execute_result"
    }
   ],
   "source": [
    "lcdf.term.value_counts()"
   ]
  },
  {
   "cell_type": "code",
   "execution_count": 16,
   "metadata": {},
   "outputs": [
    {
     "data": {
      "text/plain": [
       "loan_status             1.000000\n",
       "int_rate                0.301775\n",
       "term                    0.178857\n",
       "dti                     0.153218\n",
       "acc_open_past_24mths    0.105331\n",
       "percent_bc_gt_75        0.102005\n",
       "bc_util                 0.097616\n",
       "num_actv_rev_tl         0.093800\n",
       "num_rev_tl_bal_gt_0     0.093783\n",
       "ownership_rent          0.093416\n",
       "num_tl_op_past_12m      0.089373\n",
       "revol_util              0.089028\n",
       "total_rec_int           0.087828\n",
       "inq_last_6mths          0.084871\n",
       "num_actv_bc_tl          0.058658\n",
       "Name: loan_status, dtype: float64"
      ]
     },
     "execution_count": 16,
     "metadata": {},
     "output_type": "execute_result"
    }
   ],
   "source": [
    "lcdf.corr()[\"loan_status\"].sort_values(ascending = False)[:15]\n",
    "# which columns are higly correlated to our new binary loan_status?"
   ]
  },
  {
   "cell_type": "code",
   "execution_count": null,
   "metadata": {
    "collapsed": true
   },
   "outputs": [],
   "source": []
  },
  {
   "cell_type": "markdown",
   "metadata": {},
   "source": [
    "# Lifetime Value "
   ]
  },
  {
   "cell_type": "code",
   "execution_count": 170,
   "metadata": {},
   "outputs": [
    {
     "name": "stdout",
     "output_type": "stream",
     "text": [
      "loan_status\n",
      "0    12.084994\n",
      "1    15.185782\n",
      "Name: int_rate, dtype: float64\n",
      "\n",
      "\n",
      "loan_status\n",
      "0    15004.707912\n",
      "1    16024.226974\n",
      "Name: loan_amnt, dtype: float64\n",
      "\n",
      "\n",
      "loan_status\n",
      "0    16961.666434\n",
      "1     7038.177236\n",
      "Name: total_pymnt, dtype: float64\n"
     ]
    }
   ],
   "source": [
    "# average int rate per user\n",
    "print lcdf.groupby(\"loan_status\").int_rate.mean()\n",
    "print \"\\n\"\n",
    "\n",
    "# average loan amount applied for\n",
    "print lcdf.groupby(\"loan_status\").loan_amnt.mean()\n",
    "print \"\\n\"\n",
    "\n",
    "#Payments received to date for total amount funded\n",
    "print lcdf.groupby(\"loan_status\").total_pymnt.mean()"
   ]
  },
  {
   "cell_type": "code",
   "execution_count": 153,
   "metadata": {},
   "outputs": [
    {
     "data": {
      "text/plain": [
       "0    136637\n",
       "1     47023\n",
       "Name: loan_status, dtype: int64"
      ]
     },
     "execution_count": 153,
     "metadata": {},
     "output_type": "execute_result"
    }
   ],
   "source": [
    "lcdf.loan_status.value_counts()"
   ]
  },
  {
   "cell_type": "code",
   "execution_count": 62,
   "metadata": {},
   "outputs": [
    {
     "data": {
      "text/plain": [
       "loan_status  term\n",
       "0            36.0    102002\n",
       "             60.0     34635\n",
       "1            36.0     26259\n",
       "             60.0     20764\n",
       "Name: term, dtype: int64"
      ]
     },
     "execution_count": 62,
     "metadata": {},
     "output_type": "execute_result"
    }
   ],
   "source": [
    "df.groupby(\"loan_status\").term.value_counts()\n",
    "\n",
    "# average of 48 months of amortized interest.."
   ]
  },
  {
   "cell_type": "code",
   "execution_count": 202,
   "metadata": {},
   "outputs": [
    {
     "name": "stdout",
     "output_type": "stream",
     "text": [
      "3672072\n",
      "2078100\n",
      "\n",
      "Average monthly term for Good Loans\n",
      "42\n"
     ]
    }
   ],
   "source": [
    "print 36 * 102002\n",
    "print 60 * 34635\n",
    "\n",
    "print \"\\nAverage monthly term for Good Loans\"\n",
    "print (3672072 + 2078100)/(102002 + 34635)"
   ]
  },
  {
   "cell_type": "code",
   "execution_count": 172,
   "metadata": {
    "collapsed": true
   },
   "outputs": [],
   "source": [
    "# Please see Excel sheet in the presentation for the Average Amortized figures! \n",
    "# Total Loan Loss of ~$14,000 per default\n",
    "# Total Profit Loss ~$3,900 per opportunity cost (loans that never made it to the platform)"
   ]
  },
  {
   "cell_type": "code",
   "execution_count": 17,
   "metadata": {
    "collapsed": true
   },
   "outputs": [],
   "source": [
    "# From Machine Learning Hackathon class project. \n",
    "# Altered to use Amortization formula instead for the two classes: FN * FP\n",
    "# Test it here: ((36 * 16000 * .0125) / (1 - (1 + 0.0125)**(-36))) - 16000\n",
    "# 3967 just like the online calc: http://www.amortization-calc.com/\n",
    "\n",
    "def total_loss_function(data):\n",
    "    # Bad Loan, predicted as Good Loan. (FN) \n",
    "    if data.loan_status == 1 and data.predicted == 0:\n",
    "        return ((data.term * data.loan_amnt * (data.int_rate/12/100)) / (1 - (1 + (data.int_rate/12/100))**(-data.term))) - data.loan_amnt\n",
    "    # Good Loan, predicted as Bad Loan (FP)\n",
    "    elif data.loan_status == 0 and data.predicted == 1:\n",
    "        return ((data.term * data.loan_amnt * (data.int_rate/12/100)) / (1 - (1 + (data.int_rate/12/100))**(-data.term))) - data.loan_amnt\n",
    "    else:\n",
    "        return 0"
   ]
  },
  {
   "cell_type": "code",
   "execution_count": 18,
   "metadata": {
    "collapsed": true
   },
   "outputs": [],
   "source": [
    "def threshold(probs, thres = 0.5):\n",
    "    output = np.where(probs >= thres, 1, 0)\n",
    "    return output"
   ]
  },
  {
   "cell_type": "code",
   "execution_count": null,
   "metadata": {
    "collapsed": true
   },
   "outputs": [],
   "source": [
    "#Pass in probabilities into threshold function, using .7 as threshold\n",
    "preds = threshold(probs, thres=.5)\n",
    "preds"
   ]
  },
  {
   "cell_type": "code",
   "execution_count": null,
   "metadata": {
    "collapsed": true
   },
   "outputs": [],
   "source": [
    "X[[\"loan_amnt\", \"int_rate\", \"loan_staus\"]]\n",
    "\n",
    "#Put dictionary in data frame\n",
    "\n",
    "total_loss_df = pd.DataFrame(sample_df)\n",
    "\n",
    "total_loss_df = X[[\"loan_amnt\", \"int_rate\", \"loan_staus\"]]"
   ]
  },
  {
   "cell_type": "code",
   "execution_count": null,
   "metadata": {
    "collapsed": true
   },
   "outputs": [],
   "source": [
    "#Add in predictions\n",
    "\n",
    "total_loss_df[\"predicted\"] = preds\n",
    "total_loss_df"
   ]
  },
  {
   "cell_type": "code",
   "execution_count": null,
   "metadata": {
    "collapsed": true
   },
   "outputs": [],
   "source": [
    "#Apply total loss function onto data frame\n",
    "total_loss_series = total_loss_df.apply(total_loss_function, axis = 1)\n",
    "total_loss_series"
   ]
  },
  {
   "cell_type": "code",
   "execution_count": null,
   "metadata": {
    "collapsed": true
   },
   "outputs": [],
   "source": [
    "total_loss_series.sum()"
   ]
  },
  {
   "cell_type": "code",
   "execution_count": null,
   "metadata": {
    "collapsed": true
   },
   "outputs": [],
   "source": [
    "# What's the lowest total loss?"
   ]
  },
  {
   "cell_type": "code",
   "execution_count": null,
   "metadata": {
    "collapsed": true
   },
   "outputs": [],
   "source": []
  },
  {
   "cell_type": "code",
   "execution_count": null,
   "metadata": {
    "collapsed": true
   },
   "outputs": [],
   "source": []
  },
  {
   "cell_type": "code",
   "execution_count": null,
   "metadata": {
    "collapsed": true
   },
   "outputs": [],
   "source": [
    "plt.plot(depths, train_errors, c= \"r\", label = \"Training Errors\")\n",
    "plt.plot(thres, total_loss_series, c = \"b\", label = \"Total Errors\")\n",
    "plt.legend(loc = \"right\")\n",
    "plt.show();"
   ]
  },
  {
   "cell_type": "markdown",
   "metadata": {},
   "source": [
    "# Domain Knowledge"
   ]
  },
  {
   "cell_type": "code",
   "execution_count": null,
   "metadata": {
    "collapsed": true
   },
   "outputs": [],
   "source": [
    "# Try best Model with total_loss_function !!!\n",
    "# Going with Random Forest Classifier"
   ]
  },
  {
   "cell_type": "code",
   "execution_count": 863,
   "metadata": {
    "collapsed": true
   },
   "outputs": [],
   "source": [
    "X = lcdf.drop('loan_status', axis= 1)\n",
    "y = lcdf.loan_status"
   ]
  },
  {
   "cell_type": "code",
   "execution_count": 864,
   "metadata": {
    "collapsed": true
   },
   "outputs": [],
   "source": [
    "X_train, X_test, y_train, y_test = train_test_split(X, y, test_size = .33, random_state = 123)"
   ]
  },
  {
   "cell_type": "code",
   "execution_count": 865,
   "metadata": {},
   "outputs": [
    {
     "name": "stdout",
     "output_type": "stream",
     "text": [
      "(123052, 81)\n",
      "(60608, 81)\n"
     ]
    }
   ],
   "source": [
    "print X_train.shape\n",
    "print X_test.shape"
   ]
  },
  {
   "cell_type": "code",
   "execution_count": 866,
   "metadata": {},
   "outputs": [
    {
     "data": {
      "text/plain": [
       "RandomForestClassifier(bootstrap=True, class_weight=None, criterion='entropy',\n",
       "            max_depth=6, max_features=20, max_leaf_nodes=None,\n",
       "            min_impurity_decrease=0.0, min_impurity_split=None,\n",
       "            min_samples_leaf=1, min_samples_split=5,\n",
       "            min_weight_fraction_leaf=0.0, n_estimators=27, n_jobs=-1,\n",
       "            oob_score=False, random_state=None, verbose=0,\n",
       "            warm_start=False)"
      ]
     },
     "execution_count": 866,
     "metadata": {},
     "output_type": "execute_result"
    }
   ],
   "source": [
    "rf = RandomForestClassifier(n_estimators= 27, criterion= 'entropy', max_depth= 6, \n",
    "                            n_jobs = -1, min_samples_split = 5, max_features = 20)\n",
    "rf.fit(X_train, y_train)"
   ]
  },
  {
   "cell_type": "code",
   "execution_count": 867,
   "metadata": {},
   "outputs": [
    {
     "name": "stdout",
     "output_type": "stream",
     "text": [
      "0.9381724799271852\n"
     ]
    }
   ],
   "source": [
    "print rf.score(X_train, y_train) "
   ]
  },
  {
   "cell_type": "code",
   "execution_count": 868,
   "metadata": {
    "collapsed": true
   },
   "outputs": [],
   "source": [
    "p = rf.predict(X_test)"
   ]
  },
  {
   "cell_type": "code",
   "execution_count": 869,
   "metadata": {},
   "outputs": [
    {
     "data": {
      "text/html": [
       "<div>\n",
       "<style>\n",
       "    .dataframe thead tr:only-child th {\n",
       "        text-align: right;\n",
       "    }\n",
       "\n",
       "    .dataframe thead th {\n",
       "        text-align: left;\n",
       "    }\n",
       "\n",
       "    .dataframe tbody tr th {\n",
       "        vertical-align: top;\n",
       "    }\n",
       "</style>\n",
       "<table border=\"1\" class=\"dataframe\">\n",
       "  <thead>\n",
       "    <tr style=\"text-align: right;\">\n",
       "      <th></th>\n",
       "      <th>0</th>\n",
       "      <th>1</th>\n",
       "    </tr>\n",
       "  </thead>\n",
       "  <tbody>\n",
       "    <tr>\n",
       "      <th>0</th>\n",
       "      <td>45009</td>\n",
       "      <td>1</td>\n",
       "    </tr>\n",
       "    <tr>\n",
       "      <th>1</th>\n",
       "      <td>3849</td>\n",
       "      <td>11749</td>\n",
       "    </tr>\n",
       "  </tbody>\n",
       "</table>\n",
       "</div>"
      ],
      "text/plain": [
       "       0      1\n",
       "0  45009      1\n",
       "1   3849  11749"
      ]
     },
     "execution_count": 869,
     "metadata": {},
     "output_type": "execute_result"
    }
   ],
   "source": [
    "cm = confusion_matrix(y_test, p)\n",
    "cm = pd.DataFrame(cm)\n",
    "cm"
   ]
  },
  {
   "cell_type": "code",
   "execution_count": 870,
   "metadata": {},
   "outputs": [
    {
     "data": {
      "text/plain": [
       "0.9498963217372957"
      ]
     },
     "execution_count": 870,
     "metadata": {},
     "output_type": "execute_result"
    }
   ],
   "source": [
    "cross_val_score(rf, X, y, cv= 5, scoring= \"accuracy\").mean()"
   ]
  },
  {
   "cell_type": "code",
   "execution_count": 144,
   "metadata": {
    "collapsed": true
   },
   "outputs": [],
   "source": [
    "def threshold(probs, thres = 0.5):\n",
    "    output = np.where(probs >= thres, 1, 0)\n",
    "    return output"
   ]
  },
  {
   "cell_type": "code",
   "execution_count": 872,
   "metadata": {},
   "outputs": [
    {
     "data": {
      "text/plain": [
       "array([[0.14750107, 0.85249893],\n",
       "       [0.87315423, 0.12684577],\n",
       "       [0.92706457, 0.07293543],\n",
       "       ...,\n",
       "       [0.09125802, 0.90874198],\n",
       "       [0.6740125 , 0.3259875 ],\n",
       "       [0.87276281, 0.12723719]])"
      ]
     },
     "execution_count": 872,
     "metadata": {},
     "output_type": "execute_result"
    }
   ],
   "source": [
    "probs = rf.predict_proba(X_test)\n",
    "probs"
   ]
  },
  {
   "cell_type": "code",
   "execution_count": 874,
   "metadata": {
    "collapsed": true
   },
   "outputs": [],
   "source": [
    "df = X_test[[\"loan_amnt\", \"int_rate\", \"term\"]]\n",
    "df = pd.concat([df, y_test], axis = 1)"
   ]
  },
  {
   "cell_type": "code",
   "execution_count": 875,
   "metadata": {},
   "outputs": [
    {
     "data": {
      "text/html": [
       "<div>\n",
       "<style>\n",
       "    .dataframe thead tr:only-child th {\n",
       "        text-align: right;\n",
       "    }\n",
       "\n",
       "    .dataframe thead th {\n",
       "        text-align: left;\n",
       "    }\n",
       "\n",
       "    .dataframe tbody tr th {\n",
       "        vertical-align: top;\n",
       "    }\n",
       "</style>\n",
       "<table border=\"1\" class=\"dataframe\">\n",
       "  <thead>\n",
       "    <tr style=\"text-align: right;\">\n",
       "      <th></th>\n",
       "      <th>predicted</th>\n",
       "    </tr>\n",
       "  </thead>\n",
       "  <tbody>\n",
       "    <tr>\n",
       "      <th>161305</th>\n",
       "      <td>1</td>\n",
       "    </tr>\n",
       "    <tr>\n",
       "      <th>268128</th>\n",
       "      <td>0</td>\n",
       "    </tr>\n",
       "    <tr>\n",
       "      <th>354385</th>\n",
       "      <td>0</td>\n",
       "    </tr>\n",
       "    <tr>\n",
       "      <th>91472</th>\n",
       "      <td>0</td>\n",
       "    </tr>\n",
       "    <tr>\n",
       "      <th>245200</th>\n",
       "      <td>0</td>\n",
       "    </tr>\n",
       "  </tbody>\n",
       "</table>\n",
       "</div>"
      ],
      "text/plain": [
       "        predicted\n",
       "161305          1\n",
       "268128          0\n",
       "354385          0\n",
       "91472           0\n",
       "245200          0"
      ]
     },
     "execution_count": 875,
     "metadata": {},
     "output_type": "execute_result"
    }
   ],
   "source": [
    "preds = threshold(probs, thres= 0.5)\n",
    "preds = pd.DataFrame(preds, index = df.index, columns= (0, \"predicted\"))\n",
    "preds.drop(0,axis= 1, inplace= True)\n",
    "preds.head()"
   ]
  },
  {
   "cell_type": "code",
   "execution_count": 876,
   "metadata": {},
   "outputs": [
    {
     "data": {
      "text/plain": [
       "(60608, 1)"
      ]
     },
     "execution_count": 876,
     "metadata": {},
     "output_type": "execute_result"
    }
   ],
   "source": [
    "preds.shape"
   ]
  },
  {
   "cell_type": "code",
   "execution_count": 877,
   "metadata": {},
   "outputs": [
    {
     "data": {
      "text/plain": [
       "(60608, 4)"
      ]
     },
     "execution_count": 877,
     "metadata": {},
     "output_type": "execute_result"
    }
   ],
   "source": [
    "df.shape"
   ]
  },
  {
   "cell_type": "code",
   "execution_count": 878,
   "metadata": {},
   "outputs": [
    {
     "data": {
      "text/plain": [
       "Int64Index([161305, 268128, 354385,  91472, 245200, 391808,  91372, 219879,\n",
       "            177778, 376915,\n",
       "            ...\n",
       "            203956, 403925, 321921, 173913, 200613, 416683,   8404, 402348,\n",
       "             69610, 130168],\n",
       "           dtype='int64', length=60608)"
      ]
     },
     "execution_count": 878,
     "metadata": {},
     "output_type": "execute_result"
    }
   ],
   "source": [
    "df.index"
   ]
  },
  {
   "cell_type": "code",
   "execution_count": 879,
   "metadata": {
    "collapsed": true
   },
   "outputs": [],
   "source": [
    "df = pd.concat([df, preds], axis = 1)"
   ]
  },
  {
   "cell_type": "code",
   "execution_count": 880,
   "metadata": {},
   "outputs": [
    {
     "data": {
      "text/plain": [
       "(60608, 5)"
      ]
     },
     "execution_count": 880,
     "metadata": {},
     "output_type": "execute_result"
    }
   ],
   "source": [
    "df.shape"
   ]
  },
  {
   "cell_type": "code",
   "execution_count": 881,
   "metadata": {},
   "outputs": [
    {
     "data": {
      "text/html": [
       "<div>\n",
       "<style>\n",
       "    .dataframe thead tr:only-child th {\n",
       "        text-align: right;\n",
       "    }\n",
       "\n",
       "    .dataframe thead th {\n",
       "        text-align: left;\n",
       "    }\n",
       "\n",
       "    .dataframe tbody tr th {\n",
       "        vertical-align: top;\n",
       "    }\n",
       "</style>\n",
       "<table border=\"1\" class=\"dataframe\">\n",
       "  <thead>\n",
       "    <tr style=\"text-align: right;\">\n",
       "      <th></th>\n",
       "      <th>loan_amnt</th>\n",
       "      <th>int_rate</th>\n",
       "      <th>term</th>\n",
       "      <th>loan_status</th>\n",
       "      <th>predicted</th>\n",
       "    </tr>\n",
       "  </thead>\n",
       "  <tbody>\n",
       "    <tr>\n",
       "      <th>416683</th>\n",
       "      <td>14625</td>\n",
       "      <td>12.39</td>\n",
       "      <td>36.0</td>\n",
       "      <td>0</td>\n",
       "      <td>0</td>\n",
       "    </tr>\n",
       "    <tr>\n",
       "      <th>8404</th>\n",
       "      <td>22000</td>\n",
       "      <td>11.99</td>\n",
       "      <td>36.0</td>\n",
       "      <td>0</td>\n",
       "      <td>0</td>\n",
       "    </tr>\n",
       "    <tr>\n",
       "      <th>402348</th>\n",
       "      <td>16000</td>\n",
       "      <td>19.99</td>\n",
       "      <td>60.0</td>\n",
       "      <td>1</td>\n",
       "      <td>1</td>\n",
       "    </tr>\n",
       "    <tr>\n",
       "      <th>69610</th>\n",
       "      <td>1500</td>\n",
       "      <td>13.18</td>\n",
       "      <td>36.0</td>\n",
       "      <td>0</td>\n",
       "      <td>0</td>\n",
       "    </tr>\n",
       "    <tr>\n",
       "      <th>130168</th>\n",
       "      <td>34675</td>\n",
       "      <td>12.29</td>\n",
       "      <td>36.0</td>\n",
       "      <td>0</td>\n",
       "      <td>0</td>\n",
       "    </tr>\n",
       "  </tbody>\n",
       "</table>\n",
       "</div>"
      ],
      "text/plain": [
       "        loan_amnt  int_rate  term  loan_status  predicted\n",
       "416683      14625     12.39  36.0            0          0\n",
       "8404        22000     11.99  36.0            0          0\n",
       "402348      16000     19.99  60.0            1          1\n",
       "69610        1500     13.18  36.0            0          0\n",
       "130168      34675     12.29  36.0            0          0"
      ]
     },
     "execution_count": 881,
     "metadata": {},
     "output_type": "execute_result"
    }
   ],
   "source": [
    "df.tail()"
   ]
  },
  {
   "cell_type": "code",
   "execution_count": 882,
   "metadata": {},
   "outputs": [
    {
     "data": {
      "text/plain": [
       "array([[45009,     1],\n",
       "       [ 3849, 11749]])"
      ]
     },
     "execution_count": 882,
     "metadata": {},
     "output_type": "execute_result"
    }
   ],
   "source": [
    "pp = rf.predict(X_test)\n",
    "confusion_matrix(y_test, pp)"
   ]
  },
  {
   "cell_type": "code",
   "execution_count": 895,
   "metadata": {},
   "outputs": [
    {
     "data": {
      "text/plain": [
       "0.9999148936170212"
      ]
     },
     "execution_count": 895,
     "metadata": {},
     "output_type": "execute_result"
    }
   ],
   "source": [
    "precision_score(y_test, pp)"
   ]
  },
  {
   "cell_type": "code",
   "execution_count": 896,
   "metadata": {},
   "outputs": [
    {
     "data": {
      "text/plain": [
       "0.7532375945634056"
      ]
     },
     "execution_count": 896,
     "metadata": {},
     "output_type": "execute_result"
    }
   ],
   "source": [
    "recall_score(y_test, pp)"
   ]
  },
  {
   "cell_type": "code",
   "execution_count": 883,
   "metadata": {},
   "outputs": [
    {
     "data": {
      "text/plain": [
       "0    0.806131\n",
       "1    0.193869\n",
       "Name: predicted, dtype: float64"
      ]
     },
     "execution_count": 883,
     "metadata": {},
     "output_type": "execute_result"
    }
   ],
   "source": [
    "df.predicted.value_counts(normalize= True, dropna= False)"
   ]
  },
  {
   "cell_type": "code",
   "execution_count": 884,
   "metadata": {},
   "outputs": [
    {
     "data": {
      "text/plain": [
       "0    0.742641\n",
       "1    0.257359\n",
       "Name: loan_status, dtype: float64"
      ]
     },
     "execution_count": 884,
     "metadata": {},
     "output_type": "execute_result"
    }
   ],
   "source": [
    "df.loan_status.value_counts(normalize= True)"
   ]
  },
  {
   "cell_type": "code",
   "execution_count": 145,
   "metadata": {
    "collapsed": true
   },
   "outputs": [],
   "source": [
    "def total_loss_function(data):\n",
    "    # Bad Loan, predicted as Good Loan. (FN) \n",
    "    if data.loan_status == 1 and data.predicted == 0:\n",
    "        return ((data.term * data.loan_amnt * (data.int_rate/12/100)) / (1 - (1 + (data.int_rate/12/100))**(-data.term))) - data.loan_amnt\n",
    "    # Good Loan, predicted as Bad Loan (FP)\n",
    "    elif data.loan_status == 0 and data.predicted == 1:\n",
    "        return ((data.term * data.loan_amnt * (data.int_rate/12/100)) / (1 - (1 + (data.int_rate/12/100))**(-data.term))) - data.loan_amnt\n",
    "    else:\n",
    "        return 0"
   ]
  },
  {
   "cell_type": "code",
   "execution_count": 885,
   "metadata": {},
   "outputs": [
    {
     "data": {
      "text/plain": [
       "14304977.903814903"
      ]
     },
     "execution_count": 885,
     "metadata": {},
     "output_type": "execute_result"
    }
   ],
   "source": [
    "total_loss_series = df.apply(total_loss_function, axis = 1)\n",
    "total_loss_series.sum()"
   ]
  },
  {
   "cell_type": "code",
   "execution_count": 888,
   "metadata": {},
   "outputs": [
    {
     "data": {
      "text/plain": [
       "416683       0.000000\n",
       "8404         0.000000\n",
       "402348    9428.787074\n",
       "69610        0.000000\n",
       "130168       0.000000\n",
       "dtype: float64"
      ]
     },
     "execution_count": 888,
     "metadata": {},
     "output_type": "execute_result"
    }
   ],
   "source": [
    "total_loss_series.tail()"
   ]
  },
  {
   "cell_type": "code",
   "execution_count": 889,
   "metadata": {},
   "outputs": [
    {
     "data": {
      "text/html": [
       "<div>\n",
       "<style>\n",
       "    .dataframe thead tr:only-child th {\n",
       "        text-align: right;\n",
       "    }\n",
       "\n",
       "    .dataframe thead th {\n",
       "        text-align: left;\n",
       "    }\n",
       "\n",
       "    .dataframe tbody tr th {\n",
       "        vertical-align: top;\n",
       "    }\n",
       "</style>\n",
       "<table border=\"1\" class=\"dataframe\">\n",
       "  <thead>\n",
       "    <tr style=\"text-align: right;\">\n",
       "      <th></th>\n",
       "      <th>loan_amnt</th>\n",
       "      <th>int_rate</th>\n",
       "      <th>term</th>\n",
       "      <th>loan_status</th>\n",
       "      <th>predicted</th>\n",
       "    </tr>\n",
       "  </thead>\n",
       "  <tbody>\n",
       "    <tr>\n",
       "      <th>416683</th>\n",
       "      <td>14625</td>\n",
       "      <td>12.39</td>\n",
       "      <td>36.0</td>\n",
       "      <td>0</td>\n",
       "      <td>0</td>\n",
       "    </tr>\n",
       "    <tr>\n",
       "      <th>8404</th>\n",
       "      <td>22000</td>\n",
       "      <td>11.99</td>\n",
       "      <td>36.0</td>\n",
       "      <td>0</td>\n",
       "      <td>0</td>\n",
       "    </tr>\n",
       "    <tr>\n",
       "      <th>402348</th>\n",
       "      <td>16000</td>\n",
       "      <td>19.99</td>\n",
       "      <td>60.0</td>\n",
       "      <td>1</td>\n",
       "      <td>0</td>\n",
       "    </tr>\n",
       "    <tr>\n",
       "      <th>69610</th>\n",
       "      <td>1500</td>\n",
       "      <td>13.18</td>\n",
       "      <td>36.0</td>\n",
       "      <td>0</td>\n",
       "      <td>0</td>\n",
       "    </tr>\n",
       "    <tr>\n",
       "      <th>130168</th>\n",
       "      <td>34675</td>\n",
       "      <td>12.29</td>\n",
       "      <td>36.0</td>\n",
       "      <td>0</td>\n",
       "      <td>0</td>\n",
       "    </tr>\n",
       "  </tbody>\n",
       "</table>\n",
       "</div>"
      ],
      "text/plain": [
       "        loan_amnt  int_rate  term  loan_status  predicted\n",
       "416683      14625     12.39  36.0            0          0\n",
       "8404        22000     11.99  36.0            0          0\n",
       "402348      16000     19.99  60.0            1          0\n",
       "69610        1500     13.18  36.0            0          0\n",
       "130168      34675     12.29  36.0            0          0"
      ]
     },
     "execution_count": 889,
     "metadata": {},
     "output_type": "execute_result"
    }
   ],
   "source": [
    "df.tail()"
   ]
  },
  {
   "cell_type": "code",
   "execution_count": 679,
   "metadata": {},
   "outputs": [
    {
     "name": "stdout",
     "output_type": "stream",
     "text": [
      "<class 'pandas.core.frame.DataFrame'>\n",
      "Int64Index: 45915 entries, 161305 to 27881\n",
      "Data columns (total 5 columns):\n",
      "loan_amnt      45915 non-null int64\n",
      "int_rate       45915 non-null float64\n",
      "term           45915 non-null float64\n",
      "loan_status    45915 non-null int64\n",
      "predicted      45915 non-null int64\n",
      "dtypes: float64(2), int64(3)\n",
      "memory usage: 2.1 MB\n"
     ]
    }
   ],
   "source": [
    "df.info()"
   ]
  },
  {
   "cell_type": "code",
   "execution_count": 887,
   "metadata": {},
   "outputs": [
    {
     "data": {
      "text/plain": [
       "[182616731.81801626,\n",
       " 182616731.81801626,\n",
       " 186523178.48257375,\n",
       " 205011517.4274481,\n",
       " 220439792.33409625,\n",
       " 231135558.71031862,\n",
       " 238722976.5377623,\n",
       " 245855812.2120036,\n",
       " 252458349.42205447,\n",
       " 258567928.24338207,\n",
       " 263641396.33950412,\n",
       " 267345268.98973465,\n",
       " 269975566.8681865,\n",
       " 271683582.92947245,\n",
       " 272998416.1574078,\n",
       " 268144509.1007785,\n",
       " 252634326.81054693,\n",
       " 216912178.9853243,\n",
       " 157400284.1464839,\n",
       " 109007974.47954118]"
      ]
     },
     "execution_count": 887,
     "metadata": {},
     "output_type": "execute_result"
    }
   ],
   "source": [
    "results = []\n",
    "\n",
    "array = np.arange(0, 1, 0.05)\n",
    "\n",
    "for i in array:\n",
    "    preds = threshold(probs, thres= i)\n",
    "    df[\"predicted\"] = preds\n",
    "    total_loss_series = df.apply(total_loss_function, axis = 1)\n",
    "    results.append(total_loss_series.sum())\n",
    "results"
   ]
  },
  {
   "cell_type": "code",
   "execution_count": 893,
   "metadata": {},
   "outputs": [
    {
     "data": {
      "text/plain": [
       "[(109007974.47954118, 0.9500000000000001),\n",
       " (157400284.1464839, 0.9),\n",
       " (182616731.81801626, 0.0),\n",
       " (182616731.81801626, 0.05),\n",
       " (186523178.48257375, 0.1),\n",
       " (205011517.4274481, 0.15000000000000002),\n",
       " (216912178.9853243, 0.8500000000000001),\n",
       " (220439792.33409625, 0.2),\n",
       " (231135558.71031862, 0.25),\n",
       " (238722976.5377623, 0.30000000000000004),\n",
       " (245855812.2120036, 0.35000000000000003),\n",
       " (252458349.42205447, 0.4),\n",
       " (252634326.81054693, 0.8),\n",
       " (258567928.24338207, 0.45),\n",
       " (263641396.33950412, 0.5),\n",
       " (267345268.98973465, 0.55),\n",
       " (268144509.1007785, 0.75),\n",
       " (269975566.8681865, 0.6000000000000001),\n",
       " (271683582.92947245, 0.65),\n",
       " (272998416.1574078, 0.7000000000000001)]"
      ]
     },
     "execution_count": 893,
     "metadata": {},
     "output_type": "execute_result"
    }
   ],
   "source": [
    "sorted(zip(results, array), reverse= False)"
   ]
  },
  {
   "cell_type": "code",
   "execution_count": 894,
   "metadata": {},
   "outputs": [
    {
     "data": {
      "text/plain": [
       "1798.574024543644"
      ]
     },
     "execution_count": 894,
     "metadata": {},
     "output_type": "execute_result"
    }
   ],
   "source": [
    "109007974.47954118/len(df)"
   ]
  },
  {
   "cell_type": "markdown",
   "metadata": {},
   "source": [
    "On average, we see about $4,500 in interest that we miss out on for misclassifying loans. The optimized threshold is at .95 with the Random Forest classification model."
   ]
  },
  {
   "cell_type": "markdown",
   "metadata": {
    "collapsed": true
   },
   "source": [
    "# BONUS STUFF"
   ]
  },
  {
   "cell_type": "code",
   "execution_count": 530,
   "metadata": {
    "scrolled": true
   },
   "outputs": [
    {
     "data": {
      "text/html": [
       "<div>\n",
       "<style>\n",
       "    .dataframe thead tr:only-child th {\n",
       "        text-align: right;\n",
       "    }\n",
       "\n",
       "    .dataframe thead th {\n",
       "        text-align: left;\n",
       "    }\n",
       "\n",
       "    .dataframe tbody tr th {\n",
       "        vertical-align: top;\n",
       "    }\n",
       "</style>\n",
       "<table border=\"1\" class=\"dataframe\">\n",
       "  <thead>\n",
       "    <tr style=\"text-align: right;\">\n",
       "      <th></th>\n",
       "      <th>0</th>\n",
       "      <th>1</th>\n",
       "      <th>2</th>\n",
       "      <th>3</th>\n",
       "      <th>4</th>\n",
       "      <th>5</th>\n",
       "      <th>6</th>\n",
       "      <th>7</th>\n",
       "      <th>8</th>\n",
       "      <th>9</th>\n",
       "      <th>...</th>\n",
       "      <th>30</th>\n",
       "      <th>31</th>\n",
       "      <th>32</th>\n",
       "      <th>33</th>\n",
       "      <th>34</th>\n",
       "      <th>35</th>\n",
       "      <th>36</th>\n",
       "      <th>37</th>\n",
       "      <th>38</th>\n",
       "      <th>39</th>\n",
       "    </tr>\n",
       "  </thead>\n",
       "  <tbody>\n",
       "    <tr>\n",
       "      <th>0</th>\n",
       "      <td>-0.596631</td>\n",
       "      <td>-2.147188</td>\n",
       "      <td>-0.133898</td>\n",
       "      <td>2.288165</td>\n",
       "      <td>1.483864</td>\n",
       "      <td>-2.255347</td>\n",
       "      <td>-1.290689</td>\n",
       "      <td>-1.241957</td>\n",
       "      <td>1.657695</td>\n",
       "      <td>-0.943922</td>\n",
       "      <td>...</td>\n",
       "      <td>0.244743</td>\n",
       "      <td>0.191775</td>\n",
       "      <td>0.121152</td>\n",
       "      <td>-0.091786</td>\n",
       "      <td>-0.330224</td>\n",
       "      <td>0.988000</td>\n",
       "      <td>-1.383249</td>\n",
       "      <td>-0.080579</td>\n",
       "      <td>-0.503278</td>\n",
       "      <td>-0.320575</td>\n",
       "    </tr>\n",
       "    <tr>\n",
       "      <th>1</th>\n",
       "      <td>2.730034</td>\n",
       "      <td>1.690705</td>\n",
       "      <td>0.031171</td>\n",
       "      <td>-0.967949</td>\n",
       "      <td>2.409107</td>\n",
       "      <td>-0.527662</td>\n",
       "      <td>0.467021</td>\n",
       "      <td>0.503451</td>\n",
       "      <td>-0.583193</td>\n",
       "      <td>-1.319182</td>\n",
       "      <td>...</td>\n",
       "      <td>0.094755</td>\n",
       "      <td>0.000206</td>\n",
       "      <td>0.116001</td>\n",
       "      <td>0.070600</td>\n",
       "      <td>-0.104143</td>\n",
       "      <td>0.273112</td>\n",
       "      <td>0.273114</td>\n",
       "      <td>0.147950</td>\n",
       "      <td>0.180060</td>\n",
       "      <td>0.220789</td>\n",
       "    </tr>\n",
       "    <tr>\n",
       "      <th>2</th>\n",
       "      <td>-1.292612</td>\n",
       "      <td>0.926389</td>\n",
       "      <td>0.097786</td>\n",
       "      <td>0.748388</td>\n",
       "      <td>2.609435</td>\n",
       "      <td>-0.766006</td>\n",
       "      <td>-0.902773</td>\n",
       "      <td>-2.534074</td>\n",
       "      <td>2.389049</td>\n",
       "      <td>-1.441195</td>\n",
       "      <td>...</td>\n",
       "      <td>0.253444</td>\n",
       "      <td>0.329521</td>\n",
       "      <td>-0.193897</td>\n",
       "      <td>0.032118</td>\n",
       "      <td>0.138828</td>\n",
       "      <td>0.125934</td>\n",
       "      <td>-1.369989</td>\n",
       "      <td>0.894827</td>\n",
       "      <td>-0.231877</td>\n",
       "      <td>0.550016</td>\n",
       "    </tr>\n",
       "    <tr>\n",
       "      <th>3</th>\n",
       "      <td>0.642467</td>\n",
       "      <td>0.866530</td>\n",
       "      <td>-2.440114</td>\n",
       "      <td>-0.073050</td>\n",
       "      <td>0.074684</td>\n",
       "      <td>0.607807</td>\n",
       "      <td>0.169744</td>\n",
       "      <td>0.024724</td>\n",
       "      <td>-0.478159</td>\n",
       "      <td>0.815470</td>\n",
       "      <td>...</td>\n",
       "      <td>0.348864</td>\n",
       "      <td>0.420884</td>\n",
       "      <td>0.054174</td>\n",
       "      <td>-0.029127</td>\n",
       "      <td>-0.363887</td>\n",
       "      <td>0.106277</td>\n",
       "      <td>-0.780648</td>\n",
       "      <td>1.547779</td>\n",
       "      <td>-0.269739</td>\n",
       "      <td>1.369130</td>\n",
       "    </tr>\n",
       "    <tr>\n",
       "      <th>4</th>\n",
       "      <td>4.165613</td>\n",
       "      <td>-0.960895</td>\n",
       "      <td>-2.919393</td>\n",
       "      <td>-1.611098</td>\n",
       "      <td>0.414175</td>\n",
       "      <td>-0.303929</td>\n",
       "      <td>1.357512</td>\n",
       "      <td>2.217546</td>\n",
       "      <td>-1.444092</td>\n",
       "      <td>0.125719</td>\n",
       "      <td>...</td>\n",
       "      <td>0.241872</td>\n",
       "      <td>-0.194322</td>\n",
       "      <td>0.201617</td>\n",
       "      <td>0.111914</td>\n",
       "      <td>-0.141522</td>\n",
       "      <td>0.511248</td>\n",
       "      <td>0.111306</td>\n",
       "      <td>0.290448</td>\n",
       "      <td>-0.092548</td>\n",
       "      <td>0.528354</td>\n",
       "    </tr>\n",
       "  </tbody>\n",
       "</table>\n",
       "<p>5 rows × 40 columns</p>\n",
       "</div>"
      ],
      "text/plain": [
       "         0         1         2         3         4         5         6   \\\n",
       "0 -0.596631 -2.147188 -0.133898  2.288165  1.483864 -2.255347 -1.290689   \n",
       "1  2.730034  1.690705  0.031171 -0.967949  2.409107 -0.527662  0.467021   \n",
       "2 -1.292612  0.926389  0.097786  0.748388  2.609435 -0.766006 -0.902773   \n",
       "3  0.642467  0.866530 -2.440114 -0.073050  0.074684  0.607807  0.169744   \n",
       "4  4.165613 -0.960895 -2.919393 -1.611098  0.414175 -0.303929  1.357512   \n",
       "\n",
       "         7         8         9     ...           30        31        32  \\\n",
       "0 -1.241957  1.657695 -0.943922    ...     0.244743  0.191775  0.121152   \n",
       "1  0.503451 -0.583193 -1.319182    ...     0.094755  0.000206  0.116001   \n",
       "2 -2.534074  2.389049 -1.441195    ...     0.253444  0.329521 -0.193897   \n",
       "3  0.024724 -0.478159  0.815470    ...     0.348864  0.420884  0.054174   \n",
       "4  2.217546 -1.444092  0.125719    ...     0.241872 -0.194322  0.201617   \n",
       "\n",
       "         33        34        35        36        37        38        39  \n",
       "0 -0.091786 -0.330224  0.988000 -1.383249 -0.080579 -0.503278 -0.320575  \n",
       "1  0.070600 -0.104143  0.273112  0.273114  0.147950  0.180060  0.220789  \n",
       "2  0.032118  0.138828  0.125934 -1.369989  0.894827 -0.231877  0.550016  \n",
       "3 -0.029127 -0.363887  0.106277 -0.780648  1.547779 -0.269739  1.369130  \n",
       "4  0.111914 -0.141522  0.511248  0.111306  0.290448 -0.092548  0.528354  \n",
       "\n",
       "[5 rows x 40 columns]"
      ]
     },
     "execution_count": 530,
     "metadata": {},
     "output_type": "execute_result"
    }
   ],
   "source": [
    "# ~85% variance in PCA dataset with 40 features. \n",
    "\n",
    "lcdf_pca2 = pd.DataFrame(lcdf_pca[:, :40])\n",
    "lcdf_pca2.head()"
   ]
  },
  {
   "cell_type": "code",
   "execution_count": 533,
   "metadata": {
    "collapsed": true
   },
   "outputs": [],
   "source": [
    "# try in tensorflow or h2o.ai \n",
    "lcdf_pca2.to_csv(\"LCDF_PCA.csv\", sep= \"\\t\")"
   ]
  },
  {
   "cell_type": "code",
   "execution_count": 6,
   "metadata": {
    "collapsed": true
   },
   "outputs": [],
   "source": [
    "# try in tensorflow or h2o.ai \n",
    "lcdf.to_csv(\"LCDF.csv\")"
   ]
  },
  {
   "cell_type": "code",
   "execution_count": 857,
   "metadata": {
    "collapsed": true
   },
   "outputs": [],
   "source": []
  },
  {
   "cell_type": "code",
   "execution_count": 858,
   "metadata": {
    "collapsed": true
   },
   "outputs": [],
   "source": [
    "grade_classes = lcdf.grade\n",
    "emp_title_col = lcdf.emp_title\n",
    "lcdf.drop([\"grade\", \"emp_title\"], axis = 1, inplace= True)"
   ]
  },
  {
   "cell_type": "markdown",
   "metadata": {},
   "source": [
    "# Now our dataset is ready for Machine Learning!"
   ]
  },
  {
   "cell_type": "markdown",
   "metadata": {},
   "source": [
    "lcdf is the master DataFrame we will work with"
   ]
  },
  {
   "cell_type": "code",
   "execution_count": 20,
   "metadata": {},
   "outputs": [
    {
     "data": {
      "text/plain": [
       "(183660, 82)"
      ]
     },
     "execution_count": 20,
     "metadata": {},
     "output_type": "execute_result"
    }
   ],
   "source": [
    "lcdf.shape"
   ]
  },
  {
   "cell_type": "code",
   "execution_count": 21,
   "metadata": {},
   "outputs": [
    {
     "data": {
      "text/plain": [
       "Index([u'num_tl_120dpd_2m', u'mo_sin_old_il_acct', u'percent_bc_gt_75',\n",
       "       u'bc_util', u'bc_open_to_buy', u'dti', u'num_rev_accts', u'delinq_2yrs',\n",
       "       u'inq_last_6mths', u'revol_bal', u'open_acc', u'pub_rec', u'total_acc',\n",
       "       u'num_bc_tl', u'funded_amnt', u'int_rate', u'installment',\n",
       "       u'annual_inc', u'total_rec_int', u'chargeoff_within_12_mths',\n",
       "       u'num_sats', u'num_rev_tl_bal_gt_0', u'total_rev_hi_lim',\n",
       "       u'num_op_rev_tl', u'num_il_tl', u'acc_open_past_24mths', u'avg_cur_bal',\n",
       "       u'delinq_amnt', u'num_tl_90g_dpd_24m', u'mo_sin_old_rev_tl_op',\n",
       "       u'mo_sin_rcnt_rev_tl_op', u'mo_sin_rcnt_tl', u'mort_acc',\n",
       "       u'num_accts_ever_120_pd', u'num_actv_bc_tl', u'num_actv_rev_tl',\n",
       "       u'num_tl_30dpd', u'num_tl_op_past_12m', u'total_il_high_credit_limit',\n",
       "       u'num_bc_sats', u'collections_12_mths_ex_med', u'policy_code',\n",
       "       u'total_bc_limit', u'pct_tl_nvr_dlq', u'total_bal_ex_mort',\n",
       "       u'acc_now_delinq', u'tot_coll_amt', u'tot_cur_bal', u'tot_hi_cred_lim',\n",
       "       u'tax_liens', u'pub_rec_bankruptcies', u'loan_amnt', u'total_pymnt',\n",
       "       u'revol_util', u'term', u'loan_status', u'purpose_credit_card',\n",
       "       u'purpose_debt_consolidation', u'purpose_educational',\n",
       "       u'purpose_home_improvement', u'purpose_house',\n",
       "       u'purpose_major_purchase', u'purpose_medical', u'purpose_moving',\n",
       "       u'purpose_other', u'purpose_renewable_energy',\n",
       "       u'purpose_small_business', u'purpose_vacation', u'purpose_wedding',\n",
       "       u'emp_length_10+ years', u'emp_length_2 years', u'emp_length_3 years',\n",
       "       u'emp_length_4 years', u'emp_length_5 years', u'emp_length_6 years',\n",
       "       u'emp_length_7 years', u'emp_length_8 years', u'emp_length_9 years',\n",
       "       u'emp_length_< 1 year', u'emp_length_n/a', u'ownership_own',\n",
       "       u'ownership_rent'],\n",
       "      dtype='object')"
      ]
     },
     "execution_count": 21,
     "metadata": {},
     "output_type": "execute_result"
    }
   ],
   "source": [
    "lcdf.columns"
   ]
  },
  {
   "cell_type": "code",
   "execution_count": 55,
   "metadata": {},
   "outputs": [
    {
     "data": {
      "text/plain": [
       "0    191763\n",
       "1      1560\n",
       "2        98\n",
       "3        20\n",
       "4         6\n",
       "5         1\n",
       "Name: chargeoff_within_12_mths, dtype: int64"
      ]
     },
     "execution_count": 55,
     "metadata": {},
     "output_type": "execute_result"
    }
   ],
   "source": [
    "lcdf.chargeoff_within_12_mths.value_counts()"
   ]
  },
  {
   "cell_type": "code",
   "execution_count": 22,
   "metadata": {},
   "outputs": [
    {
     "data": {
      "text/plain": [
       "0    0.743967\n",
       "1    0.256033\n",
       "Name: loan_status, dtype: float64"
      ]
     },
     "execution_count": 22,
     "metadata": {},
     "output_type": "execute_result"
    }
   ],
   "source": [
    "#Null Accuracy. If we predicted that all loans will default, then we would be correct ~26% of the time.\n",
    "lcdf.loan_status.value_counts(normalize=True)"
   ]
  },
  {
   "cell_type": "code",
   "execution_count": 23,
   "metadata": {},
   "outputs": [
    {
     "data": {
      "text/html": [
       "<div>\n",
       "<style>\n",
       "    .dataframe thead tr:only-child th {\n",
       "        text-align: right;\n",
       "    }\n",
       "\n",
       "    .dataframe thead th {\n",
       "        text-align: left;\n",
       "    }\n",
       "\n",
       "    .dataframe tbody tr th {\n",
       "        vertical-align: top;\n",
       "    }\n",
       "</style>\n",
       "<table border=\"1\" class=\"dataframe\">\n",
       "  <thead>\n",
       "    <tr style=\"text-align: right;\">\n",
       "      <th></th>\n",
       "      <th>inq_last_6mths</th>\n",
       "      <th>ownership_rent</th>\n",
       "      <th>tot_hi_cred_lim</th>\n",
       "      <th>loan_amnt</th>\n",
       "      <th>int_rate</th>\n",
       "    </tr>\n",
       "    <tr>\n",
       "      <th>loan_status</th>\n",
       "      <th></th>\n",
       "      <th></th>\n",
       "      <th></th>\n",
       "      <th></th>\n",
       "      <th></th>\n",
       "    </tr>\n",
       "  </thead>\n",
       "  <tbody>\n",
       "    <tr>\n",
       "      <th>0</th>\n",
       "      <td>0.554257</td>\n",
       "      <td>0.371656</td>\n",
       "      <td>189289.774044</td>\n",
       "      <td>15004.707912</td>\n",
       "      <td>12.084994</td>\n",
       "    </tr>\n",
       "    <tr>\n",
       "      <th>1</th>\n",
       "      <td>0.723795</td>\n",
       "      <td>0.476448</td>\n",
       "      <td>147603.642983</td>\n",
       "      <td>16024.226974</td>\n",
       "      <td>15.185782</td>\n",
       "    </tr>\n",
       "  </tbody>\n",
       "</table>\n",
       "</div>"
      ],
      "text/plain": [
       "             inq_last_6mths  ownership_rent  tot_hi_cred_lim     loan_amnt  \\\n",
       "loan_status                                                                  \n",
       "0                  0.554257        0.371656    189289.774044  15004.707912   \n",
       "1                  0.723795        0.476448    147603.642983  16024.226974   \n",
       "\n",
       "              int_rate  \n",
       "loan_status             \n",
       "0            12.084994  \n",
       "1            15.185782  "
      ]
     },
     "execution_count": 23,
     "metadata": {},
     "output_type": "execute_result"
    }
   ],
   "source": [
    "lcdf.groupby(\"loan_status\").mean()[[\"inq_last_6mths\", \"ownership_rent\", u'tot_hi_cred_lim', \"loan_amnt\", \"int_rate\"]]\n",
    "\n",
    "#not a huge meaningful difference here\n",
    "\n",
    "#loan_status_mean = df.groupby(\"loan_status\").mean()\n",
    "#loan_status_mean.to_csv('loan_status_mean.csv')"
   ]
  },
  {
   "cell_type": "code",
   "execution_count": null,
   "metadata": {
    "collapsed": true
   },
   "outputs": [],
   "source": []
  },
  {
   "cell_type": "code",
   "execution_count": null,
   "metadata": {
    "collapsed": true
   },
   "outputs": [],
   "source": []
  },
  {
   "cell_type": "code",
   "execution_count": 30,
   "metadata": {
    "collapsed": true
   },
   "outputs": [],
   "source": [
    "#new subset. Hand picked for first Decision Tree model only.\n",
    "\n",
    "subset = [\n",
    " 'dti',\n",
    " 'term',\n",
    " 'num_rev_accts',\n",
    " 'delinq_2yrs',\n",
    " 'revol_bal',\n",
    " 'open_acc',\n",
    " 'pub_rec',\n",
    " 'int_rate',\n",
    " 'annual_inc',\n",
    " 'acc_open_past_24mths',\n",
    " 'avg_cur_bal',\n",
    " 'collections_12_mths_ex_med',\n",
    " 'pub_rec_bankruptcies',\n",
    " 'loan_amnt',\n",
    " 'revol_util',\n",
    " 'mort_acc',\n",
    " 'loan_status',\n",
    "u'purpose_credit_card', u'purpose_debt_consolidation',\n",
    "u'purpose_educational', u'purpose_home_improvement', u'purpose_house',\n",
    "u'purpose_major_purchase', u'purpose_medical', u'purpose_moving',\n",
    "u'purpose_other', u'purpose_renewable_energy',\n",
    "u'purpose_small_business', u'purpose_vacation', u'purpose_wedding', \n",
    "u'emp_length_10+ years', u'emp_length_2 years',\n",
    "u'emp_length_3 years', u'emp_length_4 years', u'emp_length_5 years',\n",
    "u'emp_length_6 years', u'emp_length_7 years', u'emp_length_8 years',\n",
    "u'emp_length_9 years', u'emp_length_< 1 year', u'emp_length_n/a',\n",
    "u'ownership_own', u'ownership_rent']"
   ]
  },
  {
   "cell_type": "code",
   "execution_count": 31,
   "metadata": {
    "collapsed": true
   },
   "outputs": [],
   "source": [
    "lcdf1 = lcdf[subset]"
   ]
  },
  {
   "cell_type": "code",
   "execution_count": 32,
   "metadata": {},
   "outputs": [
    {
     "data": {
      "text/plain": [
       "(183660, 43)"
      ]
     },
     "execution_count": 32,
     "metadata": {},
     "output_type": "execute_result"
    }
   ],
   "source": [
    "lcdf1.shape"
   ]
  },
  {
   "cell_type": "code",
   "execution_count": null,
   "metadata": {
    "collapsed": true,
    "scrolled": true
   },
   "outputs": [],
   "source": []
  },
  {
   "cell_type": "markdown",
   "metadata": {},
   "source": [
    "# Decision Tree model selection w/ random subset of features"
   ]
  },
  {
   "cell_type": "code",
   "execution_count": 33,
   "metadata": {
    "collapsed": true
   },
   "outputs": [],
   "source": [
    "X = lcdf1.drop(\"loan_status\", axis =1)\n",
    "y = lcdf1.loan_status"
   ]
  },
  {
   "cell_type": "code",
   "execution_count": 34,
   "metadata": {},
   "outputs": [
    {
     "data": {
      "text/plain": [
       "0    0.743967\n",
       "1    0.256033\n",
       "Name: loan_status, dtype: float64"
      ]
     },
     "execution_count": 34,
     "metadata": {},
     "output_type": "execute_result"
    }
   ],
   "source": [
    "y.value_counts(normalize= True)"
   ]
  },
  {
   "cell_type": "code",
   "execution_count": null,
   "metadata": {
    "collapsed": true
   },
   "outputs": [],
   "source": [
    "# from randomized search below!\n",
    "{'criterion': 'entropy',\n",
    " 'max_depth': 8,\n",
    " 'max_features': 20,\n",
    " 'min_samples_split': 2}"
   ]
  },
  {
   "cell_type": "code",
   "execution_count": 47,
   "metadata": {
    "scrolled": true
   },
   "outputs": [
    {
     "data": {
      "text/plain": [
       "DecisionTreeClassifier(class_weight=None, criterion='entropy', max_depth=8,\n",
       "            max_features=20, max_leaf_nodes=None,\n",
       "            min_impurity_decrease=0.0, min_impurity_split=None,\n",
       "            min_samples_leaf=1, min_samples_split=2,\n",
       "            min_weight_fraction_leaf=0.0, presort=False, random_state=None,\n",
       "            splitter='best')"
      ]
     },
     "execution_count": 47,
     "metadata": {},
     "output_type": "execute_result"
    }
   ],
   "source": [
    "dt = DecisionTreeClassifier(max_depth= 8, max_features= 20, min_samples_split= 2, criterion= \"entropy\")\n",
    "dt.fit(X, y)"
   ]
  },
  {
   "cell_type": "code",
   "execution_count": 48,
   "metadata": {
    "collapsed": true
   },
   "outputs": [],
   "source": [
    "X_train, X_test, y_train, y_test = train_test_split(X, y, test_size = .33,\n",
    "                                                   random_state = 123)"
   ]
  },
  {
   "cell_type": "code",
   "execution_count": 49,
   "metadata": {},
   "outputs": [
    {
     "name": "stdout",
     "output_type": "stream",
     "text": [
      "(0.7584760914085102, 0.7477230728616684)\n"
     ]
    }
   ],
   "source": [
    "dt.fit(X_train, y_train)\n",
    "\n",
    "print (dt.score(X_train, y_train), dt.score(X_test, y_test))"
   ]
  },
  {
   "cell_type": "code",
   "execution_count": 40,
   "metadata": {},
   "outputs": [
    {
     "data": {
      "text/plain": [
       "{'criterion': ['gini', 'entropy'],\n",
       " 'max_depth': [2, 3, 4, 5, 6, 7, 8, 9, 10, 11, 12, 13, 14],\n",
       " 'max_features': [1, 2, 5, 10, 15, 20, 40],\n",
       " 'min_samples_split': [2, 5, 10]}"
      ]
     },
     "execution_count": 40,
     "metadata": {},
     "output_type": "execute_result"
    }
   ],
   "source": [
    "#Range of neighbors to test\n",
    "depths_range = range(2, 15)\n",
    "\n",
    "#Dictionary of parameter values \n",
    "param_grid_dt = {}\n",
    "\n",
    "#Param grid with test different split criteria as well. entropy takes the log. gini takes the squared...\n",
    "param_grid_dt = {\"criterion\": [\"gini\", \"entropy\"], \"max_depth\": depths_range}\n",
    "param_grid_dt[\"min_samples_split\"] = [2, 5, 10]\n",
    "param_grid_dt[\"max_features\"] = [1, 2, 5, 10, 15, 20, 40]\n",
    "\n",
    "param_grid_dt"
   ]
  },
  {
   "cell_type": "code",
   "execution_count": 44,
   "metadata": {},
   "outputs": [
    {
     "data": {
      "text/plain": [
       "RandomizedSearchCV(cv=5, error_score='raise',\n",
       "          estimator=DecisionTreeClassifier(class_weight=None, criterion='gini', max_depth=None,\n",
       "            max_features=None, max_leaf_nodes=None,\n",
       "            min_impurity_decrease=0.0, min_impurity_split=None,\n",
       "            min_samples_leaf=1, min_samples_split=2,\n",
       "            min_weight_fraction_leaf=0.0, presort=False, random_state=None,\n",
       "            splitter='best'),\n",
       "          fit_params={}, iid=True, n_iter=10, n_jobs=1,\n",
       "          param_distributions={'min_samples_split': [2, 5, 10], 'max_features': [1, 2, 5, 10, 15, 20, 40], 'criterion': ['gini', 'entropy'], 'max_depth': [2, 3, 4, 5, 6, 7, 8, 9, 10, 11, 12, 13, 14]},\n",
       "          pre_dispatch='2*n_jobs', random_state=None, refit=True,\n",
       "          scoring='accuracy', verbose=0)"
      ]
     },
     "execution_count": 44,
     "metadata": {},
     "output_type": "execute_result"
    }
   ],
   "source": [
    "#Intialize RandomizedSearchCV grid with n_iter = 10\n",
    "grid_dt = RandomizedSearchCV(DecisionTreeClassifier(), n_iter = 10,\n",
    "                            param_distributions = param_grid_dt, cv = 5, scoring = \"accuracy\")\n",
    "\n",
    "#Fit grid on data\n",
    "grid_dt.fit(X, y)"
   ]
  },
  {
   "cell_type": "code",
   "execution_count": 45,
   "metadata": {},
   "outputs": [
    {
     "data": {
      "text/plain": [
       "0.7508276162474137"
      ]
     },
     "execution_count": 45,
     "metadata": {},
     "output_type": "execute_result"
    }
   ],
   "source": [
    "grid_dt.best_score_"
   ]
  },
  {
   "cell_type": "code",
   "execution_count": 46,
   "metadata": {},
   "outputs": [
    {
     "data": {
      "text/plain": [
       "{'criterion': 'entropy',\n",
       " 'max_depth': 8,\n",
       " 'max_features': 20,\n",
       " 'min_samples_split': 2}"
      ]
     },
     "execution_count": 46,
     "metadata": {},
     "output_type": "execute_result"
    }
   ],
   "source": [
    "grid_dt.best_params_"
   ]
  },
  {
   "cell_type": "code",
   "execution_count": 50,
   "metadata": {},
   "outputs": [
    {
     "data": {
      "text/plain": [
       "DecisionTreeClassifier(class_weight=None, criterion='entropy', max_depth=8,\n",
       "            max_features=20, max_leaf_nodes=None,\n",
       "            min_impurity_decrease=0.0, min_impurity_split=None,\n",
       "            min_samples_leaf=1, min_samples_split=2,\n",
       "            min_weight_fraction_leaf=0.0, presort=False, random_state=None,\n",
       "            splitter='best')"
      ]
     },
     "execution_count": 50,
     "metadata": {},
     "output_type": "execute_result"
    }
   ],
   "source": [
    "grid_dt.best_estimator_"
   ]
  },
  {
   "cell_type": "code",
   "execution_count": null,
   "metadata": {
    "collapsed": true
   },
   "outputs": [],
   "source": []
  },
  {
   "cell_type": "code",
   "execution_count": 293,
   "metadata": {
    "collapsed": true
   },
   "outputs": [],
   "source": [
    "# Went back up to begining to re-run..\n",
    "\n",
    "{'criterion': 'entropy',\n",
    " 'max_depth': 8,\n",
    " 'max_features': 20,\n",
    " 'min_samples_split': 2}"
   ]
  },
  {
   "cell_type": "code",
   "execution_count": null,
   "metadata": {
    "collapsed": true
   },
   "outputs": [],
   "source": []
  },
  {
   "cell_type": "code",
   "execution_count": 51,
   "metadata": {},
   "outputs": [
    {
     "data": {
      "text/plain": [
       "0.7549275835783513"
      ]
     },
     "execution_count": 51,
     "metadata": {},
     "output_type": "execute_result"
    }
   ],
   "source": [
    "dt.score(X, y)"
   ]
  },
  {
   "cell_type": "code",
   "execution_count": 52,
   "metadata": {},
   "outputs": [
    {
     "name": "stdout",
     "output_type": "stream",
     "text": [
      "(0.7584760914085102, 0.7477230728616684)\n"
     ]
    }
   ],
   "source": [
    "print (dt.score(X_train, y_train), dt.score(X_test, y_test))"
   ]
  },
  {
   "cell_type": "code",
   "execution_count": 53,
   "metadata": {},
   "outputs": [
    {
     "data": {
      "text/plain": [
       "[(0.3685440822642859, 'int_rate'),\n",
       " (0.266174956748575, 'term'),\n",
       " (0.1235035990742035, 'avg_cur_bal'),\n",
       " (0.09976591590248142, 'dti'),\n",
       " (0.03492140983472602, 'revol_util'),\n",
       " (0.020744278858153366, 'acc_open_past_24mths'),\n",
       " (0.014769350242931984, 'mort_acc'),\n",
       " (0.013734327444696397, 'loan_amnt'),\n",
       " (0.011888436549173011, 'annual_inc'),\n",
       " (0.011339135346610588, 'revol_bal'),\n",
       " (0.010160418575458794, 'num_rev_accts'),\n",
       " (0.009472606728332587, 'delinq_2yrs'),\n",
       " (0.006840418685600827, 'ownership_rent'),\n",
       " (0.0023763489933152546, 'open_acc'),\n",
       " (0.0018501690155545416, 'pub_rec'),\n",
       " (0.0010462399456392468, 'pub_rec_bankruptcies'),\n",
       " (0.0005728580538210303, 'emp_length_2 years'),\n",
       " (0.0005184908941400834, 'emp_length_10+ years'),\n",
       " (0.0005136942527476219, 'emp_length_5 years'),\n",
       " (0.00044234517605467027, 'emp_length_4 years')]"
      ]
     },
     "execution_count": 53,
     "metadata": {},
     "output_type": "execute_result"
    }
   ],
   "source": [
    "sorted(zip(dt.feature_importances_, X.columns), reverse= True)[:20]"
   ]
  },
  {
   "cell_type": "code",
   "execution_count": null,
   "metadata": {
    "collapsed": true
   },
   "outputs": [],
   "source": []
  },
  {
   "cell_type": "code",
   "execution_count": 56,
   "metadata": {
    "collapsed": true
   },
   "outputs": [],
   "source": [
    "preds = dt.predict(X_test)"
   ]
  },
  {
   "cell_type": "code",
   "execution_count": 57,
   "metadata": {},
   "outputs": [
    {
     "data": {
      "text/plain": [
       "array([[42460,  2550],\n",
       "       [12740,  2858]])"
      ]
     },
     "execution_count": 57,
     "metadata": {},
     "output_type": "execute_result"
    }
   ],
   "source": [
    "cm = confusion_matrix(y_test, preds)\n",
    "cm"
   ]
  },
  {
   "cell_type": "code",
   "execution_count": 58,
   "metadata": {},
   "outputs": [
    {
     "data": {
      "text/plain": [
       "0.18322861905372484"
      ]
     },
     "execution_count": 58,
     "metadata": {},
     "output_type": "execute_result"
    }
   ],
   "source": [
    "recall_score(y_test, preds)"
   ]
  },
  {
   "cell_type": "code",
   "execution_count": 59,
   "metadata": {},
   "outputs": [
    {
     "data": {
      "text/plain": [
       "0.5284763313609467"
      ]
     },
     "execution_count": 59,
     "metadata": {},
     "output_type": "execute_result"
    }
   ],
   "source": [
    "precision_score(y_test, preds)"
   ]
  },
  {
   "cell_type": "code",
   "execution_count": 60,
   "metadata": {},
   "outputs": [
    {
     "data": {
      "text/plain": [
       "0.7477230728616684"
      ]
     },
     "execution_count": 60,
     "metadata": {},
     "output_type": "execute_result"
    }
   ],
   "source": [
    "accuracy_score(y_test, preds)"
   ]
  },
  {
   "cell_type": "code",
   "execution_count": 54,
   "metadata": {},
   "outputs": [
    {
     "data": {
      "text/plain": [
       "0.7084067250452888"
      ]
     },
     "execution_count": 54,
     "metadata": {},
     "output_type": "execute_result"
    }
   ],
   "source": [
    "cross_val_score(dt, X, y, cv =5, scoring = \"roc_auc\").mean()"
   ]
  },
  {
   "cell_type": "code",
   "execution_count": 55,
   "metadata": {},
   "outputs": [
    {
     "data": {
      "text/plain": [
       "0.7503103067320958"
      ]
     },
     "execution_count": 55,
     "metadata": {},
     "output_type": "execute_result"
    }
   ],
   "source": [
    "cross_val_score(dt, X, y, cv =5, scoring = \"accuracy\").mean()"
   ]
  },
  {
   "cell_type": "code",
   "execution_count": null,
   "metadata": {
    "collapsed": true
   },
   "outputs": [],
   "source": [
    "# We are able to slightly beat the null w/ a random subset of features.\n",
    "#Let's use Random Forest to find Feature Importance of lcdf (the entire list of features we prepapred)"
   ]
  },
  {
   "cell_type": "markdown",
   "metadata": {},
   "source": [
    "# Random Forest Model with GridSearch"
   ]
  },
  {
   "cell_type": "code",
   "execution_count": 3,
   "metadata": {},
   "outputs": [],
   "source": [
    "from sklearn.ensemble import RandomForestClassifier\n",
    "from time import time \n",
    "import pandas as pd"
   ]
  },
  {
   "cell_type": "code",
   "execution_count": 4,
   "metadata": {
    "scrolled": true
   },
   "outputs": [
    {
     "data": {
      "text/plain": [
       "(183660, 84)"
      ]
     },
     "execution_count": 4,
     "metadata": {},
     "output_type": "execute_result"
    }
   ],
   "source": [
    "# From NLP_emp_title python Notebook\n",
    "# Try Random Forest Model with original lcdf before importing lcdf_cluster.csv\n",
    "\n",
    "lcdf = pd.read_csv(\"/Users/darrenklee/Desktop/DS-Project/lcdf_cluster.csv\", index_col= 0)\n",
    "lcdf.shape"
   ]
  },
  {
   "cell_type": "code",
   "execution_count": 5,
   "metadata": {
    "collapsed": true
   },
   "outputs": [],
   "source": [
    "# function for cluster dataset above\n",
    " \n",
    "def lcdf_cluster_fe(lcdf):\n",
    "    #create dummy variables for categorical data\n",
    "    lcdf_cluster_dums = pd.get_dummies(lcdf.cluster, prefix = \"cluster\", drop_first=False)\n",
    "    lcdf = pd.concat([lcdf, lcdf_cluster_dums], axis = 1)\n",
    "    lcdf.drop(\"cluster\", axis = 1, inplace=True)\n",
    "    return lcdf\n"
   ]
  },
  {
   "cell_type": "code",
   "execution_count": 6,
   "metadata": {
    "collapsed": true
   },
   "outputs": [],
   "source": [
    "lcdf = lcdf_cluster_fe(lcdf)"
   ]
  },
  {
   "cell_type": "code",
   "execution_count": 7,
   "metadata": {},
   "outputs": [
    {
     "data": {
      "text/html": [
       "<div>\n",
       "<style>\n",
       "    .dataframe thead tr:only-child th {\n",
       "        text-align: right;\n",
       "    }\n",
       "\n",
       "    .dataframe thead th {\n",
       "        text-align: left;\n",
       "    }\n",
       "\n",
       "    .dataframe tbody tr th {\n",
       "        vertical-align: top;\n",
       "    }\n",
       "</style>\n",
       "<table border=\"1\" class=\"dataframe\">\n",
       "  <thead>\n",
       "    <tr style=\"text-align: right;\">\n",
       "      <th></th>\n",
       "      <th>emp_title</th>\n",
       "      <th>cluster_1</th>\n",
       "      <th>term</th>\n",
       "    </tr>\n",
       "  </thead>\n",
       "  <tbody>\n",
       "    <tr>\n",
       "      <th>421088</th>\n",
       "      <td>KYC Business Analyst</td>\n",
       "      <td>0</td>\n",
       "      <td>36.0</td>\n",
       "    </tr>\n",
       "    <tr>\n",
       "      <th>421089</th>\n",
       "      <td>Manager</td>\n",
       "      <td>0</td>\n",
       "      <td>36.0</td>\n",
       "    </tr>\n",
       "    <tr>\n",
       "      <th>421092</th>\n",
       "      <td>Painter</td>\n",
       "      <td>1</td>\n",
       "      <td>60.0</td>\n",
       "    </tr>\n",
       "    <tr>\n",
       "      <th>421093</th>\n",
       "      <td>Radiologist Technologist</td>\n",
       "      <td>1</td>\n",
       "      <td>60.0</td>\n",
       "    </tr>\n",
       "    <tr>\n",
       "      <th>421094</th>\n",
       "      <td>Manager Hotel Operations Oasis</td>\n",
       "      <td>0</td>\n",
       "      <td>36.0</td>\n",
       "    </tr>\n",
       "  </tbody>\n",
       "</table>\n",
       "</div>"
      ],
      "text/plain": [
       "                              emp_title  cluster_1  term\n",
       "421088             KYC Business Analyst          0  36.0\n",
       "421089                          Manager          0  36.0\n",
       "421092                          Painter          1  60.0\n",
       "421093         Radiologist Technologist          1  60.0\n",
       "421094  Manager Hotel Operations Oasis           0  36.0"
      ]
     },
     "execution_count": 7,
     "metadata": {},
     "output_type": "execute_result"
    }
   ],
   "source": [
    "lcdf.tail()[[\"emp_title\", \"cluster_1\", \"term\"]]"
   ]
  },
  {
   "cell_type": "code",
   "execution_count": 175,
   "metadata": {
    "collapsed": true
   },
   "outputs": [],
   "source": [
    "# lcdf.to_csv(\"lcdf_master_data.csv\")"
   ]
  },
  {
   "cell_type": "code",
   "execution_count": 8,
   "metadata": {},
   "outputs": [
    {
     "data": {
      "text/plain": [
       "(183660, 89)"
      ]
     },
     "execution_count": 8,
     "metadata": {},
     "output_type": "execute_result"
    }
   ],
   "source": [
    "lcdf.shape"
   ]
  },
  {
   "cell_type": "code",
   "execution_count": 116,
   "metadata": {
    "collapsed": true
   },
   "outputs": [],
   "source": [
    "# 1. try this one first, found out that total_pymnt and total_rec_int are post application metrics\n",
    "\n",
    "X = lcdf.drop(['total_rec_int', 'total_pymnt', 'loan_status'], axis = 1)\n",
    "y = lcdf.loan_status"
   ]
  },
  {
   "cell_type": "code",
   "execution_count": 9,
   "metadata": {
    "collapsed": true
   },
   "outputs": [],
   "source": [
    "# 2. Try this one second. We do not want total_rec_int or total_pymnt since they are post application metrics... \n",
    "\n",
    "X = lcdf.drop(['emp_title', 'total_rec_int', 'total_pymnt', 'loan_status'], axis= 1)\n",
    "y = lcdf.loan_status"
   ]
  },
  {
   "cell_type": "code",
   "execution_count": 149,
   "metadata": {
    "collapsed": true
   },
   "outputs": [],
   "source": [
    "# 3. Try RF with hand selected subset of features\n",
    "\n",
    "X = lcdf1.drop('loan_status', axis= 1)\n",
    "y = lcdf1.loan_status"
   ]
  },
  {
   "cell_type": "code",
   "execution_count": 13,
   "metadata": {
    "collapsed": true
   },
   "outputs": [],
   "source": [
    "X_train, X_test, y_train, y_test = train_test_split(X, y, test_size = .33,\n",
    "                                                   random_state = 123)"
   ]
  },
  {
   "cell_type": "markdown",
   "metadata": {},
   "source": [
    "grid search for best parameters in Random Forest model:"
   ]
  },
  {
   "cell_type": "code",
   "execution_count": 50,
   "metadata": {
    "collapsed": true
   },
   "outputs": [],
   "source": [
    "#Intialize parameter grid\n",
    "\n",
    "#Range of estimators to test\n",
    "est_range = range(1, 51, 10)\n",
    "depths_range = range(2, 9, 15)\n",
    "\n",
    "#Dictionary of parameter values \n",
    "param_grid_rf = {}\n",
    "\n",
    "param_grid_rf = {\"criterion\": [\"gini\", \"entropy\"], \"max_depth\": depths_range,\n",
    "                 \"class_weight\": [\"balanced\"], \"n_estimators\": est_range}\n",
    "param_grid_rf[\"min_samples_split\"] = [2, 5, 10]\n",
    "param_grid_rf[\"max_features\"] = [1, 10, 15, 20, 30, 40, 85]"
   ]
  },
  {
   "cell_type": "code",
   "execution_count": 51,
   "metadata": {
    "scrolled": true
   },
   "outputs": [
    {
     "name": "stdout",
     "output_type": "stream",
     "text": [
      "Fitting 5 folds for each of 10 candidates, totalling 50 fits\n",
      "[CV] n_estimators=41, min_samples_split=5, criterion=entropy, max_features=1, max_depth=2, class_weight=balanced \n",
      "[CV] n_estimators=41, min_samples_split=5, criterion=entropy, max_features=1, max_depth=2, class_weight=balanced \n",
      "[CV] n_estimators=41, min_samples_split=5, criterion=entropy, max_features=1, max_depth=2, class_weight=balanced \n",
      "[CV] n_estimators=41, min_samples_split=5, criterion=entropy, max_features=1, max_depth=2, class_weight=balanced \n",
      "[CV]  n_estimators=41, min_samples_split=5, criterion=entropy, max_features=1, max_depth=2, class_weight=balanced -   2.9s\n",
      "[CV] n_estimators=41, min_samples_split=5, criterion=entropy, max_features=1, max_depth=2, class_weight=balanced \n",
      "[CV]  n_estimators=41, min_samples_split=5, criterion=entropy, max_features=1, max_depth=2, class_weight=balanced -   3.2s\n",
      "[CV] n_estimators=41, min_samples_split=2, criterion=gini, max_features=20, max_depth=2, class_weight=balanced \n",
      "[CV]  n_estimators=41, min_samples_split=5, criterion=entropy, max_features=1, max_depth=2, class_weight=balanced -   3.1s\n",
      "[CV] n_estimators=41, min_samples_split=2, criterion=gini, max_features=20, max_depth=2, class_weight=balanced \n",
      "[CV]  n_estimators=41, min_samples_split=5, criterion=entropy, max_features=1, max_depth=2, class_weight=balanced -   3.2s\n",
      "[CV] n_estimators=41, min_samples_split=2, criterion=gini, max_features=20, max_depth=2, class_weight=balanced \n",
      "[CV]  n_estimators=41, min_samples_split=5, criterion=entropy, max_features=1, max_depth=2, class_weight=balanced -   3.5s\n",
      "[CV] n_estimators=41, min_samples_split=2, criterion=gini, max_features=20, max_depth=2, class_weight=balanced \n",
      "[CV]  n_estimators=41, min_samples_split=2, criterion=gini, max_features=20, max_depth=2, class_weight=balanced -  12.9s\n",
      "[CV] n_estimators=41, min_samples_split=2, criterion=gini, max_features=20, max_depth=2, class_weight=balanced \n",
      "[CV]  n_estimators=41, min_samples_split=2, criterion=gini, max_features=20, max_depth=2, class_weight=balanced -  13.2s\n",
      "[CV] n_estimators=21, min_samples_split=2, criterion=entropy, max_features=30, max_depth=2, class_weight=balanced \n",
      "[CV]  n_estimators=41, min_samples_split=2, criterion=gini, max_features=20, max_depth=2, class_weight=balanced -  13.4s\n",
      "[CV] n_estimators=21, min_samples_split=2, criterion=entropy, max_features=30, max_depth=2, class_weight=balanced \n",
      "[CV]  n_estimators=41, min_samples_split=2, criterion=gini, max_features=20, max_depth=2, class_weight=balanced -  13.0s\n",
      "[CV] n_estimators=21, min_samples_split=2, criterion=entropy, max_features=30, max_depth=2, class_weight=balanced \n",
      "[CV]  n_estimators=21, min_samples_split=2, criterion=entropy, max_features=30, max_depth=2, class_weight=balanced -   9.3s\n",
      "[CV] n_estimators=21, min_samples_split=2, criterion=entropy, max_features=30, max_depth=2, class_weight=balanced \n",
      "[CV]  n_estimators=21, min_samples_split=2, criterion=entropy, max_features=30, max_depth=2, class_weight=balanced -   9.4s\n",
      "[CV] n_estimators=21, min_samples_split=2, criterion=entropy, max_features=30, max_depth=2, class_weight=balanced \n",
      "[CV]  n_estimators=41, min_samples_split=2, criterion=gini, max_features=20, max_depth=2, class_weight=balanced -  12.0s\n",
      "[CV] n_estimators=31, min_samples_split=5, criterion=entropy, max_features=1, max_depth=2, class_weight=balanced \n",
      "[CV]  n_estimators=21, min_samples_split=2, criterion=entropy, max_features=30, max_depth=2, class_weight=balanced -   9.4s\n",
      "[CV] n_estimators=31, min_samples_split=5, criterion=entropy, max_features=1, max_depth=2, class_weight=balanced \n",
      "[CV]  n_estimators=31, min_samples_split=5, criterion=entropy, max_features=1, max_depth=2, class_weight=balanced -   2.5s\n",
      "[CV] n_estimators=31, min_samples_split=5, criterion=entropy, max_features=1, max_depth=2, class_weight=balanced \n",
      "[CV]  n_estimators=31, min_samples_split=5, criterion=entropy, max_features=1, max_depth=2, class_weight=balanced -   2.4s\n",
      "[CV] n_estimators=31, min_samples_split=5, criterion=entropy, max_features=1, max_depth=2, class_weight=balanced \n",
      "[CV]  n_estimators=31, min_samples_split=5, criterion=entropy, max_features=1, max_depth=2, class_weight=balanced -   2.3s\n",
      "[CV] n_estimators=31, min_samples_split=5, criterion=entropy, max_features=1, max_depth=2, class_weight=balanced \n",
      "[CV]  n_estimators=31, min_samples_split=5, criterion=entropy, max_features=1, max_depth=2, class_weight=balanced -   2.5s\n",
      "[CV] n_estimators=11, min_samples_split=2, criterion=entropy, max_features=30, max_depth=2, class_weight=balanced \n",
      "[CV]  n_estimators=31, min_samples_split=5, criterion=entropy, max_features=1, max_depth=2, class_weight=balanced -   2.6s\n",
      "[CV] n_estimators=11, min_samples_split=2, criterion=entropy, max_features=30, max_depth=2, class_weight=balanced \n",
      "[CV]  n_estimators=21, min_samples_split=2, criterion=entropy, max_features=30, max_depth=2, class_weight=balanced -  11.2s\n",
      "[CV] n_estimators=11, min_samples_split=2, criterion=entropy, max_features=30, max_depth=2, class_weight=balanced \n",
      "[CV]  n_estimators=21, min_samples_split=2, criterion=entropy, max_features=30, max_depth=2, class_weight=balanced -  11.1s\n",
      "[CV] n_estimators=11, min_samples_split=2, criterion=entropy, max_features=30, max_depth=2, class_weight=balanced \n",
      "[CV]  n_estimators=11, min_samples_split=2, criterion=entropy, max_features=30, max_depth=2, class_weight=balanced -   5.9s\n",
      "[CV] n_estimators=11, min_samples_split=2, criterion=entropy, max_features=30, max_depth=2, class_weight=balanced \n",
      "[CV]  n_estimators=11, min_samples_split=2, criterion=entropy, max_features=30, max_depth=2, class_weight=balanced -   5.9s\n",
      "[CV] n_estimators=31, min_samples_split=10, criterion=entropy, max_features=30, max_depth=2, class_weight=balanced \n",
      "[CV]  n_estimators=11, min_samples_split=2, criterion=entropy, max_features=30, max_depth=2, class_weight=balanced -   5.6s\n",
      "[CV] n_estimators=31, min_samples_split=10, criterion=entropy, max_features=30, max_depth=2, class_weight=balanced \n",
      "[CV]  n_estimators=11, min_samples_split=2, criterion=entropy, max_features=30, max_depth=2, class_weight=balanced -   5.8s\n",
      "[CV] n_estimators=31, min_samples_split=10, criterion=entropy, max_features=30, max_depth=2, class_weight=balanced \n",
      "[CV]  n_estimators=11, min_samples_split=2, criterion=entropy, max_features=30, max_depth=2, class_weight=balanced -   5.6s\n",
      "[CV] n_estimators=31, min_samples_split=10, criterion=entropy, max_features=30, max_depth=2, class_weight=balanced \n",
      "[CV]  n_estimators=31, min_samples_split=10, criterion=entropy, max_features=30, max_depth=2, class_weight=balanced -  13.6s\n",
      "[CV] n_estimators=31, min_samples_split=10, criterion=entropy, max_features=30, max_depth=2, class_weight=balanced \n",
      "[CV]  n_estimators=31, min_samples_split=10, criterion=entropy, max_features=30, max_depth=2, class_weight=balanced -  13.8s\n",
      "[CV] n_estimators=41, min_samples_split=10, criterion=gini, max_features=10, max_depth=2, class_weight=balanced \n",
      "[CV]  n_estimators=31, min_samples_split=10, criterion=entropy, max_features=30, max_depth=2, class_weight=balanced -  13.9s\n",
      "[CV] n_estimators=41, min_samples_split=10, criterion=gini, max_features=10, max_depth=2, class_weight=balanced \n",
      "[CV]  n_estimators=31, min_samples_split=10, criterion=entropy, max_features=30, max_depth=2, class_weight=balanced -  13.7s\n",
      "[CV] n_estimators=41, min_samples_split=10, criterion=gini, max_features=10, max_depth=2, class_weight=balanced \n",
      "[CV]  n_estimators=41, min_samples_split=10, criterion=gini, max_features=10, max_depth=2, class_weight=balanced -   7.1s\n",
      "[CV] n_estimators=41, min_samples_split=10, criterion=gini, max_features=10, max_depth=2, class_weight=balanced \n",
      "[CV]  n_estimators=41, min_samples_split=10, criterion=gini, max_features=10, max_depth=2, class_weight=balanced -   7.1s\n",
      "[CV] n_estimators=41, min_samples_split=10, criterion=gini, max_features=10, max_depth=2, class_weight=balanced \n",
      "[CV]  n_estimators=41, min_samples_split=10, criterion=gini, max_features=10, max_depth=2, class_weight=balanced -   7.2s\n",
      "[CV] n_estimators=11, min_samples_split=5, criterion=gini, max_features=15, max_depth=2, class_weight=balanced \n",
      "[CV]  n_estimators=31, min_samples_split=10, criterion=entropy, max_features=30, max_depth=2, class_weight=balanced -  14.2s\n"
     ]
    },
    {
     "name": "stdout",
     "output_type": "stream",
     "text": [
      "[CV] n_estimators=11, min_samples_split=5, criterion=gini, max_features=15, max_depth=2, class_weight=balanced \n",
      "[CV]  n_estimators=11, min_samples_split=5, criterion=gini, max_features=15, max_depth=2, class_weight=balanced -   3.2s\n"
     ]
    },
    {
     "name": "stderr",
     "output_type": "stream",
     "text": [
      "[Parallel(n_jobs=-1)]: Done  33 tasks      | elapsed:  1.2min\n"
     ]
    },
    {
     "name": "stdout",
     "output_type": "stream",
     "text": [
      "[CV] n_estimators=11, min_samples_split=5, criterion=gini, max_features=15, max_depth=2, class_weight=balanced \n",
      "[CV]  n_estimators=41, min_samples_split=10, criterion=gini, max_features=10, max_depth=2, class_weight=balanced -   7.5s\n",
      "[CV] n_estimators=11, min_samples_split=5, criterion=gini, max_features=15, max_depth=2, class_weight=balanced \n",
      "[CV]  n_estimators=41, min_samples_split=10, criterion=gini, max_features=10, max_depth=2, class_weight=balanced -   7.3s\n",
      "[CV] n_estimators=11, min_samples_split=5, criterion=gini, max_features=15, max_depth=2, class_weight=balanced \n",
      "[CV]  n_estimators=11, min_samples_split=5, criterion=gini, max_features=15, max_depth=2, class_weight=balanced -   2.8s\n",
      "[CV] n_estimators=1, min_samples_split=2, criterion=gini, max_features=40, max_depth=2, class_weight=balanced \n",
      "[CV]  n_estimators=11, min_samples_split=5, criterion=gini, max_features=15, max_depth=2, class_weight=balanced -   2.9s\n",
      "[CV] n_estimators=1, min_samples_split=2, criterion=gini, max_features=40, max_depth=2, class_weight=balanced \n",
      "[CV]  n_estimators=1, min_samples_split=2, criterion=gini, max_features=40, max_depth=2, class_weight=balanced -   1.0s\n",
      "[CV] n_estimators=1, min_samples_split=2, criterion=gini, max_features=40, max_depth=2, class_weight=balanced \n",
      "[CV]  n_estimators=1, min_samples_split=2, criterion=gini, max_features=40, max_depth=2, class_weight=balanced -   0.9s\n",
      "[CV] n_estimators=1, min_samples_split=2, criterion=gini, max_features=40, max_depth=2, class_weight=balanced \n",
      "[CV]  n_estimators=11, min_samples_split=5, criterion=gini, max_features=15, max_depth=2, class_weight=balanced -   3.0s\n",
      "[CV] n_estimators=1, min_samples_split=2, criterion=gini, max_features=40, max_depth=2, class_weight=balanced \n",
      "[CV]  n_estimators=1, min_samples_split=2, criterion=gini, max_features=40, max_depth=2, class_weight=balanced -   1.1s\n",
      "[CV] n_estimators=21, min_samples_split=5, criterion=gini, max_features=20, max_depth=2, class_weight=balanced \n",
      "[CV]  n_estimators=1, min_samples_split=2, criterion=gini, max_features=40, max_depth=2, class_weight=balanced -   1.1s\n",
      "[CV] n_estimators=21, min_samples_split=5, criterion=gini, max_features=20, max_depth=2, class_weight=balanced \n",
      "[CV]  n_estimators=11, min_samples_split=5, criterion=gini, max_features=15, max_depth=2, class_weight=balanced -   3.1s\n",
      "[CV] n_estimators=21, min_samples_split=5, criterion=gini, max_features=20, max_depth=2, class_weight=balanced \n",
      "[CV]  n_estimators=1, min_samples_split=2, criterion=gini, max_features=40, max_depth=2, class_weight=balanced -   1.1s\n",
      "[CV] n_estimators=21, min_samples_split=5, criterion=gini, max_features=20, max_depth=2, class_weight=balanced \n",
      "[CV]  n_estimators=21, min_samples_split=5, criterion=gini, max_features=20, max_depth=2, class_weight=balanced -   5.8s\n",
      "[CV] n_estimators=21, min_samples_split=5, criterion=gini, max_features=20, max_depth=2, class_weight=balanced \n",
      "[CV]  n_estimators=21, min_samples_split=5, criterion=gini, max_features=20, max_depth=2, class_weight=balanced -   5.8s\n",
      "[CV]  n_estimators=21, min_samples_split=5, criterion=gini, max_features=20, max_depth=2, class_weight=balanced -   6.0s\n",
      "[CV]  n_estimators=21, min_samples_split=5, criterion=gini, max_features=20, max_depth=2, class_weight=balanced -   5.8s\n",
      "[CV]  n_estimators=21, min_samples_split=5, criterion=gini, max_features=20, max_depth=2, class_weight=balanced -   3.2s\n"
     ]
    },
    {
     "name": "stderr",
     "output_type": "stream",
     "text": [
      "[Parallel(n_jobs=-1)]: Done  50 out of  50 | elapsed:  1.4min finished\n"
     ]
    },
    {
     "name": "stdout",
     "output_type": "stream",
     "text": [
      "89.8824748993\n"
     ]
    }
   ],
   "source": [
    "#Intialize RandomizedSearchCV grid with n_iter = 10\n",
    "grid_rf = RandomizedSearchCV(RandomForestClassifier(), n_iter = 10,\n",
    "                            param_distributions = param_grid_rf, cv = 5, scoring = \"accuracy\",\n",
    "                             verbose = 2, n_jobs = -1)\n",
    "\n",
    "t = time()\n",
    "\n",
    "#Fit grid on data\n",
    "grid_rf.fit(X, y)\n",
    "\n",
    "print time() - t"
   ]
  },
  {
   "cell_type": "code",
   "execution_count": 52,
   "metadata": {},
   "outputs": [
    {
     "name": "stdout",
     "output_type": "stream",
     "text": [
      "{'n_estimators': 41, 'max_features': 10, 'criterion': 'gini', 'min_samples_split': 10, 'max_depth': 2, 'class_weight': 'balanced'}\n",
      "0.632527496461\n"
     ]
    }
   ],
   "source": [
    "print grid_rf.best_params_\n",
    "print grid_rf.best_score_"
   ]
  },
  {
   "cell_type": "code",
   "execution_count": 56,
   "metadata": {},
   "outputs": [
    {
     "data": {
      "text/plain": [
       "RandomForestClassifier(bootstrap=True, class_weight='balanced',\n",
       "            criterion='gini', max_depth=2, max_features=10,\n",
       "            max_leaf_nodes=None, min_impurity_decrease=0.0,\n",
       "            min_impurity_split=None, min_samples_leaf=1,\n",
       "            min_samples_split=10, min_weight_fraction_leaf=0.0,\n",
       "            n_estimators=41, n_jobs=-1, oob_score=False, random_state=None,\n",
       "            verbose=0, warm_start=False)"
      ]
     },
     "execution_count": 56,
     "metadata": {},
     "output_type": "execute_result"
    }
   ],
   "source": [
    "rf = RandomForestClassifier(class_weight= \"balanced\", n_estimators= 41, criterion= 'gini', max_depth= 2, \n",
    "                            n_jobs = -1, min_samples_split = 10, max_features = 10)\n",
    "rf.fit(X_train, y_train)"
   ]
  },
  {
   "cell_type": "code",
   "execution_count": 57,
   "metadata": {},
   "outputs": [
    {
     "data": {
      "text/plain": [
       "0.642313818548256"
      ]
     },
     "execution_count": 57,
     "metadata": {},
     "output_type": "execute_result"
    }
   ],
   "source": [
    "rf.score(X_train, y_train)"
   ]
  },
  {
   "cell_type": "code",
   "execution_count": 58,
   "metadata": {},
   "outputs": [
    {
     "data": {
      "text/plain": [
       "0.6410374868004224"
      ]
     },
     "execution_count": 58,
     "metadata": {},
     "output_type": "execute_result"
    }
   ],
   "source": [
    "rf.score(X_test, y_test)"
   ]
  },
  {
   "cell_type": "code",
   "execution_count": null,
   "metadata": {
    "collapsed": true
   },
   "outputs": [],
   "source": []
  },
  {
   "cell_type": "code",
   "execution_count": 59,
   "metadata": {
    "collapsed": true
   },
   "outputs": [],
   "source": [
    "preds = rf.predict(X_test)"
   ]
  },
  {
   "cell_type": "code",
   "execution_count": 60,
   "metadata": {},
   "outputs": [
    {
     "data": {
      "text/plain": [
       "0.3870837611852721"
      ]
     },
     "execution_count": 60,
     "metadata": {},
     "output_type": "execute_result"
    }
   ],
   "source": [
    "precision_score(y_test, preds)"
   ]
  },
  {
   "cell_type": "code",
   "execution_count": 61,
   "metadata": {},
   "outputs": [
    {
     "data": {
      "text/plain": [
       "0.67668931914348"
      ]
     },
     "execution_count": 61,
     "metadata": {},
     "output_type": "execute_result"
    }
   ],
   "source": [
    "recall_score(y_test, preds)"
   ]
  },
  {
   "cell_type": "code",
   "execution_count": 62,
   "metadata": {},
   "outputs": [
    {
     "data": {
      "text/html": [
       "<div>\n",
       "<style>\n",
       "    .dataframe thead tr:only-child th {\n",
       "        text-align: right;\n",
       "    }\n",
       "\n",
       "    .dataframe thead th {\n",
       "        text-align: left;\n",
       "    }\n",
       "\n",
       "    .dataframe tbody tr th {\n",
       "        vertical-align: top;\n",
       "    }\n",
       "</style>\n",
       "<table border=\"1\" class=\"dataframe\">\n",
       "  <thead>\n",
       "    <tr style=\"text-align: right;\">\n",
       "      <th></th>\n",
       "      <th>Predicted Good Loan</th>\n",
       "      <th>Predicted Bad Loan</th>\n",
       "    </tr>\n",
       "  </thead>\n",
       "  <tbody>\n",
       "    <tr>\n",
       "      <th>0</th>\n",
       "      <td>28297</td>\n",
       "      <td>16713</td>\n",
       "    </tr>\n",
       "    <tr>\n",
       "      <th>1</th>\n",
       "      <td>5043</td>\n",
       "      <td>10555</td>\n",
       "    </tr>\n",
       "  </tbody>\n",
       "</table>\n",
       "</div>"
      ],
      "text/plain": [
       "   Predicted Good Loan  Predicted Bad Loan\n",
       "0                28297               16713\n",
       "1                 5043               10555"
      ]
     },
     "execution_count": 62,
     "metadata": {},
     "output_type": "execute_result"
    }
   ],
   "source": [
    "cm = confusion_matrix(y_test, preds)\n",
    "confus_mat = pd.DataFrame(cm, columns = (\"Predicted Good Loan\", \"Predicted Bad Loan\"))\n",
    "confus_mat"
   ]
  },
  {
   "cell_type": "code",
   "execution_count": 63,
   "metadata": {},
   "outputs": [
    {
     "data": {
      "text/plain": [
       "[(0.2301888782410494, 'term'),\n",
       " (0.18538546041715584, 'int_rate'),\n",
       " (0.08457617557658224, 'avg_cur_bal'),\n",
       " (0.07789077142960156, 'dti'),\n",
       " (0.07677724772341105, 'bc_open_to_buy'),\n",
       " (0.06046117512734513, 'tot_hi_cred_lim'),\n",
       " (0.04272181101565922, 'tot_cur_bal'),\n",
       " (0.02930696700864387, 'percent_bc_gt_75'),\n",
       " (0.02594391908470666, 'ownership_rent'),\n",
       " (0.02563615393380478, 'total_rev_hi_lim'),\n",
       " (0.024708025067579385, 'installment'),\n",
       " (0.01905913077699102, 'bc_util'),\n",
       " (0.018599926034646865, 'mort_acc'),\n",
       " (0.017563413402991817, 'annual_inc'),\n",
       " (0.01516765495534878, 'mo_sin_rcnt_tl'),\n",
       " (0.012017938596177178, 'acc_open_past_24mths'),\n",
       " (0.010553503195760563, 'loan_amnt'),\n",
       " (0.010028032152876763, 'num_tl_op_past_12m'),\n",
       " (0.009867844466138361, 'revol_util'),\n",
       " (0.005392784539625903, 'total_bc_limit')]"
      ]
     },
     "execution_count": 63,
     "metadata": {},
     "output_type": "execute_result"
    }
   ],
   "source": [
    "sorted(zip(rf.feature_importances_, X.columns), reverse=True)[:20]"
   ]
  },
  {
   "cell_type": "code",
   "execution_count": null,
   "metadata": {
    "collapsed": true
   },
   "outputs": [],
   "source": []
  },
  {
   "cell_type": "code",
   "execution_count": null,
   "metadata": {
    "collapsed": true
   },
   "outputs": [],
   "source": []
  },
  {
   "cell_type": "code",
   "execution_count": null,
   "metadata": {
    "collapsed": true
   },
   "outputs": [],
   "source": []
  },
  {
   "cell_type": "code",
   "execution_count": null,
   "metadata": {
    "collapsed": true
   },
   "outputs": [],
   "source": []
  },
  {
   "cell_type": "markdown",
   "metadata": {},
   "source": [
    "Domain knowledge time!"
   ]
  },
  {
   "cell_type": "code",
   "execution_count": 65,
   "metadata": {
    "collapsed": true
   },
   "outputs": [],
   "source": [
    "test_probs = rf.predict_proba(X_test)[:,1]"
   ]
  },
  {
   "cell_type": "code",
   "execution_count": 66,
   "metadata": {},
   "outputs": [
    {
     "data": {
      "text/plain": [
       "0.7085458983498958"
      ]
     },
     "execution_count": 66,
     "metadata": {},
     "output_type": "execute_result"
    }
   ],
   "source": [
    "#Caculate the area under the curve score using roc_auc_score using SKLEARN. only work with Binary Classification\n",
    "roc_auc_score(y_test, test_probs)"
   ]
  },
  {
   "cell_type": "code",
   "execution_count": 68,
   "metadata": {},
   "outputs": [
    {
     "data": {
      "text/plain": [
       "0.7053863787907522"
      ]
     },
     "execution_count": 68,
     "metadata": {},
     "output_type": "execute_result"
    }
   ],
   "source": [
    "cross_val_score(rf, X, y, cv = 5, scoring = \"roc_auc\").mean()"
   ]
  },
  {
   "cell_type": "code",
   "execution_count": 70,
   "metadata": {},
   "outputs": [
    {
     "data": {
      "text/plain": [
       "0.6405418794655177"
      ]
     },
     "execution_count": 70,
     "metadata": {},
     "output_type": "execute_result"
    }
   ],
   "source": [
    "cross_val_score(rf, X, y, cv = 5, scoring = \"accuracy\").mean()"
   ]
  },
  {
   "cell_type": "code",
   "execution_count": 69,
   "metadata": {},
   "outputs": [
    {
     "data": {
      "text/plain": [
       "0    0.743967\n",
       "1    0.256033\n",
       "Name: loan_status, dtype: float64"
      ]
     },
     "execution_count": 69,
     "metadata": {},
     "output_type": "execute_result"
    }
   ],
   "source": [
    "y.value_counts(normalize= True)"
   ]
  },
  {
   "cell_type": "code",
   "execution_count": null,
   "metadata": {
    "collapsed": true
   },
   "outputs": [],
   "source": [
    "# Random Forest via RandomSearch doesn't beat the null accuracy, but the model does better without Balanced classes"
   ]
  },
  {
   "cell_type": "code",
   "execution_count": null,
   "metadata": {
    "collapsed": true
   },
   "outputs": [],
   "source": []
  },
  {
   "cell_type": "code",
   "execution_count": null,
   "metadata": {
    "collapsed": true
   },
   "outputs": [],
   "source": []
  },
  {
   "cell_type": "code",
   "execution_count": 22,
   "metadata": {},
   "outputs": [
    {
     "data": {
      "text/plain": [
       "(123052, 85)"
      ]
     },
     "execution_count": 22,
     "metadata": {},
     "output_type": "execute_result"
    }
   ],
   "source": [
    "X_train.shape"
   ]
  },
  {
   "cell_type": "markdown",
   "metadata": {},
   "source": [
    "# AdaBoost Model Selection"
   ]
  },
  {
   "cell_type": "code",
   "execution_count": 19,
   "metadata": {
    "collapsed": true
   },
   "outputs": [],
   "source": [
    "from sklearn.ensemble import AdaBoostClassifier"
   ]
  },
  {
   "cell_type": "code",
   "execution_count": null,
   "metadata": {
    "collapsed": true
   },
   "outputs": [],
   "source": [
    "# AdaBoost Classifier model with Logistic Regression as the base\n",
    "\n",
    "t = time()\n",
    "\n",
    "#Create list of estimator values\n",
    "estimators = range(50, 150, 50)\n",
    "\n",
    "#Intialize cross validation scores list\n",
    "cv_scores = []\n",
    "\n",
    "#Iterate over estimators values, fit models, and then append scores to cv_scores\n",
    "for est in estimators:\n",
    "    model = AdaBoostClassifier(n_estimators= est, learning_rate= 1)\n",
    "    score = cross_val_score(model, X, y, cv = 5, scoring = \"accuracy\", n_jobs = -1).mean()\n",
    "    cv_scores.append(score)\n",
    "    \n",
    "#Print difference in time\n",
    "print (time() - t)"
   ]
  },
  {
   "cell_type": "code",
   "execution_count": 174,
   "metadata": {},
   "outputs": [
    {
     "data": {
      "image/png": "[encoded data removed]",
      "text/plain": [
       "<matplotlib.figure.Figure at 0x1a13f35650>"
      ]
     },
     "metadata": {},
     "output_type": "display_data"
    }
   ],
   "source": [
    "#Plot estimators versus scores\n",
    "plt.figure(figsize = (10, 8))\n",
    "plt.plot(estimators, cv_scores, linewidth = 3)\n",
    "plt.xlabel(\"N Estimators\")\n",
    "plt.ylabel(\"Cross Validated Accuracy Scores\");"
   ]
  },
  {
   "cell_type": "code",
   "execution_count": 175,
   "metadata": {},
   "outputs": [
    {
     "data": {
      "text/plain": [
       "(0.75606361124789778, 260)"
      ]
     },
     "execution_count": 175,
     "metadata": {},
     "output_type": "execute_result"
    }
   ],
   "source": [
    "sorted(zip(cv_scores, estimators), reverse = True)[0]"
   ]
  },
  {
   "cell_type": "code",
   "execution_count": 25,
   "metadata": {
    "collapsed": true
   },
   "outputs": [],
   "source": [
    "ada = AdaBoostClassifier(n_estimators= 260)"
   ]
  },
  {
   "cell_type": "code",
   "execution_count": 26,
   "metadata": {},
   "outputs": [
    {
     "data": {
      "text/plain": [
       "AdaBoostClassifier(algorithm='SAMME.R', base_estimator=None,\n",
       "          learning_rate=1.0, n_estimators=260, random_state=None)"
      ]
     },
     "execution_count": 26,
     "metadata": {},
     "output_type": "execute_result"
    }
   ],
   "source": [
    "ada.fit(X_train, y_train)"
   ]
  },
  {
   "cell_type": "code",
   "execution_count": 27,
   "metadata": {},
   "outputs": [
    {
     "data": {
      "text/plain": [
       "0.7535968848996832"
      ]
     },
     "execution_count": 27,
     "metadata": {},
     "output_type": "execute_result"
    }
   ],
   "source": [
    "ada.score(X_test, y_test)"
   ]
  },
  {
   "cell_type": "code",
   "execution_count": 29,
   "metadata": {
    "collapsed": true
   },
   "outputs": [],
   "source": [
    "preds = ada.predict(X_test)"
   ]
  },
  {
   "cell_type": "code",
   "execution_count": 30,
   "metadata": {},
   "outputs": [
    {
     "data": {
      "text/plain": [
       "0.5595836324479541"
      ]
     },
     "execution_count": 30,
     "metadata": {},
     "output_type": "execute_result"
    }
   ],
   "source": [
    "precision_score(y_test, preds)"
   ]
  },
  {
   "cell_type": "code",
   "execution_count": 31,
   "metadata": {},
   "outputs": [
    {
     "data": {
      "text/plain": [
       "0.19989742274650596"
      ]
     },
     "execution_count": 31,
     "metadata": {},
     "output_type": "execute_result"
    }
   ],
   "source": [
    "recall_score(y_test, preds)"
   ]
  },
  {
   "cell_type": "code",
   "execution_count": 33,
   "metadata": {},
   "outputs": [
    {
     "data": {
      "text/plain": [
       "array([[42556,  2454],\n",
       "       [12480,  3118]])"
      ]
     },
     "execution_count": 33,
     "metadata": {},
     "output_type": "execute_result"
    }
   ],
   "source": [
    "cm = confusion_matrix(y_test, preds)\n",
    "cm"
   ]
  },
  {
   "cell_type": "code",
   "execution_count": 34,
   "metadata": {},
   "outputs": [
    {
     "name": "stdout",
     "output_type": "stream",
     "text": [
      "[CV]  ................................................................\n",
      "[CV]  ................................................................\n",
      "[CV]  ................................................................\n",
      "[CV]  ................................................................\n",
      "[CV] .......................................................  - 3.4min\n",
      "[CV]  ................................................................\n",
      "[CV] .......................................................  - 3.4min\n",
      "[CV] .......................................................  - 3.4min\n",
      "[CV] .......................................................  - 3.4min\n",
      "[CV] .......................................................  - 1.7min\n"
     ]
    },
    {
     "name": "stderr",
     "output_type": "stream",
     "text": [
      "[Parallel(n_jobs=-1)]: Done   5 out of   5 | elapsed:  5.1min finished\n"
     ]
    },
    {
     "data": {
      "text/plain": [
       "array([0.73770398, 0.73624144, 0.72907363, 0.7208766 , 0.72333534])"
      ]
     },
     "execution_count": 34,
     "metadata": {},
     "output_type": "execute_result"
    }
   ],
   "source": [
    "cross_val_score(ada, X, y, cv = 5, scoring= \"roc_auc\", n_jobs= -1, verbose = 2)"
   ]
  },
  {
   "cell_type": "code",
   "execution_count": 38,
   "metadata": {},
   "outputs": [
    {
     "data": {
      "text/plain": [
       "0.729446198"
      ]
     },
     "execution_count": 38,
     "metadata": {},
     "output_type": "execute_result"
    }
   ],
   "source": [
    "(0.73770398 + 0.73624144 + 0.72907363 + 0.7208766 + 0.72333534)/5"
   ]
  },
  {
   "cell_type": "code",
   "execution_count": 39,
   "metadata": {},
   "outputs": [
    {
     "name": "stdout",
     "output_type": "stream",
     "text": [
      "[CV]  ................................................................\n",
      "[CV]  ................................................................\n",
      "[CV]  ................................................................\n",
      "[CV]  ................................................................\n",
      "[CV] .......................................................  - 3.5min\n",
      "[CV]  ................................................................\n",
      "[CV] .......................................................  - 3.5min\n",
      "[CV] .......................................................  - 3.5min\n",
      "[CV] .......................................................  - 3.5min\n",
      "[CV] .......................................................  - 1.7min\n"
     ]
    },
    {
     "name": "stderr",
     "output_type": "stream",
     "text": [
      "[Parallel(n_jobs=-1)]: Done   5 out of   5 | elapsed:  5.2min finished\n"
     ]
    },
    {
     "data": {
      "text/plain": [
       "0.7565936589233804"
      ]
     },
     "execution_count": 39,
     "metadata": {},
     "output_type": "execute_result"
    }
   ],
   "source": [
    "cross_val_score(ada, X, y, cv = 5, scoring= \"accuracy\", n_jobs= -1, verbose = 2).mean()"
   ]
  },
  {
   "cell_type": "markdown",
   "metadata": {
    "collapsed": true
   },
   "source": [
    "# KNN Classifier"
   ]
  },
  {
   "cell_type": "code",
   "execution_count": 190,
   "metadata": {
    "collapsed": true
   },
   "outputs": [],
   "source": [
    "X = lcdf.drop(['total_pymnt', 'emp_title', 'total_rec_int', 'loan_status'], axis= 1)\n",
    "y = lcdf.loan_status\n",
    "\n",
    "X_train, X_test, y_train, y_test = train_test_split(X, y, test_size = .33, random_state = 123)"
   ]
  },
  {
   "cell_type": "code",
   "execution_count": 191,
   "metadata": {
    "collapsed": true
   },
   "outputs": [],
   "source": [
    "from sklearn.pipeline import Pipeline, make_pipeline\n",
    "from sklearn.neighbors import KNeighborsClassifier\n",
    "\n",
    "pipe = make_pipeline(StandardScaler(), KNeighborsClassifier())"
   ]
  },
  {
   "cell_type": "code",
   "execution_count": 192,
   "metadata": {},
   "outputs": [
    {
     "data": {
      "text/plain": [
       "{'kneighborsclassifier__n_neighbors': [3, 5, 7, 9, 11]}"
      ]
     },
     "execution_count": 192,
     "metadata": {},
     "output_type": "execute_result"
    }
   ],
   "source": [
    "#Create new param_grid\n",
    "neighbors_range = range(3, 13, 2)\n",
    "param_grid_knn = {}\n",
    "param_grid_knn[\"kneighborsclassifier__n_neighbors\"] = neighbors_range\n",
    "param_grid_knn"
   ]
  },
  {
   "cell_type": "code",
   "execution_count": null,
   "metadata": {
    "collapsed": true
   },
   "outputs": [],
   "source": [
    "#Pass in pipe into GridSearchCV function, \n",
    "grid_knn_pipe = RandomizedSearchCV(estimator = pipe, param_grid= param_grid_knn, cv = 5, scoring = \"accuracy\")\n",
    "\n",
    "#Fit on original versions of data\n",
    "grid_knn_pipe.fit(X, y)\n",
    "\n",
    "#Best scores and params\n",
    "grid_knn_pipe.best_score_"
   ]
  },
  {
   "cell_type": "code",
   "execution_count": null,
   "metadata": {
    "collapsed": true
   },
   "outputs": [],
   "source": [
    "grid_knn_pipe.best_estimator_"
   ]
  },
  {
   "cell_type": "code",
   "execution_count": null,
   "metadata": {
    "collapsed": true
   },
   "outputs": [],
   "source": []
  },
  {
   "cell_type": "code",
   "execution_count": null,
   "metadata": {
    "collapsed": true
   },
   "outputs": [],
   "source": []
  },
  {
   "cell_type": "code",
   "execution_count": null,
   "metadata": {
    "collapsed": true
   },
   "outputs": [],
   "source": []
  },
  {
   "cell_type": "code",
   "execution_count": null,
   "metadata": {
    "collapsed": true
   },
   "outputs": [],
   "source": []
  },
  {
   "cell_type": "code",
   "execution_count": null,
   "metadata": {
    "collapsed": true
   },
   "outputs": [],
   "source": []
  },
  {
   "cell_type": "markdown",
   "metadata": {
    "collapsed": true
   },
   "source": [
    "# PCA | AdaBoost"
   ]
  },
  {
   "cell_type": "code",
   "execution_count": 188,
   "metadata": {
    "collapsed": true
   },
   "outputs": [],
   "source": [
    "from sklearn.preprocessing import StandardScaler\n",
    "from sklearn.decomposition import PCA\n",
    "from sklearn.ensemble import AdaBoostClassifier"
   ]
  },
  {
   "cell_type": "code",
   "execution_count": 73,
   "metadata": {},
   "outputs": [
    {
     "name": "stdout",
     "output_type": "stream",
     "text": [
      "<class 'pandas.core.frame.DataFrame'>\n",
      "Int64Index: 183660 entries, 1 to 421094\n",
      "Data columns (total 89 columns):\n",
      "num_tl_120dpd_2m              183660 non-null float64\n",
      "mo_sin_old_il_acct            183660 non-null float64\n",
      "percent_bc_gt_75              183660 non-null float64\n",
      "bc_util                       183660 non-null float64\n",
      "bc_open_to_buy                183660 non-null float64\n",
      "dti                           183660 non-null float64\n",
      "num_rev_accts                 183660 non-null float64\n",
      "delinq_2yrs                   183660 non-null int64\n",
      "inq_last_6mths                183660 non-null int64\n",
      "revol_bal                     183660 non-null int64\n",
      "open_acc                      183660 non-null int64\n",
      "pub_rec                       183660 non-null int64\n",
      "total_acc                     183660 non-null int64\n",
      "num_bc_tl                     183660 non-null int64\n",
      "funded_amnt                   183660 non-null int64\n",
      "int_rate                      183660 non-null float64\n",
      "installment                   183660 non-null float64\n",
      "annual_inc                    183660 non-null float64\n",
      "total_rec_int                 183660 non-null float64\n",
      "chargeoff_within_12_mths      183660 non-null int64\n",
      "num_sats                      183660 non-null int64\n",
      "num_rev_tl_bal_gt_0           183660 non-null int64\n",
      "total_rev_hi_lim              183660 non-null int64\n",
      "num_op_rev_tl                 183660 non-null int64\n",
      "num_il_tl                     183660 non-null int64\n",
      "acc_open_past_24mths          183660 non-null int64\n",
      "avg_cur_bal                   183660 non-null int64\n",
      "delinq_amnt                   183660 non-null int64\n",
      "num_tl_90g_dpd_24m            183660 non-null int64\n",
      "mo_sin_old_rev_tl_op          183660 non-null int64\n",
      "mo_sin_rcnt_rev_tl_op         183660 non-null int64\n",
      "mo_sin_rcnt_tl                183660 non-null int64\n",
      "mort_acc                      183660 non-null int64\n",
      "num_accts_ever_120_pd         183660 non-null int64\n",
      "num_actv_bc_tl                183660 non-null int64\n",
      "num_actv_rev_tl               183660 non-null int64\n",
      "num_tl_30dpd                  183660 non-null int64\n",
      "num_tl_op_past_12m            183660 non-null int64\n",
      "total_il_high_credit_limit    183660 non-null int64\n",
      "num_bc_sats                   183660 non-null int64\n",
      "collections_12_mths_ex_med    183660 non-null int64\n",
      "policy_code                   183660 non-null int64\n",
      "total_bc_limit                183660 non-null int64\n",
      "pct_tl_nvr_dlq                183660 non-null float64\n",
      "total_bal_ex_mort             183660 non-null int64\n",
      "acc_now_delinq                183660 non-null int64\n",
      "tot_coll_amt                  183660 non-null int64\n",
      "tot_cur_bal                   183660 non-null int64\n",
      "tot_hi_cred_lim               183660 non-null int64\n",
      "tax_liens                     183660 non-null int64\n",
      "pub_rec_bankruptcies          183660 non-null int64\n",
      "loan_amnt                     183660 non-null int64\n",
      "total_pymnt                   183660 non-null float64\n",
      "revol_util                    183660 non-null float64\n",
      "term                          183660 non-null float64\n",
      "loan_status                   183660 non-null int64\n",
      "emp_title                     183660 non-null object\n",
      "purpose_credit_card           183660 non-null int64\n",
      "purpose_debt_consolidation    183660 non-null int64\n",
      "purpose_educational           183660 non-null int64\n",
      "purpose_home_improvement      183660 non-null int64\n",
      "purpose_house                 183660 non-null int64\n",
      "purpose_major_purchase        183660 non-null int64\n",
      "purpose_medical               183660 non-null int64\n",
      "purpose_moving                183660 non-null int64\n",
      "purpose_other                 183660 non-null int64\n",
      "purpose_renewable_energy      183660 non-null int64\n",
      "purpose_small_business        183660 non-null int64\n",
      "purpose_vacation              183660 non-null int64\n",
      "purpose_wedding               183660 non-null int64\n",
      "emp_length_10+ years          183660 non-null int64\n",
      "emp_length_2 years            183660 non-null int64\n",
      "emp_length_3 years            183660 non-null int64\n",
      "emp_length_4 years            183660 non-null int64\n",
      "emp_length_5 years            183660 non-null int64\n",
      "emp_length_6 years            183660 non-null int64\n",
      "emp_length_7 years            183660 non-null int64\n",
      "emp_length_8 years            183660 non-null int64\n",
      "emp_length_9 years            183660 non-null int64\n",
      "emp_length_< 1 year           183660 non-null int64\n",
      "emp_length_n/a                183660 non-null int64\n",
      "ownership_own                 183660 non-null int64\n",
      "ownership_rent                183660 non-null int64\n",
      "cluster_0                     183660 non-null uint8\n",
      "cluster_1                     183660 non-null uint8\n",
      "cluster_2                     183660 non-null uint8\n",
      "cluster_3                     183660 non-null uint8\n",
      "cluster_4                     183660 non-null uint8\n",
      "cluster_5                     183660 non-null uint8\n",
      "dtypes: float64(15), int64(67), object(1), uint8(6)\n",
      "memory usage: 123.8+ MB\n"
     ]
    }
   ],
   "source": [
    "lcdf.info()"
   ]
  },
  {
   "cell_type": "code",
   "execution_count": 189,
   "metadata": {
    "collapsed": true
   },
   "outputs": [],
   "source": [
    "# We do not want total_rec_int or total_pymnt since they are post application metrics... \n",
    "\n",
    "X = lcdf.drop(['emp_title', 'total_rec_int', 'total_pymnt', 'loan_status'], axis= 1)\n",
    "y = lcdf.loan_status\n",
    "\n",
    "X_train, X_test, y_train, y_test = train_test_split(X, y, test_size = .33,\n",
    "                                                   random_state = 123)"
   ]
  },
  {
   "cell_type": "code",
   "execution_count": 190,
   "metadata": {
    "collapsed": true
   },
   "outputs": [],
   "source": [
    "# Standarize features\n",
    "scaler = StandardScaler()\n",
    "X_s = scaler.fit_transform(X)"
   ]
  },
  {
   "cell_type": "code",
   "execution_count": 191,
   "metadata": {},
   "outputs": [
    {
     "data": {
      "text/plain": [
       "85"
      ]
     },
     "execution_count": 191,
     "metadata": {},
     "output_type": "execute_result"
    }
   ],
   "source": [
    "#Intialize PCA object\n",
    "#We're deliberating leaving the n_components parameters alone\n",
    "pca = PCA()\n",
    "\n",
    "#Fit and transform wine_s use pca\n",
    "lcdf_pca = pca.fit_transform(X_s)\n",
    "\n",
    "#Number of components\n",
    "pca.n_components_"
   ]
  },
  {
   "cell_type": "code",
   "execution_count": null,
   "metadata": {
    "collapsed": true
   },
   "outputs": [],
   "source": [
    "# try in tensorflow or h2o.ai \n",
    "lcdf_pca.to_csv(\"LCDF_PCA_new.csv\", sep= \"\\t\")"
   ]
  },
  {
   "cell_type": "code",
   "execution_count": 78,
   "metadata": {},
   "outputs": [
    {
     "data": {
      "text/plain": [
       "0.8512792813477468"
      ]
     },
     "execution_count": 78,
     "metadata": {},
     "output_type": "execute_result"
    }
   ],
   "source": [
    "pca.explained_variance_ratio_[:44].sum()\n",
    "# ~85% of the explained variance is within 40 PC's. "
   ]
  },
  {
   "cell_type": "code",
   "execution_count": 79,
   "metadata": {},
   "outputs": [
    {
     "data": {
      "text/plain": [
       "0.17462822055619753"
      ]
     },
     "execution_count": 79,
     "metadata": {},
     "output_type": "execute_result"
    }
   ],
   "source": [
    "pca.explained_variance_ratio_[:2].sum()"
   ]
  },
  {
   "cell_type": "code",
   "execution_count": 81,
   "metadata": {},
   "outputs": [
    {
     "data": {
      "text/plain": [
       "0.9999999999999999"
      ]
     },
     "execution_count": 81,
     "metadata": {},
     "output_type": "execute_result"
    }
   ],
   "source": [
    "pca.explained_variance_ratio_.sum()"
   ]
  },
  {
   "cell_type": "code",
   "execution_count": 82,
   "metadata": {},
   "outputs": [
    {
     "data": {
      "image/png": "[encoded data removed]",
      "text/plain": [
       "<matplotlib.figure.Figure at 0x10f4ff410>"
      ]
     },
     "metadata": {},
     "output_type": "display_data"
    }
   ],
   "source": [
    "plt.figure(figsize=(10, 8))\n",
    "\n",
    "components = range(1, pca.n_components_ +1)\n",
    "\n",
    "plt.bar(components, pca.explained_variance_ratio_, label = \"Explained Variance Ratio\")\n",
    "plt.plot(components, np.cumsum(pca.explained_variance_ratio_), \n",
    "         c = \"c\", label = \"Cumulative Sum of Explained Variance ratios\")\n",
    "\n",
    "plt.xlabel(\"Components\")\n",
    "plt.ylabel(\"Explained Varianced\")\n",
    "plt.legend();"
   ]
  },
  {
   "cell_type": "code",
   "execution_count": null,
   "metadata": {
    "collapsed": true
   },
   "outputs": [],
   "source": []
  },
  {
   "cell_type": "code",
   "execution_count": 83,
   "metadata": {},
   "outputs": [
    {
     "name": "stdout",
     "output_type": "stream",
     "text": [
      "0.2627670296424945 open_acc\n",
      "0.2625832174922607 chargeoff_within_12_mths\n",
      "0.262011104725809 total_rev_hi_lim\n",
      "0.24740696931561101 total_il_high_credit_limit\n",
      "0.2410256634880828 num_rev_accts\n",
      "0.2337414260186937 total_acc\n",
      "0.22976601670491328 num_bc_tl\n",
      "0.22590239351961242 num_sats\n",
      "0.22563141018928332 num_actv_bc_tl\n",
      "0.21937844175781077 num_rev_tl_bal_gt_0\n",
      "0.21530449508768484 num_accts_ever_120_pd\n",
      "0.20965655004810851 policy_code\n",
      "0.1681516497352457 tot_cur_bal\n",
      "0.16659064141811675 bc_open_to_buy\n",
      "0.15976573663984775 revol_bal\n",
      "0.15595746441886496 pct_tl_nvr_dlq\n",
      "0.1494154828693681 tot_coll_amt\n",
      "0.14641501426326003 num_il_tl\n",
      "0.14453187950152177 funded_amnt\n",
      "0.14453187950152174 pub_rec_bankruptcies\n"
     ]
    }
   ],
   "source": [
    "#Component 1, top 20 weights\n",
    "for comp, col in sorted(zip(pca.components_[0], lcdf.columns), reverse = True)[:20]:\n",
    "    print comp, col\n",
    "    \n",
    "    # Top 5 weights: open_acc, chargeoff_within_12_mths, total_rev_hi_lim, total_il_high_credit_limit, num_rev_accts"
   ]
  },
  {
   "cell_type": "code",
   "execution_count": 116,
   "metadata": {},
   "outputs": [
    {
     "name": "stdout",
     "output_type": "stream",
     "text": [
      "0.3224929328681275 acc_open_past_24mths\n",
      "0.28982059356559614 tot_coll_amt\n",
      "0.28363950701682744 tot_cur_bal\n",
      "0.22460166806918855 pub_rec_bankruptcies\n",
      "0.22460166806918852 funded_amnt\n",
      "0.20828645816977345 installment\n",
      "0.19210958741513204 revol_bal\n",
      "0.1822313740513786 mo_sin_old_rev_tl_op\n",
      "0.1769818089765357 mo_sin_rcnt_tl\n",
      "0.17228608706209736 pct_tl_nvr_dlq\n",
      "0.16112198481936837 annual_inc\n",
      "0.15768814672421752 loan_amnt\n",
      "0.1410292578888691 mo_sin_rcnt_rev_tl_op\n",
      "0.12598736536873456 num_rev_tl_bal_gt_0\n",
      "0.11838649137438571 bc_util\n",
      "0.11553005027108691 num_tl_op_past_12m\n",
      "0.10583311707770084 percent_bc_gt_75\n",
      "0.1000777614071962 policy_code\n",
      "0.08653739237777008 num_tl_90g_dpd_24m\n",
      "0.08092006517571486 mo_sin_old_il_acct\n"
     ]
    }
   ],
   "source": [
    "#Component 2, top 20 weights\n",
    "for comp, col in sorted(zip(pca.components_[1], lcdf.columns), reverse = True)[:20]:\n",
    "    print comp, col\n",
    "    \n",
    "    # Top 5 weights: acc_open_past_24mths, tot_coll_amt, tot_cur_bal, pub_rec_bankruptcies, funded_amnt"
   ]
  },
  {
   "cell_type": "code",
   "execution_count": 84,
   "metadata": {},
   "outputs": [
    {
     "data": {
      "image/png": "[encoded data removed]",
      "text/plain": [
       "<matplotlib.figure.Figure at 0x10f4ff690>"
      ]
     },
     "metadata": {},
     "output_type": "display_data"
    }
   ],
   "source": [
    "# PCA biplot:\n",
    "colors = y.map({0:\"c\", 1:\"m\"})\n",
    "\n",
    "plt.figure(figsize=(8,7))\n",
    "plt.scatter(lcdf_pca[:, 0], lcdf_pca[:, 1], c=colors, alpha=.7)\n",
    "plt.xlabel(\"PC1\")\n",
    "plt.ylabel(\"PC2\")\n",
    "plt.title(\"PCA Biplot\");"
   ]
  },
  {
   "cell_type": "code",
   "execution_count": 85,
   "metadata": {
    "collapsed": true
   },
   "outputs": [],
   "source": [
    "#default base estimator is DT. Will use LogisticReg in ada2 below:\n",
    "\n",
    "ada = AdaBoostClassifier(n_estimators= 50, learning_rate= 50, random_state = 123)"
   ]
  },
  {
   "cell_type": "code",
   "execution_count": 202,
   "metadata": {},
   "outputs": [
    {
     "data": {
      "text/plain": [
       "(183660, 30)"
      ]
     },
     "execution_count": 202,
     "metadata": {},
     "output_type": "execute_result"
    }
   ],
   "source": [
    "lcdf_pca_df = pd.DataFrame(X)\n",
    "lcdf_pca_df.shape"
   ]
  },
  {
   "cell_type": "markdown",
   "metadata": {},
   "source": [
    "Just an experiment to see the first 30 PC's in action with Tensorflor projector. I'd like to see how many clusters there may be within the internal structure of the dataset. Would love to explore when I have more time!"
   ]
  },
  {
   "cell_type": "code",
   "execution_count": 203,
   "metadata": {},
   "outputs": [],
   "source": [
    "# try in tensorflow or h2o.ai \n",
    "lcdf_pca_df.to_csv(\"LCDF_PCA.csv\", sep= \"\\t\")"
   ]
  },
  {
   "cell_type": "code",
   "execution_count": 87,
   "metadata": {
    "collapsed": true
   },
   "outputs": [],
   "source": [
    "X = lcdf_pca[:,:2]\n",
    "y = lcdf.loan_status\n",
    "\n",
    "X_train, X_test, y_train, y_test = train_test_split(X, y, test_size = .33, random_state = 123)"
   ]
  },
  {
   "cell_type": "code",
   "execution_count": 88,
   "metadata": {
    "scrolled": true
   },
   "outputs": [
    {
     "name": "stderr",
     "output_type": "stream",
     "text": [
      "/Users/darrenklee/anaconda2/lib/python2.7/site-packages/sklearn/ensemble/weight_boosting.py:533: RuntimeWarning: overflow encountered in exp\n",
      "  (estimator_weight < 0)))\n",
      "/Users/darrenklee/anaconda2/lib/python2.7/site-packages/sklearn/ensemble/weight_boosting.py:166: RuntimeWarning: invalid value encountered in divide\n",
      "  sample_weight /= sample_weight_sum\n",
      "/Users/darrenklee/anaconda2/lib/python2.7/site-packages/sklearn/ensemble/weight_boosting.py:521: RuntimeWarning: invalid value encountered in less\n",
      "  proba[proba < np.finfo(proba.dtype).eps] = np.finfo(proba.dtype).eps\n",
      "/Users/darrenklee/anaconda2/lib/python2.7/site-packages/sklearn/ensemble/weight_boosting.py:532: RuntimeWarning: invalid value encountered in greater\n",
      "  ((sample_weight > 0) |\n",
      "/Users/darrenklee/anaconda2/lib/python2.7/site-packages/sklearn/ensemble/weight_boosting.py:533: RuntimeWarning: invalid value encountered in less\n",
      "  (estimator_weight < 0)))\n",
      "/Users/darrenklee/anaconda2/lib/python2.7/site-packages/sklearn/ensemble/weight_boosting.py:290: RuntimeWarning: invalid value encountered in less\n",
      "  proba[proba < np.finfo(proba.dtype).eps] = np.finfo(proba.dtype).eps\n",
      "/Users/darrenklee/anaconda2/lib/python2.7/site-packages/sklearn/ensemble/weight_boosting.py:605: RuntimeWarning: invalid value encountered in greater\n",
      "  return self.classes_.take(pred > 0, axis=0)\n"
     ]
    },
    {
     "data": {
      "text/plain": [
       "0.744620160582518"
      ]
     },
     "execution_count": 88,
     "metadata": {},
     "output_type": "execute_result"
    }
   ],
   "source": [
    "ada.fit(X_train, y_train)\n",
    "\n",
    "ada.score(X_train, y_train)"
   ]
  },
  {
   "cell_type": "code",
   "execution_count": null,
   "metadata": {
    "collapsed": true
   },
   "outputs": [],
   "source": [
    "# Not bad considering we are only using 2 PC's, let's see if there's a difference if we use only half of the PC's"
   ]
  },
  {
   "cell_type": "code",
   "execution_count": 89,
   "metadata": {
    "collapsed": true
   },
   "outputs": [],
   "source": [
    "# At 44 PC's, we have ~85% variance from the original dataset. \n",
    "\n",
    "X = lcdf_pca[:,:44]\n",
    "y = lcdf.loan_status\n",
    "\n",
    "X_train, X_test, y_train, y_test = train_test_split(X, y, test_size = .33, random_state = 123)"
   ]
  },
  {
   "cell_type": "code",
   "execution_count": 90,
   "metadata": {},
   "outputs": [
    {
     "data": {
      "text/plain": [
       "0.744620160582518"
      ]
     },
     "execution_count": 90,
     "metadata": {},
     "output_type": "execute_result"
    }
   ],
   "source": [
    "ada.fit(X_train, y_train)\n",
    "\n",
    "ada.score(X_train, y_train)"
   ]
  },
  {
   "cell_type": "code",
   "execution_count": 91,
   "metadata": {},
   "outputs": [
    {
     "data": {
      "text/plain": [
       "0.7426412354804647"
      ]
     },
     "execution_count": 91,
     "metadata": {},
     "output_type": "execute_result"
    }
   ],
   "source": [
    "ada.score(X_test, y_test)"
   ]
  },
  {
   "cell_type": "code",
   "execution_count": 128,
   "metadata": {},
   "outputs": [
    {
     "data": {
      "text/plain": [
       "0    0.743967\n",
       "1    0.256033\n",
       "Name: loan_status, dtype: float64"
      ]
     },
     "execution_count": 128,
     "metadata": {},
     "output_type": "execute_result"
    }
   ],
   "source": [
    "y.value_counts(normalize=True)"
   ]
  },
  {
   "cell_type": "code",
   "execution_count": 94,
   "metadata": {
    "collapsed": true
   },
   "outputs": [],
   "source": [
    "# Let's look at the entire PCA set\n",
    "\n",
    "X = lcdf_pca[:,:85]\n",
    "y = lcdf.loan_status\n",
    "\n",
    "X_train, X_test, y_train, y_test = train_test_split(X, y, test_size = .33, random_state = 123)"
   ]
  },
  {
   "cell_type": "code",
   "execution_count": 96,
   "metadata": {},
   "outputs": [
    {
     "data": {
      "text/plain": [
       "0.744620160582518"
      ]
     },
     "execution_count": 96,
     "metadata": {},
     "output_type": "execute_result"
    }
   ],
   "source": [
    "ada.fit(X_train, y_train)\n",
    "\n",
    "ada.score(X_train, y_train)"
   ]
  },
  {
   "cell_type": "code",
   "execution_count": 97,
   "metadata": {},
   "outputs": [
    {
     "data": {
      "text/plain": [
       "0.7426412354804647"
      ]
     },
     "execution_count": 97,
     "metadata": {},
     "output_type": "execute_result"
    }
   ],
   "source": [
    "ada.score(X_test, y_test)"
   ]
  },
  {
   "cell_type": "code",
   "execution_count": 99,
   "metadata": {},
   "outputs": [
    {
     "data": {
      "text/plain": [
       "0.7439671132885088"
      ]
     },
     "execution_count": 99,
     "metadata": {},
     "output_type": "execute_result"
    }
   ],
   "source": [
    "cross_val_score(ada, X, y, cv = 5, scoring = \"accuracy\", n_jobs= -1).mean()"
   ]
  },
  {
   "cell_type": "code",
   "execution_count": null,
   "metadata": {
    "collapsed": true
   },
   "outputs": [],
   "source": []
  },
  {
   "cell_type": "code",
   "execution_count": 104,
   "metadata": {},
   "outputs": [
    {
     "data": {
      "text/plain": [
       "0.3870837611852721"
      ]
     },
     "execution_count": 104,
     "metadata": {},
     "output_type": "execute_result"
    }
   ],
   "source": [
    "precision_score(y_test, preds)"
   ]
  },
  {
   "cell_type": "code",
   "execution_count": 105,
   "metadata": {},
   "outputs": [
    {
     "data": {
      "text/plain": [
       "0.6410374868004224"
      ]
     },
     "execution_count": 105,
     "metadata": {},
     "output_type": "execute_result"
    }
   ],
   "source": [
    "accuracy_score(y_test, preds)"
   ]
  },
  {
   "cell_type": "code",
   "execution_count": 45,
   "metadata": {
    "collapsed": true
   },
   "outputs": [],
   "source": [
    "# now with LogisticRegression as the base_estimator. See if there's a difference:\n",
    "\n",
    "ada2 = AdaBoostClassifier(base_estimator= LogisticRegression())"
   ]
  },
  {
   "cell_type": "code",
   "execution_count": null,
   "metadata": {
    "collapsed": true
   },
   "outputs": [],
   "source": [
    "ada2.fit(X_train, y_train)\n",
    "\n",
    "ada2.score(X_train, y_train)"
   ]
  },
  {
   "cell_type": "code",
   "execution_count": 102,
   "metadata": {},
   "outputs": [
    {
     "data": {
      "text/plain": [
       "0.7537288806758183"
      ]
     },
     "execution_count": 102,
     "metadata": {},
     "output_type": "execute_result"
    }
   ],
   "source": [
    "ada2.score(X_test, y_test)"
   ]
  },
  {
   "cell_type": "code",
   "execution_count": null,
   "metadata": {
    "collapsed": true
   },
   "outputs": [],
   "source": [
    "#Both scores are the same with LogisticRegression and DecisionTree as the base_estimators..."
   ]
  },
  {
   "cell_type": "code",
   "execution_count": 106,
   "metadata": {},
   "outputs": [
    {
     "data": {
      "text/plain": [
       "array([[42639,  2371],\n",
       "       [12555,  3043]])"
      ]
     },
     "execution_count": 106,
     "metadata": {},
     "output_type": "execute_result"
    }
   ],
   "source": [
    "pred_ada = ada2.predict(X_test)\n",
    "confusion_matrix(y_test, pred_ada)"
   ]
  },
  {
   "cell_type": "code",
   "execution_count": 107,
   "metadata": {},
   "outputs": [
    {
     "data": {
      "text/plain": [
       "0.5620613224972294"
      ]
     },
     "execution_count": 107,
     "metadata": {},
     "output_type": "execute_result"
    }
   ],
   "source": [
    "precision_score(y_test, pred_ada)"
   ]
  },
  {
   "cell_type": "code",
   "execution_count": 108,
   "metadata": {},
   "outputs": [
    {
     "data": {
      "text/plain": [
       "0.19508911398897294"
      ]
     },
     "execution_count": 108,
     "metadata": {},
     "output_type": "execute_result"
    }
   ],
   "source": [
    "recall_score(y_test, pred_ada)"
   ]
  },
  {
   "cell_type": "code",
   "execution_count": null,
   "metadata": {
    "collapsed": true
   },
   "outputs": [],
   "source": [
    "cross_val_score(ada2, X, y, cv = 5, n_jobs= -1, scoring = \"roc_auc\").mean()"
   ]
  },
  {
   "cell_type": "code",
   "execution_count": 14,
   "metadata": {},
   "outputs": [
    {
     "data": {
      "text/plain": [
       "AdaBoostClassifier(algorithm='SAMME.R',\n",
       "          base_estimator=LogisticRegression(C=1.0, class_weight=None, dual=False, fit_intercept=True,\n",
       "          intercept_scaling=1, max_iter=100, multi_class='ovr', n_jobs=1,\n",
       "          penalty='l2', random_state=None, solver='liblinear', tol=0.0001,\n",
       "          verbose=0, warm_start=False),\n",
       "          learning_rate=1.0, n_estimators=50, random_state=None)"
      ]
     },
     "execution_count": 14,
     "metadata": {},
     "output_type": "execute_result"
    }
   ],
   "source": [
    "ada2"
   ]
  },
  {
   "cell_type": "code",
   "execution_count": null,
   "metadata": {
    "collapsed": true
   },
   "outputs": [],
   "source": [
    "#Intialize time variable\n",
    "t = time()\n",
    "\n",
    "#Create list of estimator values\n",
    "estimators = range(50, 550, 100)\n",
    "\n",
    "#Intialize cross validation scores list\n",
    "cv_scores = []\n",
    "\n",
    "#Iterate over estimators values, fit models, and then append scores to cv_scores\n",
    "for est in estimators:\n",
    "    model = AdaBoostClassifier(n_estimators = est)\n",
    "    score = cross_val_score(model, X, y, cv = 5, scoring = \"accuracy\").mean()\n",
    "    cv_scores.append(score)\n",
    "    \n",
    "#Print difference in time\n",
    "print (time() - t)"
   ]
  },
  {
   "cell_type": "code",
   "execution_count": null,
   "metadata": {
    "collapsed": true
   },
   "outputs": [],
   "source": [
    "#Derive best estimator value\n",
    "sorted(zip(cv_scores, estimators), reverse = True)[0]"
   ]
  },
  {
   "cell_type": "code",
   "execution_count": null,
   "metadata": {
    "collapsed": true
   },
   "outputs": [],
   "source": []
  },
  {
   "cell_type": "code",
   "execution_count": null,
   "metadata": {
    "collapsed": true
   },
   "outputs": [],
   "source": []
  },
  {
   "cell_type": "code",
   "execution_count": null,
   "metadata": {
    "collapsed": true
   },
   "outputs": [],
   "source": [
    "# Put through Domain Knowledge test with pca/ada2 model & total loan loss function!"
   ]
  },
  {
   "cell_type": "code",
   "execution_count": null,
   "metadata": {
    "collapsed": true
   },
   "outputs": [],
   "source": [
    "df.shape"
   ]
  },
  {
   "cell_type": "code",
   "execution_count": null,
   "metadata": {
    "collapsed": true
   },
   "outputs": [],
   "source": [
    "df = lcdf[[\"loan_amnt\", \"int_rate\", \"loan_status\"]]"
   ]
  },
  {
   "cell_type": "code",
   "execution_count": null,
   "metadata": {
    "collapsed": true
   },
   "outputs": [],
   "source": [
    "probs = ada2.predict_proba(X_test)\n",
    "preds = threshold(probs, thres= 0.5)\n",
    "preds = pd.DataFrame(preds, index= df.index, columns = (0, \"predicted\"))\n",
    "preds.drop(0, axis = 1, inplace = True)\n",
    "preds.head()"
   ]
  },
  {
   "cell_type": "code",
   "execution_count": 607,
   "metadata": {
    "collapsed": true
   },
   "outputs": [],
   "source": [
    "df.drop(\"predicted\", axis= 1, inplace= True)"
   ]
  },
  {
   "cell_type": "code",
   "execution_count": 141,
   "metadata": {
    "collapsed": true
   },
   "outputs": [],
   "source": [
    "df = lcdf[[\"loan_amnt\", \"int_rate\", \"loan_status\"]]"
   ]
  },
  {
   "cell_type": "code",
   "execution_count": 608,
   "metadata": {},
   "outputs": [
    {
     "data": {
      "text/html": [
       "<div>\n",
       "<style>\n",
       "    .dataframe thead tr:only-child th {\n",
       "        text-align: right;\n",
       "    }\n",
       "\n",
       "    .dataframe thead th {\n",
       "        text-align: left;\n",
       "    }\n",
       "\n",
       "    .dataframe tbody tr th {\n",
       "        vertical-align: top;\n",
       "    }\n",
       "</style>\n",
       "<table border=\"1\" class=\"dataframe\">\n",
       "  <thead>\n",
       "    <tr style=\"text-align: right;\">\n",
       "      <th></th>\n",
       "      <th>loan_amnt</th>\n",
       "      <th>int_rate</th>\n",
       "      <th>term</th>\n",
       "      <th>loan_status</th>\n",
       "      <th>predicted</th>\n",
       "    </tr>\n",
       "  </thead>\n",
       "  <tbody>\n",
       "    <tr>\n",
       "      <th>161305</th>\n",
       "      <td>25425</td>\n",
       "      <td>15.61</td>\n",
       "      <td>60.0</td>\n",
       "      <td>1</td>\n",
       "      <td>1</td>\n",
       "    </tr>\n",
       "    <tr>\n",
       "      <th>268128</th>\n",
       "      <td>20000</td>\n",
       "      <td>12.69</td>\n",
       "      <td>60.0</td>\n",
       "      <td>0</td>\n",
       "      <td>0</td>\n",
       "    </tr>\n",
       "    <tr>\n",
       "      <th>354385</th>\n",
       "      <td>24000</td>\n",
       "      <td>6.92</td>\n",
       "      <td>36.0</td>\n",
       "      <td>0</td>\n",
       "      <td>0</td>\n",
       "    </tr>\n",
       "    <tr>\n",
       "      <th>91472</th>\n",
       "      <td>20000</td>\n",
       "      <td>9.99</td>\n",
       "      <td>36.0</td>\n",
       "      <td>0</td>\n",
       "      <td>0</td>\n",
       "    </tr>\n",
       "    <tr>\n",
       "      <th>245200</th>\n",
       "      <td>4500</td>\n",
       "      <td>13.33</td>\n",
       "      <td>36.0</td>\n",
       "      <td>1</td>\n",
       "      <td>1</td>\n",
       "    </tr>\n",
       "  </tbody>\n",
       "</table>\n",
       "</div>"
      ],
      "text/plain": [
       "        loan_amnt  int_rate  term  loan_status  predicted\n",
       "161305      25425     15.61  60.0            1          1\n",
       "268128      20000     12.69  60.0            0          0\n",
       "354385      24000      6.92  36.0            0          0\n",
       "91472       20000      9.99  36.0            0          0\n",
       "245200       4500     13.33  36.0            1          1"
      ]
     },
     "execution_count": 608,
     "metadata": {},
     "output_type": "execute_result"
    }
   ],
   "source": [
    "df = pd.concat([df, preds], axis= 1)\n",
    "df.head()"
   ]
  },
  {
   "cell_type": "code",
   "execution_count": 609,
   "metadata": {
    "collapsed": true
   },
   "outputs": [],
   "source": [
    "total_loss_series = df.apply(total_loss_function, axis = 1)"
   ]
  },
  {
   "cell_type": "code",
   "execution_count": 611,
   "metadata": {},
   "outputs": [
    {
     "data": {
      "text/plain": [
       "-28489193.80056568"
      ]
     },
     "execution_count": 611,
     "metadata": {},
     "output_type": "execute_result"
    }
   ],
   "source": [
    "total_loss_series.sum()"
   ]
  },
  {
   "cell_type": "code",
   "execution_count": 612,
   "metadata": {},
   "outputs": [
    {
     "data": {
      "text/plain": [
       "[-1162384635.1087117,\n",
       " -1180826085.166569,\n",
       " -1254740658.8257058,\n",
       " -1330834218.9007,\n",
       " -1374984259.652595,\n",
       " -1402704514.6383502,\n",
       " -1420985025.137521,\n",
       " -1443366969.479977,\n",
       " -1473657029.3301947,\n",
       " -1503559104.6508236,\n",
       " -1528863106.2799747,\n",
       " -1550077748.3982863,\n",
       " -1566455541.4446836,\n",
       " -1577657528.6107028,\n",
       " -1584961634.289488,\n",
       " -1587076162.858227,\n",
       " -1564734083.0874863,\n",
       " -1428974954.5700936,\n",
       " -1145712389.0442996,\n",
       " -650026786.4257059]"
      ]
     },
     "execution_count": 612,
     "metadata": {},
     "output_type": "execute_result"
    }
   ],
   "source": [
    "results = []\n",
    "\n",
    "thres_array = np.arange(0, 1, 0.05)\n",
    "\n",
    "for i in thres_array:\n",
    "    preds = threshold(probs, thres= i)\n",
    "    df[\"predicted\"] = preds\n",
    "    total_loss_series = df.apply(total_loss_function, axis = 1)\n",
    "    results.append(total_loss_series.sum())\n",
    "results"
   ]
  },
  {
   "cell_type": "code",
   "execution_count": 613,
   "metadata": {},
   "outputs": [
    {
     "data": {
      "text/plain": [
       "[(-650026786.4257059, 0.9500000000000001),\n",
       " (-1145712389.0442996, 0.9),\n",
       " (-1162384635.1087117, 0.0),\n",
       " (-1180826085.166569, 0.05),\n",
       " (-1254740658.8257058, 0.1),\n",
       " (-1330834218.9007, 0.15000000000000002),\n",
       " (-1374984259.652595, 0.2),\n",
       " (-1402704514.6383502, 0.25),\n",
       " (-1420985025.137521, 0.30000000000000004),\n",
       " (-1428974954.5700936, 0.8500000000000001),\n",
       " (-1443366969.479977, 0.35000000000000003),\n",
       " (-1473657029.3301947, 0.4),\n",
       " (-1503559104.6508236, 0.45),\n",
       " (-1528863106.2799747, 0.5),\n",
       " (-1550077748.3982863, 0.55),\n",
       " (-1564734083.0874863, 0.8),\n",
       " (-1566455541.4446836, 0.6000000000000001),\n",
       " (-1577657528.6107028, 0.65),\n",
       " (-1584961634.289488, 0.7000000000000001),\n",
       " (-1587076162.858227, 0.75)]"
      ]
     },
     "execution_count": 613,
     "metadata": {},
     "output_type": "execute_result"
    }
   ],
   "source": [
    "sorted(zip(results, thres_array), reverse = True)"
   ]
  },
  {
   "cell_type": "code",
   "execution_count": 614,
   "metadata": {},
   "outputs": [
    {
     "data": {
      "text/plain": [
       "14157.17709736918"
      ]
     },
     "execution_count": 614,
     "metadata": {},
     "output_type": "execute_result"
    }
   ],
   "source": [
    "650026786.4257059/len(df)"
   ]
  },
  {
   "cell_type": "code",
   "execution_count": null,
   "metadata": {
    "collapsed": true
   },
   "outputs": [],
   "source": [
    "# ~$9,500 average in interest per borrower that we're missing!!!"
   ]
  },
  {
   "cell_type": "code",
   "execution_count": null,
   "metadata": {
    "collapsed": true
   },
   "outputs": [],
   "source": []
  },
  {
   "cell_type": "code",
   "execution_count": null,
   "metadata": {
    "collapsed": true
   },
   "outputs": [],
   "source": [
    "#Range of estimators in the model\n",
    "est_range = range(1, 301, 60)\n",
    "\n",
    "#Dictionary of parameter values \n",
    "param_grid_ada = {}\n",
    "param_grid_ada[\"n_estimators\"] = est_range"
   ]
  },
  {
   "cell_type": "code",
   "execution_count": null,
   "metadata": {
    "collapsed": true
   },
   "outputs": [],
   "source": [
    "grid_ada = RandomizedSearchCV(AdaBoostClassifier(), param_distributions= param_grid_ada, n_iter= 5, cv= 5, \n",
    "                              scoring= \"roc_auc\", random_state= 123)"
   ]
  },
  {
   "cell_type": "code",
   "execution_count": null,
   "metadata": {
    "collapsed": true
   },
   "outputs": [],
   "source": [
    "grid_ada.fit(X, y)"
   ]
  },
  {
   "cell_type": "code",
   "execution_count": null,
   "metadata": {
    "collapsed": true
   },
   "outputs": [],
   "source": [
    "grid_ada.best_score_"
   ]
  },
  {
   "cell_type": "code",
   "execution_count": null,
   "metadata": {
    "collapsed": true
   },
   "outputs": [],
   "source": [
    "grid_ada.best_params_"
   ]
  },
  {
   "cell_type": "code",
   "execution_count": null,
   "metadata": {
    "collapsed": true
   },
   "outputs": [],
   "source": []
  },
  {
   "cell_type": "code",
   "execution_count": 501,
   "metadata": {},
   "outputs": [
    {
     "data": {
      "text/plain": [
       "0.9812145884850375"
      ]
     },
     "execution_count": 501,
     "metadata": {},
     "output_type": "execute_result"
    }
   ],
   "source": [
    "cross_val_score(AdaBoostClassifier(n_estimators= 100), X, y, cv = 5, scoring = \"precision\").mean()"
   ]
  },
  {
   "cell_type": "code",
   "execution_count": 272,
   "metadata": {
    "collapsed": true
   },
   "outputs": [],
   "source": [
    "# let's put lcdf_pca into a DataFrame so that we can call feature_importances_ by X.columns\n",
    "\n",
    "X = lcdf_pca_df\n",
    "y = lcdf.loan_status\n",
    "\n",
    "X_train, X_test, y_train, y_test = train_test_split(X, y, test_size = .33)"
   ]
  },
  {
   "cell_type": "code",
   "execution_count": 259,
   "metadata": {},
   "outputs": [
    {
     "data": {
      "text/plain": [
       "0.9626580632578097"
      ]
     },
     "execution_count": 259,
     "metadata": {},
     "output_type": "execute_result"
    }
   ],
   "source": [
    "ada2.fit(X_train, y_train)\n",
    "\n",
    "ada2.score(X_train, y_train)"
   ]
  },
  {
   "cell_type": "code",
   "execution_count": 276,
   "metadata": {
    "collapsed": true
   },
   "outputs": [],
   "source": [
    "# re initializing so that we can view the X.columns name. PCA transform function takes the labels away!!\n",
    "X = lcdf.drop('loan_status', axis= 1)\n",
    "y = lcdf.loan_status"
   ]
  },
  {
   "cell_type": "code",
   "execution_count": 278,
   "metadata": {},
   "outputs": [
    {
     "data": {
      "text/plain": [
       "[(0.18, 'purpose_moving'),\n",
       " (0.16, 'purpose_major_purchase'),\n",
       " (0.12, 'purpose_educational'),\n",
       " (0.1, 'purpose_credit_card'),\n",
       " (0.08, 'purpose_home_improvement'),\n",
       " (0.06, 'percent_bc_gt_75'),\n",
       " (0.04, 'purpose_debt_consolidation'),\n",
       " (0.04, 'pub_rec'),\n",
       " (0.04, 'emp_length_7 years'),\n",
       " (0.02, 'total_pymnt'),\n",
       " (0.02, 'tot_hi_cred_lim'),\n",
       " (0.02, 'pct_tl_nvr_dlq'),\n",
       " (0.02, 'num_tl_op_past_12m'),\n",
       " (0.02, 'num_tl_30dpd'),\n",
       " (0.02, 'num_actv_rev_tl'),\n",
       " (0.02, 'mo_sin_rcnt_rev_tl_op'),\n",
       " (0.02, 'mo_sin_old_il_acct'),\n",
       " (0.02, 'delinq_2yrs'),\n",
       " (0.0, 'total_rev_hi_lim'),\n",
       " (0.0, 'total_rec_int')]"
      ]
     },
     "execution_count": 278,
     "metadata": {},
     "output_type": "execute_result"
    }
   ],
   "source": [
    "# Top feature importances here for Adaboost Classifer model\n",
    "sorted(zip(ada2.feature_importances_, X.columns), reverse= True)[:20]"
   ]
  },
  {
   "cell_type": "code",
   "execution_count": null,
   "metadata": {
    "collapsed": true
   },
   "outputs": [],
   "source": []
  },
  {
   "cell_type": "code",
   "execution_count": null,
   "metadata": {
    "collapsed": true
   },
   "outputs": [],
   "source": []
  },
  {
   "cell_type": "code",
   "execution_count": null,
   "metadata": {
    "collapsed": true
   },
   "outputs": [],
   "source": [
    "components = range(1, 81, 10)\n",
    "scores = []\n",
    "\n",
    "for i in components:\n",
    "    pca = PCA(n_components=i)\n",
    "    pca_data = pca.fit_transform(X_s)\n",
    "    score = cross_val_score(K(),\n",
    "                            pca_data, y, cv = 5, scoring = \"accuracy\").mean()\n",
    "    scores.append(score)\n",
    "    \n",
    "plt.plot(components, scores)\n",
    "plt.xlabel(\"N Components\")\n",
    "plt.ylabel(\"CV Accuracy Score\");"
   ]
  },
  {
   "cell_type": "code",
   "execution_count": 244,
   "metadata": {
    "collapsed": true
   },
   "outputs": [],
   "source": [
    "preds2 = ada2.predict(X_test)"
   ]
  },
  {
   "cell_type": "code",
   "execution_count": 245,
   "metadata": {},
   "outputs": [
    {
     "data": {
      "text/plain": [
       "array([[44540,   534],\n",
       "       [ 1736, 13798]])"
      ]
     },
     "execution_count": 245,
     "metadata": {},
     "output_type": "execute_result"
    }
   ],
   "source": [
    "cm2 = confusion_matrix(y_test, preds2)\n",
    "cm2"
   ]
  },
  {
   "cell_type": "code",
   "execution_count": 246,
   "metadata": {},
   "outputs": [
    {
     "name": "stdout",
     "output_type": "stream",
     "text": [
      "The precision score is 96.27 and the recall score is 88.82\n"
     ]
    }
   ],
   "source": [
    "ps = precision_score(y_test, preds2)\n",
    "rs = recall_score(y_test, preds2)\n",
    "\n",
    "print (\"The precision score is {:.2f} and the recall score is {:.2f}\".format(ps*100, rs*100))\n",
    "\n",
    "# Just about 11% of the bad loans are being approved.. much better than before with the DT & RF Model."
   ]
  },
  {
   "cell_type": "code",
   "execution_count": null,
   "metadata": {
    "collapsed": true
   },
   "outputs": [],
   "source": [
    "# ROC_AUC"
   ]
  },
  {
   "cell_type": "code",
   "execution_count": null,
   "metadata": {
    "collapsed": true
   },
   "outputs": [],
   "source": [
    "#Derive probabilities of class 1 from the test set\n",
    "test_probs = ada2.predict_proba(X_test)[:,1]\n",
    "#Pass in the test_probs variable and the true test labels aka y_test in the roc_curve function\n",
    "fpr, tpr, thres = roc_curve(y_test, test_probs)\n",
    "#Outputs the fpr, tpr, for varying thresholds"
   ]
  },
  {
   "cell_type": "code",
   "execution_count": null,
   "metadata": {
    "collapsed": true
   },
   "outputs": [],
   "source": [
    "#Plotting False Positive Rates vs the True Positive Rates\n",
    "#Dotted line represents a useless model\n",
    "plt.figure(figsize=(10,8))\n",
    "plt.plot(fpr, tpr, linewidth= 8)\n",
    "#Line of randomness\n",
    "plt.plot([0,1], [0,1], \"--\", alpha=.7)\n",
    "plt.xlabel(\"False Positive Rate\")\n",
    "plt.ylabel(\"True Positive Rate\")\n",
    "plt.title(\"ROC Curve\")\n",
    "plt.show()"
   ]
  },
  {
   "cell_type": "code",
   "execution_count": null,
   "metadata": {
    "collapsed": true
   },
   "outputs": [],
   "source": []
  },
  {
   "cell_type": "code",
   "execution_count": null,
   "metadata": {
    "collapsed": true
   },
   "outputs": [],
   "source": [
    "#Cross validated roc_auc score\n",
    "cross_val_score(ada2, X, y, cv=5, scoring=\"roc_auc\").mean()"
   ]
  },
  {
   "cell_type": "code",
   "execution_count": null,
   "metadata": {
    "collapsed": true
   },
   "outputs": [],
   "source": []
  },
  {
   "cell_type": "code",
   "execution_count": null,
   "metadata": {
    "collapsed": true
   },
   "outputs": [],
   "source": []
  },
  {
   "cell_type": "markdown",
   "metadata": {},
   "source": [
    "# XG / GBM Model"
   ]
  },
  {
   "cell_type": "code",
   "execution_count": 79,
   "metadata": {
    "collapsed": true
   },
   "outputs": [],
   "source": [
    "from sklearn.ensemble import GradientBoostingClassifier"
   ]
  },
  {
   "cell_type": "code",
   "execution_count": 80,
   "metadata": {
    "collapsed": true
   },
   "outputs": [],
   "source": [
    "X = lcdf.drop(['emp_title', 'total_rec_int', 'total_pymnt', 'loan_status'], axis= 1)\n",
    "y = lcdf.loan_status\n",
    "\n",
    "X_train, X_test, y_train, y_test = train_test_split(X, y, test_size = .33, random_state = 123)"
   ]
  },
  {
   "cell_type": "code",
   "execution_count": null,
   "metadata": {
    "collapsed": true
   },
   "outputs": [],
   "source": []
  },
  {
   "cell_type": "code",
   "execution_count": 101,
   "metadata": {},
   "outputs": [
    {
     "data": {
      "text/plain": [
       "{'max_depth': [1, 6, 11], 'max_features': [30, 50, 80]}"
      ]
     },
     "execution_count": 101,
     "metadata": {},
     "output_type": "execute_result"
    }
   ],
   "source": [
    "depths_range = range(1, 16, 5)\n",
    "feature_range = [30, 50, 80]\n",
    "\n",
    "param_grid_xgb = {}\n",
    "param_grid_xgb = {\"max_depth\": depths_range, \"max_features\": feature_range}\n",
    "param_grid_xgb"
   ]
  },
  {
   "cell_type": "code",
   "execution_count": 102,
   "metadata": {
    "collapsed": true
   },
   "outputs": [],
   "source": [
    "grid_xgb = RandomizedSearchCV(estimator = GradientBoostingClassifier(), n_jobs= -1, \n",
    "                              param_distributions = param_grid_xgb, cv = 5, scoring = \"accuracy\", \n",
    "                              n_iter = 9, verbose = 2)"
   ]
  },
  {
   "cell_type": "code",
   "execution_count": 103,
   "metadata": {},
   "outputs": [
    {
     "name": "stdout",
     "output_type": "stream",
     "text": [
      "Fitting 5 folds for each of 9 candidates, totalling 45 fits\n",
      "[CV] max_features=30, max_depth=1 ....................................\n",
      "[CV] max_features=30, max_depth=1 ....................................\n",
      "[CV] max_features=30, max_depth=1 ....................................\n",
      "[CV] max_features=30, max_depth=1 ....................................\n",
      "[CV] ........................... max_features=30, max_depth=1 -  14.6s\n",
      "[CV] max_features=30, max_depth=1 ....................................\n",
      "[CV] ........................... max_features=30, max_depth=1 -  14.9s\n",
      "[CV] max_features=50, max_depth=1 ....................................\n",
      "[CV] ........................... max_features=30, max_depth=1 -  15.2s\n",
      "[CV] max_features=50, max_depth=1 ....................................\n",
      "[CV] ........................... max_features=30, max_depth=1 -  15.1s\n",
      "[CV] max_features=50, max_depth=1 ....................................\n",
      "[CV] ........................... max_features=30, max_depth=1 -  13.7s\n",
      "[CV] max_features=50, max_depth=1 ....................................\n",
      "[CV] ........................... max_features=50, max_depth=1 -  20.7s\n",
      "[CV] max_features=50, max_depth=1 ....................................\n",
      "[CV] ........................... max_features=50, max_depth=1 -  20.3s\n",
      "[CV] max_features=80, max_depth=1 ....................................\n",
      "[CV] ........................... max_features=50, max_depth=1 -  20.6s\n",
      "[CV] max_features=80, max_depth=1 ....................................\n",
      "[CV] ........................... max_features=50, max_depth=1 -  20.9s\n",
      "[CV] max_features=80, max_depth=1 ....................................\n",
      "[CV] ........................... max_features=50, max_depth=1 -  20.8s\n",
      "[CV] max_features=80, max_depth=1 ....................................\n",
      "[CV] ........................... max_features=80, max_depth=1 -  32.0s\n",
      "[CV] max_features=80, max_depth=1 ....................................\n",
      "[CV] ........................... max_features=80, max_depth=1 -  31.8s\n",
      "[CV] max_features=30, max_depth=6 ....................................\n",
      "[CV] ........................... max_features=80, max_depth=1 -  33.0s\n",
      "[CV] max_features=30, max_depth=6 ....................................\n",
      "[CV] ........................... max_features=80, max_depth=1 -  32.8s\n",
      "[CV] max_features=30, max_depth=6 ....................................\n",
      "[CV] ........................... max_features=80, max_depth=1 -  31.3s\n",
      "[CV] max_features=30, max_depth=6 ....................................\n",
      "[CV] ........................... max_features=30, max_depth=6 - 2.6min\n",
      "[CV] max_features=30, max_depth=6 ....................................\n",
      "[CV] ........................... max_features=30, max_depth=6 - 2.5min\n",
      "[CV] max_features=50, max_depth=6 ....................................\n",
      "[CV] ........................... max_features=30, max_depth=6 - 2.5min\n",
      "[CV] max_features=50, max_depth=6 ....................................\n",
      "[CV] ........................... max_features=30, max_depth=6 - 2.5min\n",
      "[CV] max_features=50, max_depth=6 ....................................\n",
      "[CV] ........................... max_features=30, max_depth=6 - 2.6min\n",
      "[CV] max_features=50, max_depth=6 ....................................\n",
      "[CV] ........................... max_features=50, max_depth=6 - 4.2min\n",
      "[CV] max_features=50, max_depth=6 ....................................\n",
      "[CV] ........................... max_features=50, max_depth=6 - 4.2min\n",
      "[CV] max_features=80, max_depth=6 ....................................\n",
      "[CV] ........................... max_features=50, max_depth=6 - 4.2min\n",
      "[CV] max_features=80, max_depth=6 ....................................\n",
      "[CV] ........................... max_features=50, max_depth=6 - 4.2min\n",
      "[CV] max_features=80, max_depth=6 ....................................\n",
      "[CV] ........................... max_features=50, max_depth=6 - 3.9min\n",
      "[CV] max_features=80, max_depth=6 ....................................\n",
      "[CV] ........................... max_features=80, max_depth=6 - 6.1min\n",
      "[CV] max_features=80, max_depth=6 ....................................\n",
      "[CV] ........................... max_features=80, max_depth=6 - 6.0min\n",
      "[CV] max_features=30, max_depth=11 ...................................\n",
      "[CV] ........................... max_features=80, max_depth=6 - 5.9min\n",
      "[CV] max_features=30, max_depth=11 ...................................\n",
      "[CV] ........................... max_features=80, max_depth=6 - 6.1min\n",
      "[CV] max_features=30, max_depth=11 ...................................\n",
      "[CV] ........................... max_features=80, max_depth=6 - 6.4min\n",
      "[CV] max_features=30, max_depth=11 ...................................\n",
      "[CV] .......................... max_features=30, max_depth=11 -18.4min\n",
      "[CV] max_features=30, max_depth=11 ...................................\n",
      "[CV] .......................... max_features=30, max_depth=11 -18.4min\n",
      "[CV] max_features=50, max_depth=11 ...................................\n",
      "[CV] .......................... max_features=30, max_depth=11 -18.9min\n",
      "[CV] max_features=50, max_depth=11 ...................................\n"
     ]
    },
    {
     "name": "stderr",
     "output_type": "stream",
     "text": [
      "[Parallel(n_jobs=-1)]: Done  33 tasks      | elapsed: 37.0min\n"
     ]
    },
    {
     "name": "stdout",
     "output_type": "stream",
     "text": [
      "[CV] .......................... max_features=30, max_depth=11 -19.0min\n",
      "[CV] max_features=50, max_depth=11 ...................................\n",
      "[CV] .......................... max_features=30, max_depth=11 -18.4min\n",
      "[CV] max_features=50, max_depth=11 ...................................\n",
      "[CV] .......................... max_features=50, max_depth=11 -29.0min\n",
      "[CV] max_features=50, max_depth=11 ...................................\n",
      "[CV] .......................... max_features=50, max_depth=11 -28.3min\n",
      "[CV] max_features=80, max_depth=11 ...................................\n",
      "[CV] .......................... max_features=50, max_depth=11 -28.7min\n",
      "[CV] max_features=80, max_depth=11 ...................................\n",
      "[CV] .......................... max_features=50, max_depth=11 -29.4min\n",
      "[CV] max_features=80, max_depth=11 ...................................\n",
      "[CV] .......................... max_features=50, max_depth=11 -28.4min\n",
      "[CV] max_features=80, max_depth=11 ...................................\n",
      "[CV] .......................... max_features=80, max_depth=11 -43.4min\n",
      "[CV] max_features=80, max_depth=11 ...................................\n",
      "[CV] .......................... max_features=80, max_depth=11 -43.0min\n",
      "[CV] .......................... max_features=80, max_depth=11 -40.3min\n",
      "[CV] .......................... max_features=80, max_depth=11 -35.7min\n",
      "[CV] .......................... max_features=80, max_depth=11 -27.7min\n"
     ]
    },
    {
     "name": "stderr",
     "output_type": "stream",
     "text": [
      "[Parallel(n_jobs=-1)]: Done  45 out of  45 | elapsed: 136.5min finished\n"
     ]
    },
    {
     "data": {
      "text/plain": [
       "RandomizedSearchCV(cv=5, error_score='raise',\n",
       "          estimator=GradientBoostingClassifier(criterion='friedman_mse', init=None,\n",
       "              learning_rate=0.1, loss='deviance', max_depth=3,\n",
       "              max_features=None, max_leaf_nodes=None,\n",
       "              min_impurity_decrease=0.0, min_impurity_split=None,\n",
       "              min_samples_leaf=1, min_samples_split=2,\n",
       "              min_weight_fraction_leaf=0.0, n_estimators=100,\n",
       "              presort='auto', random_state=None, subsample=1.0, verbose=0,\n",
       "              warm_start=False),\n",
       "          fit_params={}, iid=True, n_iter=9, n_jobs=-1,\n",
       "          param_distributions={'max_features': [30, 50, 80], 'max_depth': [1, 6, 11]},\n",
       "          pre_dispatch='2*n_jobs', random_state=None, refit=True,\n",
       "          scoring='accuracy', verbose=2)"
      ]
     },
     "execution_count": 103,
     "metadata": {},
     "output_type": "execute_result"
    }
   ],
   "source": [
    "grid_xgb.fit(X_train, y_train)"
   ]
  },
  {
   "cell_type": "code",
   "execution_count": 99,
   "metadata": {},
   "outputs": [
    {
     "name": "stdout",
     "output_type": "stream",
     "text": [
      "(183660, 85)\n",
      "0    0.743967\n",
      "1    0.256033\n",
      "Name: loan_status, dtype: float64\n"
     ]
    }
   ],
   "source": [
    "print X.shape\n",
    "print y.value_counts(normalize= True)"
   ]
  },
  {
   "cell_type": "code",
   "execution_count": 104,
   "metadata": {},
   "outputs": [
    {
     "data": {
      "text/plain": [
       "{'max_depth': 6, 'max_features': 50}"
      ]
     },
     "execution_count": 104,
     "metadata": {},
     "output_type": "execute_result"
    }
   ],
   "source": [
    "grid_xgb.best_params_"
   ]
  },
  {
   "cell_type": "code",
   "execution_count": 105,
   "metadata": {},
   "outputs": [
    {
     "data": {
      "text/plain": [
       "0.7599145076878068"
      ]
     },
     "execution_count": 105,
     "metadata": {},
     "output_type": "execute_result"
    }
   ],
   "source": [
    "grid_xgb.best_score_"
   ]
  },
  {
   "cell_type": "code",
   "execution_count": null,
   "metadata": {
    "collapsed": true
   },
   "outputs": [],
   "source": []
  },
  {
   "cell_type": "code",
   "execution_count": 106,
   "metadata": {
    "collapsed": true
   },
   "outputs": [],
   "source": [
    "xgb = GradientBoostingClassifier(max_features = 50, max_depth=6, verbose= 2, criterion= \"friedman_mse\")"
   ]
  },
  {
   "cell_type": "code",
   "execution_count": 107,
   "metadata": {},
   "outputs": [
    {
     "name": "stdout",
     "output_type": "stream",
     "text": [
      "      Iter       Train Loss   Remaining Time \n",
      "         1           1.1150            2.30m\n",
      "         2           1.0977            2.26m\n",
      "         3           1.0836            2.24m\n",
      "         4           1.0715            2.24m\n",
      "         5           1.0612            2.23m\n",
      "         6           1.0523            2.20m\n",
      "         7           1.0445            2.16m\n",
      "         8           1.0380            2.14m\n",
      "         9           1.0323            2.12m\n",
      "        10           1.0275            2.09m\n",
      "        11           1.0231            2.06m\n",
      "        12           1.0193            2.04m\n",
      "        13           1.0158            2.02m\n",
      "        14           1.0127            1.99m\n",
      "        15           1.0099            1.96m\n",
      "        16           1.0073            1.93m\n",
      "        17           1.0049            1.91m\n",
      "        18           1.0026            1.89m\n",
      "        19           1.0005            1.88m\n",
      "        20           0.9986            1.90m\n",
      "        21           0.9967            1.87m\n",
      "        22           0.9951            1.86m\n",
      "        23           0.9934            1.83m\n",
      "        24           0.9918            1.80m\n",
      "        25           0.9903            1.76m\n",
      "        26           0.9889            1.74m\n",
      "        27           0.9875            1.70m\n",
      "        28           0.9862            1.68m\n",
      "        29           0.9849            1.65m\n",
      "        30           0.9839            1.61m\n",
      "        31           0.9826            1.59m\n",
      "        32           0.9814            1.56m\n",
      "        33           0.9801            1.53m\n",
      "        34           0.9790            1.51m\n",
      "        35           0.9778            1.48m\n",
      "        36           0.9769            1.45m\n",
      "        37           0.9759            1.43m\n",
      "        38           0.9751            1.39m\n",
      "        39           0.9739            1.37m\n",
      "        40           0.9731            1.35m\n",
      "        41           0.9722            1.32m\n",
      "        42           0.9713            1.29m\n",
      "        43           0.9704            1.27m\n",
      "        44           0.9695            1.24m\n",
      "        45           0.9686            1.22m\n",
      "        46           0.9676            1.20m\n",
      "        47           0.9670            1.17m\n",
      "        48           0.9662            1.14m\n",
      "        49           0.9653            1.12m\n",
      "        50           0.9644            1.09m\n",
      "        51           0.9637            1.07m\n",
      "        52           0.9632            1.04m\n",
      "        53           0.9624            1.02m\n",
      "        54           0.9615           59.98s\n",
      "        55           0.9607           58.70s\n",
      "        56           0.9599           57.43s\n",
      "        57           0.9591           56.13s\n",
      "        58           0.9585           54.86s\n",
      "        59           0.9577           53.53s\n",
      "        60           0.9570           52.18s\n",
      "        61           0.9565           50.72s\n",
      "        62           0.9557           49.36s\n",
      "        63           0.9548           48.05s\n",
      "        64           0.9539           46.73s\n",
      "        65           0.9535           45.25s\n",
      "        66           0.9530           43.73s\n",
      "        67           0.9524           42.36s\n",
      "        68           0.9516           41.05s\n",
      "        69           0.9510           39.70s\n",
      "        70           0.9503           38.37s\n",
      "        71           0.9498           37.04s\n",
      "        72           0.9494           35.61s\n",
      "        73           0.9487           34.29s\n",
      "        74           0.9482           32.92s\n",
      "        75           0.9476           31.63s\n",
      "        76           0.9470           30.33s\n",
      "        77           0.9463           29.06s\n",
      "        78           0.9459           27.73s\n",
      "        79           0.9452           26.45s\n",
      "        80           0.9447           25.14s\n",
      "        81           0.9442           23.82s\n",
      "        82           0.9436           22.54s\n",
      "        83           0.9432           21.22s\n",
      "        84           0.9426           19.96s\n",
      "        85           0.9420           18.72s\n",
      "        86           0.9413           17.48s\n",
      "        87           0.9409           16.18s\n",
      "        88           0.9402           14.93s\n",
      "        89           0.9396           13.67s\n",
      "        90           0.9394           12.37s\n",
      "        91           0.9390           11.12s\n",
      "        92           0.9384            9.88s\n",
      "        93           0.9378            8.64s\n",
      "        94           0.9373            7.38s\n",
      "        95           0.9367            6.15s\n",
      "        96           0.9363            4.91s\n",
      "        97           0.9357            3.68s\n",
      "        98           0.9354            2.45s\n",
      "        99           0.9349            1.22s\n",
      "       100           0.9345            0.00s\n"
     ]
    },
    {
     "data": {
      "text/plain": [
       "GradientBoostingClassifier(criterion='friedman_mse', init=None,\n",
       "              learning_rate=0.1, loss='deviance', max_depth=6,\n",
       "              max_features=50, max_leaf_nodes=None,\n",
       "              min_impurity_decrease=0.0, min_impurity_split=None,\n",
       "              min_samples_leaf=1, min_samples_split=2,\n",
       "              min_weight_fraction_leaf=0.0, n_estimators=100,\n",
       "              presort='auto', random_state=None, subsample=1.0, verbose=2,\n",
       "              warm_start=False)"
      ]
     },
     "execution_count": 107,
     "metadata": {},
     "output_type": "execute_result"
    }
   ],
   "source": [
    "xgb.fit(X_train, y_train)"
   ]
  },
  {
   "cell_type": "code",
   "execution_count": 108,
   "metadata": {},
   "outputs": [
    {
     "data": {
      "text/plain": [
       "0.7827341286610539"
      ]
     },
     "execution_count": 108,
     "metadata": {},
     "output_type": "execute_result"
    }
   ],
   "source": [
    "xgb.score(X_train, y_train)"
   ]
  },
  {
   "cell_type": "code",
   "execution_count": 109,
   "metadata": {},
   "outputs": [
    {
     "data": {
      "text/plain": [
       "0.7558738120380147"
      ]
     },
     "execution_count": 109,
     "metadata": {},
     "output_type": "execute_result"
    }
   ],
   "source": [
    "xgb.score(X_test, y_test)"
   ]
  },
  {
   "cell_type": "code",
   "execution_count": 110,
   "metadata": {},
   "outputs": [
    {
     "data": {
      "text/plain": [
       "0.7738701949254057"
      ]
     },
     "execution_count": 110,
     "metadata": {},
     "output_type": "execute_result"
    }
   ],
   "source": [
    "xgb.score(X, y)"
   ]
  },
  {
   "cell_type": "code",
   "execution_count": 111,
   "metadata": {
    "collapsed": true
   },
   "outputs": [],
   "source": [
    "preds = xgb.predict(X_test)"
   ]
  },
  {
   "cell_type": "code",
   "execution_count": 115,
   "metadata": {},
   "outputs": [
    {
     "data": {
      "text/plain": [
       "0.2090011539941018"
      ]
     },
     "execution_count": 115,
     "metadata": {},
     "output_type": "execute_result"
    }
   ],
   "source": [
    "recall_score(y_test, preds)"
   ]
  },
  {
   "cell_type": "code",
   "execution_count": 114,
   "metadata": {},
   "outputs": [
    {
     "data": {
      "text/plain": [
       "0.5701294158796782"
      ]
     },
     "execution_count": 114,
     "metadata": {},
     "output_type": "execute_result"
    }
   ],
   "source": [
    "precision_score(y_test, preds)"
   ]
  },
  {
   "cell_type": "code",
   "execution_count": 122,
   "metadata": {},
   "outputs": [
    {
     "name": "stdout",
     "output_type": "stream",
     "text": [
      "[CV]  ................................................................\n",
      "[CV]  ................................................................\n",
      "[CV]  ................................................................\n",
      "[CV]  ................................................................\n",
      "      Iter       Train Loss   Remaining Time \n",
      "      Iter       Train Loss   Remaining Time \n",
      "      Iter       Train Loss   Remaining Time \n",
      "      Iter       Train Loss   Remaining Time \n",
      "         1           1.1164            8.92m\n",
      "         1           1.1169            8.83m\n",
      "         1           1.1162            8.82m\n",
      "         1           1.1158            8.94m\n",
      "         2           1.0994            8.67m\n",
      "         2           1.0996            8.50m\n",
      "         2           1.0989            8.55m\n",
      "         2           1.0985            8.50m\n",
      "         3           1.0860            8.54m\n",
      "         3           1.0857            8.47m\n",
      "         3           1.0855            8.50m\n",
      "         3           1.0848            8.47m\n",
      "         4           1.0740            8.37m\n",
      "         4           1.0737            8.28m\n",
      "         4           1.0733            8.34m\n",
      "         4           1.0724            8.37m\n",
      "         5           1.0641            8.26m\n",
      "         5           1.0638            8.20m\n",
      "         5           1.0630            8.24m\n",
      "         5           1.0618            8.29m\n",
      "         6           1.0553            8.01m\n",
      "         6           1.0554            8.15m\n",
      "         6           1.0544            8.13m\n",
      "         6           1.0531            8.12m\n",
      "         7           1.0480            7.96m\n",
      "         7           1.0481            8.11m\n",
      "         7           1.0468            8.10m\n",
      "         7           1.0454            8.03m\n",
      "         8           1.0417            7.87m\n",
      "         8           1.0417            8.02m\n",
      "         8           1.0388            7.91m\n",
      "         8           1.0404            8.00m\n",
      "         9           1.0364            7.79m\n",
      "         9           1.0365            7.91m\n",
      "         9           1.0332            7.82m\n",
      "         9           1.0349            7.89m\n",
      "        10           1.0317            7.67m\n",
      "        10           1.0317            7.81m\n",
      "        10           1.0301            7.79m\n",
      "        10           1.0282            7.74m\n",
      "        11           1.0275            7.58m\n",
      "        11           1.0275            7.71m\n",
      "        11           1.0239            7.65m\n",
      "        11           1.0257            7.71m\n",
      "        12           1.0239            7.46m\n",
      "        12           1.0237            7.59m\n",
      "        12           1.0200            7.54m\n",
      "        12           1.0220            7.62m\n",
      "        13           1.0206            7.37m\n",
      "        13           1.0204            7.49m\n",
      "        13           1.0166            7.45m\n",
      "        13           1.0186            7.54m\n",
      "        14           1.0177            7.26m\n",
      "        14           1.0174            7.39m\n",
      "        14           1.0135            7.36m\n",
      "        14           1.0156            7.43m\n",
      "        15           1.0151            7.17m\n",
      "        15           1.0149            7.30m\n",
      "        15           1.0107            7.26m\n",
      "        15           1.0129            7.33m\n",
      "        16           1.0126            7.08m\n",
      "        16           1.0123            7.20m\n",
      "        16           1.0083            7.15m\n",
      "        16           1.0105            7.22m\n",
      "        17           1.0104            7.08m\n",
      "        17           1.0102            7.30m\n",
      "        17           1.0060            7.25m\n",
      "        17           1.0082            7.32m\n",
      "        18           1.0083            7.08m\n",
      "        18           1.0081            7.20m\n",
      "        18           1.0039            7.16m\n",
      "        18           1.0059            7.25m\n",
      "        19           1.0064            7.00m\n",
      "        19           1.0063            7.10m\n",
      "        19           1.0020            7.08m\n",
      "        19           1.0040            7.15m\n",
      "        20           1.0045            6.95m\n",
      "        20           1.0046            7.04m\n",
      "        20           1.0003            6.99m\n",
      "        20           1.0021            7.07m\n",
      "        21           1.0028            6.83m\n",
      "        21           1.0028            6.93m\n",
      "        21           0.9986            6.86m\n",
      "        21           1.0004            6.94m\n",
      "        22           1.0013            6.70m\n",
      "        22           0.9971            6.74m\n",
      "        22           1.0012            6.81m\n",
      "        22           0.9989            6.81m\n",
      "        23           0.9997            6.57m\n",
      "        23           0.9955            6.61m\n",
      "        23           0.9997            6.70m\n",
      "        23           0.9974            6.70m\n",
      "        24           0.9983            6.48m\n",
      "        24           0.9941            6.52m\n",
      "        24           0.9982            6.61m\n",
      "        24           0.9959            6.60m\n",
      "        25           0.9968            6.37m\n",
      "        25           0.9928            6.41m\n",
      "        25           0.9970            6.48m\n",
      "        25           0.9946            6.48m\n",
      "        26           0.9955            6.25m\n",
      "        26           0.9915            6.28m\n",
      "        26           0.9957            6.37m\n",
      "        26           0.9933            6.38m\n",
      "        27           0.9943            6.14m\n",
      "        27           0.9902            6.18m\n",
      "        27           0.9943            6.27m\n",
      "        27           0.9920            6.27m\n",
      "        28           0.9931            6.03m\n",
      "        28           0.9889            6.06m\n",
      "        28           0.9932            6.15m\n",
      "        28           0.9908            6.16m\n",
      "        29           0.9920            5.93m\n",
      "        29           0.9876            5.97m\n",
      "        29           0.9920            6.05m\n",
      "        29           0.9897            6.04m\n",
      "        30           0.9908            5.84m\n",
      "        30           0.9864            5.88m\n",
      "        30           0.9908            5.95m\n",
      "        30           0.9885            5.93m\n",
      "        31           0.9896            5.73m\n",
      "        31           0.9853            5.78m\n",
      "        31           0.9896            5.84m\n",
      "        31           0.9873            5.82m\n",
      "        32           0.9885            5.63m\n",
      "        32           0.9842            5.68m\n",
      "        32           0.9884            5.75m\n",
      "        32           0.9861            5.73m\n",
      "        33           0.9874            5.52m\n",
      "        33           0.9833            5.58m\n",
      "        33           0.9875            5.64m\n",
      "        33           0.9850            5.62m\n",
      "        34           0.9864            5.42m\n",
      "        34           0.9822            5.49m\n",
      "        34           0.9864            5.55m\n",
      "        34           0.9840            5.53m\n",
      "        35           0.9853            5.35m\n",
      "        35           0.9813            5.40m\n",
      "        35           0.9830            5.42m\n",
      "        35           0.9854            5.45m\n",
      "        36           0.9844            5.25m\n",
      "        36           0.9803            5.30m\n",
      "        36           0.9822            5.33m\n",
      "        36           0.9845            5.35m\n",
      "        37           0.9836            5.18m\n",
      "        37           0.9837            5.27m\n",
      "        37           0.9793            5.24m\n",
      "        37           0.9811            5.28m\n",
      "        38           0.9827            5.10m\n",
      "        38           0.9783            5.15m\n",
      "        38           0.9829            5.19m\n",
      "        38           0.9802            5.20m\n",
      "        39           0.9817            5.01m\n",
      "        39           0.9776            5.05m\n",
      "        39           0.9821            5.09m\n",
      "        39           0.9794            5.10m\n",
      "        40           0.9807            4.93m\n",
      "        40           0.9766            4.97m\n",
      "        40           0.9810            5.02m\n",
      "        40           0.9785            5.02m\n",
      "        41           0.9800            4.85m\n",
      "        41           0.9758            4.88m\n",
      "        41           0.9803            4.93m\n",
      "        41           0.9775            4.93m\n",
      "        42           0.9791            4.76m\n",
      "        42           0.9750            4.78m\n",
      "        42           0.9796            4.84m\n",
      "        42           0.9766            4.85m\n",
      "        43           0.9784            4.67m\n",
      "        43           0.9742            4.69m\n",
      "        43           0.9788            4.74m\n",
      "        43           0.9757            4.76m\n"
     ]
    },
    {
     "name": "stdout",
     "output_type": "stream",
     "text": [
      "        44           0.9776            4.58m\n",
      "        44           0.9733            4.61m\n",
      "        44           0.9780            4.65m\n",
      "        45           0.9768            4.49m\n",
      "        44           0.9748            4.67m\n",
      "        45           0.9724            4.52m\n",
      "        45           0.9772            4.56m\n",
      "        45           0.9741            4.57m\n",
      "        46           0.9762            4.40m\n",
      "        46           0.9715            4.43m\n",
      "        46           0.9765            4.47m\n",
      "        47           0.9754            4.30m\n",
      "        46           0.9733            4.48m\n",
      "        47           0.9707            4.34m\n",
      "        47           0.9757            4.37m\n",
      "        48           0.9746            4.22m\n",
      "        47           0.9725            4.40m\n",
      "        48           0.9700            4.26m\n",
      "        48           0.9751            4.28m\n",
      "        49           0.9740            4.14m\n",
      "        48           0.9718            4.31m\n",
      "        49           0.9691            4.17m\n",
      "        49           0.9743            4.20m\n",
      "        50           0.9732            4.05m\n",
      "        49           0.9711            4.23m\n",
      "        50           0.9683            4.09m\n",
      "        50           0.9736            4.11m\n",
      "        51           0.9724            3.96m\n",
      "        50           0.9705            4.13m\n",
      "        51           0.9730            4.01m\n",
      "        51           0.9674            4.01m\n",
      "        52           0.9717            3.88m\n",
      "        51           0.9698            4.04m\n",
      "        52           0.9723            3.92m\n",
      "        52           0.9667            3.92m\n",
      "        52           0.9693            3.93m\n",
      "        53           0.9710            3.79m\n",
      "        53           0.9717            3.84m\n",
      "        53           0.9659            3.83m\n",
      "        53           0.9686            3.85m\n",
      "        54           0.9703            3.72m\n",
      "        54           0.9711            3.75m\n",
      "        54           0.9653            3.75m\n",
      "        54           0.9679            3.77m\n",
      "        55           0.9697            3.63m\n",
      "        55           0.9705            3.66m\n",
      "        55           0.9646            3.67m\n",
      "        55           0.9673            3.67m\n",
      "        56           0.9690            3.54m\n",
      "        56           0.9698            3.58m\n",
      "        56           0.9639            3.57m\n",
      "        56           0.9667            3.58m\n",
      "        57           0.9684            3.45m\n",
      "        57           0.9693            3.48m\n",
      "        57           0.9634            3.48m\n",
      "        57           0.9660            3.49m\n",
      "        58           0.9678            3.36m\n",
      "        58           0.9687            3.38m\n",
      "        58           0.9628            3.38m\n",
      "        59           0.9674            3.26m\n",
      "        58           0.9652            3.41m\n",
      "        59           0.9679            3.30m\n",
      "        59           0.9621            3.29m\n",
      "        60           0.9667            3.17m\n",
      "        59           0.9645            3.31m\n",
      "        60           0.9674            3.20m\n",
      "        60           0.9615            3.20m\n",
      "        61           0.9661            3.08m\n",
      "        60           0.9638            3.23m\n",
      "        61           0.9670            3.11m\n",
      "        61           0.9610            3.11m\n",
      "        62           0.9654            3.00m\n",
      "        61           0.9632            3.13m\n",
      "        62           0.9663            3.02m\n",
      "        62           0.9605            3.02m\n",
      "        63           0.9648            2.91m\n",
      "        62           0.9625            3.04m\n",
      "        63           0.9656            2.94m\n",
      "        64           0.9645            2.81m\n",
      "        63           0.9596            2.93m\n",
      "        63           0.9620            2.95m\n",
      "        64           0.9651            2.85m\n",
      "        64           0.9591            2.84m\n",
      "        65           0.9640            2.73m\n",
      "        64           0.9613            2.86m\n",
      "        65           0.9644            2.76m\n",
      "        65           0.9586            2.75m\n",
      "        66           0.9634            2.65m\n",
      "        65           0.9607            2.78m\n",
      "        66           0.9582            2.66m\n",
      "        66           0.9637            2.68m\n",
      "        67           0.9629            2.56m\n",
      "        66           0.9602            2.69m\n",
      "        67           0.9574            2.58m\n",
      "        67           0.9631            2.59m\n",
      "        68           0.9622            2.48m\n",
      "        67           0.9595            2.60m\n",
      "        68           0.9569            2.49m\n",
      "        68           0.9626            2.51m\n",
      "        69           0.9615            2.39m\n",
      "        68           0.9590            2.51m\n",
      "        69           0.9563            2.41m\n",
      "        69           0.9619            2.42m\n",
      "        70           0.9610            2.31m\n",
      "        69           0.9584            2.43m\n",
      "        70           0.9558            2.32m\n",
      "        70           0.9614            2.34m\n",
      "        71           0.9607            2.22m\n",
      "        70           0.9579            2.34m\n",
      "        71           0.9554            2.24m\n",
      "        71           0.9610            2.25m\n",
      "        72           0.9603            2.14m\n",
      "        71           0.9575            2.26m\n",
      "        72           0.9550            2.16m\n",
      "        73           0.9598            2.06m\n",
      "        72           0.9603            2.17m\n",
      "        72           0.9569            2.17m\n",
      "        73           0.9544            2.07m\n",
      "        74           0.9591            1.98m\n",
      "        73           0.9598            2.09m\n",
      "        73           0.9565            2.09m\n",
      "        74           0.9538            1.99m\n",
      "        74           0.9595            2.00m\n",
      "        75           0.9584            1.90m\n",
      "        74           0.9559            2.01m\n",
      "        75           0.9591            1.92m\n",
      "        75           0.9533            1.91m\n",
      "        76           0.9577            1.82m\n",
      "        75           0.9554            1.92m\n",
      "        76           0.9585            1.84m\n",
      "        76           0.9527            1.83m\n",
      "        77           0.9573            1.74m\n",
      "        76           0.9552            1.84m\n",
      "        77           0.9523            1.75m\n",
      "        77           0.9580            1.75m\n",
      "        78           0.9568            1.66m\n",
      "        77           0.9548            1.76m\n",
      "        78           0.9576            1.67m\n",
      "        78           0.9518            1.67m\n",
      "        79           0.9563            1.59m\n",
      "        78           0.9540            1.69m\n",
      "        79           0.9571            1.60m\n",
      "        79           0.9512            1.60m\n",
      "        80           0.9560            1.50m\n",
      "        79           0.9535            1.61m\n",
      "        81           0.9558            1.43m\n",
      "        80           0.9509            1.52m\n",
      "        80           0.9566            1.52m\n",
      "        80           0.9532            1.53m\n",
      "        81           0.9562            1.45m\n",
      "        82           0.9551            1.35m\n",
      "        81           0.9502            1.44m\n",
      "        81           0.9528            1.45m\n",
      "        82           0.9497            1.37m\n",
      "        83           0.9546            1.28m\n",
      "        82           0.9555            1.37m\n",
      "        82           0.9523            1.37m\n",
      "        83           0.9493            1.29m\n",
      "        83           0.9552            1.29m\n",
      "        84           0.9541            1.20m\n",
      "        83           0.9519            1.30m\n",
      "        84           0.9547            1.21m\n",
      "        84           0.9489            1.21m\n",
      "        85           0.9536            1.13m\n",
      "        84           0.9514            1.22m\n",
      "        85           0.9544            1.14m\n",
      "        85           0.9512            1.14m\n",
      "        85           0.9482            1.14m\n",
      "        86           0.9529            1.05m\n",
      "        86           0.9537            1.07m\n",
      "        87           0.9525           58.64s\n",
      "        86           0.9506            1.07m\n",
      "        86           0.9476            1.06m\n",
      "        88           0.9521           54.12s\n",
      "        87           0.9472           59.22s\n",
      "        87           0.9531           59.42s\n",
      "        87           0.9500           59.46s\n",
      "        89           0.9517           49.51s\n",
      "        88           0.9498           54.65s\n",
      "        88           0.9467           54.61s\n",
      "        88           0.9526           54.81s\n",
      "        90           0.9515           44.80s\n",
      "        89           0.9462           50.05s\n"
     ]
    },
    {
     "name": "stdout",
     "output_type": "stream",
     "text": [
      "        89           0.9521           50.23s\n",
      "        89           0.9492           50.15s\n",
      "        91           0.9509           40.38s\n",
      "        90           0.9489           45.56s\n",
      "        90           0.9515           45.67s\n",
      "        90           0.9457           45.55s\n",
      "        92           0.9506           35.80s\n",
      "        91           0.9483           40.96s\n",
      "        91           0.9511           41.04s\n",
      "        91           0.9452           40.98s\n",
      "        93           0.9502           31.28s\n",
      "        92           0.9480           36.32s\n",
      "        92           0.9449           36.32s\n",
      "        92           0.9506           36.46s\n",
      "        94           0.9495           26.82s\n",
      "        93           0.9477           31.70s\n",
      "        93           0.9444           31.79s\n",
      "        93           0.9499           31.95s\n",
      "        95           0.9489           22.39s\n",
      "        94           0.9472           27.21s\n",
      "        94           0.9439           27.25s\n",
      "        96           0.9487           17.86s\n",
      "        94           0.9493           27.43s\n",
      "        95           0.9468           22.65s\n",
      "        95           0.9434           22.70s\n",
      "        97           0.9482           13.41s\n",
      "        96           0.9465           18.10s\n",
      "        95           0.9486           22.90s\n",
      "        96           0.9430           18.15s\n",
      "        98           0.9478            8.93s\n",
      "        96           0.9481           18.33s\n",
      "        97           0.9459           13.59s\n",
      "        97           0.9424           13.61s\n",
      "        99           0.9472            4.47s\n",
      "        98           0.9455            9.05s\n",
      "        97           0.9478           13.74s\n",
      "        98           0.9422            9.06s\n",
      "       100           0.9468            0.00s\n",
      "        98           0.9473            9.15s\n",
      "[CV] .......................................................  - 7.5min\n",
      "[CV]  ................................................................\n",
      "        99           0.9448            4.53s\n",
      "        99           0.9417            4.53s\n",
      "      Iter       Train Loss   Remaining Time \n",
      "       100           0.9446            0.00s\n",
      "        99           0.9469            4.57s\n",
      "[CV] .......................................................  - 7.6min\n",
      "       100           0.9412            0.00s\n",
      "[CV] .......................................................  - 7.6min\n",
      "       100           0.9467            0.00s\n",
      "         1           1.1161            7.16m\n",
      "[CV] .......................................................  - 7.6min\n",
      "         2           1.0987            5.42m\n",
      "         3           1.0846            4.57m\n",
      "         4           1.0725            4.13m\n",
      "         5           1.0622            3.86m\n",
      "         6           1.0534            3.77m\n",
      "         7           1.0458            3.59m\n",
      "         8           1.0394            3.47m\n",
      "         9           1.0339            3.35m\n",
      "        10           1.0290            3.32m\n",
      "        11           1.0249            3.24m\n",
      "        12           1.0213            3.19m\n",
      "        13           1.0178            3.11m\n",
      "        14           1.0148            3.04m\n",
      "        15           1.0120            2.98m\n",
      "        16           1.0095            2.95m\n",
      "        17           1.0071            2.89m\n",
      "        18           1.0050            2.84m\n",
      "        19           1.0031            2.78m\n",
      "        20           1.0013            2.72m\n",
      "        21           0.9996            2.66m\n",
      "        22           0.9979            2.61m\n",
      "        23           0.9963            2.58m\n",
      "        24           0.9949            2.55m\n",
      "        25           0.9936            2.51m\n",
      "        26           0.9922            2.46m\n",
      "        27           0.9909            2.41m\n",
      "        28           0.9896            2.36m\n",
      "        29           0.9883            2.31m\n",
      "        30           0.9871            2.26m\n",
      "        31           0.9859            2.21m\n",
      "        32           0.9846            2.17m\n",
      "        33           0.9835            2.12m\n",
      "        34           0.9824            2.08m\n",
      "        35           0.9813            2.04m\n",
      "        36           0.9803            2.00m\n",
      "        37           0.9794            1.95m\n",
      "        38           0.9784            1.91m\n",
      "        39           0.9775            1.88m\n",
      "        40           0.9765            1.84m\n",
      "        41           0.9755            1.80m\n",
      "        42           0.9746            1.77m\n",
      "        43           0.9739            1.72m\n",
      "        44           0.9731            1.69m\n",
      "        45           0.9724            1.65m\n",
      "        46           0.9714            1.61m\n",
      "        47           0.9707            1.58m\n",
      "        48           0.9700            1.54m\n",
      "        49           0.9693            1.50m\n",
      "        50           0.9687            1.46m\n",
      "        51           0.9680            1.43m\n",
      "        52           0.9672            1.40m\n",
      "        53           0.9664            1.37m\n",
      "        54           0.9657            1.33m\n",
      "        55           0.9649            1.30m\n",
      "        56           0.9641            1.27m\n",
      "        57           0.9633            1.24m\n",
      "        58           0.9626            1.21m\n",
      "        59           0.9620            1.18m\n",
      "        60           0.9613            1.15m\n",
      "        61           0.9608            1.12m\n",
      "        62           0.9604            1.09m\n",
      "        63           0.9597            1.06m\n",
      "        64           0.9592            1.03m\n",
      "        65           0.9586           59.98s\n",
      "        66           0.9581           58.17s\n",
      "        67           0.9575           56.54s\n",
      "        68           0.9569           54.93s\n",
      "        69           0.9564           53.09s\n",
      "        70           0.9558           51.40s\n",
      "        71           0.9551           49.78s\n",
      "        72           0.9545           48.09s\n",
      "        73           0.9542           46.20s\n",
      "        74           0.9535           44.49s\n",
      "        75           0.9529           42.66s\n",
      "        76           0.9526           40.73s\n",
      "        77           0.9522           38.99s\n",
      "        78           0.9515           37.37s\n",
      "        79           0.9509           35.66s\n",
      "        80           0.9502           33.92s\n",
      "        81           0.9498           32.14s\n",
      "        82           0.9493           30.35s\n",
      "        83           0.9489           28.61s\n",
      "        84           0.9484           26.84s\n",
      "        85           0.9478           25.19s\n",
      "        86           0.9473           23.48s\n",
      "        87           0.9470           21.83s\n",
      "        88           0.9464           20.20s\n",
      "        89           0.9458           18.58s\n",
      "        90           0.9450           16.97s\n",
      "        91           0.9445           15.31s\n",
      "        92           0.9442           13.61s\n",
      "        93           0.9437           11.92s\n",
      "        94           0.9433           10.22s\n",
      "        95           0.9428            8.53s\n",
      "        96           0.9425            6.80s\n",
      "        97           0.9421            5.10s\n",
      "        98           0.9418            3.39s\n",
      "        99           0.9415            1.69s\n",
      "       100           0.9408            0.00s\n",
      "[CV] .......................................................  - 2.9min\n"
     ]
    },
    {
     "name": "stderr",
     "output_type": "stream",
     "text": [
      "[Parallel(n_jobs=-1)]: Done   5 out of   5 | elapsed: 10.4min finished\n"
     ]
    },
    {
     "data": {
      "text/plain": [
       "0.7586517969596419"
      ]
     },
     "execution_count": 122,
     "metadata": {},
     "output_type": "execute_result"
    }
   ],
   "source": [
    "cross_val_score(xgb, X, y, cv = 5, scoring= \"accuracy\", n_jobs= -1, verbose= 2).mean()"
   ]
  },
  {
   "cell_type": "code",
   "execution_count": 121,
   "metadata": {},
   "outputs": [
    {
     "name": "stdout",
     "output_type": "stream",
     "text": [
      "[CV]  ................................................................\n",
      "[CV]  ................................................................\n",
      "[CV]  ................................................................\n",
      "[CV]  ................................................................\n",
      "      Iter       Train Loss   Remaining Time \n",
      "      Iter       Train Loss   Remaining Time \n",
      "      Iter       Train Loss   Remaining Time \n",
      "      Iter       Train Loss   Remaining Time \n",
      "         1           1.1164            8.61m\n",
      "         1           1.1169            8.53m\n",
      "         1           1.1162            8.54m\n",
      "         1           1.1158            8.55m\n",
      "         2           1.0994            8.57m\n",
      "         2           1.0996            8.46m\n",
      "         2           1.0989            8.44m\n",
      "         2           1.0985            8.49m\n",
      "         3           1.0860            8.47m\n",
      "         3           1.0857            8.37m\n",
      "         3           1.0855            8.39m\n",
      "         3           1.0848            8.36m\n",
      "         4           1.0740            8.34m\n",
      "         4           1.0737            8.34m\n",
      "         4           1.0733            8.32m\n",
      "         4           1.0724            8.35m\n",
      "         5           1.0641            8.21m\n",
      "         5           1.0638            8.22m\n",
      "         5           1.0630            8.23m\n",
      "         5           1.0618            8.29m\n",
      "         6           1.0554            8.10m\n",
      "         6           1.0553            8.16m\n",
      "         6           1.0544            8.14m\n",
      "         6           1.0531            8.19m\n",
      "         7           1.0481            7.99m\n",
      "         7           1.0480            8.07m\n",
      "         7           1.0468            8.05m\n",
      "         7           1.0454            8.08m\n",
      "         8           1.0417            7.93m\n",
      "         8           1.0417            7.98m\n",
      "         8           1.0404            7.99m\n",
      "         8           1.0388            7.98m\n",
      "         9           1.0365            7.80m\n",
      "         9           1.0364            7.89m\n",
      "         9           1.0349            7.85m\n",
      "         9           1.0332            7.90m\n",
      "        10           1.0317            7.69m\n",
      "        10           1.0317            7.80m\n",
      "        10           1.0301            7.78m\n",
      "        10           1.0282            7.81m\n",
      "        11           1.0275            7.59m\n",
      "        11           1.0275            7.69m\n",
      "        11           1.0257            7.68m\n",
      "        11           1.0239            7.72m\n",
      "        12           1.0237            7.49m\n",
      "        12           1.0239            7.59m\n",
      "        12           1.0220            7.60m\n",
      "        12           1.0200            7.63m\n",
      "        13           1.0204            7.40m\n",
      "        13           1.0206            7.50m\n",
      "        13           1.0186            7.52m\n",
      "        13           1.0166            7.54m\n",
      "        14           1.0174            7.36m\n",
      "        14           1.0177            7.45m\n",
      "        14           1.0156            7.47m\n",
      "        14           1.0135            7.49m\n",
      "        15           1.0149            7.27m\n",
      "        15           1.0151            7.33m\n",
      "        15           1.0129            7.39m\n",
      "        15           1.0107            7.37m\n",
      "        16           1.0123            7.18m\n",
      "        16           1.0126            7.24m\n",
      "        16           1.0105            7.28m\n",
      "        16           1.0083            7.27m\n",
      "        17           1.0102            7.07m\n",
      "        17           1.0104            7.12m\n",
      "        17           1.0082            7.17m\n",
      "        17           1.0060            7.17m\n",
      "        18           1.0081            6.97m\n",
      "        18           1.0083            7.04m\n",
      "        18           1.0059            7.08m\n",
      "        18           1.0039            7.07m\n",
      "        19           1.0063            6.89m\n",
      "        19           1.0064            6.98m\n",
      "        19           1.0040            7.03m\n",
      "        19           1.0020            7.03m\n",
      "        20           1.0046            6.89m\n",
      "        20           1.0045            6.97m\n",
      "        20           1.0021            7.01m\n",
      "        20           1.0003            7.01m\n",
      "        21           1.0028            6.81m\n",
      "        21           1.0028            6.89m\n",
      "        21           1.0004            6.91m\n",
      "        21           0.9986            6.90m\n",
      "        22           1.0012            6.74m\n",
      "        22           1.0013            6.82m\n",
      "        22           0.9989            6.83m\n",
      "        22           0.9971            6.82m\n",
      "        23           0.9997            6.63m\n",
      "        23           0.9997            6.69m\n",
      "        23           0.9955            6.69m\n",
      "        23           0.9974            6.71m\n",
      "        24           0.9982            6.55m\n",
      "        24           0.9983            6.59m\n",
      "        24           0.9941            6.59m\n",
      "        24           0.9959            6.63m\n",
      "        25           0.9970            6.43m\n",
      "        25           0.9968            6.50m\n",
      "        25           0.9928            6.51m\n",
      "        25           0.9946            6.54m\n",
      "        26           0.9957            6.34m\n",
      "        26           0.9955            6.40m\n",
      "        26           0.9915            6.40m\n",
      "        26           0.9933            6.43m\n",
      "        27           0.9943            6.24m\n",
      "        27           0.9943            6.30m\n",
      "        27           0.9902            6.30m\n",
      "        27           0.9920            6.34m\n",
      "        28           0.9932            6.13m\n",
      "        28           0.9931            6.19m\n",
      "        28           0.9889            6.20m\n",
      "        28           0.9908            6.23m\n",
      "        29           0.9920            6.02m\n",
      "        29           0.9920            6.07m\n",
      "        29           0.9897            6.10m\n",
      "        29           0.9876            6.10m\n",
      "        30           0.9908            5.92m\n",
      "        30           0.9908            6.00m\n",
      "        30           0.9885            6.02m\n",
      "        30           0.9864            6.01m\n",
      "        31           0.9896            5.83m\n",
      "        31           0.9896            5.93m\n",
      "        31           0.9873            5.95m\n",
      "        31           0.9853            5.95m\n",
      "        32           0.9884            5.77m\n",
      "        32           0.9885            5.83m\n",
      "        32           0.9861            5.85m\n",
      "        32           0.9842            5.85m\n",
      "        33           0.9875            5.66m\n",
      "        33           0.9874            5.72m\n",
      "        33           0.9850            5.76m\n",
      "        33           0.9833            5.76m\n",
      "        34           0.9864            5.57m\n",
      "        34           0.9864            5.64m\n",
      "        34           0.9840            5.69m\n",
      "        34           0.9822            5.69m\n",
      "        35           0.9854            5.51m\n",
      "        35           0.9853            5.56m\n",
      "        35           0.9830            5.57m\n",
      "        35           0.9813            5.59m\n",
      "        36           0.9845            5.40m\n",
      "        36           0.9844            5.46m\n",
      "        36           0.9822            5.46m\n",
      "        36           0.9803            5.48m\n",
      "        37           0.9837            5.29m\n",
      "        37           0.9836            5.35m\n",
      "        37           0.9811            5.38m\n",
      "        37           0.9793            5.40m\n",
      "        38           0.9829            5.21m\n",
      "        38           0.9827            5.26m\n",
      "        38           0.9802            5.29m\n",
      "        38           0.9783            5.32m\n",
      "        39           0.9821            5.12m\n",
      "        39           0.9817            5.19m\n",
      "        39           0.9794            5.22m\n",
      "        39           0.9776            5.22m\n",
      "        40           0.9810            5.05m\n",
      "        40           0.9807            5.11m\n",
      "        40           0.9785            5.12m\n",
      "        40           0.9766            5.13m\n",
      "        41           0.9803            4.96m\n",
      "        41           0.9800            5.02m\n",
      "        41           0.9775            5.05m\n",
      "        41           0.9758            5.05m\n",
      "        42           0.9796            4.87m\n",
      "        42           0.9791            4.93m\n",
      "        42           0.9750            4.94m\n",
      "        42           0.9766            4.95m\n",
      "        43           0.9788            4.78m\n",
      "        43           0.9784            4.84m\n",
      "        43           0.9742            4.86m\n",
      "        43           0.9757            4.88m\n"
     ]
    },
    {
     "name": "stdout",
     "output_type": "stream",
     "text": [
      "        44           0.9780            4.70m\n",
      "        44           0.9776            4.76m\n",
      "        44           0.9733            4.79m\n",
      "        45           0.9772            4.63m\n",
      "        44           0.9748            4.81m\n",
      "        45           0.9768            4.68m\n",
      "        46           0.9765            4.54m\n",
      "        45           0.9741            4.72m\n",
      "        45           0.9724            4.71m\n",
      "        46           0.9762            4.60m\n",
      "        47           0.9757            4.45m\n",
      "        46           0.9733            4.63m\n",
      "        46           0.9715            4.63m\n",
      "        47           0.9754            4.50m\n",
      "        48           0.9751            4.37m\n",
      "        47           0.9707            4.55m\n",
      "        47           0.9725            4.56m\n",
      "        48           0.9746            4.43m\n",
      "        49           0.9743            4.29m\n",
      "        48           0.9700            4.46m\n",
      "        48           0.9718            4.47m\n",
      "        49           0.9740            4.33m\n",
      "        50           0.9736            4.20m\n",
      "        49           0.9691            4.37m\n",
      "        49           0.9711            4.38m\n",
      "        50           0.9732            4.24m\n",
      "        51           0.9730            4.09m\n",
      "        50           0.9705            4.28m\n",
      "        50           0.9683            4.28m\n",
      "        51           0.9724            4.15m\n",
      "        52           0.9723            4.00m\n",
      "        51           0.9698            4.19m\n",
      "        51           0.9674            4.19m\n",
      "        52           0.9717            4.06m\n",
      "        53           0.9717            3.91m\n",
      "        52           0.9693            4.08m\n",
      "        52           0.9667            4.09m\n",
      "        53           0.9710            3.96m\n",
      "        54           0.9711            3.81m\n",
      "        53           0.9686            3.98m\n",
      "        53           0.9659            4.00m\n",
      "        54           0.9703            3.87m\n",
      "        55           0.9705            3.72m\n",
      "        54           0.9679            3.89m\n",
      "        54           0.9653            3.90m\n",
      "        55           0.9697            3.78m\n",
      "        56           0.9698            3.64m\n",
      "        55           0.9673            3.80m\n",
      "        55           0.9646            3.82m\n",
      "        57           0.9693            3.54m\n",
      "        56           0.9690            3.69m\n",
      "        56           0.9667            3.71m\n",
      "        56           0.9639            3.73m\n",
      "        58           0.9687            3.45m\n",
      "        57           0.9684            3.60m\n",
      "        57           0.9660            3.62m\n",
      "        57           0.9634            3.63m\n",
      "        59           0.9679            3.36m\n",
      "        58           0.9678            3.51m\n",
      "        58           0.9652            3.53m\n",
      "        58           0.9628            3.54m\n",
      "        60           0.9674            3.27m\n",
      "        59           0.9674            3.41m\n",
      "        59           0.9645            3.44m\n",
      "        61           0.9670            3.18m\n",
      "        59           0.9621            3.45m\n",
      "        60           0.9667            3.32m\n",
      "        60           0.9638            3.35m\n",
      "        60           0.9615            3.35m\n",
      "        62           0.9663            3.09m\n",
      "        61           0.9661            3.23m\n",
      "        61           0.9632            3.25m\n",
      "        61           0.9610            3.26m\n",
      "        62           0.9654            3.13m\n",
      "        63           0.9656            3.01m\n",
      "        62           0.9605            3.16m\n",
      "        62           0.9625            3.16m\n",
      "        64           0.9651            2.92m\n",
      "        63           0.9648            3.05m\n",
      "        63           0.9620            3.06m\n",
      "        64           0.9645            2.95m\n",
      "        63           0.9596            3.07m\n",
      "        65           0.9644            2.83m\n",
      "        64           0.9613            2.98m\n",
      "        64           0.9591            2.98m\n",
      "        65           0.9640            2.86m\n",
      "        66           0.9637            2.75m\n",
      "        65           0.9586            2.89m\n",
      "        65           0.9607            2.89m\n",
      "        66           0.9634            2.78m\n",
      "        67           0.9631            2.67m\n",
      "        66           0.9582            2.80m\n",
      "        66           0.9602            2.80m\n",
      "        67           0.9629            2.69m\n",
      "        68           0.9626            2.58m\n",
      "        67           0.9574            2.71m\n",
      "        67           0.9595            2.72m\n",
      "        68           0.9622            2.61m\n",
      "        69           0.9619            2.50m\n",
      "        68           0.9590            2.63m\n",
      "        68           0.9569            2.63m\n",
      "        70           0.9614            2.41m\n",
      "        69           0.9615            2.53m\n",
      "        69           0.9584            2.55m\n",
      "        69           0.9563            2.55m\n",
      "        71           0.9610            2.33m\n",
      "        70           0.9610            2.44m\n",
      "        70           0.9579            2.46m\n",
      "        70           0.9558            2.46m\n",
      "        71           0.9607            2.35m\n",
      "        72           0.9603            2.24m\n",
      "        71           0.9575            2.37m\n",
      "        71           0.9554            2.37m\n",
      "        72           0.9603            2.26m\n",
      "        73           0.9598            2.16m\n",
      "        73           0.9598            2.17m\n",
      "        72           0.9550            2.28m\n",
      "        72           0.9569            2.28m\n",
      "        74           0.9595            2.07m\n",
      "        73           0.9565            2.20m\n",
      "        73           0.9544            2.19m\n",
      "        74           0.9591            2.09m\n",
      "        75           0.9591            1.99m\n",
      "        74           0.9559            2.11m\n",
      "        74           0.9538            2.11m\n",
      "        76           0.9585            1.91m\n",
      "        75           0.9584            2.01m\n",
      "        75           0.9554            2.03m\n",
      "        75           0.9533            2.03m\n",
      "        77           0.9580            1.82m\n",
      "        76           0.9577            1.93m\n",
      "        76           0.9552            1.94m\n",
      "        76           0.9527            1.94m\n",
      "        78           0.9576            1.74m\n",
      "        77           0.9573            1.84m\n",
      "        77           0.9548            1.85m\n",
      "        77           0.9523            1.85m\n",
      "        79           0.9571            1.66m\n",
      "        78           0.9568            1.76m\n",
      "        78           0.9518            1.77m\n",
      "        78           0.9540            1.78m\n",
      "        80           0.9566            1.58m\n",
      "        79           0.9563            1.68m\n",
      "        79           0.9535            1.69m\n",
      "        79           0.9512            1.69m\n",
      "        81           0.9562            1.50m\n",
      "        80           0.9560            1.60m\n",
      "        80           0.9532            1.61m\n",
      "        81           0.9558            1.51m\n",
      "        80           0.9509            1.61m\n",
      "        82           0.9555            1.42m\n",
      "        81           0.9528            1.53m\n",
      "        81           0.9502            1.53m\n",
      "        82           0.9551            1.43m\n",
      "        83           0.9552            1.34m\n",
      "        82           0.9523            1.44m\n",
      "        84           0.9547            1.26m\n",
      "        82           0.9497            1.44m\n",
      "        83           0.9546            1.35m\n",
      "        83           0.9519            1.36m\n",
      "        85           0.9544            1.18m\n",
      "        83           0.9493            1.36m\n",
      "        84           0.9541            1.27m\n",
      "        84           0.9514            1.28m\n",
      "        84           0.9489            1.28m\n",
      "        86           0.9537            1.10m\n",
      "        85           0.9536            1.19m\n",
      "        85           0.9512            1.20m\n",
      "        85           0.9482            1.20m\n",
      "        87           0.9531            1.02m\n",
      "        86           0.9529            1.11m\n",
      "        86           0.9506            1.12m\n",
      "        87           0.9525            1.03m\n",
      "        88           0.9526           56.52s\n",
      "        86           0.9476            1.12m\n",
      "        87           0.9500            1.04m\n",
      "        87           0.9472            1.04m\n",
      "        88           0.9521           57.00s\n",
      "        89           0.9521           51.71s\n",
      "        88           0.9498           57.11s\n",
      "        89           0.9517           52.11s\n",
      "        88           0.9467           57.46s\n",
      "        90           0.9515           47.00s\n"
     ]
    },
    {
     "name": "stdout",
     "output_type": "stream",
     "text": [
      "        89           0.9492           52.34s\n",
      "        90           0.9515           47.12s\n",
      "        89           0.9462           52.59s\n",
      "        91           0.9511           42.22s\n",
      "        90           0.9489           47.52s\n",
      "        91           0.9509           42.45s\n",
      "        90           0.9457           47.82s\n",
      "        92           0.9506           37.53s\n",
      "        92           0.9506           37.61s\n",
      "        91           0.9483           42.73s\n",
      "        91           0.9452           43.03s\n",
      "        93           0.9499           32.86s\n",
      "        92           0.9480           37.90s\n",
      "        93           0.9502           32.89s\n",
      "        92           0.9449           38.15s\n",
      "        93           0.9477           33.10s\n",
      "        94           0.9493           28.22s\n",
      "        94           0.9495           28.21s\n",
      "        93           0.9444           33.38s\n",
      "        94           0.9472           28.36s\n",
      "        95           0.9489           23.50s\n",
      "        95           0.9486           23.55s\n",
      "        94           0.9439           28.61s\n",
      "        95           0.9468           23.63s\n",
      "        96           0.9487           18.76s\n",
      "        96           0.9481           18.83s\n",
      "        96           0.9465           18.85s\n",
      "        95           0.9434           23.81s\n",
      "        97           0.9482           14.08s\n",
      "        97           0.9478           14.11s\n",
      "        96           0.9430           19.04s\n",
      "        97           0.9459           14.15s\n",
      "        98           0.9478            9.37s\n",
      "        98           0.9473            9.39s\n",
      "        98           0.9455            9.41s\n",
      "        97           0.9424           14.26s\n",
      "        99           0.9472            4.68s\n",
      "        99           0.9469            4.69s\n",
      "        98           0.9422            9.48s\n",
      "        99           0.9448            4.70s\n",
      "       100           0.9467            0.00s\n",
      "       100           0.9468            0.00s\n",
      "[CV] .......................................................  - 7.9min\n",
      "[CV] .......................................................  - 7.8min\n",
      "[CV]  ................................................................\n",
      "       100           0.9446            0.00s\n",
      "        99           0.9417            4.73s\n",
      "[CV] .......................................................  - 7.9min\n",
      "      Iter       Train Loss   Remaining Time \n",
      "       100           0.9412            0.00s\n",
      "[CV] .......................................................  - 7.9min\n",
      "         1           1.1161            3.91m\n",
      "         2           1.0987            3.41m\n",
      "         3           1.0846            3.37m\n",
      "         4           1.0725            3.44m\n",
      "         5           1.0622            3.40m\n",
      "         6           1.0534            3.41m\n",
      "         7           1.0458            3.34m\n",
      "         8           1.0394            3.26m\n",
      "         9           1.0339            3.20m\n",
      "        10           1.0290            3.15m\n",
      "        11           1.0249            3.10m\n",
      "        12           1.0213            3.06m\n",
      "        13           1.0178            3.03m\n",
      "        14           1.0148            3.00m\n",
      "        15           1.0120            2.94m\n",
      "        16           1.0095            2.87m\n",
      "        17           1.0071            2.80m\n",
      "        18           1.0050            2.74m\n",
      "        19           1.0031            2.68m\n",
      "        20           1.0013            2.62m\n",
      "        21           0.9996            2.57m\n",
      "        22           0.9979            2.52m\n",
      "        23           0.9963            2.47m\n",
      "        24           0.9949            2.42m\n",
      "        25           0.9936            2.37m\n",
      "        26           0.9922            2.33m\n",
      "        27           0.9909            2.28m\n",
      "        28           0.9896            2.24m\n",
      "        29           0.9883            2.20m\n",
      "        30           0.9871            2.15m\n",
      "        31           0.9859            2.11m\n",
      "        32           0.9846            2.07m\n",
      "        33           0.9835            2.03m\n",
      "        34           0.9824            2.00m\n",
      "        35           0.9813            1.96m\n",
      "        36           0.9803            1.92m\n",
      "        37           0.9794            1.89m\n",
      "        38           0.9784            1.85m\n",
      "        39           0.9775            1.82m\n",
      "        40           0.9765            1.80m\n",
      "        41           0.9755            1.78m\n",
      "        42           0.9746            1.75m\n",
      "        43           0.9739            1.72m\n",
      "        44           0.9731            1.69m\n",
      "        45           0.9724            1.66m\n",
      "        46           0.9714            1.63m\n",
      "        47           0.9707            1.60m\n",
      "        48           0.9700            1.57m\n",
      "        49           0.9693            1.53m\n",
      "        50           0.9687            1.49m\n",
      "        51           0.9680            1.46m\n",
      "        52           0.9672            1.42m\n",
      "        53           0.9664            1.39m\n",
      "        54           0.9657            1.35m\n",
      "        55           0.9649            1.32m\n",
      "        56           0.9641            1.29m\n",
      "        57           0.9633            1.26m\n",
      "        58           0.9626            1.22m\n",
      "        59           0.9620            1.19m\n",
      "        60           0.9613            1.16m\n",
      "        61           0.9608            1.13m\n",
      "        62           0.9604            1.09m\n",
      "        63           0.9597            1.06m\n",
      "        64           0.9592            1.03m\n",
      "        65           0.9586            1.00m\n",
      "        66           0.9581           58.29s\n",
      "        67           0.9575           56.66s\n",
      "        68           0.9569           54.99s\n",
      "        69           0.9564           53.23s\n",
      "        70           0.9558           51.36s\n",
      "        71           0.9551           49.71s\n",
      "        72           0.9545           47.95s\n",
      "        73           0.9542           46.01s\n",
      "        74           0.9535           44.33s\n",
      "        75           0.9529           42.52s\n",
      "        76           0.9526           40.61s\n",
      "        77           0.9522           38.86s\n",
      "        78           0.9515           37.17s\n",
      "        79           0.9509           35.42s\n",
      "        80           0.9502           33.73s\n",
      "        81           0.9498           32.00s\n",
      "        82           0.9493           30.23s\n",
      "        83           0.9489           28.47s\n",
      "        84           0.9484           26.71s\n",
      "        85           0.9478           25.04s\n",
      "        86           0.9473           23.34s\n",
      "        87           0.9470           21.61s\n",
      "        88           0.9464           19.92s\n",
      "        89           0.9458           18.26s\n",
      "        90           0.9450           16.61s\n",
      "        91           0.9445           14.92s\n",
      "        92           0.9442           13.22s\n",
      "        93           0.9437           11.55s\n",
      "        94           0.9433            9.87s\n",
      "        95           0.9428            8.23s\n",
      "        96           0.9425            6.56s\n",
      "        97           0.9421            4.91s\n",
      "        98           0.9418            3.26s\n",
      "        99           0.9415            1.63s\n",
      "       100           0.9408            0.00s\n",
      "[CV] .......................................................  - 2.7min\n"
     ]
    },
    {
     "name": "stderr",
     "output_type": "stream",
     "text": [
      "[Parallel(n_jobs=-1)]: Done   5 out of   5 | elapsed: 10.6min finished\n"
     ]
    },
    {
     "data": {
      "text/plain": [
       "0.7336334163313444"
      ]
     },
     "execution_count": 121,
     "metadata": {},
     "output_type": "execute_result"
    }
   ],
   "source": [
    "cross_val_score(xgb, X, y, cv = 5, scoring= \"roc_auc\", n_jobs= -1, verbose= 2).mean()"
   ]
  },
  {
   "cell_type": "code",
   "execution_count": 113,
   "metadata": {},
   "outputs": [
    {
     "data": {
      "text/plain": [
       "array([[42552,  2458],\n",
       "       [12338,  3260]])"
      ]
     },
     "execution_count": 113,
     "metadata": {},
     "output_type": "execute_result"
    }
   ],
   "source": [
    "cm = confusion_matrix(y_test, preds)\n",
    "cm"
   ]
  },
  {
   "cell_type": "markdown",
   "metadata": {},
   "source": [
    "GBM ROC_AUC Curve, Learning Curve, + Thresholds"
   ]
  },
  {
   "cell_type": "code",
   "execution_count": 116,
   "metadata": {
    "collapsed": true
   },
   "outputs": [],
   "source": [
    "from sklearn.model_selection import learning_curve"
   ]
  },
  {
   "cell_type": "code",
   "execution_count": 117,
   "metadata": {
    "collapsed": true
   },
   "outputs": [],
   "source": [
    "#Derive probabilities of class 1 from the test set\n",
    "test_probs = xgb.predict_proba(X_test)[:,1]\n",
    "#Pass in the test_probs variable and the true test labels aka y_test in the roc_curve function\n",
    "fpr, tpr, thres = roc_curve(y_test, test_probs)\n",
    "#Outputs the fpr, tpr, for varying thresholds"
   ]
  },
  {
   "cell_type": "code",
   "execution_count": 118,
   "metadata": {},
   "outputs": [
    {
     "data": {
      "image/png": "[encoded data removed]",
      "text/plain": [
       "<matplotlib.figure.Figure at 0x1a1b5c8450>"
      ]
     },
     "metadata": {},
     "output_type": "display_data"
    }
   ],
   "source": [
    "#Plotting False Positive Rates vs the True Positive Rates\n",
    "#Dotted line represents a useless model\n",
    "plt.figure(figsize=(10,8))\n",
    "plt.plot(fpr, tpr, linewidth= 5, c = \"c\")\n",
    "#Line of randomness\n",
    "plt.plot([0,1], [0,1], \"--\", alpha=.7)\n",
    "plt.xlabel(\"False Positive Rate\")\n",
    "plt.ylabel(\"True Positive Rate\")\n",
    "plt.title(\"GBM ROC Curve\")\n",
    "plt.show();"
   ]
  },
  {
   "cell_type": "code",
   "execution_count": 120,
   "metadata": {},
   "outputs": [
    {
     "data": {
      "image/png": "[encoded data removed]",
      "text/plain": [
       "<matplotlib.figure.Figure at 0x1a20975e50>"
      ]
     },
     "metadata": {},
     "output_type": "display_data"
    }
   ],
   "source": [
    "plt.figure(figsize=(12,9))\n",
    "plt.plot(thres, fpr, linewidth=5, label = \"FPR Line\", c = 'c')\n",
    "plt.plot(thres, tpr, linewidth=5, label = \"TPR line\", c = 'm')\n",
    "plt.xlabel(\"Thresholds\")\n",
    "plt.ylabel(\"Rate\")\n",
    "plt.title(\"GBM Thresholds\")\n",
    "plt.legend()\n",
    "plt.show();"
   ]
  },
  {
   "cell_type": "code",
   "execution_count": 123,
   "metadata": {
    "collapsed": true
   },
   "outputs": [],
   "source": [
    "def thres_acc(t, yt, tp):\n",
    "    labels = np.where(tp>=t, 1, 0)\n",
    "    return accuracy_score(yt, labels)"
   ]
  },
  {
   "cell_type": "code",
   "execution_count": 124,
   "metadata": {
    "collapsed": true
   },
   "outputs": [],
   "source": [
    "#Generate thresholds and pass them into function\n",
    "\n",
    "thresholds = np.linspace(0, 1, 50)\n",
    "acc_scores = [thres_acc(i, y_test, test_probs) for i in thresholds]"
   ]
  },
  {
   "cell_type": "code",
   "execution_count": 126,
   "metadata": {},
   "outputs": [
    {
     "data": {
      "image/png": "[encoded data removed]",
      "text/plain": [
       "<matplotlib.figure.Figure at 0x1a1bbb96d0>"
      ]
     },
     "metadata": {},
     "output_type": "display_data"
    }
   ],
   "source": [
    "#Plot thresholds vs accuracy scores\n",
    "plt.figure(figsize=(10,8))\n",
    "plt.plot(thresholds, acc_scores, linewidth=5, c = \"c\")\n",
    "plt.xlabel(\"Thresholds\")\n",
    "plt.ylabel(\"Accuracy Scores\")\n",
    "plt.show()"
   ]
  },
  {
   "cell_type": "code",
   "execution_count": 130,
   "metadata": {},
   "outputs": [
    {
     "data": {
      "text/plain": [
       "0.5306122448979591"
      ]
     },
     "execution_count": 130,
     "metadata": {},
     "output_type": "execute_result"
    }
   ],
   "source": [
    "thres_score_dict = dict(zip(thresholds, acc_scores))\n",
    "sorted(thres_score_dict.items(), key = lambda x:x[1], reverse=True)[0][0]"
   ]
  },
  {
   "cell_type": "code",
   "execution_count": null,
   "metadata": {
    "collapsed": true
   },
   "outputs": [],
   "source": [
    "# at .53, the accuracy is maximized, but we need to put it through the domain function below for total loan loss"
   ]
  },
  {
   "cell_type": "code",
   "execution_count": null,
   "metadata": {
    "collapsed": true
   },
   "outputs": [],
   "source": [
    "# Skip, takes too long\n",
    "#1. Create CV training and test scores for various training set sizes\n",
    "\n",
    "train_sizes, train_scores, test_scores = learning_curve(xgb, \n",
    "                                                        X, \n",
    "                                                        y,\n",
    "                                                        # Number of folds in cross-validation\n",
    "                                                        cv=5,\n",
    "                                                        # Evaluation metric\n",
    "                                                        scoring='accuracy', \n",
    "                                                        # 10 different sizes of the training set\n",
    "                                                        train_sizes=np.linspace(0.01, 1.0, 10))\n",
    "\n",
    "#2.We need to compute average of each 5-fold cv\n",
    "train_scores = train_scores.mean(axis =1)\n",
    "test_scores = test_scores.mean(axis = 1)\n",
    "\n",
    "#3. Create lines\n",
    "plt.plot(train_sizes, train_scores, color=\"c\",  label=\"Training score\")\n",
    "plt.plot(train_sizes, test_scores, color=\"m\", label=\"Testing score\")\n",
    "\n",
    "#4. Create plot\n",
    "plt.title(\"GBM Learning Curve\")\n",
    "plt.xlabel(\"Training Set Size\")\n",
    "plt.ylabel(\"Accuracy Score\")\n",
    "plt.ylim(0.0, 1.1)\n",
    "plt.legend(loc=\"best\")\n",
    "plt.figure(figsize= (10, 8))\n",
    "plt.show();"
   ]
  },
  {
   "cell_type": "markdown",
   "metadata": {},
   "source": [
    "# GBM Domain Knowledge Test!!"
   ]
  },
  {
   "cell_type": "code",
   "execution_count": 127,
   "metadata": {
    "collapsed": true
   },
   "outputs": [],
   "source": [
    "def threshold(probs, thres = 0.5):\n",
    "    output = np.where(probs >= thres, 1, 0)\n",
    "    return output"
   ]
  },
  {
   "cell_type": "code",
   "execution_count": 173,
   "metadata": {
    "collapsed": true
   },
   "outputs": [],
   "source": [
    "df = X_test"
   ]
  },
  {
   "cell_type": "code",
   "execution_count": 174,
   "metadata": {},
   "outputs": [
    {
     "data": {
      "text/plain": [
       "(60608, 85)"
      ]
     },
     "execution_count": 174,
     "metadata": {},
     "output_type": "execute_result"
    }
   ],
   "source": [
    "X_test.shape"
   ]
  },
  {
   "cell_type": "code",
   "execution_count": 175,
   "metadata": {
    "collapsed": true
   },
   "outputs": [],
   "source": [
    "probs = xgb.predict_proba(X_test)"
   ]
  },
  {
   "cell_type": "code",
   "execution_count": 176,
   "metadata": {},
   "outputs": [
    {
     "data": {
      "text/plain": [
       "416683    0\n",
       "8404      0\n",
       "402348    1\n",
       "69610     0\n",
       "130168    0\n",
       "Name: loan_status, dtype: int64"
      ]
     },
     "execution_count": 176,
     "metadata": {},
     "output_type": "execute_result"
    }
   ],
   "source": [
    "y_test.tail()"
   ]
  },
  {
   "cell_type": "code",
   "execution_count": 177,
   "metadata": {},
   "outputs": [
    {
     "data": {
      "text/html": [
       "<div>\n",
       "<style>\n",
       "    .dataframe thead tr:only-child th {\n",
       "        text-align: right;\n",
       "    }\n",
       "\n",
       "    .dataframe thead th {\n",
       "        text-align: left;\n",
       "    }\n",
       "\n",
       "    .dataframe tbody tr th {\n",
       "        vertical-align: top;\n",
       "    }\n",
       "</style>\n",
       "<table border=\"1\" class=\"dataframe\">\n",
       "  <thead>\n",
       "    <tr style=\"text-align: right;\">\n",
       "      <th></th>\n",
       "      <th>predicted</th>\n",
       "    </tr>\n",
       "  </thead>\n",
       "  <tbody>\n",
       "    <tr>\n",
       "      <th>416683</th>\n",
       "      <td>0</td>\n",
       "    </tr>\n",
       "    <tr>\n",
       "      <th>8404</th>\n",
       "      <td>0</td>\n",
       "    </tr>\n",
       "    <tr>\n",
       "      <th>402348</th>\n",
       "      <td>0</td>\n",
       "    </tr>\n",
       "    <tr>\n",
       "      <th>69610</th>\n",
       "      <td>0</td>\n",
       "    </tr>\n",
       "    <tr>\n",
       "      <th>130168</th>\n",
       "      <td>0</td>\n",
       "    </tr>\n",
       "  </tbody>\n",
       "</table>\n",
       "</div>"
      ],
      "text/plain": [
       "        predicted\n",
       "416683          0\n",
       "8404            0\n",
       "402348          0\n",
       "69610           0\n",
       "130168          0"
      ]
     },
     "execution_count": 177,
     "metadata": {},
     "output_type": "execute_result"
    }
   ],
   "source": [
    "preds = threshold(probs, thres= .95)\n",
    "preds = pd.DataFrame(preds, index = df.index, columns= (0, \"predicted\"))\n",
    "preds.drop(0, axis= 1, inplace= True)\n",
    "preds.tail()"
   ]
  },
  {
   "cell_type": "code",
   "execution_count": 178,
   "metadata": {
    "collapsed": true
   },
   "outputs": [],
   "source": [
    "df = X_test[[\"loan_amnt\", \"int_rate\", \"term\"]]\n",
    "df = pd.concat([df, y_test], axis = 1)"
   ]
  },
  {
   "cell_type": "code",
   "execution_count": 179,
   "metadata": {},
   "outputs": [
    {
     "data": {
      "text/html": [
       "<div>\n",
       "<style>\n",
       "    .dataframe thead tr:only-child th {\n",
       "        text-align: right;\n",
       "    }\n",
       "\n",
       "    .dataframe thead th {\n",
       "        text-align: left;\n",
       "    }\n",
       "\n",
       "    .dataframe tbody tr th {\n",
       "        vertical-align: top;\n",
       "    }\n",
       "</style>\n",
       "<table border=\"1\" class=\"dataframe\">\n",
       "  <thead>\n",
       "    <tr style=\"text-align: right;\">\n",
       "      <th></th>\n",
       "      <th>loan_amnt</th>\n",
       "      <th>int_rate</th>\n",
       "      <th>term</th>\n",
       "      <th>loan_status</th>\n",
       "    </tr>\n",
       "  </thead>\n",
       "  <tbody>\n",
       "    <tr>\n",
       "      <th>416683</th>\n",
       "      <td>14625</td>\n",
       "      <td>12.39</td>\n",
       "      <td>36.0</td>\n",
       "      <td>0</td>\n",
       "    </tr>\n",
       "    <tr>\n",
       "      <th>8404</th>\n",
       "      <td>22000</td>\n",
       "      <td>11.99</td>\n",
       "      <td>36.0</td>\n",
       "      <td>0</td>\n",
       "    </tr>\n",
       "    <tr>\n",
       "      <th>402348</th>\n",
       "      <td>16000</td>\n",
       "      <td>19.99</td>\n",
       "      <td>60.0</td>\n",
       "      <td>1</td>\n",
       "    </tr>\n",
       "    <tr>\n",
       "      <th>69610</th>\n",
       "      <td>1500</td>\n",
       "      <td>13.18</td>\n",
       "      <td>36.0</td>\n",
       "      <td>0</td>\n",
       "    </tr>\n",
       "    <tr>\n",
       "      <th>130168</th>\n",
       "      <td>34675</td>\n",
       "      <td>12.29</td>\n",
       "      <td>36.0</td>\n",
       "      <td>0</td>\n",
       "    </tr>\n",
       "  </tbody>\n",
       "</table>\n",
       "</div>"
      ],
      "text/plain": [
       "        loan_amnt  int_rate  term  loan_status\n",
       "416683      14625     12.39  36.0            0\n",
       "8404        22000     11.99  36.0            0\n",
       "402348      16000     19.99  60.0            1\n",
       "69610        1500     13.18  36.0            0\n",
       "130168      34675     12.29  36.0            0"
      ]
     },
     "execution_count": 179,
     "metadata": {},
     "output_type": "execute_result"
    }
   ],
   "source": [
    "df.tail()"
   ]
  },
  {
   "cell_type": "code",
   "execution_count": 181,
   "metadata": {
    "collapsed": true
   },
   "outputs": [],
   "source": [
    "df = pd.concat([df, preds], axis = 1)"
   ]
  },
  {
   "cell_type": "code",
   "execution_count": 182,
   "metadata": {},
   "outputs": [
    {
     "data": {
      "text/html": [
       "<div>\n",
       "<style>\n",
       "    .dataframe thead tr:only-child th {\n",
       "        text-align: right;\n",
       "    }\n",
       "\n",
       "    .dataframe thead th {\n",
       "        text-align: left;\n",
       "    }\n",
       "\n",
       "    .dataframe tbody tr th {\n",
       "        vertical-align: top;\n",
       "    }\n",
       "</style>\n",
       "<table border=\"1\" class=\"dataframe\">\n",
       "  <thead>\n",
       "    <tr style=\"text-align: right;\">\n",
       "      <th></th>\n",
       "      <th>loan_amnt</th>\n",
       "      <th>int_rate</th>\n",
       "      <th>term</th>\n",
       "      <th>loan_status</th>\n",
       "      <th>predicted</th>\n",
       "    </tr>\n",
       "  </thead>\n",
       "  <tbody>\n",
       "    <tr>\n",
       "      <th>416683</th>\n",
       "      <td>14625</td>\n",
       "      <td>12.39</td>\n",
       "      <td>36.0</td>\n",
       "      <td>0</td>\n",
       "      <td>0</td>\n",
       "    </tr>\n",
       "    <tr>\n",
       "      <th>8404</th>\n",
       "      <td>22000</td>\n",
       "      <td>11.99</td>\n",
       "      <td>36.0</td>\n",
       "      <td>0</td>\n",
       "      <td>0</td>\n",
       "    </tr>\n",
       "    <tr>\n",
       "      <th>402348</th>\n",
       "      <td>16000</td>\n",
       "      <td>19.99</td>\n",
       "      <td>60.0</td>\n",
       "      <td>1</td>\n",
       "      <td>0</td>\n",
       "    </tr>\n",
       "    <tr>\n",
       "      <th>69610</th>\n",
       "      <td>1500</td>\n",
       "      <td>13.18</td>\n",
       "      <td>36.0</td>\n",
       "      <td>0</td>\n",
       "      <td>0</td>\n",
       "    </tr>\n",
       "    <tr>\n",
       "      <th>130168</th>\n",
       "      <td>34675</td>\n",
       "      <td>12.29</td>\n",
       "      <td>36.0</td>\n",
       "      <td>0</td>\n",
       "      <td>0</td>\n",
       "    </tr>\n",
       "  </tbody>\n",
       "</table>\n",
       "</div>"
      ],
      "text/plain": [
       "        loan_amnt  int_rate  term  loan_status  predicted\n",
       "416683      14625     12.39  36.0            0          0\n",
       "8404        22000     11.99  36.0            0          0\n",
       "402348      16000     19.99  60.0            1          0\n",
       "69610        1500     13.18  36.0            0          0\n",
       "130168      34675     12.29  36.0            0          0"
      ]
     },
     "execution_count": 182,
     "metadata": {},
     "output_type": "execute_result"
    }
   ],
   "source": [
    "df.tail()\n",
    "\n",
    "# http://www.amortization-calc.com/\n",
    "# Try calculating Index 402348, and see how much interest he pays over time."
   ]
  },
  {
   "cell_type": "code",
   "execution_count": 131,
   "metadata": {
    "collapsed": true
   },
   "outputs": [],
   "source": [
    "def total_loss_function(data):\n",
    "    # Bad Loan, predicted as Good Loan. (FN) \n",
    "    if data.loan_status == 1 and data.predicted == 0:\n",
    "        return ((data.term * data.loan_amnt * (data.int_rate/12/100)) / (1 - (1 + (data.int_rate/12/100))**(-data.term))) - data.loan_amnt\n",
    "    # Good Loan, predicted as Bad Loan (FP)\n",
    "    elif data.loan_status == 0 and data.predicted == 1:\n",
    "        return ((data.term * data.loan_amnt * (data.int_rate/12/100)) / (1 - (1 + (data.int_rate/12/100))**(-data.term))) - data.loan_amnt\n",
    "    else:\n",
    "        return 0"
   ]
  },
  {
   "cell_type": "code",
   "execution_count": 185,
   "metadata": {},
   "outputs": [
    {
     "data": {
      "text/plain": [
       "161305    11356.824976\n",
       "268128        0.000000\n",
       "354385        0.000000\n",
       "91472         0.000000\n",
       "245200      984.205478\n",
       "391808     1861.092130\n",
       "91372         0.000000\n",
       "219879        0.000000\n",
       "177778     8098.727141\n",
       "376915        0.000000\n",
       "119295        0.000000\n",
       "339444    15275.419994\n",
       "86040         0.000000\n",
       "381940     4571.458710\n",
       "360923        0.000000\n",
       "164254        0.000000\n",
       "392349     1414.931597\n",
       "299819     5360.153381\n",
       "313649        0.000000\n",
       "168060        0.000000\n",
       "295562        0.000000\n",
       "339051        0.000000\n",
       "367260        0.000000\n",
       "76084         0.000000\n",
       "280463        0.000000\n",
       "344482        0.000000\n",
       "208029        0.000000\n",
       "281519        0.000000\n",
       "204195        0.000000\n",
       "50735         0.000000\n",
       "              ...     \n",
       "106777        0.000000\n",
       "26257         0.000000\n",
       "182857        0.000000\n",
       "116043        0.000000\n",
       "323324        0.000000\n",
       "382111        0.000000\n",
       "50976         0.000000\n",
       "284560        0.000000\n",
       "356974        0.000000\n",
       "86525         0.000000\n",
       "282480        0.000000\n",
       "420140        0.000000\n",
       "181896        0.000000\n",
       "219108        0.000000\n",
       "277014        0.000000\n",
       "346489        0.000000\n",
       "311464        0.000000\n",
       "68892         0.000000\n",
       "116288        0.000000\n",
       "268042        0.000000\n",
       "203956     4996.756404\n",
       "403925        0.000000\n",
       "321921     8401.402272\n",
       "173913        0.000000\n",
       "200613        0.000000\n",
       "416683        0.000000\n",
       "8404          0.000000\n",
       "402348     9428.787074\n",
       "69610         0.000000\n",
       "130168        0.000000\n",
       "Length: 60608, dtype: float64"
      ]
     },
     "execution_count": 185,
     "metadata": {},
     "output_type": "execute_result"
    }
   ],
   "source": [
    "total_loss_series = df.apply(total_loss_function, axis = 1)\n",
    "total_loss_series"
   ]
  },
  {
   "cell_type": "code",
   "execution_count": 184,
   "metadata": {},
   "outputs": [
    {
     "data": {
      "text/plain": [
       "1572.888767576904"
      ]
     },
     "execution_count": 184,
     "metadata": {},
     "output_type": "execute_result"
    }
   ],
   "source": [
    "95329642.425301/len(df)"
   ]
  },
  {
   "cell_type": "code",
   "execution_count": 147,
   "metadata": {},
   "outputs": [
    {
     "data": {
      "text/plain": [
       "[182616731.81801626,\n",
       " 182616731.81801626,\n",
       " 182616731.81801626,\n",
       " 182664592.04783872,\n",
       " 182985795.94693038,\n",
       " 183955443.90662476,\n",
       " 185519863.28972214,\n",
       " 187421546.22888568,\n",
       " 189960968.8185338,\n",
       " 191122991.7225242,\n",
       " 191525634.44286832,\n",
       " 190165506.15066278,\n",
       " 187387163.63908285,\n",
       " 181625121.11439613,\n",
       " 172143561.80420068,\n",
       " 159999424.5697678,\n",
       " 144453131.72980082,\n",
       " 128088956.9916588,\n",
       " 112318780.97681224,\n",
       " 98545243.3231593]"
      ]
     },
     "execution_count": 147,
     "metadata": {},
     "output_type": "execute_result"
    }
   ],
   "source": [
    "results = []\n",
    "\n",
    "array = np.arange(0, 1, 0.05)\n",
    "\n",
    "for i in array:\n",
    "    preds = threshold(probs, thres= i)\n",
    "    df[\"predicted\"] = preds\n",
    "    total_loss_series = df.apply(total_loss_function, axis = 1)\n",
    "    results.append(total_loss_series.sum())\n",
    "results"
   ]
  },
  {
   "cell_type": "code",
   "execution_count": 148,
   "metadata": {},
   "outputs": [
    {
     "data": {
      "text/plain": [
       "[(98545243.3231593, 0.9500000000000001),\n",
       " (112318780.97681224, 0.9),\n",
       " (128088956.9916588, 0.8500000000000001),\n",
       " (144453131.72980082, 0.8),\n",
       " (159999424.5697678, 0.75),\n",
       " (172143561.80420068, 0.7000000000000001),\n",
       " (181625121.11439613, 0.65),\n",
       " (182616731.81801626, 0.0),\n",
       " (182616731.81801626, 0.05),\n",
       " (182616731.81801626, 0.1),\n",
       " (182664592.04783872, 0.15000000000000002),\n",
       " (182985795.94693038, 0.2),\n",
       " (183955443.90662476, 0.25),\n",
       " (185519863.28972214, 0.30000000000000004),\n",
       " (187387163.63908285, 0.6000000000000001),\n",
       " (187421546.22888568, 0.35000000000000003),\n",
       " (189960968.8185338, 0.4),\n",
       " (190165506.15066278, 0.55),\n",
       " (191122991.7225242, 0.45),\n",
       " (191525634.44286832, 0.5)]"
      ]
     },
     "execution_count": 148,
     "metadata": {},
     "output_type": "execute_result"
    }
   ],
   "source": [
    "sorted(zip(results, array), reverse= False)"
   ]
  },
  {
   "cell_type": "code",
   "execution_count": 149,
   "metadata": {
    "scrolled": true
   },
   "outputs": [
    {
     "data": {
      "image/png": "[encoded data removed]",
      "text/plain": [
       "<matplotlib.figure.Figure at 0x1a20b7a390>"
      ]
     },
     "metadata": {},
     "output_type": "display_data"
    }
   ],
   "source": [
    "#Plot thresholds vs accuracy scores\n",
    "plt.figure(figsize=(10,8))\n",
    "plt.plot(array, results, linewidth=5, c = \"c\")\n",
    "plt.xlabel(\"Thresholds\")\n",
    "plt.ylabel(\"Total Loan Loss ($)\")\n",
    "plt.title(\"Total Loan Loss by Thresholds\")\n",
    "plt.show()"
   ]
  },
  {
   "cell_type": "markdown",
   "metadata": {},
   "source": [
    "Essentially we want to minimize Total Loan Loss, which is the Amortization Interest for both FP & FN results. The model shows that .95 is the threshold where we get the best prediction, and are able to lose less money for both our investors and fallout for borrower quality. "
   ]
  },
  {
   "cell_type": "code",
   "execution_count": 186,
   "metadata": {},
   "outputs": [
    {
     "data": {
      "text/plain": [
       "3215601"
      ]
     },
     "execution_count": 186,
     "metadata": {},
     "output_type": "execute_result"
    }
   ],
   "source": [
    "98545243 - 95329642 \n",
    "# The answers are slightly different at .95 threshold. Might have to check the functions again... but still close.."
   ]
  },
  {
   "cell_type": "code",
   "execution_count": null,
   "metadata": {
    "collapsed": true
   },
   "outputs": [],
   "source": []
  },
  {
   "cell_type": "markdown",
   "metadata": {},
   "source": [
    "Random Forest Balanced"
   ]
  },
  {
   "cell_type": "code",
   "execution_count": 712,
   "metadata": {},
   "outputs": [
    {
     "name": "stdout",
     "output_type": "stream",
     "text": [
      "0.8567496383612705\n",
      "0.9974116303169523\n",
      "0.9610637487154203\n"
     ]
    }
   ],
   "source": [
    "# RF with Balanced PCA dataset: \n",
    "### this is on the old dataset which includes total_pmnts etc. That's why the score is so high!\n",
    "\n",
    "print cross_val_score(RandomForestClassifier(class_weight=\"balanced\"), \n",
    "                X, y, cv = 5, scoring=\"recall\").mean()\n",
    "print cross_val_score(RandomForestClassifier(class_weight=\"balanced\"), \n",
    "                X, y, cv = 5, scoring=\"precision\").mean()\n",
    "print cross_val_score(RandomForestClassifier(class_weight=\"balanced\"), \n",
    "                X, y, cv = 5, scoring=\"accuracy\").mean()"
   ]
  },
  {
   "cell_type": "code",
   "execution_count": null,
   "metadata": {
    "collapsed": true
   },
   "outputs": [],
   "source": []
  },
  {
   "cell_type": "code",
   "execution_count": null,
   "metadata": {
    "collapsed": true
   },
   "outputs": [],
   "source": []
  },
  {
   "cell_type": "code",
   "execution_count": 714,
   "metadata": {
    "collapsed": true
   },
   "outputs": [],
   "source": [
    "#Intialize parameter grid\n",
    "\n",
    "#Range of estimators to test\n",
    "est_range = range(1, 50, 5)\n",
    "depths_range = range(2, 11, 2)\n",
    "\n",
    "#Dictionary of parameter values \n",
    "param_grid_rf = {}\n",
    "\n",
    "param_grid_rf = {\"criterion\": [\"gini\", \"entropy\"], \"max_depth\": depths_range, \"n_estimators\": est_range}\n",
    "param_grid_rf[\"min_samples_split\"] = [2, 10]\n",
    "param_grid_rf[\"max_features\"] = [1, 20, 40, 80]"
   ]
  },
  {
   "cell_type": "code",
   "execution_count": null,
   "metadata": {
    "collapsed": true
   },
   "outputs": [],
   "source": [
    "#Intialize RandomizedSearchCV grid with n_iter = 10; RandomForestClassifier balanced on PCA dataset:\n",
    "\n",
    "grid_rf_bal = RandomizedSearchCV(RandomForestClassifier(class_weight= \"balanced\"), n_iter = 10,\n",
    "                            param_distributions = param_grid_rf, cv = 5, scoring = \"accuracy\")\n",
    "\n",
    "t = time()\n",
    "\n",
    "#Fit grid on data\n",
    "grid_rf_bal.fit(X, y)\n",
    "\n",
    "print time() - t"
   ]
  },
  {
   "cell_type": "code",
   "execution_count": 718,
   "metadata": {},
   "outputs": [
    {
     "data": {
      "text/plain": [
       "{'criterion': 'gini',\n",
       " 'max_depth': 10,\n",
       " 'max_features': 40,\n",
       " 'min_samples_split': 2,\n",
       " 'n_estimators': 26}"
      ]
     },
     "execution_count": 718,
     "metadata": {},
     "output_type": "execute_result"
    }
   ],
   "source": [
    "grid_rf_bal.best_params_"
   ]
  },
  {
   "cell_type": "code",
   "execution_count": 720,
   "metadata": {},
   "outputs": [
    {
     "data": {
      "text/plain": [
       "0.997125122508984"
      ]
     },
     "execution_count": 720,
     "metadata": {},
     "output_type": "execute_result"
    }
   ],
   "source": [
    "grid_rf_bal.best_score_"
   ]
  },
  {
   "cell_type": "code",
   "execution_count": 723,
   "metadata": {},
   "outputs": [
    {
     "data": {
      "text/plain": [
       "0.9971686456814357"
      ]
     },
     "execution_count": 723,
     "metadata": {},
     "output_type": "execute_result"
    }
   ],
   "source": [
    "cross_val_score(RandomForestClassifier(class_weight= \"balanced\",criterion=\"gini\", max_depth= 10, max_features= 40, min_samples_split= 2,\n",
    "                                      n_estimators = 26), X, y, cv = 5, scoring = \"accuracy\").mean()"
   ]
  },
  {
   "cell_type": "code",
   "execution_count": 901,
   "metadata": {
    "collapsed": true
   },
   "outputs": [],
   "source": [
    "grid_rf_bal = RandomForestClassifier(class_weight= \"balanced\",criterion=\"gini\", max_depth= 10, max_features= 40, min_samples_split= 2,\n",
    "                                      n_estimators = 26)"
   ]
  },
  {
   "cell_type": "code",
   "execution_count": 902,
   "metadata": {},
   "outputs": [
    {
     "data": {
      "text/plain": [
       "RandomForestClassifier(bootstrap=True, class_weight='balanced',\n",
       "            criterion='gini', max_depth=10, max_features=40,\n",
       "            max_leaf_nodes=None, min_impurity_decrease=0.0,\n",
       "            min_impurity_split=None, min_samples_leaf=1,\n",
       "            min_samples_split=2, min_weight_fraction_leaf=0.0,\n",
       "            n_estimators=26, n_jobs=1, oob_score=False, random_state=None,\n",
       "            verbose=0, warm_start=False)"
      ]
     },
     "execution_count": 902,
     "metadata": {},
     "output_type": "execute_result"
    }
   ],
   "source": [
    "grid_rf_bal.fit(X_train, y_train)"
   ]
  },
  {
   "cell_type": "code",
   "execution_count": 903,
   "metadata": {},
   "outputs": [
    {
     "data": {
      "text/plain": [
       "0.998480317264246"
      ]
     },
     "execution_count": 903,
     "metadata": {},
     "output_type": "execute_result"
    }
   ],
   "source": [
    "grid_rf_bal.score(X_train, y_train)"
   ]
  },
  {
   "cell_type": "code",
   "execution_count": 904,
   "metadata": {},
   "outputs": [
    {
     "data": {
      "text/html": [
       "<div>\n",
       "<style>\n",
       "    .dataframe thead tr:only-child th {\n",
       "        text-align: right;\n",
       "    }\n",
       "\n",
       "    .dataframe thead th {\n",
       "        text-align: left;\n",
       "    }\n",
       "\n",
       "    .dataframe tbody tr th {\n",
       "        vertical-align: top;\n",
       "    }\n",
       "</style>\n",
       "<table border=\"1\" class=\"dataframe\">\n",
       "  <thead>\n",
       "    <tr style=\"text-align: right;\">\n",
       "      <th></th>\n",
       "      <th>predicted good loan</th>\n",
       "      <th>predicted bad loan</th>\n",
       "    </tr>\n",
       "  </thead>\n",
       "  <tbody>\n",
       "    <tr>\n",
       "      <th>0</th>\n",
       "      <td>45005</td>\n",
       "      <td>5</td>\n",
       "    </tr>\n",
       "    <tr>\n",
       "      <th>1</th>\n",
       "      <td>151</td>\n",
       "      <td>15447</td>\n",
       "    </tr>\n",
       "  </tbody>\n",
       "</table>\n",
       "</div>"
      ],
      "text/plain": [
       "   predicted good loan  predicted bad loan\n",
       "0                45005                   5\n",
       "1                  151               15447"
      ]
     },
     "execution_count": 904,
     "metadata": {},
     "output_type": "execute_result"
    }
   ],
   "source": [
    "pred_rf_bal = grid_rf_bal.predict(X_test)\n",
    "cm = confusion_matrix(y_test, pred_rf_bal)\n",
    "cm = pd.DataFrame(cm, columns = (\"predicted good loan\", \"predicted bad loan\"))\n",
    "cm"
   ]
  },
  {
   "cell_type": "code",
   "execution_count": 905,
   "metadata": {},
   "outputs": [
    {
     "data": {
      "text/plain": [
       "0.9996764172922599"
      ]
     },
     "execution_count": 905,
     "metadata": {},
     "output_type": "execute_result"
    }
   ],
   "source": [
    "precision_score(y_test, pred_rf_bal)"
   ]
  },
  {
   "cell_type": "code",
   "execution_count": 906,
   "metadata": {},
   "outputs": [
    {
     "data": {
      "text/plain": [
       "0.9903192717015002"
      ]
     },
     "execution_count": 906,
     "metadata": {},
     "output_type": "execute_result"
    }
   ],
   "source": [
    "recall_score(y_test, pred_rf_bal)"
   ]
  },
  {
   "cell_type": "code",
   "execution_count": 941,
   "metadata": {},
   "outputs": [
    {
     "data": {
      "text/plain": [
       "0.9974260823653643"
      ]
     },
     "execution_count": 941,
     "metadata": {},
     "output_type": "execute_result"
    }
   ],
   "source": [
    "accuracy_score(y_test, pred_rf_bal)"
   ]
  },
  {
   "cell_type": "code",
   "execution_count": 942,
   "metadata": {
    "collapsed": true
   },
   "outputs": [],
   "source": [
    "probs = grid_rf_bal.predict_proba(X_test)"
   ]
  },
  {
   "cell_type": "code",
   "execution_count": 911,
   "metadata": {},
   "outputs": [
    {
     "data": {
      "text/html": [
       "<div>\n",
       "<style>\n",
       "    .dataframe thead tr:only-child th {\n",
       "        text-align: right;\n",
       "    }\n",
       "\n",
       "    .dataframe thead th {\n",
       "        text-align: left;\n",
       "    }\n",
       "\n",
       "    .dataframe tbody tr th {\n",
       "        vertical-align: top;\n",
       "    }\n",
       "</style>\n",
       "<table border=\"1\" class=\"dataframe\">\n",
       "  <thead>\n",
       "    <tr style=\"text-align: right;\">\n",
       "      <th></th>\n",
       "      <th>predicted</th>\n",
       "    </tr>\n",
       "  </thead>\n",
       "  <tbody>\n",
       "    <tr>\n",
       "      <th>161305</th>\n",
       "      <td>1</td>\n",
       "    </tr>\n",
       "    <tr>\n",
       "      <th>268128</th>\n",
       "      <td>0</td>\n",
       "    </tr>\n",
       "    <tr>\n",
       "      <th>354385</th>\n",
       "      <td>0</td>\n",
       "    </tr>\n",
       "    <tr>\n",
       "      <th>91472</th>\n",
       "      <td>0</td>\n",
       "    </tr>\n",
       "    <tr>\n",
       "      <th>245200</th>\n",
       "      <td>1</td>\n",
       "    </tr>\n",
       "  </tbody>\n",
       "</table>\n",
       "</div>"
      ],
      "text/plain": [
       "        predicted\n",
       "161305          1\n",
       "268128          0\n",
       "354385          0\n",
       "91472           0\n",
       "245200          1"
      ]
     },
     "execution_count": 911,
     "metadata": {},
     "output_type": "execute_result"
    }
   ],
   "source": [
    "preds = threshold(probs, thres= .5)\n",
    "preds = pd.DataFrame(preds, index = df.index, columns= (0, \"predicted\"))\n",
    "preds.drop(0, axis= 1, inplace= True)\n",
    "preds.head()"
   ]
  },
  {
   "cell_type": "code",
   "execution_count": 912,
   "metadata": {},
   "outputs": [
    {
     "data": {
      "text/plain": [
       "(60608, 4)"
      ]
     },
     "execution_count": 912,
     "metadata": {},
     "output_type": "execute_result"
    }
   ],
   "source": [
    "df.shape"
   ]
  },
  {
   "cell_type": "code",
   "execution_count": 913,
   "metadata": {
    "collapsed": true
   },
   "outputs": [],
   "source": [
    "df = pd.concat([df, preds], axis = 1)"
   ]
  },
  {
   "cell_type": "code",
   "execution_count": 943,
   "metadata": {},
   "outputs": [
    {
     "data": {
      "text/plain": [
       "2960.56823388864"
      ]
     },
     "execution_count": 943,
     "metadata": {},
     "output_type": "execute_result"
    }
   ],
   "source": [
    "# from index #416683:\n",
    "((36 * 14625 * (12.39/100/12)) / (1 - (1 + (12.39/100/12))**(-36))) - 14625"
   ]
  },
  {
   "cell_type": "code",
   "execution_count": null,
   "metadata": {
    "collapsed": true
   },
   "outputs": [],
   "source": [
    "df = X_test[[\"loan_amnt\", \"int_rate\", \"term\", \"loan_status\"]]"
   ]
  },
  {
   "cell_type": "code",
   "execution_count": 909,
   "metadata": {
    "collapsed": true
   },
   "outputs": [],
   "source": [
    "df.drop(\"predicted\", axis = 1, inplace= True)"
   ]
  },
  {
   "cell_type": "code",
   "execution_count": 914,
   "metadata": {},
   "outputs": [
    {
     "data": {
      "text/html": [
       "<div>\n",
       "<style>\n",
       "    .dataframe thead tr:only-child th {\n",
       "        text-align: right;\n",
       "    }\n",
       "\n",
       "    .dataframe thead th {\n",
       "        text-align: left;\n",
       "    }\n",
       "\n",
       "    .dataframe tbody tr th {\n",
       "        vertical-align: top;\n",
       "    }\n",
       "</style>\n",
       "<table border=\"1\" class=\"dataframe\">\n",
       "  <thead>\n",
       "    <tr style=\"text-align: right;\">\n",
       "      <th></th>\n",
       "      <th>loan_amnt</th>\n",
       "      <th>int_rate</th>\n",
       "      <th>term</th>\n",
       "      <th>loan_status</th>\n",
       "      <th>predicted</th>\n",
       "    </tr>\n",
       "  </thead>\n",
       "  <tbody>\n",
       "    <tr>\n",
       "      <th>416683</th>\n",
       "      <td>14625</td>\n",
       "      <td>12.39</td>\n",
       "      <td>36.0</td>\n",
       "      <td>0</td>\n",
       "      <td>0</td>\n",
       "    </tr>\n",
       "    <tr>\n",
       "      <th>8404</th>\n",
       "      <td>22000</td>\n",
       "      <td>11.99</td>\n",
       "      <td>36.0</td>\n",
       "      <td>0</td>\n",
       "      <td>0</td>\n",
       "    </tr>\n",
       "    <tr>\n",
       "      <th>402348</th>\n",
       "      <td>16000</td>\n",
       "      <td>19.99</td>\n",
       "      <td>60.0</td>\n",
       "      <td>1</td>\n",
       "      <td>1</td>\n",
       "    </tr>\n",
       "    <tr>\n",
       "      <th>69610</th>\n",
       "      <td>1500</td>\n",
       "      <td>13.18</td>\n",
       "      <td>36.0</td>\n",
       "      <td>0</td>\n",
       "      <td>0</td>\n",
       "    </tr>\n",
       "    <tr>\n",
       "      <th>130168</th>\n",
       "      <td>34675</td>\n",
       "      <td>12.29</td>\n",
       "      <td>36.0</td>\n",
       "      <td>0</td>\n",
       "      <td>0</td>\n",
       "    </tr>\n",
       "  </tbody>\n",
       "</table>\n",
       "</div>"
      ],
      "text/plain": [
       "        loan_amnt  int_rate  term  loan_status  predicted\n",
       "416683      14625     12.39  36.0            0          0\n",
       "8404        22000     11.99  36.0            0          0\n",
       "402348      16000     19.99  60.0            1          1\n",
       "69610        1500     13.18  36.0            0          0\n",
       "130168      34675     12.29  36.0            0          0"
      ]
     },
     "execution_count": 914,
     "metadata": {},
     "output_type": "execute_result"
    }
   ],
   "source": [
    "df.tail()"
   ]
  },
  {
   "cell_type": "code",
   "execution_count": 915,
   "metadata": {
    "collapsed": true
   },
   "outputs": [],
   "source": [
    "total_loss_series = df.apply(total_loss_function, axis = 1)\n",
    "\n",
    "# http://www.amortization-calc.com/\n",
    "# cross reference the amortization interest using the inputs from df.tail(). They match well below."
   ]
  },
  {
   "cell_type": "code",
   "execution_count": 944,
   "metadata": {},
   "outputs": [
    {
     "data": {
      "text/plain": [
       "161305    11356.824976\n",
       "268128     7113.635306\n",
       "354385     2646.220304\n",
       "91472      3228.994567\n",
       "245200      984.205478\n",
       "dtype: float64"
      ]
     },
     "execution_count": 944,
     "metadata": {},
     "output_type": "execute_result"
    }
   ],
   "source": [
    "total_loss_series.head()"
   ]
  },
  {
   "cell_type": "code",
   "execution_count": null,
   "metadata": {
    "collapsed": true
   },
   "outputs": [],
   "source": []
  },
  {
   "cell_type": "code",
   "execution_count": 947,
   "metadata": {},
   "outputs": [
    {
     "data": {
      "text/plain": [
       "10.209158399300039"
      ]
     },
     "execution_count": 947,
     "metadata": {},
     "output_type": "execute_result"
    }
   ],
   "source": [
    "618756.6722647768/len(df)"
   ]
  },
  {
   "cell_type": "code",
   "execution_count": 811,
   "metadata": {
    "collapsed": true
   },
   "outputs": [],
   "source": [
    "def total_loss_function(data):\n",
    "    # Bad Loan, predicted as Good Loan. (FN) \n",
    "    if data.loan_status == 1 and data.predicted == 0:\n",
    "        return ((data.term * data.loan_amnt * (data.int_rate/12/100)) / (1 - (1 + (data.int_rate/12/100))**(-data.term))) - data.loan_amnt\n",
    "    # Good Loan, predicted as Bad Loan (FP)\n",
    "    elif data.loan_status == 0 and data.predicted == 1:\n",
    "        return ((data.term * data.loan_amnt * (data.int_rate/12/100)) / (1 - (1 + (data.int_rate/12/100))**(-data.term))) - data.loan_amnt\n",
    "    else:\n",
    "        return 0"
   ]
  },
  {
   "cell_type": "code",
   "execution_count": 919,
   "metadata": {},
   "outputs": [
    {
     "data": {
      "text/plain": [
       "[182616731.81801626,\n",
       " 271461952.791283,\n",
       " 274288307.0675589,\n",
       " 275286462.785016,\n",
       " 276042526.0292874,\n",
       " 276403754.8516834,\n",
       " 276673321.4477212,\n",
       " 276902109.27916497,\n",
       " 277005624.50640017,\n",
       " 277154452.584106,\n",
       " 277327617.57105684,\n",
       " 277375943.40031874,\n",
       " 277421976.8437769,\n",
       " 277518426.1334141,\n",
       " 277524464.0165331,\n",
       " 277501890.8351324,\n",
       " 277424028.1000977,\n",
       " 277154992.3713562,\n",
       " 276236690.0835102,\n",
       " 267887142.97318006]"
      ]
     },
     "execution_count": 919,
     "metadata": {},
     "output_type": "execute_result"
    }
   ],
   "source": [
    "results = []\n",
    "\n",
    "array = np.arange(0, 1, 0.05)\n",
    "\n",
    "for i in array:\n",
    "    preds = threshold(probs, thres= i)\n",
    "    df[\"predicted\"] = preds\n",
    "    total_loss_series = df.apply(total_loss_function, axis = 1)\n",
    "    results.append(total_loss_series.sum())\n",
    "results"
   ]
  },
  {
   "cell_type": "code",
   "execution_count": 940,
   "metadata": {},
   "outputs": [
    {
     "data": {
      "text/plain": [
       "4419.996419172057"
      ]
     },
     "execution_count": 940,
     "metadata": {},
     "output_type": "execute_result"
    }
   ],
   "source": [
    "267887142.97318006/len(df)\n",
    "\n",
    "# average per user"
   ]
  },
  {
   "cell_type": "code",
   "execution_count": 962,
   "metadata": {},
   "outputs": [
    {
     "data": {
      "text/plain": [
       "[(182616731.81801626, 0.0),\n",
       " (267887142.97318006, 0.9500000000000001),\n",
       " (271461952.791283, 0.05),\n",
       " (274288307.0675589, 0.1),\n",
       " (275286462.785016, 0.15000000000000002),\n",
       " (276042526.0292874, 0.2),\n",
       " (276236690.0835102, 0.9),\n",
       " (276403754.8516834, 0.25),\n",
       " (276673321.4477212, 0.30000000000000004),\n",
       " (276902109.27916497, 0.35000000000000003),\n",
       " (277005624.50640017, 0.4),\n",
       " (277154452.584106, 0.45),\n",
       " (277154992.3713562, 0.8500000000000001),\n",
       " (277327617.57105684, 0.5),\n",
       " (277375943.40031874, 0.55),\n",
       " (277421976.8437769, 0.6000000000000001),\n",
       " (277424028.1000977, 0.8),\n",
       " (277501890.8351324, 0.75),\n",
       " (277518426.1334141, 0.65),\n",
       " (277524464.0165331, 0.7000000000000001)]"
      ]
     },
     "execution_count": 962,
     "metadata": {},
     "output_type": "execute_result"
    }
   ],
   "source": [
    "sorted(zip(results, array), reverse= False)"
   ]
  },
  {
   "cell_type": "markdown",
   "metadata": {},
   "source": [
    "# Learning Curve | Random Forest Balanced"
   ]
  },
  {
   "cell_type": "code",
   "execution_count": 922,
   "metadata": {
    "collapsed": true
   },
   "outputs": [],
   "source": [
    "X = lcdf.drop(\"loan_status\", axis = 1)\n",
    "y = lcdf.loan_status"
   ]
  },
  {
   "cell_type": "code",
   "execution_count": 923,
   "metadata": {},
   "outputs": [
    {
     "data": {
      "text/plain": [
       "(183660, 81)"
      ]
     },
     "execution_count": 923,
     "metadata": {},
     "output_type": "execute_result"
    }
   ],
   "source": [
    "X.shape"
   ]
  },
  {
   "cell_type": "code",
   "execution_count": 948,
   "metadata": {},
   "outputs": [
    {
     "data": {
      "image/png": "[encoded data removed]",
      "text/plain": [
       "<matplotlib.figure.Figure at 0x1a12da5090>"
      ]
     },
     "metadata": {},
     "output_type": "display_data"
    },
    {
     "data": {
      "text/plain": [
       "<matplotlib.figure.Figure at 0x1a0e9c0610>"
      ]
     },
     "metadata": {},
     "output_type": "display_data"
    }
   ],
   "source": [
    "from sklearn.model_selection import learning_curve\n",
    "\n",
    "#1. Create CV training and test scores for various training set sizes\n",
    "\n",
    "train_sizes, train_scores, test_scores = learning_curve(grid_rf_bal, \n",
    "                                                        X, \n",
    "                                                        y,\n",
    "                                                        # Number of folds in cross-validation\n",
    "                                                        cv=5,\n",
    "                                                        # Evaluation metric\n",
    "                                                        scoring='accuracy', \n",
    "                                                        # 30 different sizes of the training set\n",
    "                                                        train_sizes=np.linspace(0.01, 1.0, 30))\n",
    "\n",
    "#2.We need to compute average of each 5-fold cv\n",
    "train_scores = train_scores.mean(axis =1)\n",
    "test_scores = test_scores.mean(axis = 1)\n",
    "\n",
    "#3. Create lines\n",
    "plt.plot(train_sizes, train_scores, color=\"r\",  label=\"Training score\")\n",
    "plt.plot(train_sizes, test_scores, color=\"g\", label=\"Testing score\")\n",
    "\n",
    "#4. Create plot\n",
    "plt.title(\"Learning Curve\")\n",
    "plt.xlabel(\"Training Set Size\")\n",
    "plt.ylabel(\"Accuracy Score\")\n",
    "plt.ylim(0.0, 1.1)\n",
    "plt.legend(loc=\"best\")\n",
    "plt.figure(figsize= (10, 8))\n",
    "plt.show();"
   ]
  },
  {
   "cell_type": "code",
   "execution_count": null,
   "metadata": {
    "collapsed": true
   },
   "outputs": [],
   "source": []
  },
  {
   "cell_type": "code",
   "execution_count": null,
   "metadata": {
    "collapsed": true
   },
   "outputs": [],
   "source": [
    "# did not use..\n",
    "\n",
    "import sklearn.pipeline\n",
    "\n",
    "select = sklearn.feature_selection.SelectKBest(k=100)\n",
    "clf = sklearn.ensemble.RandomForestClassifier()\n",
    "\n",
    "steps = [('feature_selection', select),\n",
    "        ('random_forest', clf)]\n",
    "\n",
    "pipeline = sklearn.pipeline.Pipeline(steps)\n",
    "\n",
    "X_train, X_test, y_train, y_test = sklearn.cross_validation.train_test_split(X, y, test_size=0.33, random_state=42)\n",
    "\n",
    "### fit your pipeline on X_train and y_train\n",
    "pipeline.fit( X_train, y_train )\n",
    "### call pipeline.predict() on your X_test data to make a set of test predictions\n",
    "y_prediction = pipeline.predict( X_test )\n",
    "### test your predictions using sklearn.classification_report()\n",
    "report = sklearn.metrics.classification_report( y_test, y_prediction )\n",
    "### and print the report\n",
    "print(report)"
   ]
  },
  {
   "cell_type": "code",
   "execution_count": null,
   "metadata": {
    "collapsed": true
   },
   "outputs": [],
   "source": []
  },
  {
   "cell_type": "code",
   "execution_count": 959,
   "metadata": {
    "collapsed": true
   },
   "outputs": [],
   "source": [
    "p = grid_rf_bal.predict_proba(X_test)[:, 1]"
   ]
  },
  {
   "cell_type": "code",
   "execution_count": 960,
   "metadata": {},
   "outputs": [
    {
     "data": {
      "text/plain": [
       "0.999710989721939"
      ]
     },
     "execution_count": 960,
     "metadata": {},
     "output_type": "execute_result"
    }
   ],
   "source": [
    "roc_auc_score(y_test, p)"
   ]
  },
  {
   "cell_type": "code",
   "execution_count": null,
   "metadata": {
    "collapsed": true
   },
   "outputs": [],
   "source": []
  },
  {
   "cell_type": "code",
   "execution_count": null,
   "metadata": {
    "collapsed": true
   },
   "outputs": [],
   "source": []
  },
  {
   "cell_type": "code",
   "execution_count": 951,
   "metadata": {
    "collapsed": true
   },
   "outputs": [],
   "source": [
    "#Derive probabilities of class 1 from the test set\n",
    "test_probs = grid_rf_bal.predict_proba(X_test)[:,1]\n",
    "#Pass in the test_probs variable and the true test labels aka y_test in the roc_curve function\n",
    "fpr, tpr, thres = roc_curve(y_test, test_probs)\n",
    "#Outputs the fpr, tpr, for varying thresholds"
   ]
  },
  {
   "cell_type": "code",
   "execution_count": 956,
   "metadata": {},
   "outputs": [
    {
     "data": {
      "image/png": "[encoded data removed]",
      "text/plain": [
       "<matplotlib.figure.Figure at 0x1a0c07d750>"
      ]
     },
     "metadata": {},
     "output_type": "display_data"
    }
   ],
   "source": [
    "\n",
    "#Plotting False Positive Rates vs the True Positive Rates\n",
    "#Dotted line represents a useless model\n",
    "plt.figure(figsize=(10,8))\n",
    "plt.plot(fpr, tpr, linewidth= 5, c = \"c\")\n",
    "#Line of randomness\n",
    "plt.plot([0,1], [0,1], \"--\", alpha=.7)\n",
    "plt.xlabel(\"False Positive Rate\")\n",
    "plt.ylabel(\"True Positive Rate\")\n",
    "plt.title(\"RF Balanced ROC Curve\")\n",
    "plt.show();"
   ]
  },
  {
   "cell_type": "code",
   "execution_count": null,
   "metadata": {
    "collapsed": true
   },
   "outputs": [],
   "source": []
  },
  {
   "cell_type": "code",
   "execution_count": null,
   "metadata": {
    "collapsed": true
   },
   "outputs": [],
   "source": []
  },
  {
   "cell_type": "code",
   "execution_count": 957,
   "metadata": {},
   "outputs": [
    {
     "data": {
      "image/png": "[encoded data removed]",
      "text/plain": [
       "<matplotlib.figure.Figure at 0x1046bd910>"
      ]
     },
     "metadata": {},
     "output_type": "display_data"
    }
   ],
   "source": [
    "plt.figure(figsize=(12,9))\n",
    "plt.plot(thres, fpr, linewidth=5, label = \"FPR Line\", c = 'c')\n",
    "plt.plot(thres, tpr, linewidth=5, label = \"TPR line\", c = 'm')\n",
    "plt.xlabel(\"Thresholds\")\n",
    "plt.ylabel(\"Rate\")\n",
    "plt.legend()\n",
    "plt.show();"
   ]
  },
  {
   "cell_type": "code",
   "execution_count": 958,
   "metadata": {},
   "outputs": [
    {
     "name": "stdout",
     "output_type": "stream",
     "text": [
      "[CV]  ................................................................\n",
      "[CV]  ................................................................\n",
      "[CV]  ................................................................\n",
      "[CV]  ................................................................\n",
      "[CV] .......................................................  - 1.0min\n",
      "[CV] .......................................................  - 1.0min\n",
      "[CV]  ................................................................\n",
      "[CV] .......................................................  - 1.0min\n",
      "[CV] .......................................................  - 1.1min\n",
      "[CV] .......................................................  -  33.4s\n"
     ]
    },
    {
     "name": "stderr",
     "output_type": "stream",
     "text": [
      "[Parallel(n_jobs=-1)]: Done   5 out of   5 | elapsed:  1.6min finished\n"
     ]
    },
    {
     "data": {
      "text/plain": [
       "0.9989099182223512"
      ]
     },
     "execution_count": 958,
     "metadata": {},
     "output_type": "execute_result"
    }
   ],
   "source": [
    "cross_val_score(grid_rf_bal, X, y, cv =5, scoring = \"roc_auc\", n_jobs= -1, verbose= 2).mean()"
   ]
  },
  {
   "cell_type": "code",
   "execution_count": null,
   "metadata": {
    "collapsed": true
   },
   "outputs": [],
   "source": []
  },
  {
   "cell_type": "code",
   "execution_count": null,
   "metadata": {
    "collapsed": true
   },
   "outputs": [],
   "source": []
  },
  {
   "cell_type": "code",
   "execution_count": null,
   "metadata": {
    "collapsed": true
   },
   "outputs": [],
   "source": []
  },
  {
   "cell_type": "code",
   "execution_count": null,
   "metadata": {
    "collapsed": true
   },
   "outputs": [],
   "source": []
  },
  {
   "cell_type": "code",
   "execution_count": null,
   "metadata": {
    "collapsed": true
   },
   "outputs": [],
   "source": []
  },
  {
   "cell_type": "markdown",
   "metadata": {
    "collapsed": true
   },
   "source": [
    "# Ensembles"
   ]
  },
  {
   "cell_type": "code",
   "execution_count": 47,
   "metadata": {
    "collapsed": true
   },
   "outputs": [],
   "source": [
    "# A host of Scikit-learn models\n",
    "from sklearn.svm import SVC, LinearSVC\n",
    "from sklearn.naive_bayes import GaussianNB\n",
    "from sklearn.ensemble import RandomForestClassifier, GradientBoostingClassifier\n",
    "from sklearn.linear_model import LogisticRegression\n",
    "from sklearn.neighbors import KNeighborsClassifier\n",
    "from sklearn.neural_network import MLPClassifier\n",
    "from sklearn.kernel_approximation import Nystroem\n",
    "from sklearn.kernel_approximation import RBFSampler\n",
    "from sklearn.pipeline import make_pipeline"
   ]
  },
  {
   "cell_type": "code",
   "execution_count": 21,
   "metadata": {
    "collapsed": true
   },
   "outputs": [],
   "source": [
    "def get_models():\n",
    "    \"\"\"Generate a library of base learners.\"\"\"\n",
    "    nb = GaussianNB()\n",
    "    svc = SVC(C=100, probability=True)\n",
    "    knn = KNeighborsClassifier(n_neighbors=3)\n",
    "    lr = LogisticRegression(C=100, random_state=SEED)\n",
    "    nn = MLPClassifier((80, 10), early_stopping=False, random_state=SEED)\n",
    "    gb = GradientBoostingClassifier(n_estimators=100, random_state=SEED)\n",
    "    rf = RandomForestClassifier(n_estimators=10, max_features=3, random_state=SEED)\n",
    "\n",
    "    models = {'svm': svc,\n",
    "              'knn': knn,\n",
    "              'naive bayes': nb,\n",
    "              'mlp-nn': nn,\n",
    "              'random forest': rf,\n",
    "              'gbm': gb,\n",
    "              'logistic': lr,\n",
    "              }\n",
    "\n",
    "    return models\n",
    "\n",
    "\n",
    "def train_predict(model_list):\n",
    "    \"\"\"Fit models in list on training set and return preds\"\"\"\n",
    "    P = np.zeros((y_test.shape[0], len(model_list)))\n",
    "    P = pd.DataFrame(P)\n",
    "\n",
    "    print(\"Fitting models.\")\n",
    "    cols = list()\n",
    "    for i, (name, m) in enumerate(models.items()):\n",
    "        m.fit(X_train, y_train)\n",
    "        P.iloc[:, i] = m.predict_proba(X_test)[:, 1]\n",
    "        cols.append(name)\n",
    "        print(\"done\")\n",
    "\n",
    "    P.columns = cols\n",
    "    print(\"Done.\\n\")\n",
    "    return P\n",
    "\n",
    "\n",
    "def score_models(P, y):\n",
    "    \"\"\"Score model in prediction DF\"\"\"\n",
    "    print(\"Scoring models.\")\n",
    "    for m in P.columns:\n",
    "        score = roc_auc_score(y, P.loc[:, m])\n",
    "        print(\"%-26s: %.3f\" % (m, score))\n",
    "    print(\"Done.\\n\")\n",
    "    "
   ]
  },
  {
   "cell_type": "code",
   "execution_count": null,
   "metadata": {
    "collapsed": true
   },
   "outputs": [],
   "source": [
    "print(\"%s...\" % name, end =\" \", flush=False)"
   ]
  },
  {
   "cell_type": "code",
   "execution_count": 22,
   "metadata": {
    "collapsed": true
   },
   "outputs": [],
   "source": [
    "SEED = 123"
   ]
  },
  {
   "cell_type": "code",
   "execution_count": null,
   "metadata": {},
   "outputs": [
    {
     "name": "stdout",
     "output_type": "stream",
     "text": [
      "Fitting models.\n",
      "done\n"
     ]
    }
   ],
   "source": [
    "models = get_models()\n",
    "P = train_predict(models)\n",
    "score_models(P, y_test)"
   ]
  },
  {
   "cell_type": "code",
   "execution_count": null,
   "metadata": {
    "collapsed": true
   },
   "outputs": [],
   "source": [
    "!pip install mlens"
   ]
  },
  {
   "cell_type": "code",
   "execution_count": null,
   "metadata": {
    "collapsed": true
   },
   "outputs": [],
   "source": [
    "# You need ML-Ensemble for this figure: you can install it with: pip install mlens\n",
    "from mlens.visualization import corrmat\n",
    "\n",
    "corrmat(P.corr(), inflate=False)\n",
    "plt.show()"
   ]
  },
  {
   "cell_type": "code",
   "execution_count": null,
   "metadata": {
    "collapsed": true
   },
   "outputs": [],
   "source": [
    "corrmat(P.apply(lambda pred: 1*(pred >= 0.5) - y_test.values).corr(), inflate=False)\n",
    "plt.show()"
   ]
  },
  {
   "cell_type": "code",
   "execution_count": null,
   "metadata": {
    "collapsed": true
   },
   "outputs": [],
   "source": [
    "print(\"Ensemble ROC-AUC score: %.3f\" % roc_auc_score(y_test, P.mean(axis=1)))"
   ]
  },
  {
   "cell_type": "code",
   "execution_count": null,
   "metadata": {
    "collapsed": true
   },
   "outputs": [],
   "source": [
    "from sklearn.metrics import roc_curve\n",
    "\n",
    "def plot_roc_curve(y_test, P_base_learners, P_ensemble, labels, ens_label):\n",
    "    \"\"\"Plot the roc curve for base learners and ensemble.\"\"\"\n",
    "    plt.figure(figsize=(10, 8))\n",
    "    plt.plot([0, 1], [0, 1], 'k--')\n",
    "    \n",
    "    cm = [plt.cm.rainbow(i)\n",
    "      for i in np.linspace(0, 1.0, P_base_learners.shape[1] + 1)]\n",
    "    \n",
    "    for i in range(P_base_learners.shape[1]):\n",
    "        p = P_base_learners[:, i]\n",
    "        fpr, tpr, _ = roc_curve(y_test, p)\n",
    "        plt.plot(fpr, tpr, label=labels[i], c=cm[i + 1])\n",
    "\n",
    "    fpr, tpr, _ = roc_curve(y_test, P_ensemble)\n",
    "    plt.plot(fpr, tpr, label=ens_label, c=cm[0])\n",
    "        \n",
    "    plt.xlabel('False positive rate')\n",
    "    plt.ylabel('True positive rate')\n",
    "    plt.title('ROC curve')\n",
    "    plt.legend(frameon=False)\n",
    "    plt.show()\n",
    "    \n",
    "plot_roc_curve(ytest, P.values, P.mean(axis=1), list(P.columns), \"ensemble\")"
   ]
  },
  {
   "cell_type": "markdown",
   "metadata": {},
   "source": [
    "# Deep Learning"
   ]
  },
  {
   "cell_type": "code",
   "execution_count": 70,
   "metadata": {},
   "outputs": [],
   "source": [
    "from sklearn.preprocessing import StandardScaler, MinMaxScaler\n",
    "#Imports\n",
    "import numpy as np\n",
    "import pandas as pd\n",
    "import matplotlib.pyplot as plt\n",
    "%matplotlib inline\n",
    "from sklearn.datasets.samples_generator import make_moons, make_regression\n",
    "\n",
    "from keras.layers import Dense\n",
    "from keras.models import Sequential\n",
    "from keras.callbacks import EarlyStopping\n",
    "from keras.utils.np_utils import to_categorical"
   ]
  },
  {
   "cell_type": "code",
   "execution_count": 63,
   "metadata": {
    "collapsed": true
   },
   "outputs": [],
   "source": [
    "def keras_clf(model):\n",
    "    #Intialize\n",
    "    model = Sequential()\n",
    "    # Add the first layer\n",
    "    model.add(Dense(100, activation= \"relu\", input_shape = (n_cols,)))\n",
    "    # Add the second layer or 2nd Node\n",
    "    model.add(Dense(100, activation = \"relu\"))\n",
    "    # Add the output layer with softmax activation function\n",
    "    model.add(Dense(n_unique, activation = \"softmax\"))\n",
    "    #Use adam optimizer\n",
    "    model.compile(optimizer = \"adam\", loss = \"categorical_crossentropy\", metrics = [\"accuracy\"])\n",
    "    return model"
   ]
  },
  {
   "cell_type": "code",
   "execution_count": 71,
   "metadata": {},
   "outputs": [],
   "source": [
    "X = lcdf.drop(['emp_title', 'total_rec_int', 'total_pymnt', 'loan_status'], axis= 1)\n",
    "y = lcdf.loan_status\n",
    "\n",
    "scale = StandardScaler()\n",
    "\n",
    "X_s = scale.fit_transform(X)\n",
    "\n",
    "# number of columns will be 8 for the number of features\n",
    "n_cols = X_s.shape[1]\n",
    "\n",
    "y_binary = to_categorical(y)\n",
    "\n",
    "n_unique = len(pd.unique(y))"
   ]
  },
  {
   "cell_type": "code",
   "execution_count": 73,
   "metadata": {},
   "outputs": [
    {
     "data": {
      "text/plain": [
       "(183660, 85)"
      ]
     },
     "execution_count": 73,
     "metadata": {},
     "output_type": "execute_result"
    }
   ],
   "source": [
    "X_s.shape"
   ]
  },
  {
   "cell_type": "code",
   "execution_count": null,
   "metadata": {},
   "outputs": [],
   "source": []
  },
  {
   "cell_type": "code",
   "execution_count": 76,
   "metadata": {
    "collapsed": true
   },
   "outputs": [],
   "source": [
    "#Intialize\n",
    "model = Sequential()\n",
    "# Add the first layer\n",
    "model.add(Dense(300, activation= \"relu\", input_shape = (n_cols,)))\n",
    "# Add the second layer or 2nd Node\n",
    "model.add(Dense(200, activation = \"relu\"))    \n",
    "# Add the third layer \n",
    "model.add(Dense(100, activation = \"relu\"))  \n",
    "# 4th\n",
    "model.add(Dense(50, activation = \"relu\"))  \n",
    "# 5th\n",
    "model.add(Dense(100, activation = \"relu\")) \n",
    "# 6th\n",
    "model.add(Dense(50, activation = \"relu\")) \n",
    "\n",
    "# Add the output layer with softmax activation function\n",
    "model.add(Dense(n_unique, activation = \"sigmoid\"))\n",
    "#Use adam optimizer, and categorical_crossentropy which is \"log loss\"\n",
    "model.compile(optimizer = \"sgd\", loss = \"categorical_crossentropy\", metrics = [\"accuracy\"])"
   ]
  },
  {
   "cell_type": "code",
   "execution_count": null,
   "metadata": {},
   "outputs": [],
   "source": [
    "m = model.fit(X_s, y_binary, epochs = 15, validation_split= .33, verbose= True)"
   ]
  },
  {
   "cell_type": "code",
   "execution_count": null,
   "metadata": {},
   "outputs": [],
   "source": []
  },
  {
   "cell_type": "code",
   "execution_count": 67,
   "metadata": {},
   "outputs": [
    {
     "name": "stdout",
     "output_type": "stream",
     "text": [
      "_________________________________________________________________\n",
      "Layer (type)                 Output Shape              Param #   \n",
      "=================================================================\n",
      "dense_44 (Dense)             (None, 300)               25800     \n",
      "_________________________________________________________________\n",
      "dense_45 (Dense)             (None, 200)               60200     \n",
      "_________________________________________________________________\n",
      "dense_46 (Dense)             (None, 100)               20100     \n",
      "_________________________________________________________________\n",
      "dense_47 (Dense)             (None, 50)                5050      \n",
      "_________________________________________________________________\n",
      "dense_48 (Dense)             (None, 100)               5100      \n",
      "_________________________________________________________________\n",
      "dense_49 (Dense)             (None, 50)                5050      \n",
      "_________________________________________________________________\n",
      "dense_50 (Dense)             (None, 2)                 102       \n",
      "=================================================================\n",
      "Total params: 121,402\n",
      "Trainable params: 121,402\n",
      "Non-trainable params: 0\n",
      "_________________________________________________________________\n"
     ]
    }
   ],
   "source": [
    "model.summary()"
   ]
  },
  {
   "cell_type": "code",
   "execution_count": 187,
   "metadata": {
    "collapsed": true
   },
   "outputs": [],
   "source": [
    "###########\n",
    "# 4th\n",
    "model.add(Dense(200, activation = \"relu\"))  \n",
    "# 5th\n",
    "model.add(Dense(100, activation = \"relu\")) \n",
    "# 6th\n",
    "model.add(Dense(100, activation = \"relu\")) \n",
    "# 7th\n",
    "model.add(Dense(50, activation = \"relu\"))\n",
    "# 8th\n",
    "model.add(Dense(1, activation = \"relu\"))"
   ]
  },
  {
   "cell_type": "code",
   "execution_count": 68,
   "metadata": {},
   "outputs": [
    {
     "data": {
      "text/plain": [
       "{'acc': [0.7478139323193576,\n",
       "  0.7568345089861326,\n",
       "  0.7587361440711116,\n",
       "  0.7604264863654262,\n",
       "  0.7621330819471571,\n",
       "  0.7628726067047948,\n",
       "  0.7638559308279298,\n",
       "  0.7648392549510648,\n",
       "  0.7664970906589212,\n",
       "  0.7687969313766666,\n",
       "  0.770210967719026,\n",
       "  0.7719256899541529,\n",
       "  0.7745749764327277,\n",
       "  0.7752007281474499,\n",
       "  0.7782644735539576],\n",
       " 'loss': [0.5222589894700522,\n",
       "  0.5030273358376544,\n",
       "  0.4995507750252934,\n",
       "  0.4970828399037453,\n",
       "  0.4949212295188785,\n",
       "  0.49286650043371205,\n",
       "  0.49073471759465614,\n",
       "  0.48852597706317047,\n",
       "  0.48633057597484636,\n",
       "  0.48379472465875983,\n",
       "  0.4812297803035457,\n",
       "  0.4782816947312518,\n",
       "  0.47505110326507866,\n",
       "  0.47210730092580433,\n",
       "  0.4684284260738145],\n",
       " 'val_acc': [0.7570122756071805,\n",
       "  0.7568472808870116,\n",
       "  0.756154303062302,\n",
       "  0.7578042502639916,\n",
       "  0.7569297782470961,\n",
       "  0.7552963305174234,\n",
       "  0.7549993400211193,\n",
       "  0.756616288278775,\n",
       "  0.7517489440337909,\n",
       "  0.748102560718057,\n",
       "  0.7557088173178458,\n",
       "  0.7490265311510031,\n",
       "  0.7550158394931362,\n",
       "  0.7534483896515312,\n",
       "  0.7511879619852164],\n",
       " 'val_loss': [0.5081865593334689,\n",
       "  0.5058683010945224,\n",
       "  0.5060995705858455,\n",
       "  0.5066110999682385,\n",
       "  0.5056065148826385,\n",
       "  0.5069782117729832,\n",
       "  0.507837536043577,\n",
       "  0.5067902348361272,\n",
       "  0.5102915138226503,\n",
       "  0.5139703016409527,\n",
       "  0.5127115202349746,\n",
       "  0.5151471020742354,\n",
       "  0.5207839156515747,\n",
       "  0.5199267470298499,\n",
       "  0.5201166201906068]}"
      ]
     },
     "execution_count": 68,
     "metadata": {},
     "output_type": "execute_result"
    }
   ],
   "source": [
    "m.history"
   ]
  },
  {
   "cell_type": "code",
   "execution_count": 78,
   "metadata": {
    "scrolled": true
   },
   "outputs": [
    {
     "data": {
      "image/png": "[encoded data removed]",
      "text/plain": [
       "<matplotlib.figure.Figure at 0x1a21234090>"
      ]
     },
     "metadata": {},
     "output_type": "display_data"
    }
   ],
   "source": [
    "plt.figure(figsize= (8, 6))\n",
    "epochs = range(1, 16)\n",
    "\n",
    "plt.plot(epochs, m.history[\"acc\"], linewidth = 3, c = \"c\", label = \"Accuracy\")\n",
    "plt.plot(epochs, m.history[\"val_acc\"], linewidth = 3, c = \"m\", label = \"Testing Score\")\n",
    "plt.legend(loc= 'best')\n",
    "plt.xlabel(\"N of Epochs\")\n",
    "plt.ylabel(\"Accuracy\")\n",
    "plt.title(\"Train/Test Accuracy Curve\")\n",
    "plt.show();"
   ]
  },
  {
   "cell_type": "code",
   "execution_count": 20,
   "metadata": {},
   "outputs": [
    {
     "data": {
      "text/plain": [
       "array([[0.2519172 , 0.3622877 ],\n",
       "       [0.6827516 , 0.1338463 ],\n",
       "       [0.5394639 , 0.19689138],\n",
       "       [0.4274412 , 0.3505307 ],\n",
       "       [0.33267364, 0.47190383],\n",
       "       [0.31587932, 0.4431421 ],\n",
       "       [0.6323146 , 0.19171512],\n",
       "       [0.5520641 , 0.07507653],\n",
       "       [0.77263784, 0.06014509],\n",
       "       [0.35762566, 0.13218158]], dtype=float32)"
      ]
     },
     "execution_count": 20,
     "metadata": {},
     "output_type": "execute_result"
    }
   ],
   "source": [
    "#Predictions\n",
    "\n",
    "preds = model.predict(X_test)\n",
    "preds[:10]"
   ]
  },
  {
   "cell_type": "code",
   "execution_count": 26,
   "metadata": {
    "collapsed": true
   },
   "outputs": [],
   "source": [
    "#Put predictions into dataframe for sorting purposes\n",
    "\n",
    "pred_df = pd.DataFrame()\n",
    "pred_df[\"feature\"] = list(X_s)\n",
    "pred_df[\"preds\"] = list(preds)"
   ]
  },
  {
   "cell_type": "code",
   "execution_count": 30,
   "metadata": {},
   "outputs": [
    {
     "data": {
      "text/plain": [
       "(183660, 2)"
      ]
     },
     "execution_count": 30,
     "metadata": {},
     "output_type": "execute_result"
    }
   ],
   "source": [
    "pred_df.shape"
   ]
  },
  {
   "cell_type": "code",
   "execution_count": null,
   "metadata": {},
   "outputs": [],
   "source": [
    "#Sort dataframe\n",
    "\n",
    "pred_df.sort_values(\"feature\", inplace= True)"
   ]
  },
  {
   "cell_type": "code",
   "execution_count": null,
   "metadata": {
    "collapsed": true
   },
   "outputs": [],
   "source": []
  },
  {
   "cell_type": "markdown",
   "metadata": {
    "collapsed": true
   },
   "source": [
    "# NLP was done on a separate notebook:\n",
    "https://github.com/darrenklee79/DS-SF-40/blob/master/NLP_Word2Vec.ipynb"
   ]
  },
  {
   "cell_type": "code",
   "execution_count": 502,
   "metadata": {
    "collapsed": true
   },
   "outputs": [],
   "source": [
    "#Imports\n",
    "from time import time\n",
    "import pandas as pd\n",
    "pd.set_option(\"max.colwidth\", 500)\n",
    "import numpy as np\n",
    "import matplotlib.pyplot as plt\n",
    "%matplotlib inline\n",
    "import seaborn as sb\n",
    "from sklearn.cross_validation import train_test_split, cross_val_score\n",
    "from sklearn.naive_bayes import MultinomialNB\n",
    "from sklearn.pipeline import make_pipeline\n",
    "from sklearn.grid_search import GridSearchCV, RandomizedSearchCV\n",
    "from sklearn.feature_extraction.text import CountVectorizer, TfidfVectorizer\n",
    "from sklearn.metrics.pairwise import cosine_similarity\n",
    "from sklearn.cluster import KMeans, MiniBatchKMeans\n",
    "from sklearn.metrics import silhouette_score\n",
    "from sklearn.decomposition import PCA, TruncatedSVD, NMF\n",
    "import nltk\n",
    "from nltk.tokenize import sent_tokenize, word_tokenize, wordpunct_tokenize\n",
    "from nltk.tokenize import TreebankWordTokenizer\n",
    "from nltk.tag import pos_tag\n",
    "from nltk.corpus import stopwords\n",
    "from string import punctuation\n",
    "from nltk.stem.snowball import SnowballStemmer\n",
    "from nltk.stem.wordnet import WordNetLemmatizer\n",
    "from nltk.util import ngrams\n",
    "from textblob import TextBlob\n",
    "\n"
   ]
  },
  {
   "cell_type": "markdown",
   "metadata": {
    "collapsed": true
   },
   "source": [
    "Please see separate Python Notebook with Word2Vec algo"
   ]
  },
  {
   "cell_type": "code",
   "execution_count": 462,
   "metadata": {
    "collapsed": true
   },
   "outputs": [],
   "source": [
    "df_nlp = lcdf"
   ]
  },
  {
   "cell_type": "code",
   "execution_count": 772,
   "metadata": {
    "collapsed": true
   },
   "outputs": [],
   "source": [
    "# define X and y\n",
    "X = df_nlp.emp_title.sample(10000, random_state= 120)\n",
    "y = df_nlp.loan_status.sample(10000, random_state= 120)\n",
    "\n",
    "#Null accuracy\n",
    "print y.value_counts(normalize=True)\n",
    "\n",
    "# split data into training and testing sets\n",
    "X_train, X_test, y_train, y_test = train_test_split(X, y, test_size = .33, random_state=1)"
   ]
  },
  {
   "cell_type": "code",
   "execution_count": null,
   "metadata": {
    "collapsed": true
   },
   "outputs": [],
   "source": []
  },
  {
   "cell_type": "code",
   "execution_count": 774,
   "metadata": {},
   "outputs": [
    {
     "data": {
      "text/plain": [
       "'Branch Manager'"
      ]
     },
     "execution_count": 774,
     "metadata": {},
     "output_type": "execute_result"
    }
   ],
   "source": [
    "X.iloc[255]"
   ]
  },
  {
   "cell_type": "code",
   "execution_count": 291,
   "metadata": {
    "collapsed": true
   },
   "outputs": [],
   "source": [
    "# define a function that accepts text and returns a list of stems\n",
    "def word_tokenize_stem(emp_title):\n",
    "    words = TextBlob(emp_title).words\n",
    "    stemmer = SnowballStemmer(\"english\")\n",
    "    \n",
    "    return [stemmer.stem(word) for word in words]\n",
    "\n",
    "# define a function that accepts text and returns a list of lemons (noun version)\n",
    "\n",
    "def word_tokenize_lemma(emp_title):\n",
    "    words = TextBlob(emp_title).words\n",
    "    return [word.lemmatize() for word in words]\n",
    "\n",
    "# define a function that accepts text and returns a list of lemons (verb version)\n",
    "def word_tokenize_lemma_verb(emp_title):\n",
    "    words = TextBlob(emp_title).words\n",
    "    return [word.lemmatize(pos = \"v\") for word in words]"
   ]
  },
  {
   "cell_type": "code",
   "execution_count": 292,
   "metadata": {
    "collapsed": true
   },
   "outputs": [],
   "source": [
    "def text_model_evaluator(vect):\n",
    "    X_train_dtm = vect.fit_transform(X_train)\n",
    "    X_test_dtm = vect.transform(X_test)\n",
    "    nb = MultinomialNB()\n",
    "    nb.fit(X_train_dtm, y_train)\n",
    "    print \"Features: \", X_train_dtm.shape[1]\n",
    "    print \"Training Score: \", nb.score(X_train_dtm, y_train)\n",
    "    print \"Testing Score: \", nb.score(X_test_dtm, y_test)"
   ]
  },
  {
   "cell_type": "code",
   "execution_count": 775,
   "metadata": {
    "collapsed": true
   },
   "outputs": [],
   "source": [
    "#Intialize vectorizer object\n",
    "vect = CountVectorizer(lowercase= True, binary= True, stop_words='english')\n",
    "\n",
    "#Fit and transform with training data\n",
    "X_train_dtm = vect.fit_transform(X_train)\n",
    "\n",
    "#Transform the testing data\n",
    "X_test_dtm = vect.transform(X_test)"
   ]
  },
  {
   "cell_type": "code",
   "execution_count": 776,
   "metadata": {},
   "outputs": [
    {
     "data": {
      "text/plain": [
       "CountVectorizer(analyzer=u'word', binary=True, decode_error=u'strict',\n",
       "        dtype=<type 'numpy.int64'>, encoding=u'utf-8', input=u'content',\n",
       "        lowercase=True, max_df=1.0, max_features=None, min_df=1,\n",
       "        ngram_range=(1, 1), preprocessor=None, stop_words='english',\n",
       "        strip_accents=None, token_pattern=u'(?u)\\\\b\\\\w\\\\w+\\\\b',\n",
       "        tokenizer=None, vocabulary=None)"
      ]
     },
     "execution_count": 776,
     "metadata": {},
     "output_type": "execute_result"
    }
   ],
   "source": [
    "vect"
   ]
  },
  {
   "cell_type": "code",
   "execution_count": 777,
   "metadata": {},
   "outputs": [
    {
     "data": {
      "text/plain": [
       "(6700, 1847)"
      ]
     },
     "execution_count": 777,
     "metadata": {},
     "output_type": "execute_result"
    }
   ],
   "source": [
    "X_train_dtm.shape"
   ]
  },
  {
   "cell_type": "code",
   "execution_count": 778,
   "metadata": {},
   "outputs": [
    {
     "data": {
      "text/plain": [
       "(3300, 1847)"
      ]
     },
     "execution_count": 778,
     "metadata": {},
     "output_type": "execute_result"
    }
   ],
   "source": [
    "X_test_dtm.shape"
   ]
  },
  {
   "cell_type": "code",
   "execution_count": 779,
   "metadata": {},
   "outputs": [
    {
     "data": {
      "text/plain": [
       "[u'03e',\n",
       " u'11',\n",
       " u'12',\n",
       " u'13',\n",
       " u'1670',\n",
       " u'1lt',\n",
       " u'1st',\n",
       " u'3rd',\n",
       " u'5th',\n",
       " u'7th',\n",
       " u'911',\n",
       " u'aa',\n",
       " u'academic',\n",
       " u'academy',\n",
       " u'access',\n",
       " u'account',\n",
       " u'accountant',\n",
       " u'accounting',\n",
       " u'accounts',\n",
       " u'accouting',\n",
       " u'accoynt',\n",
       " u'acct',\n",
       " u'acctg',\n",
       " u'accts',\n",
       " u'achr']"
      ]
     },
     "execution_count": 779,
     "metadata": {},
     "output_type": "execute_result"
    }
   ],
   "source": [
    "# first 25 features\n",
    "vect.get_feature_names()[:25]"
   ]
  },
  {
   "cell_type": "code",
   "execution_count": 780,
   "metadata": {},
   "outputs": [
    {
     "data": {
      "text/html": [
       "<div>\n",
       "<style>\n",
       "    .dataframe thead tr:only-child th {\n",
       "        text-align: right;\n",
       "    }\n",
       "\n",
       "    .dataframe thead th {\n",
       "        text-align: left;\n",
       "    }\n",
       "\n",
       "    .dataframe tbody tr th {\n",
       "        vertical-align: top;\n",
       "    }\n",
       "</style>\n",
       "<table border=\"1\" class=\"dataframe\">\n",
       "  <thead>\n",
       "    <tr style=\"text-align: right;\">\n",
       "      <th></th>\n",
       "      <th>03e</th>\n",
       "      <th>11</th>\n",
       "      <th>12</th>\n",
       "      <th>13</th>\n",
       "      <th>1670</th>\n",
       "      <th>1lt</th>\n",
       "      <th>1st</th>\n",
       "      <th>3rd</th>\n",
       "      <th>5th</th>\n",
       "      <th>7th</th>\n",
       "      <th>...</th>\n",
       "      <th>works</th>\n",
       "      <th>workstation</th>\n",
       "      <th>writer</th>\n",
       "      <th>wtu</th>\n",
       "      <th>xray</th>\n",
       "      <th>yard</th>\n",
       "      <th>yardman</th>\n",
       "      <th>yardmaster</th>\n",
       "      <th>youth</th>\n",
       "      <th>zanjero</th>\n",
       "    </tr>\n",
       "  </thead>\n",
       "  <tbody>\n",
       "    <tr>\n",
       "      <th>0</th>\n",
       "      <td>0</td>\n",
       "      <td>0</td>\n",
       "      <td>0</td>\n",
       "      <td>0</td>\n",
       "      <td>0</td>\n",
       "      <td>0</td>\n",
       "      <td>0</td>\n",
       "      <td>0</td>\n",
       "      <td>0</td>\n",
       "      <td>0</td>\n",
       "      <td>...</td>\n",
       "      <td>0</td>\n",
       "      <td>0</td>\n",
       "      <td>0</td>\n",
       "      <td>0</td>\n",
       "      <td>0</td>\n",
       "      <td>0</td>\n",
       "      <td>0</td>\n",
       "      <td>0</td>\n",
       "      <td>0</td>\n",
       "      <td>0</td>\n",
       "    </tr>\n",
       "    <tr>\n",
       "      <th>1</th>\n",
       "      <td>0</td>\n",
       "      <td>0</td>\n",
       "      <td>0</td>\n",
       "      <td>0</td>\n",
       "      <td>0</td>\n",
       "      <td>0</td>\n",
       "      <td>0</td>\n",
       "      <td>0</td>\n",
       "      <td>0</td>\n",
       "      <td>0</td>\n",
       "      <td>...</td>\n",
       "      <td>0</td>\n",
       "      <td>0</td>\n",
       "      <td>0</td>\n",
       "      <td>0</td>\n",
       "      <td>0</td>\n",
       "      <td>0</td>\n",
       "      <td>0</td>\n",
       "      <td>0</td>\n",
       "      <td>0</td>\n",
       "      <td>0</td>\n",
       "    </tr>\n",
       "    <tr>\n",
       "      <th>2</th>\n",
       "      <td>0</td>\n",
       "      <td>0</td>\n",
       "      <td>0</td>\n",
       "      <td>0</td>\n",
       "      <td>0</td>\n",
       "      <td>0</td>\n",
       "      <td>0</td>\n",
       "      <td>0</td>\n",
       "      <td>0</td>\n",
       "      <td>0</td>\n",
       "      <td>...</td>\n",
       "      <td>0</td>\n",
       "      <td>0</td>\n",
       "      <td>0</td>\n",
       "      <td>0</td>\n",
       "      <td>0</td>\n",
       "      <td>0</td>\n",
       "      <td>0</td>\n",
       "      <td>0</td>\n",
       "      <td>0</td>\n",
       "      <td>0</td>\n",
       "    </tr>\n",
       "    <tr>\n",
       "      <th>3</th>\n",
       "      <td>0</td>\n",
       "      <td>0</td>\n",
       "      <td>0</td>\n",
       "      <td>0</td>\n",
       "      <td>0</td>\n",
       "      <td>0</td>\n",
       "      <td>0</td>\n",
       "      <td>0</td>\n",
       "      <td>0</td>\n",
       "      <td>0</td>\n",
       "      <td>...</td>\n",
       "      <td>0</td>\n",
       "      <td>0</td>\n",
       "      <td>0</td>\n",
       "      <td>0</td>\n",
       "      <td>0</td>\n",
       "      <td>0</td>\n",
       "      <td>0</td>\n",
       "      <td>0</td>\n",
       "      <td>0</td>\n",
       "      <td>0</td>\n",
       "    </tr>\n",
       "    <tr>\n",
       "      <th>4</th>\n",
       "      <td>0</td>\n",
       "      <td>0</td>\n",
       "      <td>0</td>\n",
       "      <td>0</td>\n",
       "      <td>0</td>\n",
       "      <td>0</td>\n",
       "      <td>0</td>\n",
       "      <td>0</td>\n",
       "      <td>0</td>\n",
       "      <td>0</td>\n",
       "      <td>...</td>\n",
       "      <td>0</td>\n",
       "      <td>0</td>\n",
       "      <td>0</td>\n",
       "      <td>0</td>\n",
       "      <td>0</td>\n",
       "      <td>0</td>\n",
       "      <td>0</td>\n",
       "      <td>0</td>\n",
       "      <td>0</td>\n",
       "      <td>0</td>\n",
       "    </tr>\n",
       "    <tr>\n",
       "      <th>5</th>\n",
       "      <td>0</td>\n",
       "      <td>0</td>\n",
       "      <td>0</td>\n",
       "      <td>0</td>\n",
       "      <td>0</td>\n",
       "      <td>0</td>\n",
       "      <td>0</td>\n",
       "      <td>0</td>\n",
       "      <td>0</td>\n",
       "      <td>0</td>\n",
       "      <td>...</td>\n",
       "      <td>0</td>\n",
       "      <td>0</td>\n",
       "      <td>0</td>\n",
       "      <td>0</td>\n",
       "      <td>0</td>\n",
       "      <td>0</td>\n",
       "      <td>0</td>\n",
       "      <td>0</td>\n",
       "      <td>0</td>\n",
       "      <td>0</td>\n",
       "    </tr>\n",
       "    <tr>\n",
       "      <th>6</th>\n",
       "      <td>0</td>\n",
       "      <td>0</td>\n",
       "      <td>0</td>\n",
       "      <td>0</td>\n",
       "      <td>0</td>\n",
       "      <td>0</td>\n",
       "      <td>0</td>\n",
       "      <td>0</td>\n",
       "      <td>0</td>\n",
       "      <td>0</td>\n",
       "      <td>...</td>\n",
       "      <td>0</td>\n",
       "      <td>0</td>\n",
       "      <td>0</td>\n",
       "      <td>0</td>\n",
       "      <td>0</td>\n",
       "      <td>0</td>\n",
       "      <td>0</td>\n",
       "      <td>0</td>\n",
       "      <td>0</td>\n",
       "      <td>0</td>\n",
       "    </tr>\n",
       "    <tr>\n",
       "      <th>7</th>\n",
       "      <td>0</td>\n",
       "      <td>0</td>\n",
       "      <td>0</td>\n",
       "      <td>0</td>\n",
       "      <td>0</td>\n",
       "      <td>0</td>\n",
       "      <td>0</td>\n",
       "      <td>0</td>\n",
       "      <td>0</td>\n",
       "      <td>0</td>\n",
       "      <td>...</td>\n",
       "      <td>0</td>\n",
       "      <td>0</td>\n",
       "      <td>0</td>\n",
       "      <td>0</td>\n",
       "      <td>0</td>\n",
       "      <td>0</td>\n",
       "      <td>0</td>\n",
       "      <td>0</td>\n",
       "      <td>0</td>\n",
       "      <td>0</td>\n",
       "    </tr>\n",
       "    <tr>\n",
       "      <th>8</th>\n",
       "      <td>0</td>\n",
       "      <td>0</td>\n",
       "      <td>0</td>\n",
       "      <td>0</td>\n",
       "      <td>0</td>\n",
       "      <td>0</td>\n",
       "      <td>0</td>\n",
       "      <td>0</td>\n",
       "      <td>0</td>\n",
       "      <td>0</td>\n",
       "      <td>...</td>\n",
       "      <td>0</td>\n",
       "      <td>0</td>\n",
       "      <td>0</td>\n",
       "      <td>0</td>\n",
       "      <td>0</td>\n",
       "      <td>0</td>\n",
       "      <td>0</td>\n",
       "      <td>0</td>\n",
       "      <td>0</td>\n",
       "      <td>0</td>\n",
       "    </tr>\n",
       "    <tr>\n",
       "      <th>9</th>\n",
       "      <td>0</td>\n",
       "      <td>0</td>\n",
       "      <td>0</td>\n",
       "      <td>0</td>\n",
       "      <td>0</td>\n",
       "      <td>0</td>\n",
       "      <td>0</td>\n",
       "      <td>0</td>\n",
       "      <td>0</td>\n",
       "      <td>0</td>\n",
       "      <td>...</td>\n",
       "      <td>0</td>\n",
       "      <td>0</td>\n",
       "      <td>0</td>\n",
       "      <td>0</td>\n",
       "      <td>0</td>\n",
       "      <td>0</td>\n",
       "      <td>0</td>\n",
       "      <td>0</td>\n",
       "      <td>0</td>\n",
       "      <td>0</td>\n",
       "    </tr>\n",
       "  </tbody>\n",
       "</table>\n",
       "<p>10 rows × 1847 columns</p>\n",
       "</div>"
      ],
      "text/plain": [
       "   03e  11  12  13  1670  1lt  1st  3rd  5th  7th   ...     works  \\\n",
       "0    0   0   0   0     0    0    0    0    0    0   ...         0   \n",
       "1    0   0   0   0     0    0    0    0    0    0   ...         0   \n",
       "2    0   0   0   0     0    0    0    0    0    0   ...         0   \n",
       "3    0   0   0   0     0    0    0    0    0    0   ...         0   \n",
       "4    0   0   0   0     0    0    0    0    0    0   ...         0   \n",
       "5    0   0   0   0     0    0    0    0    0    0   ...         0   \n",
       "6    0   0   0   0     0    0    0    0    0    0   ...         0   \n",
       "7    0   0   0   0     0    0    0    0    0    0   ...         0   \n",
       "8    0   0   0   0     0    0    0    0    0    0   ...         0   \n",
       "9    0   0   0   0     0    0    0    0    0    0   ...         0   \n",
       "\n",
       "   workstation  writer  wtu  xray  yard  yardman  yardmaster  youth  zanjero  \n",
       "0            0       0    0     0     0        0           0      0        0  \n",
       "1            0       0    0     0     0        0           0      0        0  \n",
       "2            0       0    0     0     0        0           0      0        0  \n",
       "3            0       0    0     0     0        0           0      0        0  \n",
       "4            0       0    0     0     0        0           0      0        0  \n",
       "5            0       0    0     0     0        0           0      0        0  \n",
       "6            0       0    0     0     0        0           0      0        0  \n",
       "7            0       0    0     0     0        0           0      0        0  \n",
       "8            0       0    0     0     0        0           0      0        0  \n",
       "9            0       0    0     0     0        0           0      0        0  \n",
       "\n",
       "[10 rows x 1847 columns]"
      ]
     },
     "execution_count": 780,
     "metadata": {},
     "output_type": "execute_result"
    }
   ],
   "source": [
    "pd.DataFrame(X_train_dtm.toarray(), columns = vect.get_feature_names()).head(n = 10)"
   ]
  },
  {
   "cell_type": "code",
   "execution_count": null,
   "metadata": {
    "collapsed": true
   },
   "outputs": [],
   "source": []
  },
  {
   "cell_type": "code",
   "execution_count": 781,
   "metadata": {},
   "outputs": [
    {
     "data": {
      "text/plain": [
       "(6700, 1878)"
      ]
     },
     "execution_count": 781,
     "metadata": {},
     "output_type": "execute_result"
    }
   ],
   "source": [
    "# Term Frequency with CountVectorizer\n",
    "\n",
    "vect = CountVectorizer()\n",
    "tf = pd.DataFrame(vect.fit_transform(X_train).toarray(), columns=vect.get_feature_names())\n",
    "tf.shape"
   ]
  },
  {
   "cell_type": "code",
   "execution_count": 783,
   "metadata": {},
   "outputs": [
    {
     "data": {
      "text/html": [
       "<div>\n",
       "<style>\n",
       "    .dataframe thead tr:only-child th {\n",
       "        text-align: right;\n",
       "    }\n",
       "\n",
       "    .dataframe thead th {\n",
       "        text-align: left;\n",
       "    }\n",
       "\n",
       "    .dataframe tbody tr th {\n",
       "        vertical-align: top;\n",
       "    }\n",
       "</style>\n",
       "<table border=\"1\" class=\"dataframe\">\n",
       "  <thead>\n",
       "    <tr style=\"text-align: right;\">\n",
       "      <th></th>\n",
       "      <th>03e</th>\n",
       "      <th>11</th>\n",
       "      <th>12</th>\n",
       "      <th>13</th>\n",
       "      <th>1670</th>\n",
       "      <th>1lt</th>\n",
       "      <th>1st</th>\n",
       "      <th>3rd</th>\n",
       "      <th>5th</th>\n",
       "      <th>7th</th>\n",
       "      <th>...</th>\n",
       "      <th>works</th>\n",
       "      <th>workstation</th>\n",
       "      <th>writer</th>\n",
       "      <th>wtu</th>\n",
       "      <th>xray</th>\n",
       "      <th>yard</th>\n",
       "      <th>yardman</th>\n",
       "      <th>yardmaster</th>\n",
       "      <th>youth</th>\n",
       "      <th>zanjero</th>\n",
       "    </tr>\n",
       "  </thead>\n",
       "  <tbody>\n",
       "    <tr>\n",
       "      <th>0</th>\n",
       "      <td>1</td>\n",
       "      <td>3</td>\n",
       "      <td>1</td>\n",
       "      <td>3</td>\n",
       "      <td>1</td>\n",
       "      <td>1</td>\n",
       "      <td>1</td>\n",
       "      <td>1</td>\n",
       "      <td>1</td>\n",
       "      <td>1</td>\n",
       "      <td>...</td>\n",
       "      <td>1</td>\n",
       "      <td>1</td>\n",
       "      <td>4</td>\n",
       "      <td>1</td>\n",
       "      <td>2</td>\n",
       "      <td>3</td>\n",
       "      <td>1</td>\n",
       "      <td>1</td>\n",
       "      <td>4</td>\n",
       "      <td>1</td>\n",
       "    </tr>\n",
       "  </tbody>\n",
       "</table>\n",
       "<p>1 rows × 1878 columns</p>\n",
       "</div>"
      ],
      "text/plain": [
       "   03e  11  12  13  1670  1lt  1st  3rd  5th  7th   ...     works  \\\n",
       "0    1   3   1   3     1    1    1    1    1    1   ...         1   \n",
       "\n",
       "   workstation  writer  wtu  xray  yard  yardman  yardmaster  youth  zanjero  \n",
       "0            1       4    1     2     3        1           1      4        1  \n",
       "\n",
       "[1 rows x 1878 columns]"
      ]
     },
     "execution_count": 783,
     "metadata": {},
     "output_type": "execute_result"
    }
   ],
   "source": [
    "#Intialize vectorizer with binary = true\n",
    "vect = CountVectorizer(binary=True, lowercase= True)\n",
    "\n",
    "#Fit and transform the text and sum up the counts\n",
    "df = vect.fit_transform(X_train).toarray().sum(axis=0)\n",
    "#Put results into dataframe\n",
    "pd.DataFrame(df.reshape(1, 1878), columns=vect.get_feature_names())"
   ]
  },
  {
   "cell_type": "code",
   "execution_count": 784,
   "metadata": {},
   "outputs": [
    {
     "data": {
      "text/html": [
       "<div>\n",
       "<style>\n",
       "    .dataframe thead tr:only-child th {\n",
       "        text-align: right;\n",
       "    }\n",
       "\n",
       "    .dataframe thead th {\n",
       "        text-align: left;\n",
       "    }\n",
       "\n",
       "    .dataframe tbody tr th {\n",
       "        vertical-align: top;\n",
       "    }\n",
       "</style>\n",
       "<table border=\"1\" class=\"dataframe\">\n",
       "  <thead>\n",
       "    <tr style=\"text-align: right;\">\n",
       "      <th></th>\n",
       "      <th>03e</th>\n",
       "      <th>11</th>\n",
       "      <th>12</th>\n",
       "      <th>13</th>\n",
       "      <th>1670</th>\n",
       "      <th>1lt</th>\n",
       "      <th>1st</th>\n",
       "      <th>3rd</th>\n",
       "      <th>5th</th>\n",
       "      <th>7th</th>\n",
       "      <th>...</th>\n",
       "      <th>works</th>\n",
       "      <th>workstation</th>\n",
       "      <th>writer</th>\n",
       "      <th>wtu</th>\n",
       "      <th>xray</th>\n",
       "      <th>yard</th>\n",
       "      <th>yardman</th>\n",
       "      <th>yardmaster</th>\n",
       "      <th>youth</th>\n",
       "      <th>zanjero</th>\n",
       "    </tr>\n",
       "  </thead>\n",
       "  <tbody>\n",
       "    <tr>\n",
       "      <th>0</th>\n",
       "      <td>0.0</td>\n",
       "      <td>0.0</td>\n",
       "      <td>0.0</td>\n",
       "      <td>0.0</td>\n",
       "      <td>0.0</td>\n",
       "      <td>0.0</td>\n",
       "      <td>0.0</td>\n",
       "      <td>0.0</td>\n",
       "      <td>0.0</td>\n",
       "      <td>0.0</td>\n",
       "      <td>...</td>\n",
       "      <td>0.0</td>\n",
       "      <td>0.0</td>\n",
       "      <td>0.0</td>\n",
       "      <td>0.0</td>\n",
       "      <td>0.0</td>\n",
       "      <td>0.0</td>\n",
       "      <td>0.0</td>\n",
       "      <td>0.0</td>\n",
       "      <td>0.0</td>\n",
       "      <td>0.0</td>\n",
       "    </tr>\n",
       "    <tr>\n",
       "      <th>1</th>\n",
       "      <td>0.0</td>\n",
       "      <td>0.0</td>\n",
       "      <td>0.0</td>\n",
       "      <td>0.0</td>\n",
       "      <td>0.0</td>\n",
       "      <td>0.0</td>\n",
       "      <td>0.0</td>\n",
       "      <td>0.0</td>\n",
       "      <td>0.0</td>\n",
       "      <td>0.0</td>\n",
       "      <td>...</td>\n",
       "      <td>0.0</td>\n",
       "      <td>0.0</td>\n",
       "      <td>0.0</td>\n",
       "      <td>0.0</td>\n",
       "      <td>0.0</td>\n",
       "      <td>0.0</td>\n",
       "      <td>0.0</td>\n",
       "      <td>0.0</td>\n",
       "      <td>0.0</td>\n",
       "      <td>0.0</td>\n",
       "    </tr>\n",
       "    <tr>\n",
       "      <th>2</th>\n",
       "      <td>0.0</td>\n",
       "      <td>0.0</td>\n",
       "      <td>0.0</td>\n",
       "      <td>0.0</td>\n",
       "      <td>0.0</td>\n",
       "      <td>0.0</td>\n",
       "      <td>0.0</td>\n",
       "      <td>0.0</td>\n",
       "      <td>0.0</td>\n",
       "      <td>0.0</td>\n",
       "      <td>...</td>\n",
       "      <td>0.0</td>\n",
       "      <td>0.0</td>\n",
       "      <td>0.0</td>\n",
       "      <td>0.0</td>\n",
       "      <td>0.0</td>\n",
       "      <td>0.0</td>\n",
       "      <td>0.0</td>\n",
       "      <td>0.0</td>\n",
       "      <td>0.0</td>\n",
       "      <td>0.0</td>\n",
       "    </tr>\n",
       "    <tr>\n",
       "      <th>3</th>\n",
       "      <td>0.0</td>\n",
       "      <td>0.0</td>\n",
       "      <td>0.0</td>\n",
       "      <td>0.0</td>\n",
       "      <td>0.0</td>\n",
       "      <td>0.0</td>\n",
       "      <td>0.0</td>\n",
       "      <td>0.0</td>\n",
       "      <td>0.0</td>\n",
       "      <td>0.0</td>\n",
       "      <td>...</td>\n",
       "      <td>0.0</td>\n",
       "      <td>0.0</td>\n",
       "      <td>0.0</td>\n",
       "      <td>0.0</td>\n",
       "      <td>0.0</td>\n",
       "      <td>0.0</td>\n",
       "      <td>0.0</td>\n",
       "      <td>0.0</td>\n",
       "      <td>0.0</td>\n",
       "      <td>0.0</td>\n",
       "    </tr>\n",
       "    <tr>\n",
       "      <th>4</th>\n",
       "      <td>0.0</td>\n",
       "      <td>0.0</td>\n",
       "      <td>0.0</td>\n",
       "      <td>0.0</td>\n",
       "      <td>0.0</td>\n",
       "      <td>0.0</td>\n",
       "      <td>0.0</td>\n",
       "      <td>0.0</td>\n",
       "      <td>0.0</td>\n",
       "      <td>0.0</td>\n",
       "      <td>...</td>\n",
       "      <td>0.0</td>\n",
       "      <td>0.0</td>\n",
       "      <td>0.0</td>\n",
       "      <td>0.0</td>\n",
       "      <td>0.0</td>\n",
       "      <td>0.0</td>\n",
       "      <td>0.0</td>\n",
       "      <td>0.0</td>\n",
       "      <td>0.0</td>\n",
       "      <td>0.0</td>\n",
       "    </tr>\n",
       "  </tbody>\n",
       "</table>\n",
       "<p>5 rows × 1878 columns</p>\n",
       "</div>"
      ],
      "text/plain": [
       "   03e   11   12   13  1670  1lt  1st  3rd  5th  7th   ...     works  \\\n",
       "0  0.0  0.0  0.0  0.0   0.0  0.0  0.0  0.0  0.0  0.0   ...       0.0   \n",
       "1  0.0  0.0  0.0  0.0   0.0  0.0  0.0  0.0  0.0  0.0   ...       0.0   \n",
       "2  0.0  0.0  0.0  0.0   0.0  0.0  0.0  0.0  0.0  0.0   ...       0.0   \n",
       "3  0.0  0.0  0.0  0.0   0.0  0.0  0.0  0.0  0.0  0.0   ...       0.0   \n",
       "4  0.0  0.0  0.0  0.0   0.0  0.0  0.0  0.0  0.0  0.0   ...       0.0   \n",
       "\n",
       "   workstation  writer  wtu  xray  yard  yardman  yardmaster  youth  zanjero  \n",
       "0          0.0     0.0  0.0   0.0   0.0      0.0         0.0    0.0      0.0  \n",
       "1          0.0     0.0  0.0   0.0   0.0      0.0         0.0    0.0      0.0  \n",
       "2          0.0     0.0  0.0   0.0   0.0      0.0         0.0    0.0      0.0  \n",
       "3          0.0     0.0  0.0   0.0   0.0      0.0         0.0    0.0      0.0  \n",
       "4          0.0     0.0  0.0   0.0   0.0      0.0         0.0    0.0      0.0  \n",
       "\n",
       "[5 rows x 1878 columns]"
      ]
     },
     "execution_count": 784,
     "metadata": {},
     "output_type": "execute_result"
    }
   ],
   "source": [
    "#Intialize vectorizer\n",
    "vect = TfidfVectorizer()\n",
    "\n",
    "#Fit and transform using tfidf and input results into dataframe\n",
    "pd.DataFrame(vect.fit_transform(X_train).toarray(), columns = vect.get_feature_names()).head()"
   ]
  },
  {
   "cell_type": "code",
   "execution_count": null,
   "metadata": {
    "collapsed": true
   },
   "outputs": [],
   "source": []
  },
  {
   "cell_type": "code",
   "execution_count": 694,
   "metadata": {
    "collapsed": true
   },
   "outputs": [],
   "source": [
    "# define X and y\n",
    "X = df_nlp.emp_title.sample(10000, random_state=120)\n",
    "y = df_nlp.loan_status.sample(10000, random_state=120)\n",
    "\n",
    "# split data into training and testing sets\n",
    "X_train, X_test, y_train, y_test = train_test_split(X, y, test_size = .33, random_state=123)"
   ]
  },
  {
   "cell_type": "code",
   "execution_count": 785,
   "metadata": {},
   "outputs": [
    {
     "data": {
      "text/plain": [
       "0    0.7455\n",
       "1    0.2545\n",
       "Name: loan_status, dtype: float64"
      ]
     },
     "execution_count": 785,
     "metadata": {},
     "output_type": "execute_result"
    }
   ],
   "source": [
    "#Null accuracy\n",
    "y.value_counts(normalize=True)"
   ]
  },
  {
   "cell_type": "code",
   "execution_count": 786,
   "metadata": {
    "collapsed": true
   },
   "outputs": [],
   "source": [
    "#TfIDF the whole corpus. Remove stop words.\n",
    "\n",
    "#Intialize vectorizer\n",
    "vect = TfidfVectorizer(binary= True, lowercase= True, stop_words=\"english\")\n",
    "\n",
    "#fit and transform data\n",
    "X_dtm = vect.fit_transform(X)"
   ]
  },
  {
   "cell_type": "code",
   "execution_count": 787,
   "metadata": {},
   "outputs": [
    {
     "data": {
      "text/plain": [
       "0.77680000000000005"
      ]
     },
     "execution_count": 787,
     "metadata": {},
     "output_type": "execute_result"
    }
   ],
   "source": [
    "#Intialize model\n",
    "nb = MultinomialNB()\n",
    "\n",
    "#Fit and score model\n",
    "nb.fit(X_dtm, y)\n",
    "nb.score(X_dtm, y)"
   ]
  },
  {
   "cell_type": "code",
   "execution_count": 788,
   "metadata": {},
   "outputs": [
    {
     "data": {
      "text/plain": [
       "MultinomialNB(alpha=1.0, class_prior=None, fit_prior=True)"
      ]
     },
     "execution_count": 788,
     "metadata": {},
     "output_type": "execute_result"
    }
   ],
   "source": [
    "#Intialize vectorizer \n",
    "vect = TfidfVectorizer(stop_words= \"english\", lowercase= True, binary=True)\n",
    "\n",
    "#Fit and transform on the training data\n",
    "X_train_dtm = vect.fit_transform(X_train)\n",
    "\n",
    "#Transform the testing data witht the vectorizer\n",
    "X_test_dtm = vect.transform(X_test)\n",
    "\n",
    "#Intialize model\n",
    "nb = MultinomialNB()\n",
    "#Fit it on training data\n",
    "nb.fit(X_train_dtm, y_train)"
   ]
  },
  {
   "cell_type": "code",
   "execution_count": 789,
   "metadata": {},
   "outputs": [
    {
     "data": {
      "text/plain": [
       "0.77641791044776121"
      ]
     },
     "execution_count": 789,
     "metadata": {},
     "output_type": "execute_result"
    }
   ],
   "source": [
    "nb.score(X_train_dtm, y_train)"
   ]
  },
  {
   "cell_type": "code",
   "execution_count": 790,
   "metadata": {},
   "outputs": [
    {
     "data": {
      "text/plain": [
       "0.74181818181818182"
      ]
     },
     "execution_count": 790,
     "metadata": {},
     "output_type": "execute_result"
    }
   ],
   "source": [
    "nb.score(X_test_dtm, y_test)"
   ]
  },
  {
   "cell_type": "code",
   "execution_count": 791,
   "metadata": {},
   "outputs": [
    {
     "data": {
      "text/plain": [
       "0.73650000000000004"
      ]
     },
     "execution_count": 791,
     "metadata": {},
     "output_type": "execute_result"
    }
   ],
   "source": [
    "cross_val_score(MultinomialNB(), X_dtm, y, cv = 5, scoring = \"accuracy\").mean()"
   ]
  },
  {
   "cell_type": "code",
   "execution_count": 792,
   "metadata": {
    "collapsed": true
   },
   "outputs": [],
   "source": [
    "preds = nb.predict(X_test_dtm)"
   ]
  },
  {
   "cell_type": "code",
   "execution_count": 793,
   "metadata": {},
   "outputs": [
    {
     "data": {
      "text/html": [
       "<div>\n",
       "<style>\n",
       "    .dataframe thead tr:only-child th {\n",
       "        text-align: right;\n",
       "    }\n",
       "\n",
       "    .dataframe thead th {\n",
       "        text-align: left;\n",
       "    }\n",
       "\n",
       "    .dataframe tbody tr th {\n",
       "        vertical-align: top;\n",
       "    }\n",
       "</style>\n",
       "<table border=\"1\" class=\"dataframe\">\n",
       "  <thead>\n",
       "    <tr style=\"text-align: right;\">\n",
       "      <th></th>\n",
       "      <th>0</th>\n",
       "      <th>1</th>\n",
       "    </tr>\n",
       "  </thead>\n",
       "  <tbody>\n",
       "    <tr>\n",
       "      <th>0</th>\n",
       "      <td>2434</td>\n",
       "      <td>54</td>\n",
       "    </tr>\n",
       "    <tr>\n",
       "      <th>1</th>\n",
       "      <td>798</td>\n",
       "      <td>14</td>\n",
       "    </tr>\n",
       "  </tbody>\n",
       "</table>\n",
       "</div>"
      ],
      "text/plain": [
       "      0   1\n",
       "0  2434  54\n",
       "1   798  14"
      ]
     },
     "execution_count": 793,
     "metadata": {},
     "output_type": "execute_result"
    }
   ],
   "source": [
    "cm = confusion_matrix(y_test, preds)\n",
    "cm_pd = pd.DataFrame(cm)\n",
    "cm_pd"
   ]
  },
  {
   "cell_type": "code",
   "execution_count": 794,
   "metadata": {},
   "outputs": [
    {
     "data": {
      "text/plain": [
       "0.20588235294117646"
      ]
     },
     "execution_count": 794,
     "metadata": {},
     "output_type": "execute_result"
    }
   ],
   "source": [
    "precision_score(y_test, preds)"
   ]
  },
  {
   "cell_type": "code",
   "execution_count": 795,
   "metadata": {},
   "outputs": [
    {
     "data": {
      "text/plain": [
       "0.017241379310344827"
      ]
     },
     "execution_count": 795,
     "metadata": {},
     "output_type": "execute_result"
    }
   ],
   "source": [
    "recall_score(y_test, preds)"
   ]
  },
  {
   "cell_type": "code",
   "execution_count": null,
   "metadata": {
    "collapsed": true
   },
   "outputs": [],
   "source": []
  },
  {
   "cell_type": "code",
   "execution_count": 796,
   "metadata": {
    "collapsed": true
   },
   "outputs": [],
   "source": [
    "new_text = [\"cfo\"]\n",
    "new_text_transform = vect.transform(new_text)"
   ]
  },
  {
   "cell_type": "code",
   "execution_count": 797,
   "metadata": {},
   "outputs": [
    {
     "data": {
      "text/plain": [
       "array([[ 0.8597971,  0.1402029]])"
      ]
     },
     "execution_count": 797,
     "metadata": {},
     "output_type": "execute_result"
    }
   ],
   "source": [
    "nb.predict_proba(new_text_transform)\n",
    "# this title is more likely to default"
   ]
  },
  {
   "cell_type": "code",
   "execution_count": 798,
   "metadata": {
    "collapsed": true
   },
   "outputs": [],
   "source": [
    "new_text = [\"Counter\"]\n",
    "new_text_transform = vect.transform(new_text)\n",
    "# less likely to default under this emp_title"
   ]
  },
  {
   "cell_type": "code",
   "execution_count": 799,
   "metadata": {},
   "outputs": [
    {
     "data": {
      "text/plain": [
       "array([[ 0.74134328,  0.25865672]])"
      ]
     },
     "execution_count": 799,
     "metadata": {},
     "output_type": "execute_result"
    }
   ],
   "source": [
    "nb.predict_proba(new_text_transform)"
   ]
  },
  {
   "cell_type": "code",
   "execution_count": 800,
   "metadata": {},
   "outputs": [
    {
     "data": {
      "text/plain": [
       "(1000, 2)"
      ]
     },
     "execution_count": 800,
     "metadata": {},
     "output_type": "execute_result"
    }
   ],
   "source": [
    "df_nb = df_nlp[[\"emp_title\", \"loan_status\"]].sample(1000, random_state = 123)\n",
    "df_nb.shape"
   ]
  },
  {
   "cell_type": "code",
   "execution_count": 710,
   "metadata": {},
   "outputs": [
    {
     "data": {
      "text/plain": [
       "0    0.741\n",
       "1    0.259\n",
       "Name: loan_status, dtype: float64"
      ]
     },
     "execution_count": 710,
     "metadata": {},
     "output_type": "execute_result"
    }
   ],
   "source": [
    "df_nb.loan_status.value_counts(normalize=True)"
   ]
  },
  {
   "cell_type": "code",
   "execution_count": 711,
   "metadata": {
    "collapsed": true
   },
   "outputs": [],
   "source": [
    "#Assign X and y\n",
    "X = df_nb.emp_title\n",
    "y = df_nb.loan_status"
   ]
  },
  {
   "cell_type": "code",
   "execution_count": null,
   "metadata": {
    "collapsed": true
   },
   "outputs": [],
   "source": [
    "# from GridSearch parameters below!\n",
    "'tfidfvectorizer__analyzer': <function __main__.word_tokenize_stem>,\n",
    " 'tfidfvectorizer__binary': True,\n",
    " 'tfidfvectorizer__lowercase': False,\n",
    " 'tfidfvectorizer__max_features': 5000,\n",
    " 'tfidfvectorizer__ngram_range': (1, 2)}"
   ]
  },
  {
   "cell_type": "code",
   "execution_count": 807,
   "metadata": {},
   "outputs": [
    {
     "data": {
      "text/plain": [
       "0.77739999999999998"
      ]
     },
     "execution_count": 807,
     "metadata": {},
     "output_type": "execute_result"
    }
   ],
   "source": [
    "#Intialize vectorizer with default settings\n",
    "vect = TfidfVectorizer(analyzer= word_tokenize_stem, binary= True, stop_words= 'english', \n",
    "                       lowercase= True, ngram_range = (1,2))\n",
    "#Fit and transform X\n",
    "X_dtm = vect.fit_transform(X)\n",
    "#Intialize, fit, and score model on training data\n",
    "nb = MultinomialNB()\n",
    "nb.fit(X_dtm,y)\n",
    "nb.score(X_dtm,y)"
   ]
  },
  {
   "cell_type": "code",
   "execution_count": 808,
   "metadata": {},
   "outputs": [
    {
     "data": {
      "text/plain": [
       "2289"
      ]
     },
     "execution_count": 808,
     "metadata": {},
     "output_type": "execute_result"
    }
   ],
   "source": [
    "tokens = vect.get_feature_names()\n",
    "len(tokens)"
   ]
  },
  {
   "cell_type": "code",
   "execution_count": 809,
   "metadata": {},
   "outputs": [
    {
     "data": {
      "text/plain": [
       "[u'worker/cas',\n",
       " u'worker/co',\n",
       " u'workforc',\n",
       " u'workout',\n",
       " u'workplac',\n",
       " u'workstat',\n",
       " u'writer',\n",
       " u'wtu',\n",
       " u'ww',\n",
       " u'x',\n",
       " u'x-ray',\n",
       " u'xray',\n",
       " u'xray/ct',\n",
       " u'yard',\n",
       " u'yardman/whs',\n",
       " u'yardmast',\n",
       " u'year',\n",
       " u'youth',\n",
       " u'zanjero',\n",
       " u'zone']"
      ]
     },
     "execution_count": 809,
     "metadata": {},
     "output_type": "execute_result"
    }
   ],
   "source": [
    "#Print random slice of features\n",
    "tokens[-20:]"
   ]
  },
  {
   "cell_type": "code",
   "execution_count": 810,
   "metadata": {},
   "outputs": [
    {
     "data": {
      "text/plain": [
       "array([[ 2.59735691,  1.        ,  9.01230928, ...,  1.56911117,\n",
       "         0.90546566,  0.88823914],\n",
       "       [ 0.44671862,  0.        ,  0.52358339, ...,  1.31360472,\n",
       "         0.        ,  0.        ]])"
      ]
     },
     "execution_count": 810,
     "metadata": {},
     "output_type": "execute_result"
    }
   ],
   "source": [
    "#How many times does a word appear in each class\n",
    "nb.feature_count_"
   ]
  },
  {
   "cell_type": "code",
   "execution_count": 811,
   "metadata": {},
   "outputs": [
    {
     "data": {
      "text/plain": [
       "(2, 2289)"
      ]
     },
     "execution_count": 811,
     "metadata": {},
     "output_type": "execute_result"
    }
   ],
   "source": [
    "#Shape\n",
    "nb.feature_count_.shape"
   ]
  },
  {
   "cell_type": "code",
   "execution_count": 812,
   "metadata": {},
   "outputs": [
    {
     "data": {
      "text/plain": [
       "array([  2.59735691,   1.        ,   9.01230928,   0.        ,\n",
       "         1.        ,   0.6132077 ,  11.75520643,   4.54684112,\n",
       "         0.62292403,   3.87845298])"
      ]
     },
     "execution_count": 812,
     "metadata": {},
     "output_type": "execute_result"
    }
   ],
   "source": [
    "#Returns out counts of each word marked \"0\"\n",
    "good_loan_token_count = nb.feature_count_[0,:]\n",
    "good_loan_token_count[:10]"
   ]
  },
  {
   "cell_type": "code",
   "execution_count": 813,
   "metadata": {},
   "outputs": [
    {
     "data": {
      "text/plain": [
       "array([ 0.44671862,  0.        ,  0.52358339,  0.5       ,  0.        ,\n",
       "        0.        ,  5.40454028,  2.88778337,  0.        ,  1.91304873])"
      ]
     },
     "execution_count": 813,
     "metadata": {},
     "output_type": "execute_result"
    }
   ],
   "source": [
    "#Returns out counts of each word marked \"1\"\n",
    "bad_loan_token_count = nb.feature_count_[1,:]\n",
    "bad_loan_token_count[:10]"
   ]
  },
  {
   "cell_type": "code",
   "execution_count": 814,
   "metadata": {},
   "outputs": [
    {
     "data": {
      "text/html": [
       "<div>\n",
       "<style>\n",
       "    .dataframe thead tr:only-child th {\n",
       "        text-align: right;\n",
       "    }\n",
       "\n",
       "    .dataframe thead th {\n",
       "        text-align: left;\n",
       "    }\n",
       "\n",
       "    .dataframe tbody tr th {\n",
       "        vertical-align: top;\n",
       "    }\n",
       "</style>\n",
       "<table border=\"1\" class=\"dataframe\">\n",
       "  <thead>\n",
       "    <tr style=\"text-align: right;\">\n",
       "      <th></th>\n",
       "      <th>bad_loan</th>\n",
       "      <th>good_loan</th>\n",
       "    </tr>\n",
       "    <tr>\n",
       "      <th>token</th>\n",
       "      <th></th>\n",
       "      <th></th>\n",
       "    </tr>\n",
       "  </thead>\n",
       "  <tbody>\n",
       "    <tr>\n",
       "      <th>aminastr</th>\n",
       "      <td>0.000000</td>\n",
       "      <td>1.000000</td>\n",
       "    </tr>\n",
       "    <tr>\n",
       "      <th>crane</th>\n",
       "      <td>0.902668</td>\n",
       "      <td>0.702975</td>\n",
       "    </tr>\n",
       "    <tr>\n",
       "      <th>reader</th>\n",
       "      <td>0.000000</td>\n",
       "      <td>0.599495</td>\n",
       "    </tr>\n",
       "    <tr>\n",
       "      <th>literaci</th>\n",
       "      <td>0.725505</td>\n",
       "      <td>0.000000</td>\n",
       "    </tr>\n",
       "    <tr>\n",
       "      <th>frame</th>\n",
       "      <td>0.519815</td>\n",
       "      <td>0.957863</td>\n",
       "    </tr>\n",
       "    <tr>\n",
       "      <th>sqa</th>\n",
       "      <td>1.000000</td>\n",
       "      <td>0.000000</td>\n",
       "    </tr>\n",
       "    <tr>\n",
       "      <th>titl</th>\n",
       "      <td>1.660025</td>\n",
       "      <td>1.660025</td>\n",
       "    </tr>\n",
       "    <tr>\n",
       "      <th>sound</th>\n",
       "      <td>0.898136</td>\n",
       "      <td>0.825854</td>\n",
       "    </tr>\n",
       "    <tr>\n",
       "      <th>es</th>\n",
       "      <td>0.000000</td>\n",
       "      <td>0.722326</td>\n",
       "    </tr>\n",
       "    <tr>\n",
       "      <th>bodytech</th>\n",
       "      <td>1.000000</td>\n",
       "      <td>0.000000</td>\n",
       "    </tr>\n",
       "  </tbody>\n",
       "</table>\n",
       "</div>"
      ],
      "text/plain": [
       "          bad_loan  good_loan\n",
       "token                        \n",
       "aminastr  0.000000   1.000000\n",
       "crane     0.902668   0.702975\n",
       "reader    0.000000   0.599495\n",
       "literaci  0.725505   0.000000\n",
       "frame     0.519815   0.957863\n",
       "sqa       1.000000   0.000000\n",
       "titl      1.660025   1.660025\n",
       "sound     0.898136   0.825854\n",
       "es        0.000000   0.722326\n",
       "bodytech  1.000000   0.000000"
      ]
     },
     "execution_count": 814,
     "metadata": {},
     "output_type": "execute_result"
    }
   ],
   "source": [
    "# create a DataFrame of tokens with their separate ham and spam counts\n",
    "df_nb_tokens = pd.DataFrame({'token':tokens, \n",
    "                          'good_loan':good_loan_token_count, \n",
    "                          'bad_loan':bad_loan_token_count}).set_index('token')\n",
    "\n",
    "#Randomly select data \n",
    "df_nb_tokens.sample(10, random_state=120)"
   ]
  },
  {
   "cell_type": "code",
   "execution_count": 815,
   "metadata": {},
   "outputs": [
    {
     "data": {
      "text/html": [
       "<div>\n",
       "<style>\n",
       "    .dataframe thead tr:only-child th {\n",
       "        text-align: right;\n",
       "    }\n",
       "\n",
       "    .dataframe thead th {\n",
       "        text-align: left;\n",
       "    }\n",
       "\n",
       "    .dataframe tbody tr th {\n",
       "        vertical-align: top;\n",
       "    }\n",
       "</style>\n",
       "<table border=\"1\" class=\"dataframe\">\n",
       "  <thead>\n",
       "    <tr style=\"text-align: right;\">\n",
       "      <th></th>\n",
       "      <th>bad_loan</th>\n",
       "      <th>good_loan</th>\n",
       "    </tr>\n",
       "    <tr>\n",
       "      <th>token</th>\n",
       "      <th></th>\n",
       "      <th></th>\n",
       "    </tr>\n",
       "  </thead>\n",
       "  <tbody>\n",
       "    <tr>\n",
       "      <th>aminastr</th>\n",
       "      <td>1.000000</td>\n",
       "      <td>2.000000</td>\n",
       "    </tr>\n",
       "    <tr>\n",
       "      <th>crane</th>\n",
       "      <td>1.902668</td>\n",
       "      <td>1.702975</td>\n",
       "    </tr>\n",
       "    <tr>\n",
       "      <th>reader</th>\n",
       "      <td>1.000000</td>\n",
       "      <td>1.599495</td>\n",
       "    </tr>\n",
       "    <tr>\n",
       "      <th>literaci</th>\n",
       "      <td>1.725505</td>\n",
       "      <td>1.000000</td>\n",
       "    </tr>\n",
       "    <tr>\n",
       "      <th>frame</th>\n",
       "      <td>1.519815</td>\n",
       "      <td>1.957863</td>\n",
       "    </tr>\n",
       "    <tr>\n",
       "      <th>sqa</th>\n",
       "      <td>2.000000</td>\n",
       "      <td>1.000000</td>\n",
       "    </tr>\n",
       "    <tr>\n",
       "      <th>titl</th>\n",
       "      <td>2.660025</td>\n",
       "      <td>2.660025</td>\n",
       "    </tr>\n",
       "    <tr>\n",
       "      <th>sound</th>\n",
       "      <td>1.898136</td>\n",
       "      <td>1.825854</td>\n",
       "    </tr>\n",
       "    <tr>\n",
       "      <th>es</th>\n",
       "      <td>1.000000</td>\n",
       "      <td>1.722326</td>\n",
       "    </tr>\n",
       "    <tr>\n",
       "      <th>bodytech</th>\n",
       "      <td>2.000000</td>\n",
       "      <td>1.000000</td>\n",
       "    </tr>\n",
       "  </tbody>\n",
       "</table>\n",
       "</div>"
      ],
      "text/plain": [
       "          bad_loan  good_loan\n",
       "token                        \n",
       "aminastr  1.000000   2.000000\n",
       "crane     1.902668   1.702975\n",
       "reader    1.000000   1.599495\n",
       "literaci  1.725505   1.000000\n",
       "frame     1.519815   1.957863\n",
       "sqa       2.000000   1.000000\n",
       "titl      2.660025   2.660025\n",
       "sound     1.898136   1.825854\n",
       "es        1.000000   1.722326\n",
       "bodytech  2.000000   1.000000"
      ]
     },
     "execution_count": 815,
     "metadata": {},
     "output_type": "execute_result"
    }
   ],
   "source": [
    "# add 1 to good and bad loan counts to avoid dividing by 0\n",
    "df_nb_tokens['good_loan'] = df_nb_tokens.good_loan + 1\n",
    "df_nb_tokens['bad_loan'] = df_nb_tokens.bad_loan + 1\n",
    "df_nb_tokens.sample(10, random_state=120)"
   ]
  },
  {
   "cell_type": "code",
   "execution_count": 816,
   "metadata": {},
   "outputs": [
    {
     "data": {
      "text/plain": [
       "array([ 7455.,  2545.])"
      ]
     },
     "execution_count": 816,
     "metadata": {},
     "output_type": "execute_result"
    }
   ],
   "source": [
    "# Naive Bayes counts the number of observations in each class\n",
    "nb.class_count_"
   ]
  },
  {
   "cell_type": "code",
   "execution_count": 817,
   "metadata": {},
   "outputs": [
    {
     "data": {
      "text/plain": [
       "2545.0"
      ]
     },
     "execution_count": 817,
     "metadata": {},
     "output_type": "execute_result"
    }
   ],
   "source": [
    "nb.class_count_[1]"
   ]
  },
  {
   "cell_type": "code",
   "execution_count": 818,
   "metadata": {},
   "outputs": [
    {
     "data": {
      "text/html": [
       "<div>\n",
       "<style>\n",
       "    .dataframe thead tr:only-child th {\n",
       "        text-align: right;\n",
       "    }\n",
       "\n",
       "    .dataframe thead th {\n",
       "        text-align: left;\n",
       "    }\n",
       "\n",
       "    .dataframe tbody tr th {\n",
       "        vertical-align: top;\n",
       "    }\n",
       "</style>\n",
       "<table border=\"1\" class=\"dataframe\">\n",
       "  <thead>\n",
       "    <tr style=\"text-align: right;\">\n",
       "      <th></th>\n",
       "      <th>bad_loan</th>\n",
       "      <th>good_loan</th>\n",
       "    </tr>\n",
       "    <tr>\n",
       "      <th>token</th>\n",
       "      <th></th>\n",
       "      <th></th>\n",
       "    </tr>\n",
       "  </thead>\n",
       "  <tbody>\n",
       "    <tr>\n",
       "      <th>aminastr</th>\n",
       "      <td>0.000393</td>\n",
       "      <td>0.000268</td>\n",
       "    </tr>\n",
       "    <tr>\n",
       "      <th>crane</th>\n",
       "      <td>0.000748</td>\n",
       "      <td>0.000228</td>\n",
       "    </tr>\n",
       "    <tr>\n",
       "      <th>reader</th>\n",
       "      <td>0.000393</td>\n",
       "      <td>0.000215</td>\n",
       "    </tr>\n",
       "    <tr>\n",
       "      <th>literaci</th>\n",
       "      <td>0.000678</td>\n",
       "      <td>0.000134</td>\n",
       "    </tr>\n",
       "    <tr>\n",
       "      <th>frame</th>\n",
       "      <td>0.000597</td>\n",
       "      <td>0.000263</td>\n",
       "    </tr>\n",
       "    <tr>\n",
       "      <th>sqa</th>\n",
       "      <td>0.000786</td>\n",
       "      <td>0.000134</td>\n",
       "    </tr>\n",
       "    <tr>\n",
       "      <th>titl</th>\n",
       "      <td>0.001045</td>\n",
       "      <td>0.000357</td>\n",
       "    </tr>\n",
       "    <tr>\n",
       "      <th>sound</th>\n",
       "      <td>0.000746</td>\n",
       "      <td>0.000245</td>\n",
       "    </tr>\n",
       "    <tr>\n",
       "      <th>es</th>\n",
       "      <td>0.000393</td>\n",
       "      <td>0.000231</td>\n",
       "    </tr>\n",
       "    <tr>\n",
       "      <th>bodytech</th>\n",
       "      <td>0.000786</td>\n",
       "      <td>0.000134</td>\n",
       "    </tr>\n",
       "  </tbody>\n",
       "</table>\n",
       "</div>"
      ],
      "text/plain": [
       "          bad_loan  good_loan\n",
       "token                        \n",
       "aminastr  0.000393   0.000268\n",
       "crane     0.000748   0.000228\n",
       "reader    0.000393   0.000215\n",
       "literaci  0.000678   0.000134\n",
       "frame     0.000597   0.000263\n",
       "sqa       0.000786   0.000134\n",
       "titl      0.001045   0.000357\n",
       "sound     0.000746   0.000245\n",
       "es        0.000393   0.000231\n",
       "bodytech  0.000786   0.000134"
      ]
     },
     "execution_count": 818,
     "metadata": {},
     "output_type": "execute_result"
    }
   ],
   "source": [
    "# convert the ham and spam counts into frequencies\n",
    "df_nb_tokens['good_loan'] = df_nb_tokens.good_loan / nb.class_count_[0]\n",
    "df_nb_tokens['bad_loan'] = df_nb_tokens.bad_loan / nb.class_count_[1]\n",
    "df_nb_tokens.sample(10, random_state=120)"
   ]
  },
  {
   "cell_type": "code",
   "execution_count": 819,
   "metadata": {},
   "outputs": [
    {
     "data": {
      "text/html": [
       "<div>\n",
       "<style>\n",
       "    .dataframe thead tr:only-child th {\n",
       "        text-align: right;\n",
       "    }\n",
       "\n",
       "    .dataframe thead th {\n",
       "        text-align: left;\n",
       "    }\n",
       "\n",
       "    .dataframe tbody tr th {\n",
       "        vertical-align: top;\n",
       "    }\n",
       "</style>\n",
       "<table border=\"1\" class=\"dataframe\">\n",
       "  <thead>\n",
       "    <tr style=\"text-align: right;\">\n",
       "      <th></th>\n",
       "      <th>bad_loan</th>\n",
       "      <th>good_loan</th>\n",
       "      <th>bad_loan_ratio</th>\n",
       "    </tr>\n",
       "    <tr>\n",
       "      <th>token</th>\n",
       "      <th></th>\n",
       "      <th></th>\n",
       "      <th></th>\n",
       "    </tr>\n",
       "  </thead>\n",
       "  <tbody>\n",
       "    <tr>\n",
       "      <th>aminastr</th>\n",
       "      <td>0.000393</td>\n",
       "      <td>0.000268</td>\n",
       "      <td>1.464637</td>\n",
       "    </tr>\n",
       "    <tr>\n",
       "      <th>crane</th>\n",
       "      <td>0.000748</td>\n",
       "      <td>0.000228</td>\n",
       "      <td>3.272764</td>\n",
       "    </tr>\n",
       "    <tr>\n",
       "      <th>reader</th>\n",
       "      <td>0.000393</td>\n",
       "      <td>0.000215</td>\n",
       "      <td>1.831374</td>\n",
       "    </tr>\n",
       "    <tr>\n",
       "      <th>literaci</th>\n",
       "      <td>0.000678</td>\n",
       "      <td>0.000134</td>\n",
       "      <td>5.054475</td>\n",
       "    </tr>\n",
       "    <tr>\n",
       "      <th>frame</th>\n",
       "      <td>0.000597</td>\n",
       "      <td>0.000263</td>\n",
       "      <td>2.273883</td>\n",
       "    </tr>\n",
       "    <tr>\n",
       "      <th>sqa</th>\n",
       "      <td>0.000786</td>\n",
       "      <td>0.000134</td>\n",
       "      <td>5.858546</td>\n",
       "    </tr>\n",
       "    <tr>\n",
       "      <th>titl</th>\n",
       "      <td>0.001045</td>\n",
       "      <td>0.000357</td>\n",
       "      <td>2.929273</td>\n",
       "    </tr>\n",
       "    <tr>\n",
       "      <th>sound</th>\n",
       "      <td>0.000746</td>\n",
       "      <td>0.000245</td>\n",
       "      <td>3.045238</td>\n",
       "    </tr>\n",
       "    <tr>\n",
       "      <th>es</th>\n",
       "      <td>0.000393</td>\n",
       "      <td>0.000231</td>\n",
       "      <td>1.700766</td>\n",
       "    </tr>\n",
       "    <tr>\n",
       "      <th>bodytech</th>\n",
       "      <td>0.000786</td>\n",
       "      <td>0.000134</td>\n",
       "      <td>5.858546</td>\n",
       "    </tr>\n",
       "  </tbody>\n",
       "</table>\n",
       "</div>"
      ],
      "text/plain": [
       "          bad_loan  good_loan  bad_loan_ratio\n",
       "token                                        \n",
       "aminastr  0.000393   0.000268        1.464637\n",
       "crane     0.000748   0.000228        3.272764\n",
       "reader    0.000393   0.000215        1.831374\n",
       "literaci  0.000678   0.000134        5.054475\n",
       "frame     0.000597   0.000263        2.273883\n",
       "sqa       0.000786   0.000134        5.858546\n",
       "titl      0.001045   0.000357        2.929273\n",
       "sound     0.000746   0.000245        3.045238\n",
       "es        0.000393   0.000231        1.700766\n",
       "bodytech  0.000786   0.000134        5.858546"
      ]
     },
     "execution_count": 819,
     "metadata": {},
     "output_type": "execute_result"
    }
   ],
   "source": [
    "# calculate the ratio of badto-good for each token\n",
    "df_nb_tokens['bad_loan_ratio'] = df_nb_tokens.bad_loan / df_nb_tokens.good_loan\n",
    "df_nb_tokens.sample(10, random_state=120)"
   ]
  },
  {
   "cell_type": "code",
   "execution_count": 820,
   "metadata": {},
   "outputs": [
    {
     "data": {
      "text/html": [
       "<div>\n",
       "<style>\n",
       "    .dataframe thead tr:only-child th {\n",
       "        text-align: right;\n",
       "    }\n",
       "\n",
       "    .dataframe thead th {\n",
       "        text-align: left;\n",
       "    }\n",
       "\n",
       "    .dataframe tbody tr th {\n",
       "        vertical-align: top;\n",
       "    }\n",
       "</style>\n",
       "<table border=\"1\" class=\"dataframe\">\n",
       "  <thead>\n",
       "    <tr style=\"text-align: right;\">\n",
       "      <th></th>\n",
       "      <th>bad_loan</th>\n",
       "      <th>good_loan</th>\n",
       "      <th>bad_loan_ratio</th>\n",
       "    </tr>\n",
       "    <tr>\n",
       "      <th>token</th>\n",
       "      <th></th>\n",
       "      <th></th>\n",
       "      <th></th>\n",
       "    </tr>\n",
       "  </thead>\n",
       "  <tbody>\n",
       "    <tr>\n",
       "      <th>founder</th>\n",
       "      <td>0.001307</td>\n",
       "      <td>0.000134</td>\n",
       "      <td>9.744398</td>\n",
       "    </tr>\n",
       "    <tr>\n",
       "      <th>staf</th>\n",
       "      <td>0.001228</td>\n",
       "      <td>0.000134</td>\n",
       "      <td>9.153713</td>\n",
       "    </tr>\n",
       "    <tr>\n",
       "      <th>cma</th>\n",
       "      <td>0.001179</td>\n",
       "      <td>0.000134</td>\n",
       "      <td>8.787819</td>\n",
       "    </tr>\n",
       "    <tr>\n",
       "      <th>unload</th>\n",
       "      <td>0.001179</td>\n",
       "      <td>0.000134</td>\n",
       "      <td>8.787819</td>\n",
       "    </tr>\n",
       "    <tr>\n",
       "      <th>manaer</th>\n",
       "      <td>0.001142</td>\n",
       "      <td>0.000134</td>\n",
       "      <td>8.510689</td>\n",
       "    </tr>\n",
       "    <tr>\n",
       "      <th>maintainc</th>\n",
       "      <td>0.001139</td>\n",
       "      <td>0.000134</td>\n",
       "      <td>8.489432</td>\n",
       "    </tr>\n",
       "    <tr>\n",
       "      <th>salesman</th>\n",
       "      <td>0.001138</td>\n",
       "      <td>0.000134</td>\n",
       "      <td>8.485359</td>\n",
       "    </tr>\n",
       "    <tr>\n",
       "      <th>geophysicist</th>\n",
       "      <td>0.001137</td>\n",
       "      <td>0.000134</td>\n",
       "      <td>8.474637</td>\n",
       "    </tr>\n",
       "    <tr>\n",
       "      <th>mammograph</th>\n",
       "      <td>0.001123</td>\n",
       "      <td>0.000134</td>\n",
       "      <td>8.370570</td>\n",
       "    </tr>\n",
       "    <tr>\n",
       "      <th>admistr</th>\n",
       "      <td>0.001102</td>\n",
       "      <td>0.000134</td>\n",
       "      <td>8.218641</td>\n",
       "    </tr>\n",
       "    <tr>\n",
       "      <th>endoscopi</th>\n",
       "      <td>0.001087</td>\n",
       "      <td>0.000134</td>\n",
       "      <td>8.104340</td>\n",
       "    </tr>\n",
       "    <tr>\n",
       "      <th>fund</th>\n",
       "      <td>0.001065</td>\n",
       "      <td>0.000134</td>\n",
       "      <td>7.938793</td>\n",
       "    </tr>\n",
       "    <tr>\n",
       "      <th>vendor</th>\n",
       "      <td>0.001060</td>\n",
       "      <td>0.000134</td>\n",
       "      <td>7.905429</td>\n",
       "    </tr>\n",
       "    <tr>\n",
       "      <th>tester</th>\n",
       "      <td>0.001054</td>\n",
       "      <td>0.000134</td>\n",
       "      <td>7.860337</td>\n",
       "    </tr>\n",
       "    <tr>\n",
       "      <th>scan</th>\n",
       "      <td>0.001040</td>\n",
       "      <td>0.000134</td>\n",
       "      <td>7.752462</td>\n",
       "    </tr>\n",
       "    <tr>\n",
       "      <th>bodi</th>\n",
       "      <td>0.001028</td>\n",
       "      <td>0.000134</td>\n",
       "      <td>7.665511</td>\n",
       "    </tr>\n",
       "    <tr>\n",
       "      <th>coat</th>\n",
       "      <td>0.001009</td>\n",
       "      <td>0.000134</td>\n",
       "      <td>7.522950</td>\n",
       "    </tr>\n",
       "    <tr>\n",
       "      <th>truckdriv</th>\n",
       "      <td>0.001004</td>\n",
       "      <td>0.000134</td>\n",
       "      <td>7.485852</td>\n",
       "    </tr>\n",
       "    <tr>\n",
       "      <th>structur</th>\n",
       "      <td>0.001004</td>\n",
       "      <td>0.000134</td>\n",
       "      <td>7.483794</td>\n",
       "    </tr>\n",
       "    <tr>\n",
       "      <th>diesel</th>\n",
       "      <td>0.000998</td>\n",
       "      <td>0.000134</td>\n",
       "      <td>7.438464</td>\n",
       "    </tr>\n",
       "  </tbody>\n",
       "</table>\n",
       "</div>"
      ],
      "text/plain": [
       "              bad_loan  good_loan  bad_loan_ratio\n",
       "token                                            \n",
       "founder       0.001307   0.000134        9.744398\n",
       "staf          0.001228   0.000134        9.153713\n",
       "cma           0.001179   0.000134        8.787819\n",
       "unload        0.001179   0.000134        8.787819\n",
       "manaer        0.001142   0.000134        8.510689\n",
       "maintainc     0.001139   0.000134        8.489432\n",
       "salesman      0.001138   0.000134        8.485359\n",
       "geophysicist  0.001137   0.000134        8.474637\n",
       "mammograph    0.001123   0.000134        8.370570\n",
       "admistr       0.001102   0.000134        8.218641\n",
       "endoscopi     0.001087   0.000134        8.104340\n",
       "fund          0.001065   0.000134        7.938793\n",
       "vendor        0.001060   0.000134        7.905429\n",
       "tester        0.001054   0.000134        7.860337\n",
       "scan          0.001040   0.000134        7.752462\n",
       "bodi          0.001028   0.000134        7.665511\n",
       "coat          0.001009   0.000134        7.522950\n",
       "truckdriv     0.001004   0.000134        7.485852\n",
       "structur      0.001004   0.000134        7.483794\n",
       "diesel        0.000998   0.000134        7.438464"
      ]
     },
     "execution_count": 820,
     "metadata": {},
     "output_type": "execute_result"
    }
   ],
   "source": [
    "# Top 20 worst emp_title tokens!\n",
    "\n",
    "df_nb_tokens.sort_values(by= \"bad_loan_ratio\", ascending= False).head(20)"
   ]
  },
  {
   "cell_type": "code",
   "execution_count": 752,
   "metadata": {},
   "outputs": [
    {
     "data": {
      "text/html": [
       "<div>\n",
       "<style>\n",
       "    .dataframe thead tr:only-child th {\n",
       "        text-align: right;\n",
       "    }\n",
       "\n",
       "    .dataframe thead th {\n",
       "        text-align: left;\n",
       "    }\n",
       "\n",
       "    .dataframe tbody tr th {\n",
       "        vertical-align: top;\n",
       "    }\n",
       "</style>\n",
       "<table border=\"1\" class=\"dataframe\">\n",
       "  <thead>\n",
       "    <tr style=\"text-align: right;\">\n",
       "      <th></th>\n",
       "      <th>bad_loan</th>\n",
       "      <th>good_loan</th>\n",
       "      <th>bad_loan_ratio</th>\n",
       "    </tr>\n",
       "    <tr>\n",
       "      <th>token</th>\n",
       "      <th></th>\n",
       "      <th></th>\n",
       "      <th></th>\n",
       "    </tr>\n",
       "  </thead>\n",
       "  <tbody>\n",
       "    <tr>\n",
       "      <th>it</th>\n",
       "      <td>0.003861</td>\n",
       "      <td>0.010469</td>\n",
       "      <td>0.368816</td>\n",
       "    </tr>\n",
       "    <tr>\n",
       "      <th>system</th>\n",
       "      <td>0.003861</td>\n",
       "      <td>0.009761</td>\n",
       "      <td>0.395567</td>\n",
       "    </tr>\n",
       "    <tr>\n",
       "      <th>analyst</th>\n",
       "      <td>0.009905</td>\n",
       "      <td>0.023023</td>\n",
       "      <td>0.430229</td>\n",
       "    </tr>\n",
       "    <tr>\n",
       "      <th>of</th>\n",
       "      <td>0.005787</td>\n",
       "      <td>0.013362</td>\n",
       "      <td>0.433115</td>\n",
       "    </tr>\n",
       "    <tr>\n",
       "      <th>mechan</th>\n",
       "      <td>0.003861</td>\n",
       "      <td>0.008829</td>\n",
       "      <td>0.437296</td>\n",
       "    </tr>\n",
       "    <tr>\n",
       "      <th>financ</th>\n",
       "      <td>0.003861</td>\n",
       "      <td>0.007945</td>\n",
       "      <td>0.485959</td>\n",
       "    </tr>\n",
       "    <tr>\n",
       "      <th>vp</th>\n",
       "      <td>0.003861</td>\n",
       "      <td>0.007818</td>\n",
       "      <td>0.493884</td>\n",
       "    </tr>\n",
       "    <tr>\n",
       "      <th>execut</th>\n",
       "      <td>0.006607</td>\n",
       "      <td>0.013202</td>\n",
       "      <td>0.500487</td>\n",
       "    </tr>\n",
       "    <tr>\n",
       "      <th>sr</th>\n",
       "      <td>0.007907</td>\n",
       "      <td>0.015059</td>\n",
       "      <td>0.525090</td>\n",
       "    </tr>\n",
       "    <tr>\n",
       "      <th>oper</th>\n",
       "      <td>0.012317</td>\n",
       "      <td>0.023424</td>\n",
       "      <td>0.525809</td>\n",
       "    </tr>\n",
       "    <tr>\n",
       "      <th>rn</th>\n",
       "      <td>0.006230</td>\n",
       "      <td>0.011084</td>\n",
       "      <td>0.562081</td>\n",
       "    </tr>\n",
       "    <tr>\n",
       "      <th>truck</th>\n",
       "      <td>0.003861</td>\n",
       "      <td>0.006436</td>\n",
       "      <td>0.599904</td>\n",
       "    </tr>\n",
       "    <tr>\n",
       "      <th>correct</th>\n",
       "      <td>0.003861</td>\n",
       "      <td>0.006367</td>\n",
       "      <td>0.606368</td>\n",
       "    </tr>\n",
       "    <tr>\n",
       "      <th>technician</th>\n",
       "      <td>0.012798</td>\n",
       "      <td>0.019511</td>\n",
       "      <td>0.655939</td>\n",
       "    </tr>\n",
       "    <tr>\n",
       "      <th>planner</th>\n",
       "      <td>0.003861</td>\n",
       "      <td>0.005660</td>\n",
       "      <td>0.682144</td>\n",
       "    </tr>\n",
       "    <tr>\n",
       "      <th>vice</th>\n",
       "      <td>0.006743</td>\n",
       "      <td>0.009863</td>\n",
       "      <td>0.683642</td>\n",
       "    </tr>\n",
       "    <tr>\n",
       "      <th>pharmaci</th>\n",
       "      <td>0.003861</td>\n",
       "      <td>0.005561</td>\n",
       "      <td>0.694289</td>\n",
       "    </tr>\n",
       "    <tr>\n",
       "      <th>carpent</th>\n",
       "      <td>0.003861</td>\n",
       "      <td>0.005398</td>\n",
       "      <td>0.715251</td>\n",
       "    </tr>\n",
       "    <tr>\n",
       "      <th>director</th>\n",
       "      <td>0.020939</td>\n",
       "      <td>0.029211</td>\n",
       "      <td>0.716809</td>\n",
       "    </tr>\n",
       "    <tr>\n",
       "      <th>loan</th>\n",
       "      <td>0.003861</td>\n",
       "      <td>0.005321</td>\n",
       "      <td>0.725657</td>\n",
       "    </tr>\n",
       "  </tbody>\n",
       "</table>\n",
       "</div>"
      ],
      "text/plain": [
       "            bad_loan  good_loan  bad_loan_ratio\n",
       "token                                          \n",
       "it          0.003861   0.010469        0.368816\n",
       "system      0.003861   0.009761        0.395567\n",
       "analyst     0.009905   0.023023        0.430229\n",
       "of          0.005787   0.013362        0.433115\n",
       "mechan      0.003861   0.008829        0.437296\n",
       "financ      0.003861   0.007945        0.485959\n",
       "vp          0.003861   0.007818        0.493884\n",
       "execut      0.006607   0.013202        0.500487\n",
       "sr          0.007907   0.015059        0.525090\n",
       "oper        0.012317   0.023424        0.525809\n",
       "rn          0.006230   0.011084        0.562081\n",
       "truck       0.003861   0.006436        0.599904\n",
       "correct     0.003861   0.006367        0.606368\n",
       "technician  0.012798   0.019511        0.655939\n",
       "planner     0.003861   0.005660        0.682144\n",
       "vice        0.006743   0.009863        0.683642\n",
       "pharmaci    0.003861   0.005561        0.694289\n",
       "carpent     0.003861   0.005398        0.715251\n",
       "director    0.020939   0.029211        0.716809\n",
       "loan        0.003861   0.005321        0.725657"
      ]
     },
     "execution_count": 752,
     "metadata": {},
     "output_type": "execute_result"
    }
   ],
   "source": [
    "# Top 20 best emp_title tokens!\n",
    "\n",
    "df_nb_tokens.sort_values(by= \"bad_loan_ratio\", ascending= True).head(20)"
   ]
  },
  {
   "cell_type": "code",
   "execution_count": null,
   "metadata": {
    "collapsed": true
   },
   "outputs": [],
   "source": []
  },
  {
   "cell_type": "code",
   "execution_count": null,
   "metadata": {
    "collapsed": true
   },
   "outputs": [],
   "source": []
  },
  {
   "cell_type": "code",
   "execution_count": 821,
   "metadata": {
    "collapsed": true
   },
   "outputs": [],
   "source": [
    "#Make pipeline for tfidfvectorizer and naive bayes model\n",
    "pipe_tf = make_pipeline(TfidfVectorizer(), MultinomialNB())\n",
    "\n",
    "#Intialize parameters for tfidf vectorizer\n",
    "param_grid_tf = {}\n",
    "param_grid_tf[\"tfidfvectorizer__stop_words\"] = [\"english\"]\n",
    "param_grid_tf[\"tfidfvectorizer__max_features\"] = [1000, 2500 ,5000, 7500,10000]\n",
    "param_grid_tf[\"tfidfvectorizer__ngram_range\"] = [(1,1), (1,2), (2,2)]\n",
    "param_grid_tf[\"tfidfvectorizer__lowercase\"] = [True, False]\n",
    "param_grid_tf[\"tfidfvectorizer__binary\"] = [True, False]\n",
    "param_grid_tf[\"tfidfvectorizer__analyzer\"] = [\"word\", word_tokenize_stem,\n",
    "                                              word_tokenize_lemma, word_tokenize_lemma_verb]"
   ]
  },
  {
   "cell_type": "code",
   "execution_count": 822,
   "metadata": {},
   "outputs": [
    {
     "data": {
      "text/plain": [
       "62.867358922958374"
      ]
     },
     "execution_count": 822,
     "metadata": {},
     "output_type": "execute_result"
    }
   ],
   "source": [
    "#Randomized grid search with n_iter = 5\n",
    "randsearch_tf = RandomizedSearchCV(pipe_tf, n_iter = 5,\n",
    "                        param_distributions = param_grid_tf, cv = 5, scoring = \"accuracy\")\n",
    "\n",
    "#Time the code \n",
    "\n",
    "t = time()\n",
    "\n",
    "#Fit grid on data\n",
    "randsearch_cv.fit(X, y)\n",
    "\n",
    "#Print time difference\n",
    "\n",
    "time() - t"
   ]
  },
  {
   "cell_type": "code",
   "execution_count": null,
   "metadata": {},
   "outputs": [],
   "source": [
    "#Best params\n",
    "randsearch_tf.best_params"
   ]
  },
  {
   "cell_type": "code",
   "execution_count": 762,
   "metadata": {},
   "outputs": [
    {
     "data": {
      "text/plain": [
       "0.733"
      ]
     },
     "execution_count": 762,
     "metadata": {},
     "output_type": "execute_result"
    }
   ],
   "source": [
    "#Best score\n",
    "randsearch_cv.best_score_"
   ]
  },
  {
   "cell_type": "code",
   "execution_count": 753,
   "metadata": {},
   "outputs": [
    {
     "data": {
      "text/plain": [
       "603"
      ]
     },
     "execution_count": 753,
     "metadata": {},
     "output_type": "execute_result"
    }
   ],
   "source": [
    "#Assign list of features to tokens variable\n",
    "tokens = vect.get_feature_names()\n",
    "len(tokens)"
   ]
  },
  {
   "cell_type": "code",
   "execution_count": null,
   "metadata": {
    "collapsed": true
   },
   "outputs": [],
   "source": []
  },
  {
   "cell_type": "code",
   "execution_count": null,
   "metadata": {
    "collapsed": true
   },
   "outputs": [],
   "source": []
  }
 ],
 "metadata": {
  "kernelspec": {
   "display_name": "Python 2",
   "language": "python",
   "name": "python2"
  },
  "language_info": {
   "codemirror_mode": {
    "name": "ipython",
    "version": 2
   },
   "file_extension": ".py",
   "mimetype": "text/x-python",
   "name": "python",
   "nbconvert_exporter": "python",
   "pygments_lexer": "ipython2",
   "version": "2.7.13"
  }
 },
 "nbformat": 4,
 "nbformat_minor": 2
}
