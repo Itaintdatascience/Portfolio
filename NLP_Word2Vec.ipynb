{
 "cells": [
  {
   "cell_type": "markdown",
   "metadata": {},
   "source": [
    "# Feature Engineering w/ h2o.ai | Word2Vec emp_title"
   ]
  },
  {
   "cell_type": "markdown",
   "metadata": {},
   "source": [
    "Using Lending Club's dataset from 2015 and prior, there is reason to believe that the emp_title field holds predictive information which we can feature engineer. The Word2Vec algorithm helps find synonyms of employment titles, and transforms the data to vectors.\n",
    "\n",
    "Read more about Word2Vec here:\n",
    "\n",
    "http://docs.h2o.ai/h2o/latest-stable/h2o-docs/data-science/word2vec.html"
   ]
  },
  {
   "cell_type": "code",
   "execution_count": 1,
   "metadata": {},
   "outputs": [
    {
     "name": "stdout",
     "output_type": "stream",
     "text": [
      "Requirement already satisfied: requests in ./anaconda2/lib/python2.7/site-packages\n",
      "Requirement already satisfied: chardet<3.1.0,>=3.0.2 in ./anaconda2/lib/python2.7/site-packages (from requests)\n",
      "Requirement already satisfied: idna<2.7,>=2.5 in ./anaconda2/lib/python2.7/site-packages (from requests)\n",
      "Requirement already satisfied: urllib3<1.23,>=1.21.1 in ./anaconda2/lib/python2.7/site-packages (from requests)\n",
      "Requirement already satisfied: certifi>=2017.4.17 in ./anaconda2/lib/python2.7/site-packages (from requests)\n",
      "Requirement already satisfied: tabulate in ./anaconda2/lib/python2.7/site-packages\n",
      "Requirement already satisfied: scikit-learn in ./anaconda2/lib/python2.7/site-packages\n",
      "Requirement already satisfied: colorama in ./anaconda2/lib/python2.7/site-packages\n",
      "Requirement already satisfied: future in ./anaconda2/lib/python2.7/site-packages\n"
     ]
    }
   ],
   "source": [
    "!pip install requests\n",
    "!pip install tabulate\n",
    "!pip install scikit-learn\n",
    "!pip install colorama\n",
    "!pip install future"
   ]
  },
  {
   "cell_type": "code",
   "execution_count": 73,
   "metadata": {},
   "outputs": [
    {
     "name": "stdout",
     "output_type": "stream",
     "text": [
      "Checking whether there is an H2O instance running at http://localhost:54321. connected.\n"
     ]
    },
    {
     "data": {
      "text/html": [
       "<div style=\"overflow:auto\"><table style=\"width:50%\"><tr><td>H2O cluster uptime:</td>\n",
       "<td>50 mins 24 secs</td></tr>\n",
       "<tr><td>H2O cluster version:</td>\n",
       "<td>3.16.0.3</td></tr>\n",
       "<tr><td>H2O cluster version age:</td>\n",
       "<td>6 days </td></tr>\n",
       "<tr><td>H2O cluster name:</td>\n",
       "<td>H2O_from_python_darrenklee_zw6bx3</td></tr>\n",
       "<tr><td>H2O cluster total nodes:</td>\n",
       "<td>1</td></tr>\n",
       "<tr><td>H2O cluster free memory:</td>\n",
       "<td>1.591 Gb</td></tr>\n",
       "<tr><td>H2O cluster total cores:</td>\n",
       "<td>4</td></tr>\n",
       "<tr><td>H2O cluster allowed cores:</td>\n",
       "<td>4</td></tr>\n",
       "<tr><td>H2O cluster status:</td>\n",
       "<td>locked, healthy</td></tr>\n",
       "<tr><td>H2O connection url:</td>\n",
       "<td>http://localhost:54321</td></tr>\n",
       "<tr><td>H2O connection proxy:</td>\n",
       "<td>None</td></tr>\n",
       "<tr><td>H2O internal security:</td>\n",
       "<td>False</td></tr>\n",
       "<tr><td>H2O API Extensions:</td>\n",
       "<td>XGBoost, Algos, AutoML, Core V3, Core V4</td></tr>\n",
       "<tr><td>Python version:</td>\n",
       "<td>2.7.13 final</td></tr></table></div>"
      ],
      "text/plain": [
       "--------------------------  ----------------------------------------\n",
       "H2O cluster uptime:         50 mins 24 secs\n",
       "H2O cluster version:        3.16.0.3\n",
       "H2O cluster version age:    6 days\n",
       "H2O cluster name:           H2O_from_python_darrenklee_zw6bx3\n",
       "H2O cluster total nodes:    1\n",
       "H2O cluster free memory:    1.591 Gb\n",
       "H2O cluster total cores:    4\n",
       "H2O cluster allowed cores:  4\n",
       "H2O cluster status:         locked, healthy\n",
       "H2O connection url:         http://localhost:54321\n",
       "H2O connection proxy:\n",
       "H2O internal security:      False\n",
       "H2O API Extensions:         XGBoost, Algos, AutoML, Core V3, Core V4\n",
       "Python version:             2.7.13 final\n",
       "--------------------------  ----------------------------------------"
      ]
     },
     "metadata": {},
     "output_type": "display_data"
    }
   ],
   "source": [
    "import h2o\n",
    "h2o.init()"
   ]
  },
  {
   "cell_type": "code",
   "execution_count": 74,
   "metadata": {
    "collapsed": true
   },
   "outputs": [],
   "source": [
    "import pandas as pd\n",
    "import numpy as np"
   ]
  },
  {
   "cell_type": "code",
   "execution_count": 98,
   "metadata": {},
   "outputs": [
    {
     "name": "stdout",
     "output_type": "stream",
     "text": [
      "Parse progress: |█████████████████████████████████████████████████████████| 100%\n"
     ]
    }
   ],
   "source": [
    "path = \"/Users/darrenklee/Desktop/DS-Project/emp_title_loan_status_data.csv\"\n",
    "\n",
    "df = h2o.import_file(path=path)[:,1:3].ascharacter()"
   ]
  },
  {
   "cell_type": "code",
   "execution_count": 99,
   "metadata": {},
   "outputs": [
    {
     "data": {
      "text/html": [
       "<table>\n",
       "<thead>\n",
       "<tr><th>emp_title                      </th><th style=\"text-align: right;\">  loan_status</th></tr>\n",
       "</thead>\n",
       "<tbody>\n",
       "<tr><td>Emergency Department technician</td><td style=\"text-align: right;\">            0</td></tr>\n",
       "<tr><td>Corporate Insurance            </td><td style=\"text-align: right;\">            0</td></tr>\n",
       "<tr><td>Teacher                        </td><td style=\"text-align: right;\">            0</td></tr>\n",
       "<tr><td>Regional Sales Direcdtor       </td><td style=\"text-align: right;\">            1</td></tr>\n",
       "<tr><td>hvac technician                </td><td style=\"text-align: right;\">            1</td></tr>\n",
       "<tr><td>Lead manufacturing             </td><td style=\"text-align: right;\">            0</td></tr>\n",
       "<tr><td>Engineer                       </td><td style=\"text-align: right;\">            0</td></tr>\n",
       "<tr><td>Contract Specialist            </td><td style=\"text-align: right;\">            0</td></tr>\n",
       "<tr><td>Systems Support Engineer       </td><td style=\"text-align: right;\">            0</td></tr>\n",
       "<tr><td>Application Analyst            </td><td style=\"text-align: right;\">            0</td></tr>\n",
       "</tbody>\n",
       "</table>"
      ]
     },
     "metadata": {},
     "output_type": "display_data"
    },
    {
     "data": {
      "text/plain": []
     },
     "execution_count": 99,
     "metadata": {},
     "output_type": "execute_result"
    }
   ],
   "source": [
    "df.head()"
   ]
  },
  {
   "cell_type": "code",
   "execution_count": 129,
   "metadata": {},
   "outputs": [
    {
     "name": "stdout",
     "output_type": "stream",
     "text": [
      "Rows:183660\n",
      "Cols:2\n",
      "\n",
      "\n"
     ]
    },
    {
     "data": {
      "text/html": [
       "<table>\n",
       "<thead>\n",
       "<tr><th>       </th><th>emp_title                      </th><th>loan_status  </th></tr>\n",
       "</thead>\n",
       "<tbody>\n",
       "<tr><td>type   </td><td>string                         </td><td>string       </td></tr>\n",
       "<tr><td>mins   </td><td>NaN                            </td><td>NaN          </td></tr>\n",
       "<tr><td>mean   </td><td>NaN                            </td><td>NaN          </td></tr>\n",
       "<tr><td>maxs   </td><td>NaN                            </td><td>NaN          </td></tr>\n",
       "<tr><td>sigma  </td><td>NaN                            </td><td>NaN          </td></tr>\n",
       "<tr><td>zeros  </td><td>0                              </td><td>0            </td></tr>\n",
       "<tr><td>missing</td><td>0                              </td><td>0            </td></tr>\n",
       "<tr><td>0      </td><td>Emergency Department technician</td><td>0            </td></tr>\n",
       "<tr><td>1      </td><td>Corporate Insurance            </td><td>0            </td></tr>\n",
       "<tr><td>2      </td><td>Teacher                        </td><td>0            </td></tr>\n",
       "<tr><td>3      </td><td>Regional Sales Direcdtor       </td><td>1            </td></tr>\n",
       "<tr><td>4      </td><td>hvac technician                </td><td>1            </td></tr>\n",
       "<tr><td>5      </td><td>Lead manufacturing             </td><td>0            </td></tr>\n",
       "<tr><td>6      </td><td>Engineer                       </td><td>0            </td></tr>\n",
       "<tr><td>7      </td><td>Contract Specialist            </td><td>0            </td></tr>\n",
       "<tr><td>8      </td><td>Systems Support Engineer       </td><td>0            </td></tr>\n",
       "<tr><td>9      </td><td>Application Analyst            </td><td>0            </td></tr>\n",
       "</tbody>\n",
       "</table>"
      ]
     },
     "metadata": {},
     "output_type": "display_data"
    }
   ],
   "source": [
    "df.describe()"
   ]
  },
  {
   "cell_type": "code",
   "execution_count": 101,
   "metadata": {},
   "outputs": [
    {
     "name": "stdout",
     "output_type": "stream",
     "text": [
      "Checking whether there is an H2O instance running at http://localhost:54321. connected.\n"
     ]
    },
    {
     "data": {
      "text/html": [
       "<div style=\"overflow:auto\"><table style=\"width:50%\"><tr><td>H2O cluster uptime:</td>\n",
       "<td>1 hour 13 mins</td></tr>\n",
       "<tr><td>H2O cluster version:</td>\n",
       "<td>3.16.0.3</td></tr>\n",
       "<tr><td>H2O cluster version age:</td>\n",
       "<td>6 days </td></tr>\n",
       "<tr><td>H2O cluster name:</td>\n",
       "<td>H2O_from_python_darrenklee_zw6bx3</td></tr>\n",
       "<tr><td>H2O cluster total nodes:</td>\n",
       "<td>1</td></tr>\n",
       "<tr><td>H2O cluster free memory:</td>\n",
       "<td>1.510 Gb</td></tr>\n",
       "<tr><td>H2O cluster total cores:</td>\n",
       "<td>4</td></tr>\n",
       "<tr><td>H2O cluster allowed cores:</td>\n",
       "<td>4</td></tr>\n",
       "<tr><td>H2O cluster status:</td>\n",
       "<td>locked, healthy</td></tr>\n",
       "<tr><td>H2O connection url:</td>\n",
       "<td>http://localhost:54321</td></tr>\n",
       "<tr><td>H2O connection proxy:</td>\n",
       "<td>None</td></tr>\n",
       "<tr><td>H2O internal security:</td>\n",
       "<td>False</td></tr>\n",
       "<tr><td>H2O API Extensions:</td>\n",
       "<td>XGBoost, Algos, AutoML, Core V3, Core V4</td></tr>\n",
       "<tr><td>Python version:</td>\n",
       "<td>2.7.13 final</td></tr></table></div>"
      ],
      "text/plain": [
       "--------------------------  ----------------------------------------\n",
       "H2O cluster uptime:         1 hour 13 mins\n",
       "H2O cluster version:        3.16.0.3\n",
       "H2O cluster version age:    6 days\n",
       "H2O cluster name:           H2O_from_python_darrenklee_zw6bx3\n",
       "H2O cluster total nodes:    1\n",
       "H2O cluster free memory:    1.510 Gb\n",
       "H2O cluster total cores:    4\n",
       "H2O cluster allowed cores:  4\n",
       "H2O cluster status:         locked, healthy\n",
       "H2O connection url:         http://localhost:54321\n",
       "H2O connection proxy:\n",
       "H2O internal security:      False\n",
       "H2O API Extensions:         XGBoost, Algos, AutoML, Core V3, Core V4\n",
       "Python version:             2.7.13 final\n",
       "--------------------------  ----------------------------------------"
      ]
     },
     "metadata": {},
     "output_type": "display_data"
    }
   ],
   "source": [
    "import h2o\n",
    "h2o.init()\n",
    "from h2o.estimators.word2vec import H2OWord2vecEstimator\n",
    "from h2o.estimators.gbm import H2OGradientBoostingEstimator"
   ]
  },
  {
   "cell_type": "code",
   "execution_count": null,
   "metadata": {
    "collapsed": true
   },
   "outputs": [],
   "source": []
  },
  {
   "cell_type": "code",
   "execution_count": 102,
   "metadata": {
    "collapsed": true
   },
   "outputs": [],
   "source": [
    "STOP_WORDS = [\"ax\",\"i\",\"you\",\"edu\",\"s\",\"t\",\"m\",\"subject\",\"can\",\"lines\",\"re\",\"what\",\n",
    "               \"there\",\"all\",\"we\",\"one\",\"the\",\"a\",\"an\",\"of\",\"or\",\"in\",\"for\",\"by\",\"on\",\n",
    "               \"but\",\"is\",\"in\",\"a\",\"not\",\"with\",\"as\",\"was\",\"if\",\"they\",\"are\",\"this\",\"and\",\"it\",\"have\",\n",
    "               \"from\",\"at\",\"my\",\"be\",\"by\",\"not\",\"that\",\"to\",\"from\",\"com\",\"org\",\"like\",\"likes\",\"so\"]"
   ]
  },
  {
   "cell_type": "code",
   "execution_count": 103,
   "metadata": {
    "collapsed": true
   },
   "outputs": [],
   "source": [
    "def tokenize(sentences, stop_word = STOP_WORDS):\n",
    "    tokenized = sentences.tokenize(\"\\\\W+\")\n",
    "    tokenized_lower = tokenized.tolower()\n",
    "    tokenized_filtered = tokenized_lower[(tokenized_lower.nchar() >= 2) | (tokenized_lower.isna()),:]\n",
    "    tokenized_words = tokenized_filtered[tokenized_filtered.grep(\"[0-9]\",invert=True,output_logical=True),:]\n",
    "    tokenized_words = tokenized_words[(tokenized_words.isna()) | (~ tokenized_words.isin(STOP_WORDS)),:]\n",
    "    return tokenized_words"
   ]
  },
  {
   "cell_type": "code",
   "execution_count": 104,
   "metadata": {
    "collapsed": true
   },
   "outputs": [],
   "source": [
    "def predict(df,w2v, gbm):\n",
    "    words = tokenize(h2o.H2OFrame(df).ascharacter())\n",
    "    df_vec = w2v.transform(words, aggregate_method=\"AVERAGE\")\n",
    "    print(gbm.predict(test_data=job_title_vec))"
   ]
  },
  {
   "cell_type": "code",
   "execution_count": 105,
   "metadata": {},
   "outputs": [
    {
     "name": "stdout",
     "output_type": "stream",
     "text": [
      "Break job titles into sequence of words\n"
     ]
    }
   ],
   "source": [
    "\n",
    "print(\"Break job titles into sequence of words\")\n",
    "words = tokenize(df[\"emp_title\"])"
   ]
  },
  {
   "cell_type": "code",
   "execution_count": 106,
   "metadata": {},
   "outputs": [
    {
     "name": "stdout",
     "output_type": "stream",
     "text": [
      "Build word2vec model\n",
      "word2vec Model Build progress: |██████████████████████████████████████████| 100%\n"
     ]
    }
   ],
   "source": [
    "print(\"Build word2vec model\")\n",
    "w2v_model = H2OWord2vecEstimator(sent_sample_rate = 0.0, epochs = 10)\n",
    "w2v_model.train(training_frame=words)"
   ]
  },
  {
   "cell_type": "code",
   "execution_count": 138,
   "metadata": {},
   "outputs": [
    {
     "name": "stdout",
     "output_type": "stream",
     "text": [
      "Sanity check - find synonyms for the word 'teacher'\n"
     ]
    },
    {
     "data": {
      "text/plain": [
       "OrderedDict([(u'glazier', 0.7945498824119568),\n",
       "             (u'plumber', 0.7230222821235657),\n",
       "             (u'carpenter', 0.6847513914108276),\n",
       "             (u'blaster', 0.667998194694519),\n",
       "             (u'electrician', 0.6575730443000793),\n",
       "             (u'assembler', 0.6496596932411194),\n",
       "             (u'pipefitter', 0.6402847766876221),\n",
       "             (u'craftsman', 0.6321462392807007),\n",
       "             (u'roofer', 0.6291592121124268),\n",
       "             (u'working', 0.6070107817649841)])"
      ]
     },
     "execution_count": 138,
     "metadata": {},
     "output_type": "execute_result"
    }
   ],
   "source": [
    "print(\"Sanity check - find synonyms for the word 'painter'\")\n",
    "w2v_model.find_synonyms(\"painter\", count = 10)"
   ]
  },
  {
   "cell_type": "code",
   "execution_count": 125,
   "metadata": {},
   "outputs": [
    {
     "name": "stdout",
     "output_type": "stream",
     "text": [
      "Calculate a vector for each emp_title\n"
     ]
    }
   ],
   "source": [
    "print(\"Calculate a vector for each emp_title\")\n",
    "emp_title_vecs = w2v_model.transform(words, aggregate_method = \"AVERAGE\")"
   ]
  },
  {
   "cell_type": "code",
   "execution_count": 152,
   "metadata": {},
   "outputs": [
    {
     "data": {
      "text/plain": [
       "(183660, 102)"
      ]
     },
     "execution_count": 152,
     "metadata": {},
     "output_type": "execute_result"
    }
   ],
   "source": [
    "data2 = df.cbind(emp_title_vecs)\n",
    "data2.shape"
   ]
  },
  {
   "cell_type": "code",
   "execution_count": 126,
   "metadata": {},
   "outputs": [
    {
     "name": "stdout",
     "output_type": "stream",
     "text": [
      "Prepare training&validation data (keep only job titles made of known words)\n"
     ]
    }
   ],
   "source": [
    "print(\"Prepare training&validation data (keep only job titles made of known words)\")\n",
    "valid_emp_titles = ~ emp_title_vecs[\"C1\"].isna()\n",
    "data = df[valid_emp_titles,:].cbind(emp_title_vecs[valid_emp_titles,:])\n",
    "data_split = data.split_frame(ratios=[0.8])"
   ]
  },
  {
   "cell_type": "code",
   "execution_count": 144,
   "metadata": {},
   "outputs": [
    {
     "data": {
      "text/html": [
       "<table>\n",
       "<thead>\n",
       "<tr><th>emp_title                      </th><th style=\"text-align: right;\">  loan_status</th><th style=\"text-align: right;\">        C1</th><th style=\"text-align: right;\">        C2</th><th style=\"text-align: right;\">         C3</th><th style=\"text-align: right;\">        C4</th><th style=\"text-align: right;\">         C5</th><th style=\"text-align: right;\">         C6</th><th style=\"text-align: right;\">        C7</th><th style=\"text-align: right;\">        C8</th><th style=\"text-align: right;\">         C9</th><th style=\"text-align: right;\">       C10</th><th style=\"text-align: right;\">       C11</th><th style=\"text-align: right;\">       C12</th><th style=\"text-align: right;\">        C13</th><th style=\"text-align: right;\">        C14</th><th style=\"text-align: right;\">       C15</th><th style=\"text-align: right;\">       C16</th><th style=\"text-align: right;\">       C17</th><th style=\"text-align: right;\">       C18</th><th style=\"text-align: right;\">       C19</th><th style=\"text-align: right;\">       C20</th><th style=\"text-align: right;\">      C21</th><th style=\"text-align: right;\">        C22</th><th style=\"text-align: right;\">        C23</th><th style=\"text-align: right;\">       C24</th><th style=\"text-align: right;\">       C25</th><th style=\"text-align: right;\">       C26</th><th style=\"text-align: right;\">       C27</th><th style=\"text-align: right;\">       C28</th><th style=\"text-align: right;\">        C29</th><th style=\"text-align: right;\">       C30</th><th style=\"text-align: right;\">         C31</th><th style=\"text-align: right;\">         C32</th><th style=\"text-align: right;\">        C33</th><th style=\"text-align: right;\">       C34</th><th style=\"text-align: right;\">       C35</th><th style=\"text-align: right;\">       C36</th><th style=\"text-align: right;\">       C37</th><th style=\"text-align: right;\">       C38</th><th style=\"text-align: right;\">        C39</th><th style=\"text-align: right;\">       C40</th><th style=\"text-align: right;\">        C41</th><th style=\"text-align: right;\">       C42</th><th style=\"text-align: right;\">        C43</th><th style=\"text-align: right;\">       C44</th><th style=\"text-align: right;\">       C45</th><th style=\"text-align: right;\">       C46</th><th style=\"text-align: right;\">         C47</th><th style=\"text-align: right;\">       C48</th><th style=\"text-align: right;\">       C49</th><th style=\"text-align: right;\">       C50</th><th style=\"text-align: right;\">       C51</th><th style=\"text-align: right;\">       C52</th><th style=\"text-align: right;\">       C53</th><th style=\"text-align: right;\">       C54</th><th style=\"text-align: right;\">       C55</th><th style=\"text-align: right;\">       C56</th><th style=\"text-align: right;\">        C57</th><th style=\"text-align: right;\">       C58</th><th style=\"text-align: right;\">       C59</th><th style=\"text-align: right;\">       C60</th><th style=\"text-align: right;\">       C61</th><th style=\"text-align: right;\">         C62</th><th style=\"text-align: right;\">        C63</th><th style=\"text-align: right;\">       C64</th><th style=\"text-align: right;\">       C65</th><th style=\"text-align: right;\">        C66</th><th style=\"text-align: right;\">       C67</th><th style=\"text-align: right;\">       C68</th><th style=\"text-align: right;\">      C69</th><th style=\"text-align: right;\">        C70</th><th style=\"text-align: right;\">        C71</th><th style=\"text-align: right;\">       C72</th><th style=\"text-align: right;\">         C73</th><th style=\"text-align: right;\">       C74</th><th style=\"text-align: right;\">       C75</th><th style=\"text-align: right;\">      C76</th><th style=\"text-align: right;\">        C77</th><th style=\"text-align: right;\">        C78</th><th style=\"text-align: right;\">       C79</th><th style=\"text-align: right;\">       C80</th><th style=\"text-align: right;\">       C81</th><th style=\"text-align: right;\">       C82</th><th style=\"text-align: right;\">       C83</th><th style=\"text-align: right;\">       C84</th><th style=\"text-align: right;\">       C85</th><th style=\"text-align: right;\">       C86</th><th style=\"text-align: right;\">       C87</th><th style=\"text-align: right;\">       C88</th><th style=\"text-align: right;\">       C89</th><th style=\"text-align: right;\">       C90</th><th style=\"text-align: right;\">        C91</th><th style=\"text-align: right;\">        C92</th><th style=\"text-align: right;\">       C93</th><th style=\"text-align: right;\">       C94</th><th style=\"text-align: right;\">       C95</th><th style=\"text-align: right;\">       C96</th><th style=\"text-align: right;\">       C97</th><th style=\"text-align: right;\">       C98</th><th style=\"text-align: right;\">        C99</th><th style=\"text-align: right;\">      C100</th></tr>\n",
       "</thead>\n",
       "<tbody>\n",
       "<tr><td>Emergency Department technician</td><td style=\"text-align: right;\">            0</td><td style=\"text-align: right;\">-0.237751 </td><td style=\"text-align: right;\">-0.0729316</td><td style=\"text-align: right;\"> 0.0894989 </td><td style=\"text-align: right;\">-0.139048 </td><td style=\"text-align: right;\">-0.182811  </td><td style=\"text-align: right;\"> 0.239338  </td><td style=\"text-align: right;\">0.00941441</td><td style=\"text-align: right;\"> 0.0824646</td><td style=\"text-align: right;\">-0.332516  </td><td style=\"text-align: right;\">-0.344786 </td><td style=\"text-align: right;\"> 0.227957 </td><td style=\"text-align: right;\">-0.193663 </td><td style=\"text-align: right;\"> 0.14162   </td><td style=\"text-align: right;\"> 0.0782099 </td><td style=\"text-align: right;\">-0.317593 </td><td style=\"text-align: right;\"> 0.100721 </td><td style=\"text-align: right;\"> 0.0503919</td><td style=\"text-align: right;\">-0.101892 </td><td style=\"text-align: right;\">-0.380651 </td><td style=\"text-align: right;\">-0.155539 </td><td style=\"text-align: right;\">0.211975 </td><td style=\"text-align: right;\">-0.160445  </td><td style=\"text-align: right;\"> 0.0343821 </td><td style=\"text-align: right;\"> 0.114849 </td><td style=\"text-align: right;\">-0.266019 </td><td style=\"text-align: right;\">-0.17087  </td><td style=\"text-align: right;\">-0.0313839</td><td style=\"text-align: right;\"> 0.0446568</td><td style=\"text-align: right;\">-0.163996  </td><td style=\"text-align: right;\"> 0.0782537</td><td style=\"text-align: right;\"> 0.160748   </td><td style=\"text-align: right;\">-0.0504089  </td><td style=\"text-align: right;\">-0.128587  </td><td style=\"text-align: right;\"> 0.406312 </td><td style=\"text-align: right;\"> 0.119234 </td><td style=\"text-align: right;\">-0.0112055</td><td style=\"text-align: right;\"> 0.132531 </td><td style=\"text-align: right;\"> 0.0268563</td><td style=\"text-align: right;\">-0.090749  </td><td style=\"text-align: right;\"> 0.220527 </td><td style=\"text-align: right;\">-0.00394953</td><td style=\"text-align: right;\"> 0.443641 </td><td style=\"text-align: right;\">-0.169868  </td><td style=\"text-align: right;\">-0.156508 </td><td style=\"text-align: right;\"> 0.0884958</td><td style=\"text-align: right;\">-0.0816054</td><td style=\"text-align: right;\"> 0.189869   </td><td style=\"text-align: right;\"> 0.0377647</td><td style=\"text-align: right;\"> 0.0448495</td><td style=\"text-align: right;\"> 0.0268733</td><td style=\"text-align: right;\">-0.0199931</td><td style=\"text-align: right;\">-0.514803 </td><td style=\"text-align: right;\"> 0.117256 </td><td style=\"text-align: right;\">-0.0347837</td><td style=\"text-align: right;\">-0.330134 </td><td style=\"text-align: right;\"> 0.241807 </td><td style=\"text-align: right;\">-0.00643388</td><td style=\"text-align: right;\">-0.573299 </td><td style=\"text-align: right;\">-0.128931 </td><td style=\"text-align: right;\"> 0.0943115</td><td style=\"text-align: right;\">-0.218511 </td><td style=\"text-align: right;\"> 0.3349     </td><td style=\"text-align: right;\"> 0.163035  </td><td style=\"text-align: right;\">-0.114219 </td><td style=\"text-align: right;\"> 0.121819 </td><td style=\"text-align: right;\"> 0.0171678 </td><td style=\"text-align: right;\"> 0.0486514</td><td style=\"text-align: right;\">-0.173862 </td><td style=\"text-align: right;\"> 0.149217</td><td style=\"text-align: right;\"> 0.356777  </td><td style=\"text-align: right;\"> 0.0638926 </td><td style=\"text-align: right;\">-0.0508236</td><td style=\"text-align: right;\">-0.249609   </td><td style=\"text-align: right;\">-0.118606 </td><td style=\"text-align: right;\"> 0.268285 </td><td style=\"text-align: right;\"> 0.135556</td><td style=\"text-align: right;\">-0.153362  </td><td style=\"text-align: right;\">-0.185457  </td><td style=\"text-align: right;\"> 0.129406 </td><td style=\"text-align: right;\"> 0.199583 </td><td style=\"text-align: right;\">-0.179948 </td><td style=\"text-align: right;\">-0.0128305</td><td style=\"text-align: right;\"> 0.109334 </td><td style=\"text-align: right;\"> 0.0762421</td><td style=\"text-align: right;\">-0.148976 </td><td style=\"text-align: right;\"> 0.162148 </td><td style=\"text-align: right;\"> 0.184708 </td><td style=\"text-align: right;\"> 0.0413629</td><td style=\"text-align: right;\">-0.0431332</td><td style=\"text-align: right;\"> 0.146621 </td><td style=\"text-align: right;\"> 0.0263277 </td><td style=\"text-align: right;\">-0.0819337 </td><td style=\"text-align: right;\"> 0.0930371</td><td style=\"text-align: right;\">-0.240905 </td><td style=\"text-align: right;\">-0.0900113</td><td style=\"text-align: right;\"> 0.0637557</td><td style=\"text-align: right;\">-0.258116 </td><td style=\"text-align: right;\">-0.550784 </td><td style=\"text-align: right;\">-0.072068  </td><td style=\"text-align: right;\"> 0.314838 </td></tr>\n",
       "<tr><td>Corporate Insurance            </td><td style=\"text-align: right;\">            0</td><td style=\"text-align: right;\"> 0.136679 </td><td style=\"text-align: right;\">-0.144567 </td><td style=\"text-align: right;\">-0.219635  </td><td style=\"text-align: right;\"> 0.176496 </td><td style=\"text-align: right;\"> 0.0589623 </td><td style=\"text-align: right;\"> 0.115669  </td><td style=\"text-align: right;\">0.0956495 </td><td style=\"text-align: right;\"> 0.240872 </td><td style=\"text-align: right;\">-0.316507  </td><td style=\"text-align: right;\">-0.125302 </td><td style=\"text-align: right;\"> 0.225058 </td><td style=\"text-align: right;\"> 0.160342 </td><td style=\"text-align: right;\">-0.163577  </td><td style=\"text-align: right;\"> 0.0327881 </td><td style=\"text-align: right;\">-0.153917 </td><td style=\"text-align: right;\">-0.155174 </td><td style=\"text-align: right;\"> 0.0310965</td><td style=\"text-align: right;\">-0.198121 </td><td style=\"text-align: right;\"> 0.23992  </td><td style=\"text-align: right;\">-0.1159   </td><td style=\"text-align: right;\">0.349041 </td><td style=\"text-align: right;\">-0.119669  </td><td style=\"text-align: right;\">-0.147016  </td><td style=\"text-align: right;\"> 0.345455 </td><td style=\"text-align: right;\">-0.477145 </td><td style=\"text-align: right;\"> 0.112978 </td><td style=\"text-align: right;\"> 0.45149  </td><td style=\"text-align: right;\">-0.3525   </td><td style=\"text-align: right;\"> 0.0841605 </td><td style=\"text-align: right;\"> 0.0959851</td><td style=\"text-align: right;\"> 0.154836   </td><td style=\"text-align: right;\"> 0.151768   </td><td style=\"text-align: right;\"> 0.365497  </td><td style=\"text-align: right;\">-0.146185 </td><td style=\"text-align: right;\"> 0.241859 </td><td style=\"text-align: right;\">-0.0574159</td><td style=\"text-align: right;\"> 0.219442 </td><td style=\"text-align: right;\"> 0.165528 </td><td style=\"text-align: right;\">-0.0866035 </td><td style=\"text-align: right;\">-0.408591 </td><td style=\"text-align: right;\"> 0.327945  </td><td style=\"text-align: right;\"> 0.772904 </td><td style=\"text-align: right;\">-0.00804143</td><td style=\"text-align: right;\">-0.36964  </td><td style=\"text-align: right;\"> 0.229165 </td><td style=\"text-align: right;\">-0.0881138</td><td style=\"text-align: right;\"> 0.115113   </td><td style=\"text-align: right;\"> 0.167157 </td><td style=\"text-align: right;\"> 0.128234 </td><td style=\"text-align: right;\">-0.280985 </td><td style=\"text-align: right;\">-0.213696 </td><td style=\"text-align: right;\"> 0.116153 </td><td style=\"text-align: right;\">-0.52627  </td><td style=\"text-align: right;\"> 0.225373 </td><td style=\"text-align: right;\">-0.333489 </td><td style=\"text-align: right;\"> 0.0850746</td><td style=\"text-align: right;\"> 0.123853  </td><td style=\"text-align: right;\">-0.105959 </td><td style=\"text-align: right;\"> 0.343277 </td><td style=\"text-align: right;\">-0.0378136</td><td style=\"text-align: right;\"> 0.306728 </td><td style=\"text-align: right;\"> 0.137913   </td><td style=\"text-align: right;\"> 0.130111  </td><td style=\"text-align: right;\"> 0.390109 </td><td style=\"text-align: right;\">-0.0933352</td><td style=\"text-align: right;\">-0.00156192</td><td style=\"text-align: right;\">-0.131371 </td><td style=\"text-align: right;\">-0.284189 </td><td style=\"text-align: right;\"> 0.190074</td><td style=\"text-align: right;\">-0.178177  </td><td style=\"text-align: right;\">-0.35391   </td><td style=\"text-align: right;\">-0.0950503</td><td style=\"text-align: right;\"> 0.353733   </td><td style=\"text-align: right;\">-0.348374 </td><td style=\"text-align: right;\"> 0.0182431</td><td style=\"text-align: right;\"> 0.117761</td><td style=\"text-align: right;\"> 0.14017   </td><td style=\"text-align: right;\"> 0.120819  </td><td style=\"text-align: right;\"> 0.275642 </td><td style=\"text-align: right;\"> 0.300094 </td><td style=\"text-align: right;\"> 0.273035 </td><td style=\"text-align: right;\">-0.416597 </td><td style=\"text-align: right;\"> 0.177683 </td><td style=\"text-align: right;\">-0.145328 </td><td style=\"text-align: right;\"> 0.0676711</td><td style=\"text-align: right;\">-0.0101007</td><td style=\"text-align: right;\">-0.0448569</td><td style=\"text-align: right;\">-0.0682249</td><td style=\"text-align: right;\"> 0.62681  </td><td style=\"text-align: right;\">-0.106503 </td><td style=\"text-align: right;\"> 0.00962499</td><td style=\"text-align: right;\">-0.216761  </td><td style=\"text-align: right;\">-0.132466 </td><td style=\"text-align: right;\"> 0.0869347</td><td style=\"text-align: right;\"> 0.115855 </td><td style=\"text-align: right;\">-0.268649 </td><td style=\"text-align: right;\">-0.298816 </td><td style=\"text-align: right;\"> 0.18687  </td><td style=\"text-align: right;\"> 0.140972  </td><td style=\"text-align: right;\"> 0.203839 </td></tr>\n",
       "<tr><td>Teacher                        </td><td style=\"text-align: right;\">            0</td><td style=\"text-align: right;\">-0.420405 </td><td style=\"text-align: right;\"> 0.337638 </td><td style=\"text-align: right;\">-0.0418651 </td><td style=\"text-align: right;\">-0.713847 </td><td style=\"text-align: right;\">-0.55096   </td><td style=\"text-align: right;\"> 0.108866  </td><td style=\"text-align: right;\">0.171319  </td><td style=\"text-align: right;\">-0.330193 </td><td style=\"text-align: right;\">-0.873747  </td><td style=\"text-align: right;\"> 0.549869 </td><td style=\"text-align: right;\"> 0.0328137</td><td style=\"text-align: right;\">-0.0576892</td><td style=\"text-align: right;\"> 0.365431  </td><td style=\"text-align: right;\">-0.00504889</td><td style=\"text-align: right;\">-0.421131 </td><td style=\"text-align: right;\">-0.0436886</td><td style=\"text-align: right;\">-0.313658 </td><td style=\"text-align: right;\"> 0.309085 </td><td style=\"text-align: right;\"> 0.411751 </td><td style=\"text-align: right;\"> 0.0619689</td><td style=\"text-align: right;\">0.0512558</td><td style=\"text-align: right;\">-0.0219861 </td><td style=\"text-align: right;\">-0.416153  </td><td style=\"text-align: right;\">-0.897691 </td><td style=\"text-align: right;\"> 0.146338 </td><td style=\"text-align: right;\">-0.54097  </td><td style=\"text-align: right;\">-0.681878 </td><td style=\"text-align: right;\">-0.821806 </td><td style=\"text-align: right;\"> 0.421511  </td><td style=\"text-align: right;\">-0.0488635</td><td style=\"text-align: right;\"> 0.644557   </td><td style=\"text-align: right;\"> 0.000863975</td><td style=\"text-align: right;\"> 0.373951  </td><td style=\"text-align: right;\">-0.39089  </td><td style=\"text-align: right;\">-0.479522 </td><td style=\"text-align: right;\">-0.7585   </td><td style=\"text-align: right;\"> 0.164389 </td><td style=\"text-align: right;\"> 0.116286 </td><td style=\"text-align: right;\">-0.0350933 </td><td style=\"text-align: right;\">-0.486592 </td><td style=\"text-align: right;\">-0.781227  </td><td style=\"text-align: right;\"> 0.199507 </td><td style=\"text-align: right;\">-0.556219  </td><td style=\"text-align: right;\">-0.509122 </td><td style=\"text-align: right;\"> 0.499199 </td><td style=\"text-align: right;\">-0.143516 </td><td style=\"text-align: right;\"> 0.181543   </td><td style=\"text-align: right;\">-0.160599 </td><td style=\"text-align: right;\"> 0.295796 </td><td style=\"text-align: right;\">-0.523104 </td><td style=\"text-align: right;\">-0.217884 </td><td style=\"text-align: right;\">-0.264076 </td><td style=\"text-align: right;\"> 0.592124 </td><td style=\"text-align: right;\">-1.00842  </td><td style=\"text-align: right;\">-0.158945 </td><td style=\"text-align: right;\"> 0.221271 </td><td style=\"text-align: right;\">-0.50484   </td><td style=\"text-align: right;\"> 0.758098 </td><td style=\"text-align: right;\">-0.0792309</td><td style=\"text-align: right;\"> 0.420502 </td><td style=\"text-align: right;\">-0.549695 </td><td style=\"text-align: right;\">-0.46556    </td><td style=\"text-align: right;\">-0.305701  </td><td style=\"text-align: right;\">-0.659274 </td><td style=\"text-align: right;\">-0.485684 </td><td style=\"text-align: right;\">-0.330519  </td><td style=\"text-align: right;\"> 0.266906 </td><td style=\"text-align: right;\">-0.631643 </td><td style=\"text-align: right;\"> 0.483587</td><td style=\"text-align: right;\"> 0.674028  </td><td style=\"text-align: right;\"> 0.192482  </td><td style=\"text-align: right;\">-0.184162 </td><td style=\"text-align: right;\">-0.38473    </td><td style=\"text-align: right;\"> 0.122553 </td><td style=\"text-align: right;\">-0.371431 </td><td style=\"text-align: right;\">-0.415303</td><td style=\"text-align: right;\"> 0.0378919 </td><td style=\"text-align: right;\">-0.00271226</td><td style=\"text-align: right;\">-0.412394 </td><td style=\"text-align: right;\"> 0.0226645</td><td style=\"text-align: right;\">-0.179652 </td><td style=\"text-align: right;\">-0.0218947</td><td style=\"text-align: right;\"> 0.131175 </td><td style=\"text-align: right;\"> 0.730714 </td><td style=\"text-align: right;\">-0.695195 </td><td style=\"text-align: right;\">-0.416138 </td><td style=\"text-align: right;\">-0.524377 </td><td style=\"text-align: right;\">-0.219182 </td><td style=\"text-align: right;\"> 0.014905 </td><td style=\"text-align: right;\">-0.336285 </td><td style=\"text-align: right;\"> 0.520902  </td><td style=\"text-align: right;\"> 0.33412   </td><td style=\"text-align: right;\">-0.838555 </td><td style=\"text-align: right;\"> 0.173891 </td><td style=\"text-align: right;\">-0.727107 </td><td style=\"text-align: right;\">-0.246951 </td><td style=\"text-align: right;\">-0.474045 </td><td style=\"text-align: right;\">-0.0591594</td><td style=\"text-align: right;\"> 0.952233  </td><td style=\"text-align: right;\"> 0.324939 </td></tr>\n",
       "<tr><td>Regional Sales Direcdtor       </td><td style=\"text-align: right;\">            1</td><td style=\"text-align: right;\"> 0.398176 </td><td style=\"text-align: right;\"> 0.0716235</td><td style=\"text-align: right;\">-0.295504  </td><td style=\"text-align: right;\"> 0.082468 </td><td style=\"text-align: right;\"> 0.415381  </td><td style=\"text-align: right;\">-0.258422  </td><td style=\"text-align: right;\">0.184185  </td><td style=\"text-align: right;\">-0.0737997</td><td style=\"text-align: right;\"> 0.490681  </td><td style=\"text-align: right;\">-0.207707 </td><td style=\"text-align: right;\"> 0.371796 </td><td style=\"text-align: right;\">-0.22867  </td><td style=\"text-align: right;\">-0.102725  </td><td style=\"text-align: right;\">-0.0743461 </td><td style=\"text-align: right;\">-0.311047 </td><td style=\"text-align: right;\"> 0.0111619</td><td style=\"text-align: right;\"> 0.256179 </td><td style=\"text-align: right;\"> 0.104013 </td><td style=\"text-align: right;\"> 0.0728996</td><td style=\"text-align: right;\">-0.0256856</td><td style=\"text-align: right;\">0.0853533</td><td style=\"text-align: right;\">-0.00739908</td><td style=\"text-align: right;\"> 0.0527599 </td><td style=\"text-align: right;\"> 0.116054 </td><td style=\"text-align: right;\">-0.281037 </td><td style=\"text-align: right;\">-0.0478498</td><td style=\"text-align: right;\"> 0.229697 </td><td style=\"text-align: right;\">-0.133704 </td><td style=\"text-align: right;\"> 0.105423  </td><td style=\"text-align: right;\"> 0.229776 </td><td style=\"text-align: right;\">-0.000675047</td><td style=\"text-align: right;\"> 0.182249   </td><td style=\"text-align: right;\"> 0.144669  </td><td style=\"text-align: right;\"> 0.405736 </td><td style=\"text-align: right;\"> 0.358409 </td><td style=\"text-align: right;\">-0.125551 </td><td style=\"text-align: right;\"> 0.0174678</td><td style=\"text-align: right;\"> 0.251763 </td><td style=\"text-align: right;\">-0.354572  </td><td style=\"text-align: right;\">-0.0957421</td><td style=\"text-align: right;\">-0.24682   </td><td style=\"text-align: right;\">-0.0757709</td><td style=\"text-align: right;\">-0.149326  </td><td style=\"text-align: right;\">-0.0373113</td><td style=\"text-align: right;\">-0.0524477</td><td style=\"text-align: right;\"> 0.0217119</td><td style=\"text-align: right;\"> 0.289294   </td><td style=\"text-align: right;\"> 0.163319 </td><td style=\"text-align: right;\"> 0.177032 </td><td style=\"text-align: right;\">-0.066881 </td><td style=\"text-align: right;\">-0.06129  </td><td style=\"text-align: right;\"> 0.036511 </td><td style=\"text-align: right;\">-0.194871 </td><td style=\"text-align: right;\"> 0.0516559</td><td style=\"text-align: right;\"> 0.0516741</td><td style=\"text-align: right;\"> 0.481722 </td><td style=\"text-align: right;\">-0.269713  </td><td style=\"text-align: right;\"> 0.0924776</td><td style=\"text-align: right;\"> 0.0516088</td><td style=\"text-align: right;\"> 0.240429 </td><td style=\"text-align: right;\"> 0.262264 </td><td style=\"text-align: right;\"> 0.0758954  </td><td style=\"text-align: right;\"> 0.124252  </td><td style=\"text-align: right;\">-0.0293645</td><td style=\"text-align: right;\">-0.13306  </td><td style=\"text-align: right;\">-0.013596  </td><td style=\"text-align: right;\">-0.0489953</td><td style=\"text-align: right;\">-0.30802  </td><td style=\"text-align: right;\"> 0.108015</td><td style=\"text-align: right;\"> 0.00581424</td><td style=\"text-align: right;\"> 0.0800567 </td><td style=\"text-align: right;\"> 0.0812842</td><td style=\"text-align: right;\"> 0.143877   </td><td style=\"text-align: right;\"> 0.0814111</td><td style=\"text-align: right;\"> 0.145227 </td><td style=\"text-align: right;\"> 0.264934</td><td style=\"text-align: right;\">-0.260739  </td><td style=\"text-align: right;\"> 0.1226    </td><td style=\"text-align: right;\"> 0.0762803</td><td style=\"text-align: right;\">-0.0323156</td><td style=\"text-align: right;\"> 0.0655467</td><td style=\"text-align: right;\">-0.0504784</td><td style=\"text-align: right;\"> 0.141709 </td><td style=\"text-align: right;\"> 0.0730022</td><td style=\"text-align: right;\"> 0.126606 </td><td style=\"text-align: right;\"> 0.020015 </td><td style=\"text-align: right;\">-0.055066 </td><td style=\"text-align: right;\">-0.173311 </td><td style=\"text-align: right;\"> 0.37401  </td><td style=\"text-align: right;\">-0.0619877</td><td style=\"text-align: right;\">-0.0926827 </td><td style=\"text-align: right;\">-0.258902  </td><td style=\"text-align: right;\">-0.0123698</td><td style=\"text-align: right;\">-0.316318 </td><td style=\"text-align: right;\"> 0.367773 </td><td style=\"text-align: right;\"> 0.0356743</td><td style=\"text-align: right;\"> 0.075773 </td><td style=\"text-align: right;\"> 0.139615 </td><td style=\"text-align: right;\"> 0.108686  </td><td style=\"text-align: right;\"> 0.422246 </td></tr>\n",
       "<tr><td>hvac technician                </td><td style=\"text-align: right;\">            1</td><td style=\"text-align: right;\">-0.212824 </td><td style=\"text-align: right;\">-0.113866 </td><td style=\"text-align: right;\"> 0.238909  </td><td style=\"text-align: right;\"> 0.357511 </td><td style=\"text-align: right;\">-0.287052  </td><td style=\"text-align: right;\">-0.00832681</td><td style=\"text-align: right;\">0.352402  </td><td style=\"text-align: right;\"> 0.0994346</td><td style=\"text-align: right;\">-0.37568   </td><td style=\"text-align: right;\">-0.141079 </td><td style=\"text-align: right;\">-0.141427 </td><td style=\"text-align: right;\">-0.147803 </td><td style=\"text-align: right;\">-0.00987143</td><td style=\"text-align: right;\"> 0.0461876 </td><td style=\"text-align: right;\">-0.428041 </td><td style=\"text-align: right;\"> 0.405577 </td><td style=\"text-align: right;\">-0.268525 </td><td style=\"text-align: right;\">-0.069638 </td><td style=\"text-align: right;\">-0.221971 </td><td style=\"text-align: right;\"> 0.198546 </td><td style=\"text-align: right;\">0.101741 </td><td style=\"text-align: right;\">-0.085888  </td><td style=\"text-align: right;\"> 0.306565  </td><td style=\"text-align: right;\"> 0.204161 </td><td style=\"text-align: right;\"> 0.0575542</td><td style=\"text-align: right;\">-0.0563551</td><td style=\"text-align: right;\">-0.084572 </td><td style=\"text-align: right;\"> 0.446016 </td><td style=\"text-align: right;\">-0.0450018 </td><td style=\"text-align: right;\">-0.0933209</td><td style=\"text-align: right;\"> 0.215862   </td><td style=\"text-align: right;\">-0.198794   </td><td style=\"text-align: right;\">-0.198299  </td><td style=\"text-align: right;\"> 0.509787 </td><td style=\"text-align: right;\">-0.232565 </td><td style=\"text-align: right;\"> 0.330041 </td><td style=\"text-align: right;\">-0.161348 </td><td style=\"text-align: right;\">-0.132127 </td><td style=\"text-align: right;\">-0.566176  </td><td style=\"text-align: right;\"> 0.270611 </td><td style=\"text-align: right;\"> 0.0947441 </td><td style=\"text-align: right;\"> 0.587291 </td><td style=\"text-align: right;\">-0.118882  </td><td style=\"text-align: right;\">-0.0981318</td><td style=\"text-align: right;\"> 0.278887 </td><td style=\"text-align: right;\"> 0.152655 </td><td style=\"text-align: right;\">-0.13732    </td><td style=\"text-align: right;\"> 0.286077 </td><td style=\"text-align: right;\">-0.493493 </td><td style=\"text-align: right;\">-0.13369  </td><td style=\"text-align: right;\"> 0.163839 </td><td style=\"text-align: right;\">-0.529656 </td><td style=\"text-align: right;\">-0.341545 </td><td style=\"text-align: right;\">-0.178871 </td><td style=\"text-align: right;\">-0.0743705</td><td style=\"text-align: right;\"> 0.3972   </td><td style=\"text-align: right;\">-0.273283  </td><td style=\"text-align: right;\">-0.204732 </td><td style=\"text-align: right;\"> 0.0520847</td><td style=\"text-align: right;\"> 0.189519 </td><td style=\"text-align: right;\">-0.503988 </td><td style=\"text-align: right;\"> 0.259151   </td><td style=\"text-align: right;\"> 0.0996019 </td><td style=\"text-align: right;\"> 0.032785 </td><td style=\"text-align: right;\"> 0.0619611</td><td style=\"text-align: right;\"> 0.409164  </td><td style=\"text-align: right;\"> 0.307695 </td><td style=\"text-align: right;\">-0.0623976</td><td style=\"text-align: right;\">-0.219813</td><td style=\"text-align: right;\"> 0.478638  </td><td style=\"text-align: right;\"> 0.0975299 </td><td style=\"text-align: right;\">-0.153238 </td><td style=\"text-align: right;\">-0.37579    </td><td style=\"text-align: right;\">-0.212904 </td><td style=\"text-align: right;\"> 0.113359 </td><td style=\"text-align: right;\"> 0.190329</td><td style=\"text-align: right;\">-0.411136  </td><td style=\"text-align: right;\"> 0.0564018 </td><td style=\"text-align: right;\">-0.0763657</td><td style=\"text-align: right;\"> 0.18912  </td><td style=\"text-align: right;\">-0.1551   </td><td style=\"text-align: right;\">-0.139509 </td><td style=\"text-align: right;\">-0.205682 </td><td style=\"text-align: right;\">-0.207922 </td><td style=\"text-align: right;\"> 0.0434312</td><td style=\"text-align: right;\"> 0.243771 </td><td style=\"text-align: right;\"> 0.210408 </td><td style=\"text-align: right;\">-0.348253 </td><td style=\"text-align: right;\"> 0.0809473</td><td style=\"text-align: right;\"> 0.503262 </td><td style=\"text-align: right;\">-0.184388  </td><td style=\"text-align: right;\"> 0.122519  </td><td style=\"text-align: right;\"> 0.265062 </td><td style=\"text-align: right;\">-0.325889 </td><td style=\"text-align: right;\">-0.0642895</td><td style=\"text-align: right;\"> 0.019013 </td><td style=\"text-align: right;\"> 0.0932365</td><td style=\"text-align: right;\">-0.25059  </td><td style=\"text-align: right;\">-0.0891076 </td><td style=\"text-align: right;\"> 0.0415649</td></tr>\n",
       "<tr><td>Lead manufacturing             </td><td style=\"text-align: right;\">            0</td><td style=\"text-align: right;\"> 0.0680732</td><td style=\"text-align: right;\">-0.159856 </td><td style=\"text-align: right;\">-0.0654807 </td><td style=\"text-align: right;\"> 0.188518 </td><td style=\"text-align: right;\">-0.0399866 </td><td style=\"text-align: right;\">-0.555612  </td><td style=\"text-align: right;\">0.204821  </td><td style=\"text-align: right;\">-0.130744 </td><td style=\"text-align: right;\">-0.0383909 </td><td style=\"text-align: right;\">-0.181632 </td><td style=\"text-align: right;\"> 0.114323 </td><td style=\"text-align: right;\">-0.169012 </td><td style=\"text-align: right;\">-0.256556  </td><td style=\"text-align: right;\">-0.0222704 </td><td style=\"text-align: right;\">-0.0245958</td><td style=\"text-align: right;\"> 0.0258956</td><td style=\"text-align: right;\"> 0.104345 </td><td style=\"text-align: right;\">-0.116415 </td><td style=\"text-align: right;\">-0.0895325</td><td style=\"text-align: right;\">-0.0269214</td><td style=\"text-align: right;\">0.177575 </td><td style=\"text-align: right;\">-0.140527  </td><td style=\"text-align: right;\">-0.0870932 </td><td style=\"text-align: right;\"> 0.263223 </td><td style=\"text-align: right;\"> 0.297084 </td><td style=\"text-align: right;\">-0.237988 </td><td style=\"text-align: right;\">-0.170505 </td><td style=\"text-align: right;\"> 0.213833 </td><td style=\"text-align: right;\">-0.102811  </td><td style=\"text-align: right;\"> 0.178548 </td><td style=\"text-align: right;\"> 0.179535   </td><td style=\"text-align: right;\"> 0.0621667  </td><td style=\"text-align: right;\">-0.308095  </td><td style=\"text-align: right;\">-0.0987662</td><td style=\"text-align: right;\"> 0.0597309</td><td style=\"text-align: right;\">-0.115749 </td><td style=\"text-align: right;\">-0.121424 </td><td style=\"text-align: right;\"> 0.285265 </td><td style=\"text-align: right;\">-0.00703202</td><td style=\"text-align: right;\">-0.0987914</td><td style=\"text-align: right;\"> 0.0529274 </td><td style=\"text-align: right;\">-0.264932 </td><td style=\"text-align: right;\"> 0.0826302 </td><td style=\"text-align: right;\"> 0.0116705</td><td style=\"text-align: right;\"> 0.126316 </td><td style=\"text-align: right;\"> 0.072078 </td><td style=\"text-align: right;\">-0.105755   </td><td style=\"text-align: right;\"> 0.186419 </td><td style=\"text-align: right;\"> 0.0309582</td><td style=\"text-align: right;\">-0.047685 </td><td style=\"text-align: right;\"> 0.111183 </td><td style=\"text-align: right;\">-0.485062 </td><td style=\"text-align: right;\">-0.0955053</td><td style=\"text-align: right;\">-0.268279 </td><td style=\"text-align: right;\"> 0.10279  </td><td style=\"text-align: right;\">-0.114846 </td><td style=\"text-align: right;\">-0.177691  </td><td style=\"text-align: right;\"> 0.0327783</td><td style=\"text-align: right;\">-0.193541 </td><td style=\"text-align: right;\">-0.0575981</td><td style=\"text-align: right;\"> 0.0337624</td><td style=\"text-align: right;\"> 0.249736   </td><td style=\"text-align: right;\"> 0.00107761</td><td style=\"text-align: right;\">-0.0318207</td><td style=\"text-align: right;\">-0.0111274</td><td style=\"text-align: right;\"> 0.234071  </td><td style=\"text-align: right;\"> 0.131584 </td><td style=\"text-align: right;\">-0.173733 </td><td style=\"text-align: right;\"> 0.184368</td><td style=\"text-align: right;\"> 0.127015  </td><td style=\"text-align: right;\">-0.12085   </td><td style=\"text-align: right;\"> 0.0125986</td><td style=\"text-align: right;\"> 0.43148    </td><td style=\"text-align: right;\">-0.215699 </td><td style=\"text-align: right;\"> 0.0539528</td><td style=\"text-align: right;\"> 0.189225</td><td style=\"text-align: right;\">-0.111726  </td><td style=\"text-align: right;\"> 0.287554  </td><td style=\"text-align: right;\"> 0.0520448</td><td style=\"text-align: right;\"> 0.265933 </td><td style=\"text-align: right;\"> 0.486666 </td><td style=\"text-align: right;\">-0.253434 </td><td style=\"text-align: right;\">-0.0454413</td><td style=\"text-align: right;\"> 0.12524  </td><td style=\"text-align: right;\">-0.0710634</td><td style=\"text-align: right;\"> 0.0109541</td><td style=\"text-align: right;\"> 0.177445 </td><td style=\"text-align: right;\">-0.359155 </td><td style=\"text-align: right;\"> 0.0897875</td><td style=\"text-align: right;\"> 0.305256 </td><td style=\"text-align: right;\">-0.109186  </td><td style=\"text-align: right;\">-0.00403148</td><td style=\"text-align: right;\">-0.0712729</td><td style=\"text-align: right;\"> 0.026817 </td><td style=\"text-align: right;\"> 0.182758 </td><td style=\"text-align: right;\"> 0.509435 </td><td style=\"text-align: right;\"> 0.186689 </td><td style=\"text-align: right;\">-0.488411 </td><td style=\"text-align: right;\"> 0.110295  </td><td style=\"text-align: right;\">-0.15809  </td></tr>\n",
       "<tr><td>Engineer                       </td><td style=\"text-align: right;\">            0</td><td style=\"text-align: right;\"> 0.0432906</td><td style=\"text-align: right;\">-0.280989 </td><td style=\"text-align: right;\">-0.26634   </td><td style=\"text-align: right;\"> 0.592988 </td><td style=\"text-align: right;\"> 0.175916  </td><td style=\"text-align: right;\">-0.22695   </td><td style=\"text-align: right;\">0.227675  </td><td style=\"text-align: right;\">-0.235035 </td><td style=\"text-align: right;\"> 0.327391  </td><td style=\"text-align: right;\"> 0.0547116</td><td style=\"text-align: right;\">-0.111492 </td><td style=\"text-align: right;\">-0.413858 </td><td style=\"text-align: right;\">-0.432478  </td><td style=\"text-align: right;\">-0.0410874 </td><td style=\"text-align: right;\"> 0.552479 </td><td style=\"text-align: right;\"> 0.453357 </td><td style=\"text-align: right;\">-0.024748 </td><td style=\"text-align: right;\"> 0.0332593</td><td style=\"text-align: right;\">-0.583987 </td><td style=\"text-align: right;\">-0.152869 </td><td style=\"text-align: right;\">0.568207 </td><td style=\"text-align: right;\">-0.067148  </td><td style=\"text-align: right;\">-0.16812   </td><td style=\"text-align: right;\">-0.144658 </td><td style=\"text-align: right;\"> 0.0173439</td><td style=\"text-align: right;\">-0.0620938</td><td style=\"text-align: right;\"> 0.196309 </td><td style=\"text-align: right;\"> 0.921263 </td><td style=\"text-align: right;\">-0.00786382</td><td style=\"text-align: right;\">-0.0807914</td><td style=\"text-align: right;\">-0.585245   </td><td style=\"text-align: right;\">-0.427552   </td><td style=\"text-align: right;\">-0.426994  </td><td style=\"text-align: right;\">-0.246288 </td><td style=\"text-align: right;\">-0.214203 </td><td style=\"text-align: right;\">-0.269895 </td><td style=\"text-align: right;\">-0.427617 </td><td style=\"text-align: right;\">-0.333581 </td><td style=\"text-align: right;\"> 0.174216  </td><td style=\"text-align: right;\"> 0.229601 </td><td style=\"text-align: right;\"> 0.636433  </td><td style=\"text-align: right;\"> 0.878366 </td><td style=\"text-align: right;\"> 0.244099  </td><td style=\"text-align: right;\">-0.121457 </td><td style=\"text-align: right;\">-0.163686 </td><td style=\"text-align: right;\"> 0.11907  </td><td style=\"text-align: right;\">-0.000216687</td><td style=\"text-align: right;\"> 0.24091  </td><td style=\"text-align: right;\">-0.615335 </td><td style=\"text-align: right;\">-0.104063 </td><td style=\"text-align: right;\">-0.0217467</td><td style=\"text-align: right;\">-0.072378 </td><td style=\"text-align: right;\">-0.451811 </td><td style=\"text-align: right;\"> 0.0361581</td><td style=\"text-align: right;\">-0.315426 </td><td style=\"text-align: right;\"> 0.305117 </td><td style=\"text-align: right;\">-0.0902097 </td><td style=\"text-align: right;\">-0.0379103</td><td style=\"text-align: right;\">-0.344062 </td><td style=\"text-align: right;\"> 0.5646   </td><td style=\"text-align: right;\">-0.369861 </td><td style=\"text-align: right;\">-0.321474   </td><td style=\"text-align: right;\">-0.125033  </td><td style=\"text-align: right;\">-0.697259 </td><td style=\"text-align: right;\">-0.380082 </td><td style=\"text-align: right;\"> 0.318876  </td><td style=\"text-align: right;\"> 0.515675 </td><td style=\"text-align: right;\">-0.440788 </td><td style=\"text-align: right;\"> 0.124273</td><td style=\"text-align: right;\">-0.147038  </td><td style=\"text-align: right;\"> 0.269242  </td><td style=\"text-align: right;\">-0.390634 </td><td style=\"text-align: right;\">-0.000580059</td><td style=\"text-align: right;\"> 0.0678039</td><td style=\"text-align: right;\"> 0.0253659</td><td style=\"text-align: right;\"> 0.480072</td><td style=\"text-align: right;\">-0.413799  </td><td style=\"text-align: right;\">-0.026174  </td><td style=\"text-align: right;\">-0.398679 </td><td style=\"text-align: right;\"> 0.275476 </td><td style=\"text-align: right;\"> 0.417214 </td><td style=\"text-align: right;\"> 0.119687 </td><td style=\"text-align: right;\">-0.0534679</td><td style=\"text-align: right;\"> 0.384587 </td><td style=\"text-align: right;\">-0.36488  </td><td style=\"text-align: right;\">-0.27703  </td><td style=\"text-align: right;\"> 0.210551 </td><td style=\"text-align: right;\">-0.320878 </td><td style=\"text-align: right;\">-0.220984 </td><td style=\"text-align: right;\"> 0.250062 </td><td style=\"text-align: right;\"> 0.13378   </td><td style=\"text-align: right;\">-0.329876  </td><td style=\"text-align: right;\"> 0.510862 </td><td style=\"text-align: right;\">-0.332151 </td><td style=\"text-align: right;\">-0.109394 </td><td style=\"text-align: right;\">-0.197412 </td><td style=\"text-align: right;\">-0.167017 </td><td style=\"text-align: right;\"> 0.220023 </td><td style=\"text-align: right;\">-0.0298212 </td><td style=\"text-align: right;\">-0.0992493</td></tr>\n",
       "<tr><td>Contract Specialist            </td><td style=\"text-align: right;\">            0</td><td style=\"text-align: right;\"> 0.032775 </td><td style=\"text-align: right;\">-0.0320274</td><td style=\"text-align: right;\">-0.00896089</td><td style=\"text-align: right;\"> 0.0706747</td><td style=\"text-align: right;\">-0.00265171</td><td style=\"text-align: right;\"> 0.245287  </td><td style=\"text-align: right;\">0.271131  </td><td style=\"text-align: right;\"> 0.228285 </td><td style=\"text-align: right;\">-0.00566971</td><td style=\"text-align: right;\"> 0.12842  </td><td style=\"text-align: right;\">-0.348535 </td><td style=\"text-align: right;\">-0.245882 </td><td style=\"text-align: right;\"> 0.238621  </td><td style=\"text-align: right;\"> 0.356025  </td><td style=\"text-align: right;\"> 0.0165622</td><td style=\"text-align: right;\">-0.0307522</td><td style=\"text-align: right;\"> 0.115744 </td><td style=\"text-align: right;\">-0.497511 </td><td style=\"text-align: right;\"> 0.014185 </td><td style=\"text-align: right;\">-0.0142435</td><td style=\"text-align: right;\">0.370156 </td><td style=\"text-align: right;\">-0.148665  </td><td style=\"text-align: right;\">-0.105429  </td><td style=\"text-align: right;\"> 0.0133449</td><td style=\"text-align: right;\">-0.163834 </td><td style=\"text-align: right;\">-0.259436 </td><td style=\"text-align: right;\"> 0.229749 </td><td style=\"text-align: right;\">-0.130434 </td><td style=\"text-align: right;\">-0.192055  </td><td style=\"text-align: right;\">-0.0907753</td><td style=\"text-align: right;\">-0.0996999  </td><td style=\"text-align: right;\">-0.0204409  </td><td style=\"text-align: right;\"> 0.128266  </td><td style=\"text-align: right;\">-0.304653 </td><td style=\"text-align: right;\">-0.138106 </td><td style=\"text-align: right;\"> 0.0971431</td><td style=\"text-align: right;\"> 0.105038 </td><td style=\"text-align: right;\">-0.0195391</td><td style=\"text-align: right;\"> 0.296802  </td><td style=\"text-align: right;\"> 0.139417 </td><td style=\"text-align: right;\"> 0.389331  </td><td style=\"text-align: right;\"> 0.16439  </td><td style=\"text-align: right;\">-0.062506  </td><td style=\"text-align: right;\"> 0.0183705</td><td style=\"text-align: right;\"> 0.125671 </td><td style=\"text-align: right;\">-0.255377 </td><td style=\"text-align: right;\">-0.104514   </td><td style=\"text-align: right;\"> 0.332355 </td><td style=\"text-align: right;\"> 0.120258 </td><td style=\"text-align: right;\">-0.0182978</td><td style=\"text-align: right;\">-0.233178 </td><td style=\"text-align: right;\">-0.178254 </td><td style=\"text-align: right;\">-0.294359 </td><td style=\"text-align: right;\"> 0.31825  </td><td style=\"text-align: right;\">-0.145995 </td><td style=\"text-align: right;\"> 0.190266 </td><td style=\"text-align: right;\">-0.0750366 </td><td style=\"text-align: right;\"> 0.205487 </td><td style=\"text-align: right;\"> 0.102891 </td><td style=\"text-align: right;\"> 0.0932801</td><td style=\"text-align: right;\">-0.113988 </td><td style=\"text-align: right;\"> 0.174835   </td><td style=\"text-align: right;\">-0.176222  </td><td style=\"text-align: right;\"> 0.0781593</td><td style=\"text-align: right;\">-0.086329 </td><td style=\"text-align: right;\">-0.032235  </td><td style=\"text-align: right;\"> 0.186685 </td><td style=\"text-align: right;\">-0.371314 </td><td style=\"text-align: right;\"> 0.281652</td><td style=\"text-align: right;\"> 0.107179  </td><td style=\"text-align: right;\"> 0.00993429</td><td style=\"text-align: right;\">-0.164902 </td><td style=\"text-align: right;\"> 0.25046    </td><td style=\"text-align: right;\"> 0.219706 </td><td style=\"text-align: right;\">-0.176226 </td><td style=\"text-align: right;\">-0.127815</td><td style=\"text-align: right;\"> 0.00600795</td><td style=\"text-align: right;\">-0.050586  </td><td style=\"text-align: right;\"> 0.0525248</td><td style=\"text-align: right;\">-0.0208949</td><td style=\"text-align: right;\"> 0.154136 </td><td style=\"text-align: right;\">-0.184871 </td><td style=\"text-align: right;\"> 0.0965039</td><td style=\"text-align: right;\">-0.0854458</td><td style=\"text-align: right;\">-0.356269 </td><td style=\"text-align: right;\"> 0.15288  </td><td style=\"text-align: right;\">-0.123131 </td><td style=\"text-align: right;\">-0.0583567</td><td style=\"text-align: right;\"> 0.492171 </td><td style=\"text-align: right;\"> 0.269765 </td><td style=\"text-align: right;\"> 0.0765704 </td><td style=\"text-align: right;\">-0.367327  </td><td style=\"text-align: right;\"> 0.143632 </td><td style=\"text-align: right;\">-0.0163462</td><td style=\"text-align: right;\"> 0.0521141</td><td style=\"text-align: right;\"> 0.0845637</td><td style=\"text-align: right;\">-0.251717 </td><td style=\"text-align: right;\"> 0.210503 </td><td style=\"text-align: right;\"> 0.0495196 </td><td style=\"text-align: right;\">-0.0316647</td></tr>\n",
       "<tr><td>Systems Support Engineer       </td><td style=\"text-align: right;\">            0</td><td style=\"text-align: right;\">-0.0276228</td><td style=\"text-align: right;\"> 0.017621 </td><td style=\"text-align: right;\">-0.258733  </td><td style=\"text-align: right;\"> 0.121914 </td><td style=\"text-align: right;\"> 0.214669  </td><td style=\"text-align: right;\">-0.192732  </td><td style=\"text-align: right;\">0.301617  </td><td style=\"text-align: right;\">-0.0347885</td><td style=\"text-align: right;\"> 0.150109  </td><td style=\"text-align: right;\"> 0.0497113</td><td style=\"text-align: right;\">-0.0893598</td><td style=\"text-align: right;\">-0.174545 </td><td style=\"text-align: right;\">-0.0969793 </td><td style=\"text-align: right;\"> 0.0167976 </td><td style=\"text-align: right;\"> 0.181608 </td><td style=\"text-align: right;\"> 0.0931504</td><td style=\"text-align: right;\"> 0.115854 </td><td style=\"text-align: right;\">-0.11659  </td><td style=\"text-align: right;\">-0.368549 </td><td style=\"text-align: right;\">-0.229688 </td><td style=\"text-align: right;\">0.381052 </td><td style=\"text-align: right;\">-0.352805  </td><td style=\"text-align: right;\">-0.196527  </td><td style=\"text-align: right;\"> 0.0407665</td><td style=\"text-align: right;\"> 0.0967526</td><td style=\"text-align: right;\">-0.108001 </td><td style=\"text-align: right;\"> 0.0173934</td><td style=\"text-align: right;\"> 0.239068 </td><td style=\"text-align: right;\">-0.0743567 </td><td style=\"text-align: right;\">-0.193971 </td><td style=\"text-align: right;\">-0.416381   </td><td style=\"text-align: right;\"> 0.0812096  </td><td style=\"text-align: right;\">-0.00896775</td><td style=\"text-align: right;\">-0.166121 </td><td style=\"text-align: right;\">-0.0594778</td><td style=\"text-align: right;\">-0.148953 </td><td style=\"text-align: right;\">-0.42846  </td><td style=\"text-align: right;\">-0.23101  </td><td style=\"text-align: right;\"> 0.0614749 </td><td style=\"text-align: right;\"> 0.12338  </td><td style=\"text-align: right;\"> 0.473516  </td><td style=\"text-align: right;\"> 0.343354 </td><td style=\"text-align: right;\"> 0.25497   </td><td style=\"text-align: right;\">-0.0678564</td><td style=\"text-align: right;\"> 0.17556  </td><td style=\"text-align: right;\"> 0.157521 </td><td style=\"text-align: right;\"> 0.231403   </td><td style=\"text-align: right;\"> 0.360775 </td><td style=\"text-align: right;\">-0.0667373</td><td style=\"text-align: right;\"> 0.0841115</td><td style=\"text-align: right;\"> 0.136411 </td><td style=\"text-align: right;\">-0.162928 </td><td style=\"text-align: right;\">-0.295597 </td><td style=\"text-align: right;\">-0.0576928</td><td style=\"text-align: right;\">-0.0688471</td><td style=\"text-align: right;\"> 0.339954 </td><td style=\"text-align: right;\">-0.325464  </td><td style=\"text-align: right;\"> 0.0660646</td><td style=\"text-align: right;\">-0.126977 </td><td style=\"text-align: right;\"> 0.179745 </td><td style=\"text-align: right;\">-0.278522 </td><td style=\"text-align: right;\">-0.237899   </td><td style=\"text-align: right;\">-0.0504514 </td><td style=\"text-align: right;\">-0.190617 </td><td style=\"text-align: right;\">-0.239967 </td><td style=\"text-align: right;\"> 0.274576  </td><td style=\"text-align: right;\"> 0.361448 </td><td style=\"text-align: right;\">-0.188177 </td><td style=\"text-align: right;\"> 0.453891</td><td style=\"text-align: right;\">-0.0288194 </td><td style=\"text-align: right;\">-0.0244445 </td><td style=\"text-align: right;\">-0.210557 </td><td style=\"text-align: right;\"> 0.230709   </td><td style=\"text-align: right;\"> 0.235251 </td><td style=\"text-align: right;\">-0.090175 </td><td style=\"text-align: right;\"> 0.23518 </td><td style=\"text-align: right;\">-0.189493  </td><td style=\"text-align: right;\"> 0.0152205 </td><td style=\"text-align: right;\">-0.0466626</td><td style=\"text-align: right;\"> 0.214356 </td><td style=\"text-align: right;\"> 0.110696 </td><td style=\"text-align: right;\">-0.067462 </td><td style=\"text-align: right;\">-0.261819 </td><td style=\"text-align: right;\"> 0.20054  </td><td style=\"text-align: right;\">-0.297887 </td><td style=\"text-align: right;\">-0.0878498</td><td style=\"text-align: right;\">-0.0781877</td><td style=\"text-align: right;\">-0.332607 </td><td style=\"text-align: right;\">-0.118286 </td><td style=\"text-align: right;\"> 0.333861 </td><td style=\"text-align: right;\"> 0.189326  </td><td style=\"text-align: right;\"> 0.0471708 </td><td style=\"text-align: right;\"> 0.319544 </td><td style=\"text-align: right;\">-0.255441 </td><td style=\"text-align: right;\"> 0.0804612</td><td style=\"text-align: right;\"> 0.038272 </td><td style=\"text-align: right;\">-0.189709 </td><td style=\"text-align: right;\">-0.0868916</td><td style=\"text-align: right;\"> 0.00664527</td><td style=\"text-align: right;\">-0.0433095</td></tr>\n",
       "<tr><td>Application Analyst            </td><td style=\"text-align: right;\">            0</td><td style=\"text-align: right;\"> 0.111489 </td><td style=\"text-align: right;\">-0.342902 </td><td style=\"text-align: right;\">-0.243788  </td><td style=\"text-align: right;\"> 0.100499 </td><td style=\"text-align: right;\"> 0.0674149 </td><td style=\"text-align: right;\">-0.480227  </td><td style=\"text-align: right;\">0.357206  </td><td style=\"text-align: right;\"> 0.132527 </td><td style=\"text-align: right;\">-0.0714135 </td><td style=\"text-align: right;\"> 0.323351 </td><td style=\"text-align: right;\">-0.224174 </td><td style=\"text-align: right;\">-0.277343 </td><td style=\"text-align: right;\"> 0.358129  </td><td style=\"text-align: right;\"> 0.0275049 </td><td style=\"text-align: right;\"> 0.275417 </td><td style=\"text-align: right;\"> 0.496461 </td><td style=\"text-align: right;\">-0.0266093</td><td style=\"text-align: right;\">-0.303108 </td><td style=\"text-align: right;\">-0.0272624</td><td style=\"text-align: right;\"> 0.0233991</td><td style=\"text-align: right;\">0.560595 </td><td style=\"text-align: right;\">-0.0877066 </td><td style=\"text-align: right;\"> 0.00885085</td><td style=\"text-align: right;\">-0.110022 </td><td style=\"text-align: right;\">-0.0532038</td><td style=\"text-align: right;\">-0.025626 </td><td style=\"text-align: right;\"> 0.250557 </td><td style=\"text-align: right;\"> 0.158136 </td><td style=\"text-align: right;\"> 0.106147  </td><td style=\"text-align: right;\">-0.563872 </td><td style=\"text-align: right;\">-0.497721   </td><td style=\"text-align: right;\"> 0.076148   </td><td style=\"text-align: right;\"> 0.0448917 </td><td style=\"text-align: right;\"> 0.0655454</td><td style=\"text-align: right;\">-0.341709 </td><td style=\"text-align: right;\"> 0.299274 </td><td style=\"text-align: right;\">-0.423372 </td><td style=\"text-align: right;\">-0.0699574</td><td style=\"text-align: right;\"> 0.190981  </td><td style=\"text-align: right;\">-0.373467 </td><td style=\"text-align: right;\"> 0.32387   </td><td style=\"text-align: right;\"> 0.187745 </td><td style=\"text-align: right;\">-0.0411242 </td><td style=\"text-align: right;\">-0.252908 </td><td style=\"text-align: right;\"> 0.0864685</td><td style=\"text-align: right;\"> 0.210877 </td><td style=\"text-align: right;\">-0.0101816  </td><td style=\"text-align: right;\"> 0.17926  </td><td style=\"text-align: right;\"> 0.35508  </td><td style=\"text-align: right;\">-0.0166486</td><td style=\"text-align: right;\"> 0.0256083</td><td style=\"text-align: right;\">-0.0974841</td><td style=\"text-align: right;\">-0.63264  </td><td style=\"text-align: right;\">-0.0838824</td><td style=\"text-align: right;\">-0.134492 </td><td style=\"text-align: right;\">-0.144004 </td><td style=\"text-align: right;\">-0.270256  </td><td style=\"text-align: right;\"> 0.0990946</td><td style=\"text-align: right;\"> 0.0741996</td><td style=\"text-align: right;\"> 0.352776 </td><td style=\"text-align: right;\"> 0.0345127</td><td style=\"text-align: right;\">-0.000723168</td><td style=\"text-align: right;\">-0.127703  </td><td style=\"text-align: right;\">-0.0482076</td><td style=\"text-align: right;\"> 0.0142643</td><td style=\"text-align: right;\"> 0.285632  </td><td style=\"text-align: right;\"> 0.199092 </td><td style=\"text-align: right;\">-0.200344 </td><td style=\"text-align: right;\"> 0.446485</td><td style=\"text-align: right;\"> 0.154172  </td><td style=\"text-align: right;\">-0.0301932 </td><td style=\"text-align: right;\">-0.260289 </td><td style=\"text-align: right;\"> 0.288735   </td><td style=\"text-align: right;\"> 0.188451 </td><td style=\"text-align: right;\"> 0.154465 </td><td style=\"text-align: right;\">-0.317281</td><td style=\"text-align: right;\">-0.275319  </td><td style=\"text-align: right;\">-0.0501562 </td><td style=\"text-align: right;\">-0.0859219</td><td style=\"text-align: right;\">-0.0834627</td><td style=\"text-align: right;\"> 0.147849 </td><td style=\"text-align: right;\">-0.213836 </td><td style=\"text-align: right;\">-0.2452   </td><td style=\"text-align: right;\">-0.0067181</td><td style=\"text-align: right;\">-0.200165 </td><td style=\"text-align: right;\">-0.309984 </td><td style=\"text-align: right;\">-0.242736 </td><td style=\"text-align: right;\">-0.205803 </td><td style=\"text-align: right;\"> 0.258131 </td><td style=\"text-align: right;\"> 0.280163 </td><td style=\"text-align: right;\"> 0.379537  </td><td style=\"text-align: right;\">-0.343447  </td><td style=\"text-align: right;\">-0.139874 </td><td style=\"text-align: right;\"> 0.0231892</td><td style=\"text-align: right;\"> 0.601618 </td><td style=\"text-align: right;\">-0.153325 </td><td style=\"text-align: right;\"> 0.179624 </td><td style=\"text-align: right;\">-0.354828 </td><td style=\"text-align: right;\"> 0.210252  </td><td style=\"text-align: right;\">-0.18189  </td></tr>\n",
       "</tbody>\n",
       "</table>"
      ]
     },
     "metadata": {},
     "output_type": "display_data"
    },
    {
     "data": {
      "text/plain": []
     },
     "execution_count": 144,
     "metadata": {},
     "output_type": "execute_result"
    }
   ],
   "source": [
    "data"
   ]
  },
  {
   "cell_type": "code",
   "execution_count": 145,
   "metadata": {
    "collapsed": true
   },
   "outputs": [],
   "source": [
    "# export data to csv file!\n",
    "import pandas as pd\n",
    "import numpy as np"
   ]
  },
  {
   "cell_type": "code",
   "execution_count": 147,
   "metadata": {},
   "outputs": [
    {
     "data": {
      "text/plain": [
       "(180614, 102)"
      ]
     },
     "execution_count": 147,
     "metadata": {},
     "output_type": "execute_result"
    }
   ],
   "source": [
    "data.shape"
   ]
  },
  {
   "cell_type": "code",
   "execution_count": null,
   "metadata": {
    "collapsed": true
   },
   "outputs": [],
   "source": []
  },
  {
   "cell_type": "code",
   "execution_count": null,
   "metadata": {
    "collapsed": true
   },
   "outputs": [],
   "source": []
  },
  {
   "cell_type": "code",
   "execution_count": null,
   "metadata": {
    "collapsed": true
   },
   "outputs": [],
   "source": []
  },
  {
   "cell_type": "code",
   "execution_count": 131,
   "metadata": {},
   "outputs": [
    {
     "name": "stdout",
     "output_type": "stream",
     "text": [
      "Build a basic GBM model\n",
      "gbm Model Build progress: | (failed)\n"
     ]
    },
    {
     "ename": "EnvironmentError",
     "evalue": "Job with key $03017f00000132d4ffffffff$_b660ce92acd31ba66461f5324c7e4f12 failed with an exception: DistributedException from /127.0.0.1:54321: 'Operation not allowed on string vector.', caused by java.lang.IllegalArgumentException: Operation not allowed on string vector.\nstacktrace: \nDistributedException from /127.0.0.1:54321: 'Operation not allowed on string vector.', caused by java.lang.IllegalArgumentException: Operation not allowed on string vector.\n\tat water.MRTask.getResult(MRTask.java:478)\n\tat water.MRTask.getResult(MRTask.java:486)\n\tat water.MRTask.doAll(MRTask.java:390)\n\tat water.MRTask.doAll(MRTask.java:377)\n\tat water.MRTask.doAll(MRTask.java:376)\n\tat hex.tree.SharedTree.getInitialValue(SharedTree.java:981)\n\tat hex.tree.gbm.GBM.access$1800(GBM.java:24)\n\tat hex.tree.gbm.GBM$GBMDriver.initializeModelSpecifics(GBM.java:177)\n\tat hex.tree.SharedTree$Driver.computeImpl(SharedTree.java:353)\n\tat hex.ModelBuilder$Driver.compute2(ModelBuilder.java:206)\n\tat water.H2O$H2OCountedCompleter.compute(H2O.java:1263)\n\tat jsr166y.CountedCompleter.exec(CountedCompleter.java:468)\n\tat jsr166y.ForkJoinTask.doExec(ForkJoinTask.java:263)\n\tat jsr166y.ForkJoinPool$WorkQueue.runTask(ForkJoinPool.java:974)\n\tat jsr166y.ForkJoinPool.runWorker(ForkJoinPool.java:1477)\n\tat jsr166y.ForkJoinWorkerThread.run(ForkJoinWorkerThread.java:104)\nCaused by: java.lang.IllegalArgumentException: Operation not allowed on string vector.\n\tat water.fvec.CStrChunk.atd_impl(CStrChunk.java:90)\n\tat water.fvec.Chunk.atd(Chunk.java:260)\n\tat hex.tree.SharedTree$InitialValue.map(SharedTree.java:1005)\n\tat water.MRTask.compute2(MRTask.java:639)\n\tat water.MRTask.compute2(MRTask.java:591)\n\tat water.MRTask.compute2(MRTask.java:591)\n\tat water.MRTask.compute2(MRTask.java:591)\n\tat water.MRTask.compute2(MRTask.java:591)\n\tat water.H2O$H2OCountedCompleter.compute1(H2O.java:1266)\n\tat hex.tree.SharedTree$InitialValue$Icer.compute1(SharedTree$InitialValue$Icer.java)\n\tat water.H2O$H2OCountedCompleter.compute(H2O.java:1262)\n\t... 5 more\n",
     "output_type": "error",
     "traceback": [
      "\u001b[0;31m---------------------------------------------------------------------------\u001b[0m",
      "\u001b[0;31mEnvironmentError\u001b[0m                          Traceback (most recent call last)",
      "\u001b[0;32m<ipython-input-131-8c084513e22b>\u001b[0m in \u001b[0;36m<module>\u001b[0;34m()\u001b[0m\n\u001b[1;32m      4\u001b[0m                 \u001b[0my\u001b[0m\u001b[0;34m=\u001b[0m\u001b[0;34m\"loan_status\"\u001b[0m\u001b[0;34m,\u001b[0m\u001b[0;34m\u001b[0m\u001b[0m\n\u001b[1;32m      5\u001b[0m                 \u001b[0mtraining_frame\u001b[0m \u001b[0;34m=\u001b[0m \u001b[0mdata_split\u001b[0m\u001b[0;34m[\u001b[0m\u001b[0;36m0\u001b[0m\u001b[0;34m]\u001b[0m\u001b[0;34m,\u001b[0m\u001b[0;34m\u001b[0m\u001b[0m\n\u001b[0;32m----> 6\u001b[0;31m                 validation_frame = data_split[1])\n\u001b[0m",
      "\u001b[0;32m/Users/darrenklee/anaconda2/lib/python2.7/site-packages/h2o/estimators/estimator_base.pyc\u001b[0m in \u001b[0;36mtrain\u001b[0;34m(self, x, y, training_frame, offset_column, fold_column, weights_column, validation_frame, max_runtime_secs, ignored_columns, model_id, verbose)\u001b[0m\n\u001b[1;32m    206\u001b[0m             \u001b[0;32mreturn\u001b[0m\u001b[0;34m\u001b[0m\u001b[0m\n\u001b[1;32m    207\u001b[0m \u001b[0;34m\u001b[0m\u001b[0m\n\u001b[0;32m--> 208\u001b[0;31m         \u001b[0mmodel\u001b[0m\u001b[0;34m.\u001b[0m\u001b[0mpoll\u001b[0m\u001b[0;34m(\u001b[0m\u001b[0mverbose_model_scoring_history\u001b[0m\u001b[0;34m=\u001b[0m\u001b[0mverbose\u001b[0m\u001b[0;34m)\u001b[0m\u001b[0;34m\u001b[0m\u001b[0m\n\u001b[0m\u001b[1;32m    209\u001b[0m         \u001b[0mmodel_json\u001b[0m \u001b[0;34m=\u001b[0m \u001b[0mh2o\u001b[0m\u001b[0;34m.\u001b[0m\u001b[0mapi\u001b[0m\u001b[0;34m(\u001b[0m\u001b[0;34m\"GET /%d/Models/%s\"\u001b[0m \u001b[0;34m%\u001b[0m \u001b[0;34m(\u001b[0m\u001b[0mrest_ver\u001b[0m\u001b[0;34m,\u001b[0m \u001b[0mmodel\u001b[0m\u001b[0;34m.\u001b[0m\u001b[0mdest_key\u001b[0m\u001b[0;34m)\u001b[0m\u001b[0;34m)\u001b[0m\u001b[0;34m[\u001b[0m\u001b[0;34m\"models\"\u001b[0m\u001b[0;34m]\u001b[0m\u001b[0;34m[\u001b[0m\u001b[0;36m0\u001b[0m\u001b[0;34m]\u001b[0m\u001b[0;34m\u001b[0m\u001b[0m\n\u001b[1;32m    210\u001b[0m         \u001b[0mself\u001b[0m\u001b[0;34m.\u001b[0m\u001b[0m_resolve_model\u001b[0m\u001b[0;34m(\u001b[0m\u001b[0mmodel\u001b[0m\u001b[0;34m.\u001b[0m\u001b[0mdest_key\u001b[0m\u001b[0;34m,\u001b[0m \u001b[0mmodel_json\u001b[0m\u001b[0;34m)\u001b[0m\u001b[0;34m\u001b[0m\u001b[0m\n",
      "\u001b[0;32m/Users/darrenklee/anaconda2/lib/python2.7/site-packages/h2o/job.pyc\u001b[0m in \u001b[0;36mpoll\u001b[0;34m(self, verbose_model_scoring_history)\u001b[0m\n\u001b[1;32m     75\u001b[0m             \u001b[0;32mif\u001b[0m \u001b[0;34m(\u001b[0m\u001b[0misinstance\u001b[0m\u001b[0;34m(\u001b[0m\u001b[0mself\u001b[0m\u001b[0;34m.\u001b[0m\u001b[0mjob\u001b[0m\u001b[0;34m,\u001b[0m \u001b[0mdict\u001b[0m\u001b[0;34m)\u001b[0m\u001b[0;34m)\u001b[0m \u001b[0;32mand\u001b[0m \u001b[0;34m(\u001b[0m\u001b[0;34m\"stacktrace\"\u001b[0m \u001b[0;32min\u001b[0m \u001b[0mlist\u001b[0m\u001b[0;34m(\u001b[0m\u001b[0mself\u001b[0m\u001b[0;34m.\u001b[0m\u001b[0mjob\u001b[0m\u001b[0;34m)\u001b[0m\u001b[0;34m)\u001b[0m\u001b[0;34m:\u001b[0m\u001b[0;34m\u001b[0m\u001b[0m\n\u001b[1;32m     76\u001b[0m                 raise EnvironmentError(\"Job with key {} failed with an exception: {}\\nstacktrace: \"\n\u001b[0;32m---> 77\u001b[0;31m                                        \"\\n{}\".format(self.job_key, self.exception, self.job[\"stacktrace\"]))\n\u001b[0m\u001b[1;32m     78\u001b[0m             \u001b[0;32melse\u001b[0m\u001b[0;34m:\u001b[0m\u001b[0;34m\u001b[0m\u001b[0m\n\u001b[1;32m     79\u001b[0m                 \u001b[0;32mraise\u001b[0m \u001b[0mEnvironmentError\u001b[0m\u001b[0;34m(\u001b[0m\u001b[0;34m\"Job with key %s failed with an exception: %s\"\u001b[0m \u001b[0;34m%\u001b[0m \u001b[0;34m(\u001b[0m\u001b[0mself\u001b[0m\u001b[0;34m.\u001b[0m\u001b[0mjob_key\u001b[0m\u001b[0;34m,\u001b[0m \u001b[0mself\u001b[0m\u001b[0;34m.\u001b[0m\u001b[0mexception\u001b[0m\u001b[0;34m)\u001b[0m\u001b[0;34m)\u001b[0m\u001b[0;34m\u001b[0m\u001b[0m\n",
      "\u001b[0;31mEnvironmentError\u001b[0m: Job with key $03017f00000132d4ffffffff$_b660ce92acd31ba66461f5324c7e4f12 failed with an exception: DistributedException from /127.0.0.1:54321: 'Operation not allowed on string vector.', caused by java.lang.IllegalArgumentException: Operation not allowed on string vector.\nstacktrace: \nDistributedException from /127.0.0.1:54321: 'Operation not allowed on string vector.', caused by java.lang.IllegalArgumentException: Operation not allowed on string vector.\n\tat water.MRTask.getResult(MRTask.java:478)\n\tat water.MRTask.getResult(MRTask.java:486)\n\tat water.MRTask.doAll(MRTask.java:390)\n\tat water.MRTask.doAll(MRTask.java:377)\n\tat water.MRTask.doAll(MRTask.java:376)\n\tat hex.tree.SharedTree.getInitialValue(SharedTree.java:981)\n\tat hex.tree.gbm.GBM.access$1800(GBM.java:24)\n\tat hex.tree.gbm.GBM$GBMDriver.initializeModelSpecifics(GBM.java:177)\n\tat hex.tree.SharedTree$Driver.computeImpl(SharedTree.java:353)\n\tat hex.ModelBuilder$Driver.compute2(ModelBuilder.java:206)\n\tat water.H2O$H2OCountedCompleter.compute(H2O.java:1263)\n\tat jsr166y.CountedCompleter.exec(CountedCompleter.java:468)\n\tat jsr166y.ForkJoinTask.doExec(ForkJoinTask.java:263)\n\tat jsr166y.ForkJoinPool$WorkQueue.runTask(ForkJoinPool.java:974)\n\tat jsr166y.ForkJoinPool.runWorker(ForkJoinPool.java:1477)\n\tat jsr166y.ForkJoinWorkerThread.run(ForkJoinWorkerThread.java:104)\nCaused by: java.lang.IllegalArgumentException: Operation not allowed on string vector.\n\tat water.fvec.CStrChunk.atd_impl(CStrChunk.java:90)\n\tat water.fvec.Chunk.atd(Chunk.java:260)\n\tat hex.tree.SharedTree$InitialValue.map(SharedTree.java:1005)\n\tat water.MRTask.compute2(MRTask.java:639)\n\tat water.MRTask.compute2(MRTask.java:591)\n\tat water.MRTask.compute2(MRTask.java:591)\n\tat water.MRTask.compute2(MRTask.java:591)\n\tat water.MRTask.compute2(MRTask.java:591)\n\tat water.H2O$H2OCountedCompleter.compute1(H2O.java:1266)\n\tat hex.tree.SharedTree$InitialValue$Icer.compute1(SharedTree$InitialValue$Icer.java)\n\tat water.H2O$H2OCountedCompleter.compute(H2O.java:1262)\n\t... 5 more\n"
     ]
    }
   ],
   "source": [
    "print(\"Build a basic GBM model\")\n",
    "gbm_model = H2OGradientBoostingEstimator()\n",
    "gbm_model.train(x = emp_title_vecs.names,\n",
    "                y=\"loan_status\", \n",
    "                training_frame = data_split[0], \n",
    "                validation_frame = data_split[1])"
   ]
  },
  {
   "cell_type": "code",
   "execution_count": null,
   "metadata": {
    "collapsed": true
   },
   "outputs": [],
   "source": []
  }
 ],
 "metadata": {
  "kernelspec": {
   "display_name": "Python 2",
   "language": "python",
   "name": "python2"
  },
  "language_info": {
   "codemirror_mode": {
    "name": "ipython",
    "version": 2
   },
   "file_extension": ".py",
   "mimetype": "text/x-python",
   "name": "python",
   "nbconvert_exporter": "python",
   "pygments_lexer": "ipython2",
   "version": "2.7.13"
  }
 },
 "nbformat": 4,
 "nbformat_minor": 2
}
